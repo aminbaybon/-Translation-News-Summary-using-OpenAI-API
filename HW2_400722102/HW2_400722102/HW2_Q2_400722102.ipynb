{
  "nbformat": 4,
  "nbformat_minor": 0,
  "metadata": {
    "colab": {
      "name": "Untitled19.ipynb",
      "provenance": [],
      "collapsed_sections": [
        "8KVck4zJUvxP"
      ]
    },
    "kernelspec": {
      "name": "python3",
      "display_name": "Python 3"
    },
    "language_info": {
      "name": "python"
    },
    "accelerator": "GPU"
  },
  "cells": [
    {
      "cell_type": "markdown",
      "source": [
        "# **Linear Regression**"
      ],
      "metadata": {
        "id": "8KVck4zJUvxP"
      }
    },
    {
      "cell_type": "code",
      "execution_count": 11,
      "metadata": {
        "id": "yQwLMMle2O-5"
      },
      "outputs": [],
      "source": [
        "import numpy as np\n",
        "from sklearn.linear_model import LinearRegression\n",
        "import matplotlib.pyplot as plt\n",
        "from sklearn.metrics import classification_report, confusion_matrix"
      ]
    },
    {
      "cell_type": "code",
      "source": [
        "X = np.array([1.8, 2.1,3.3,2.5 , 1.1 , 0.5 , 5.1 , 5.3 , 6.6 , 7.3 , 8.1 , 55.2 ])\n",
        "X = np.reshape(X , (-1, 1))\n",
        "Y = np.array([ 0 ,0, 0 , 0  , 0  ,  0 , 1 , 1 , 1 , 1 , 1  , 1])\n",
        "plt.scatter(X, Y);"
      ],
      "metadata": {
        "colab": {
          "base_uri": "https://localhost:8080/",
          "height": 0
        },
        "id": "zaakAX7V3HZR",
        "outputId": "67e59339-7b93-42e2-8dde-2d638e187734"
      },
      "execution_count": 12,
      "outputs": [
        {
          "output_type": "display_data",
          "data": {
            "image/png": "[encoded data removed]",
            "text/plain": [
              "<Figure size 432x288 with 1 Axes>"
            ]
          },
          "metadata": {
            "needs_background": "light"
          }
        }
      ]
    },
    {
      "cell_type": "code",
      "source": [
        "X.shape"
      ],
      "metadata": {
        "colab": {
          "base_uri": "https://localhost:8080/"
        },
        "id": "xyPYl1YuKRaY",
        "outputId": "f6263e5d-7e52-4bde-9f4b-339ccd293022"
      },
      "execution_count": 4,
      "outputs": [
        {
          "output_type": "execute_result",
          "data": {
            "text/plain": [
              "(12, 1)"
            ]
          },
          "metadata": {},
          "execution_count": 4
        }
      ]
    },
    {
      "cell_type": "code",
      "source": [
        "Y.shape"
      ],
      "metadata": {
        "colab": {
          "base_uri": "https://localhost:8080/"
        },
        "id": "4IKpK6n5KW8g",
        "outputId": "02853f03-b3ea-4e41-a621-fe545255b25a"
      },
      "execution_count": 5,
      "outputs": [
        {
          "output_type": "execute_result",
          "data": {
            "text/plain": [
              "(12,)"
            ]
          },
          "metadata": {},
          "execution_count": 5
        }
      ]
    },
    {
      "cell_type": "code",
      "source": [
        "model = LinearRegression()\n",
        "model.fit(X, Y)"
      ],
      "metadata": {
        "colab": {
          "base_uri": "https://localhost:8080/"
        },
        "id": "xMpLoV5IKPFZ",
        "outputId": "4c776e4f-b66b-4ff9-ad80-35510d6f9326"
      },
      "execution_count": 6,
      "outputs": [
        {
          "output_type": "execute_result",
          "data": {
            "text/plain": [
              "LinearRegression()"
            ]
          },
          "metadata": {},
          "execution_count": 6
        }
      ]
    },
    {
      "cell_type": "code",
      "source": [
        "r_sq = model.score(X, Y)\n",
        "print('coefficient of determination:', r_sq)"
      ],
      "metadata": {
        "colab": {
          "base_uri": "https://localhost:8080/"
        },
        "id": "SJXCkr7m6w_Y",
        "outputId": "d56fda28-9b11-4b61-f9b2-ac023eb341ff"
      },
      "execution_count": 7,
      "outputs": [
        {
          "output_type": "stream",
          "name": "stdout",
          "text": [
            "coefficient of determination: 0.19603636597513763\n"
          ]
        }
      ]
    },
    {
      "cell_type": "code",
      "source": [
        "print('intercept:', model.intercept_)"
      ],
      "metadata": {
        "colab": {
          "base_uri": "https://localhost:8080/"
        },
        "id": "nhPILEHQ7XpB",
        "outputId": "db7fa15f-7dd1-43f0-aef5-6f2aaffdd59c"
      },
      "execution_count": 8,
      "outputs": [
        {
          "output_type": "stream",
          "name": "stdout",
          "text": [
            "intercept: 0.372948908290032\n"
          ]
        }
      ]
    },
    {
      "cell_type": "code",
      "source": [
        "print('slope:', model.coef_)"
      ],
      "metadata": {
        "colab": {
          "base_uri": "https://localhost:8080/"
        },
        "id": "120Pt6lb7bKT",
        "outputId": "0be9f49f-1164-4f82-e1d8-16c7b0aad0e2"
      },
      "execution_count": 9,
      "outputs": [
        {
          "output_type": "stream",
          "name": "stdout",
          "text": [
            "slope: [0.0154157]\n"
          ]
        }
      ]
    },
    {
      "cell_type": "code",
      "source": [
        "y_pred = model.predict(X)"
      ],
      "metadata": {
        "id": "jjXVUF8i7kKG"
      },
      "execution_count": 10,
      "outputs": []
    },
    {
      "cell_type": "code",
      "source": [
        "print('predicted response:', y_pred, sep='\\n')"
      ],
      "metadata": {
        "colab": {
          "base_uri": "https://localhost:8080/"
        },
        "id": "eRfYw1tE7nSh",
        "outputId": "26476a0e-ad69-4b07-f8ab-53d2d0a7d8de"
      },
      "execution_count": 11,
      "outputs": [
        {
          "output_type": "stream",
          "name": "stdout",
          "text": [
            "predicted response:\n",
            "[0.40069718 0.40532189 0.42382073 0.41148817 0.38990618 0.38065676\n",
            " 0.451569   0.45465214 0.47469255 0.48548355 0.49781611 1.22389576]\n"
          ]
        }
      ]
    },
    {
      "cell_type": "code",
      "source": [
        "y_pred2 = model.intercept_ + np.sum(model.coef_ * X, axis=1)\n",
        "print('predicted response:', y_pred2, sep='\\n')"
      ],
      "metadata": {
        "colab": {
          "base_uri": "https://localhost:8080/"
        },
        "id": "IdI_9X45NzM3",
        "outputId": "f09a186e-a0bc-4731-9af0-efcda7db646f"
      },
      "execution_count": 12,
      "outputs": [
        {
          "output_type": "stream",
          "name": "stdout",
          "text": [
            "predicted response:\n",
            "[0.40069718 0.40532189 0.42382073 0.41148817 0.38990618 0.38065676\n",
            " 0.451569   0.45465214 0.47469255 0.48548355 0.49781611 1.22389576]\n"
          ]
        }
      ]
    },
    {
      "cell_type": "markdown",
      "source": [
        "**0.5 = ( decision_boundary * model.coef_ ) + model.intercept**"
      ],
      "metadata": {
        "id": "OS6qaiXiPRJk"
      }
    },
    {
      "cell_type": "code",
      "source": [
        "decision_boundary = (0.5 - model.intercept_) / model.coef_"
      ],
      "metadata": {
        "id": "BVurWQeCOYpA"
      },
      "execution_count": 17,
      "outputs": []
    },
    {
      "cell_type": "code",
      "source": [
        "print('decision boundary :' ,decision_boundary )"
      ],
      "metadata": {
        "colab": {
          "base_uri": "https://localhost:8080/"
        },
        "id": "TntVFPC3PEQb",
        "outputId": "492e52af-aadc-4541-9340-9d99138560ce"
      },
      "execution_count": 18,
      "outputs": [
        {
          "output_type": "stream",
          "name": "stdout",
          "text": [
            "decision boundary : [8.24166667]\n"
          ]
        }
      ]
    },
    {
      "cell_type": "code",
      "source": [
        "plt.scatter(X, y_pred, color=\"green\")\n",
        "plt.scatter(X, Y);\n",
        "plt.plot(X, y_pred, color=\"red\", linewidth=1)"
      ],
      "metadata": {
        "colab": {
          "base_uri": "https://localhost:8080/",
          "height": 282
        },
        "id": "vJibqqHHQSRI",
        "outputId": "39d6ce24-2dbc-4d18-c5ec-c14379997bbe"
      },
      "execution_count": 22,
      "outputs": [
        {
          "output_type": "execute_result",
          "data": {
            "text/plain": [
              "[<matplotlib.lines.Line2D at 0x7fe2003904d0>]"
            ]
          },
          "metadata": {},
          "execution_count": 22
        },
        {
          "output_type": "display_data",
          "data": {
            "image/png": "[encoded data removed]",
            "text/plain": [
              "<Figure size 432x288 with 1 Axes>"
            ]
          },
          "metadata": {
            "needs_background": "light"
          }
        }
      ]
    },
    {
      "cell_type": "code",
      "source": [
        "results = model.fit(X , Y)"
      ],
      "metadata": {
        "id": "N3lkAa4cUTwJ"
      },
      "execution_count": 30,
      "outputs": []
    },
    {
      "cell_type": "markdown",
      "source": [
        "# **Logistic Regression**"
      ],
      "metadata": {
        "id": "ELBuhujmUqUn"
      }
    },
    {
      "cell_type": "code",
      "source": [
        "import matplotlib.pyplot as plt\n",
        "import numpy as np\n",
        "from sklearn.linear_model import LogisticRegression\n",
        "from sklearn.metrics import classification_report, confusion_matrix"
      ],
      "metadata": {
        "id": "t6AFiNtD8dNe"
      },
      "execution_count": 3,
      "outputs": []
    },
    {
      "cell_type": "code",
      "source": [
        "model2 = LogisticRegression(solver='liblinear', C = 10.0 ,random_state=0)"
      ],
      "metadata": {
        "id": "goJCVzBP8iJ3"
      },
      "execution_count": 13,
      "outputs": []
    },
    {
      "cell_type": "code",
      "source": [
        "model2.fit(X, Y)"
      ],
      "metadata": {
        "colab": {
          "base_uri": "https://localhost:8080/"
        },
        "id": "qPrTfR0x9JDW",
        "outputId": "d9b49085-adb8-483f-dc4b-aad74daf6c5a"
      },
      "execution_count": 14,
      "outputs": [
        {
          "output_type": "execute_result",
          "data": {
            "text/plain": [
              "LogisticRegression(C=10.0, random_state=0, solver='liblinear')"
            ]
          },
          "metadata": {},
          "execution_count": 14
        }
      ]
    },
    {
      "cell_type": "code",
      "source": [
        "model2.classes_"
      ],
      "metadata": {
        "colab": {
          "base_uri": "https://localhost:8080/"
        },
        "id": "i4ZBjoEJ9OOw",
        "outputId": "62201720-46ad-4240-89bf-80a477f8f25b"
      },
      "execution_count": 15,
      "outputs": [
        {
          "output_type": "execute_result",
          "data": {
            "text/plain": [
              "array([0, 1])"
            ]
          },
          "metadata": {},
          "execution_count": 15
        }
      ]
    },
    {
      "cell_type": "code",
      "source": [
        "model2.intercept_"
      ],
      "metadata": {
        "colab": {
          "base_uri": "https://localhost:8080/"
        },
        "id": "hztrlJv09Ypa",
        "outputId": "29dd2628-09f5-4a6b-e56e-12f5fb1daff0"
      },
      "execution_count": 16,
      "outputs": [
        {
          "output_type": "execute_result",
          "data": {
            "text/plain": [
              "array([-4.27321491])"
            ]
          },
          "metadata": {},
          "execution_count": 16
        }
      ]
    },
    {
      "cell_type": "code",
      "source": [
        "model2.coef_"
      ],
      "metadata": {
        "colab": {
          "base_uri": "https://localhost:8080/"
        },
        "id": "X_h1RtX19bs5",
        "outputId": "534ae866-a0ac-4ee0-f989-af2dc2b92e03"
      },
      "execution_count": 17,
      "outputs": [
        {
          "output_type": "execute_result",
          "data": {
            "text/plain": [
              "array([[1.12305135]])"
            ]
          },
          "metadata": {},
          "execution_count": 17
        }
      ]
    },
    {
      "cell_type": "markdown",
      "source": [
        "**0 = ( decision_boundary * model2.coef_ ) + model2.intercept_**"
      ],
      "metadata": {
        "id": "Ot5eYMhvFPr7"
      }
    },
    {
      "cell_type": "code",
      "source": [
        "decision_boundary2 = - model2.intercept_ / model2.coef_\n",
        "print(decision_boundary2)"
      ],
      "metadata": {
        "colab": {
          "base_uri": "https://localhost:8080/"
        },
        "id": "RJFsetXiFbOm",
        "outputId": "bb12e3c6-0d0d-4a86-ba23-22c0223718d6"
      },
      "execution_count": 51,
      "outputs": [
        {
          "output_type": "stream",
          "name": "stdout",
          "text": [
            "[[3.80500403]]\n"
          ]
        }
      ]
    },
    {
      "cell_type": "code",
      "source": [
        "model2.predict_proba(X)"
      ],
      "metadata": {
        "colab": {
          "base_uri": "https://localhost:8080/"
        },
        "id": "lcBJEwua9dPC",
        "outputId": "b3452287-c9a7-49cb-a58e-1487890c2fc2"
      },
      "execution_count": 21,
      "outputs": [
        {
          "output_type": "execute_result",
          "data": {
            "text/plain": [
              "array([[0.90479901, 0.09520099],\n",
              "       [0.87155824, 0.12844176],\n",
              "       [0.63810424, 0.36189576],\n",
              "       [0.81238563, 0.18761437],\n",
              "       [0.95425544, 0.04574456],\n",
              "       [0.97614667, 0.02385333],\n",
              "       [0.18933346, 0.81066654],\n",
              "       [0.1572336 , 0.8427664 ],\n",
              "       [0.04152993, 0.95847007],\n",
              "       [0.01935879, 0.98064121],\n",
              "       [0.00797449, 0.99202551],\n",
              "       [0.        , 1.        ]])"
            ]
          },
          "metadata": {},
          "execution_count": 21
        }
      ]
    },
    {
      "cell_type": "code",
      "source": [
        "YPRED = model2.predict(X)\n",
        "print(YPRED)"
      ],
      "metadata": {
        "colab": {
          "base_uri": "https://localhost:8080/"
        },
        "id": "QN65DXDT9gNr",
        "outputId": "2161d680-194f-4e0b-d55f-91efd2532fe4"
      },
      "execution_count": 22,
      "outputs": [
        {
          "output_type": "stream",
          "name": "stdout",
          "text": [
            "[0 0 0 0 0 0 1 1 1 1 1 1]\n"
          ]
        }
      ]
    },
    {
      "cell_type": "code",
      "source": [
        "model2.score(X, Y)"
      ],
      "metadata": {
        "colab": {
          "base_uri": "https://localhost:8080/"
        },
        "id": "73RcoFmb9pA7",
        "outputId": "4ecfc7a7-6ccf-454a-fced-29ad7935cbe5"
      },
      "execution_count": 23,
      "outputs": [
        {
          "output_type": "execute_result",
          "data": {
            "text/plain": [
              "1.0"
            ]
          },
          "metadata": {},
          "execution_count": 23
        }
      ]
    },
    {
      "cell_type": "code",
      "source": [
        "confusion_matrix(Y, model2.predict(X))"
      ],
      "metadata": {
        "colab": {
          "base_uri": "https://localhost:8080/"
        },
        "id": "suJYtGeB9ugH",
        "outputId": "e3c999b4-22aa-43d6-b15e-176e619254ed"
      },
      "execution_count": 24,
      "outputs": [
        {
          "output_type": "execute_result",
          "data": {
            "text/plain": [
              "array([[6, 0],\n",
              "       [0, 6]])"
            ]
          },
          "metadata": {},
          "execution_count": 24
        }
      ]
    },
    {
      "cell_type": "code",
      "source": [
        "print(classification_report(Y, model2.predict(X)))"
      ],
      "metadata": {
        "colab": {
          "base_uri": "https://localhost:8080/"
        },
        "id": "UpXwfpmh906A",
        "outputId": "e726cf5d-1c95-4546-bb75-67ede5d2390b"
      },
      "execution_count": 25,
      "outputs": [
        {
          "output_type": "stream",
          "name": "stdout",
          "text": [
            "              precision    recall  f1-score   support\n",
            "\n",
            "           0       1.00      1.00      1.00         6\n",
            "           1       1.00      1.00      1.00         6\n",
            "\n",
            "    accuracy                           1.00        12\n",
            "   macro avg       1.00      1.00      1.00        12\n",
            "weighted avg       1.00      1.00      1.00        12\n",
            "\n"
          ]
        }
      ]
    },
    {
      "cell_type": "code",
      "source": [
        "Y_pred4 =  1/ (1 + np.exp(- (( X * model2.coef_ ) + model2.intercept_ )))"
      ],
      "metadata": {
        "id": "drJMM6PaG9Zg"
      },
      "execution_count": 49,
      "outputs": []
    },
    {
      "cell_type": "code",
      "source": [
        "Y_pred4"
      ],
      "metadata": {
        "colab": {
          "base_uri": "https://localhost:8080/"
        },
        "id": "AL4cAVMzHWEW",
        "outputId": "88f9e5f1-26c6-40ca-bc39-d7152c68cf32"
      },
      "execution_count": 50,
      "outputs": [
        {
          "output_type": "execute_result",
          "data": {
            "text/plain": [
              "array([[0.09520099],\n",
              "       [0.12844176],\n",
              "       [0.36189576],\n",
              "       [0.18761437],\n",
              "       [0.04574456],\n",
              "       [0.02385333],\n",
              "       [0.81066654],\n",
              "       [0.8427664 ],\n",
              "       [0.95847007],\n",
              "       [0.98064121],\n",
              "       [0.99202551],\n",
              "       [1.        ]])"
            ]
          },
          "metadata": {},
          "execution_count": 50
        }
      ]
    }
  ]
}