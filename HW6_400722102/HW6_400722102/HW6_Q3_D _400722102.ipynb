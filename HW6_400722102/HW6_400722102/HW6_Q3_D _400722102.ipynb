{
  "cells": [
    {
      "cell_type": "code",
      "execution_count": null,
      "id": "41e8960b-f6e9-4ac3-a4bd-e4ff978fdc02",
      "metadata": {
        "id": "41e8960b-f6e9-4ac3-a4bd-e4ff978fdc02"
      },
      "outputs": [],
      "source": [
        "import numpy as np\n",
        "import pandas as pd"
      ]
    },
    {
      "cell_type": "code",
      "source": [
        "input =  np.array([[2,-1]])\n",
        "Y_true=[1 , 0.5 ]\n",
        "weights1 = np.array([[1 , -0.5 ] , [ 0.5 , -1 ]])\n",
        "weights2 = np.array([[0.5 , -1 ] , [-0.5 , 1 ]])\n",
        "bias1 = np.array([[0.5 , -0.5]])\n",
        "bias2 = np.array([[-1 , 0.5]])\n",
        "inputsback = [[2] , [-1]]"
      ],
      "metadata": {
        "id": "0vNjvKm2OEav"
      },
      "id": "0vNjvKm2OEav",
      "execution_count": null,
      "outputs": []
    },
    {
      "cell_type": "code",
      "source": [
        "def forward(inputs):\n",
        "  Z = np.dot(inputs , weights1) + bias1 \n",
        "  H = Relu(Z)\n",
        "  O = np.dot(H , weights2) + bias2\n",
        "  return O \n",
        "\n",
        "def MSE(x):\n",
        "  x = x.tolist()\n",
        "  return np.square(np.subtract(Y_true,x)).mean()\n",
        "\n",
        "def Relu(x) :\n",
        "  for i in range(len(x)):\n",
        "    for j in range(len(x[0])):\n",
        "      x[i][j] = max(0 ,  x[i][j] )\n",
        "  return x"
      ],
      "metadata": {
        "id": "B02rysodZHWR"
      },
      "id": "B02rysodZHWR",
      "execution_count": null,
      "outputs": []
    },
    {
      "cell_type": "code",
      "source": [
        "forward(input)"
      ],
      "metadata": {
        "colab": {
          "base_uri": "https://localhost:8080/"
        },
        "id": "xrsIXXHtazTF",
        "outputId": "00d98997-8fc2-4ad2-fe05-9d2e7fbe5515"
      },
      "id": "xrsIXXHtazTF",
      "execution_count": null,
      "outputs": [
        {
          "output_type": "execute_result",
          "data": {
            "text/plain": [
              "array([[ 0. , -1.5]])"
            ]
          },
          "metadata": {},
          "execution_count": 4
        }
      ]
    },
    {
      "cell_type": "code",
      "source": [
        "MSE(forward(input))"
      ],
      "metadata": {
        "colab": {
          "base_uri": "https://localhost:8080/"
        },
        "id": "WjiYJkVqa1IH",
        "outputId": "adcde191-aebb-458c-ddc4-c09bfb621219"
      },
      "id": "WjiYJkVqa1IH",
      "execution_count": null,
      "outputs": [
        {
          "output_type": "execute_result",
          "data": {
            "text/plain": [
              "2.5"
            ]
          },
          "metadata": {},
          "execution_count": 5
        }
      ]
    },
    {
      "cell_type": "code",
      "source": [
        "def MSEgrad(x ):\n",
        "  x = x.tolist()\n",
        "  return np.subtract(x , Y_true)"
      ],
      "metadata": {
        "id": "8sAN3QL9a78z"
      },
      "id": "8sAN3QL9a78z",
      "execution_count": null,
      "outputs": []
    },
    {
      "cell_type": "code",
      "source": [
        "def Relugrad(x ):\n",
        "  for i in range(len(x)):\n",
        "    for j in range(len(x[0])):\n",
        "      if x[i][j] >0 :\n",
        "        x[i][j] = 1\n",
        "      else:\n",
        "        x[i][j] = 0\n",
        "\n",
        "  return x"
      ],
      "metadata": {
        "id": "EK8KmfL2cKXR"
      },
      "id": "EK8KmfL2cKXR",
      "execution_count": null,
      "outputs": []
    },
    {
      "cell_type": "code",
      "source": [
        "def weights_grad(weights , i , j):\n",
        "  return weights[i-1][j-1]"
      ],
      "metadata": {
        "id": "I5VbQWrecx3f"
      },
      "id": "I5VbQWrecx3f",
      "execution_count": null,
      "outputs": []
    },
    {
      "cell_type": "code",
      "source": [
        "def update(weights , derivative , leraning_rate = 0.1 ) :\n",
        "  output = weights - (leraning_rate * derivative)\n",
        "  return output"
      ],
      "metadata": {
        "id": "pNkze_8JfDd9"
      },
      "id": "pNkze_8JfDd9",
      "execution_count": null,
      "outputs": []
    },
    {
      "cell_type": "code",
      "source": [
        "MSEgrad(forward(input))"
      ],
      "metadata": {
        "colab": {
          "base_uri": "https://localhost:8080/"
        },
        "id": "dkn-5tVjgJOl",
        "outputId": "bb62130e-76ad-4f5b-e40f-c9a4005bbeaa"
      },
      "id": "dkn-5tVjgJOl",
      "execution_count": null,
      "outputs": [
        {
          "output_type": "execute_result",
          "data": {
            "text/plain": [
              "array([[-1., -2.]])"
            ]
          },
          "metadata": {},
          "execution_count": 10
        }
      ]
    },
    {
      "cell_type": "code",
      "source": [
        "def backward(outputs):\n",
        "  grad_e = MSEgrad(outputs)\n",
        "  u1 = np.dot(grad_e , weights2.T) \n",
        "  hossein = np.dot(input , weights1) + bias1\n",
        "  ans2 =u1 * Relugrad( hossein)\n",
        "  weightderivative = np.dot(inputsback ,ans2 )\n",
        "  weightupdate =  update(weights1 , weightderivative)\n",
        "  return (weightupdate)\n"
      ],
      "metadata": {
        "id": "g1CESMu5fmqJ"
      },
      "id": "g1CESMu5fmqJ",
      "execution_count": null,
      "outputs": []
    },
    {
      "cell_type": "code",
      "source": [
        "backward(forward(input))"
      ],
      "metadata": {
        "colab": {
          "base_uri": "https://localhost:8080/"
        },
        "id": "8Vkb3LrL9Enu",
        "outputId": "fa4e579c-c7c7-4bd4-8fcc-b7719b1d13d9"
      },
      "id": "8Vkb3LrL9Enu",
      "execution_count": null,
      "outputs": [
        {
          "output_type": "execute_result",
          "data": {
            "text/plain": [
              "array([[ 0.7 , -0.5 ],\n",
              "       [ 0.65, -1.  ]])"
            ]
          },
          "metadata": {},
          "execution_count": 14
        }
      ]
    }
  ],
  "metadata": {
    "kernelspec": {
      "display_name": "Python 3 (ipykernel)",
      "language": "python",
      "name": "python3"
    },
    "language_info": {
      "codemirror_mode": {
        "name": "ipython",
        "version": 3
      },
      "file_extension": ".py",
      "mimetype": "text/x-python",
      "name": "python",
      "nbconvert_exporter": "python",
      "pygments_lexer": "ipython3",
      "version": "3.9.6"
    },
    "colab": {
      "name": "HW6_Q3_D.ipynb",
      "provenance": [],
      "collapsed_sections": []
    }
  },
  "nbformat": 4,
  "nbformat_minor": 5
}