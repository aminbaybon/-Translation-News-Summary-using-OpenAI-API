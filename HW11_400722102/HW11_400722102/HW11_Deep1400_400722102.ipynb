{
  "nbformat": 4,
  "nbformat_minor": 0,
  "metadata": {
    "colab": {
      "name": "HW11_Deep1400_2 (1).ipynb",
      "provenance": [],
      "collapsed_sections": [
        "QNjXfQ5kWd7l"
      ]
    },
    "kernelspec": {
      "name": "python3",
      "display_name": "Python 3"
    },
    "accelerator": "GPU"
  },
  "cells": [
    {
      "cell_type": "code",
      "metadata": {
        "id": "05e4mKftC8BP"
      },
      "source": [
        "#@title Student Information\n",
        "#@markdown Enter the following info and run the cell:\n",
        "Name = \"Amin Fathi\" #@param {type:\"string\"}\n",
        "StudentNumber =  400722102#@param {type:\"integer\"}"
      ],
      "execution_count": 1,
      "outputs": []
    },
    {
      "cell_type": "markdown",
      "metadata": {
        "id": "Tf-jnHngag-m"
      },
      "source": [
        "#Imports"
      ]
    },
    {
      "cell_type": "markdown",
      "source": [
        "برای پیاده سازی این سوال از لینک زیر استفاده شده است :\n",
        "https://github.com/prashil2792/Question-Answering-System-Deep-Learning/blob/master/Question%20Answering%20Memory%20Network.ipynb"
      ],
      "metadata": {
        "id": "94hKTMIzSHhq"
      }
    },
    {
      "cell_type": "code",
      "metadata": {
        "id": "dJBzDr12K3bf"
      },
      "source": [
        "%%capture\n",
        "!pip install transformers"
      ],
      "execution_count": 2,
      "outputs": []
    },
    {
      "cell_type": "code",
      "metadata": {
        "id": "-0twGcAkFWiG"
      },
      "source": [
        "import tensorflow as tf\n",
        "tf.config.run_functions_eagerly(True)\n",
        "import tensorflow_datasets as tfds\n",
        "\n",
        "from functools import reduce\n",
        "import tarfile\n",
        "import numpy as np\n",
        "import re\n",
        "\n",
        "import IPython\n",
        "from IPython.display import clear_output \n",
        "import matplotlib.pyplot as plt\n",
        "from keras.models import Sequential, Model\n",
        "from keras.layers.embeddings import Embedding\n",
        "from keras.layers import Input, Activation, Dense, Permute, Dropout, add, dot, concatenate\n",
        "from keras.layers import LSTM\n",
        "from keras.utils.data_utils import get_file\n",
        "from keras.preprocessing.sequence import pad_sequences\n",
        "from functools import reduce\n",
        "import tarfile\n",
        "import numpy as np\n",
        "import re\n",
        "import pandas as pd\n",
        "\n",
        "from transformers import TFBertModel, BertTokenizer\n",
        "%matplotlib inline"
      ],
      "execution_count": 3,
      "outputs": []
    },
    {
      "cell_type": "code",
      "metadata": {
        "colab": {
          "base_uri": "https://localhost:8080/"
        },
        "id": "FGw9iBLGU9Cu",
        "outputId": "adcf5079-6c08-427b-c293-2781b78489d7"
      },
      "source": [
        "!nvidia-smi # check if gpu mode is selected"
      ],
      "execution_count": null,
      "outputs": [
        {
          "output_type": "stream",
          "name": "stdout",
          "text": [
            "NVIDIA-SMI has failed because it couldn't communicate with the NVIDIA driver. Make sure that the latest NVIDIA driver is installed and running.\n",
            "\n"
          ]
        }
      ]
    },
    {
      "cell_type": "markdown",
      "metadata": {
        "id": "2JqUZuEo8G_p"
      },
      "source": [
        "We will use a dataset consists of questions where a previously given single supporting fact, potentially amongst a set of other irrelevant facts, provides the answer. We first test one of the simplest cases of this, by asking for the location of a person, e.g. “$Mary$ $travelled$ $to$ $the$ $office.$ $Where$ $is$ $Mary?$”. It can be considered the\n",
        "simplest case of some real world QA datasets."
      ]
    },
    {
      "cell_type": "markdown",
      "metadata": {
        "id": "KsvVnfvfGnib"
      },
      "source": [
        "About the dataset: https://research.fb.com/downloads/babi/"
      ]
    },
    {
      "cell_type": "markdown",
      "metadata": {
        "id": "-OlahJ1OrKjd"
      },
      "source": [
        "Lets download the dataset:"
      ]
    },
    {
      "cell_type": "markdown",
      "metadata": {
        "id": "h_dp3WT7FW8E"
      },
      "source": [
        "# 1. LSTM- Q&A\n",
        "\n",
        "This is a bonus section with extra score for those who coplete this section."
      ]
    },
    {
      "cell_type": "markdown",
      "metadata": {
        "id": "259V3MeC9G55"
      },
      "source": [
        "## 1.2 Preprocessing"
      ]
    },
    {
      "cell_type": "markdown",
      "metadata": {
        "id": "4u_xDAfovXf7"
      },
      "source": [
        "Our model takes a discrete set of inputs $x_{1}, ..., x_{n}$ that are to be stored in the memory, a query $q$, and outputs an answer $a$. Each of the $x_{i}$, $q$, and $a$ contains symbols coming from a dictionary with $V$ words. The model writes all $x$ to the memory up to a fixed buffer size, and then finds a continuous representation for the $x$ and $q$. The continuous representation is then processed via multiple hops to\n",
        "output $a$. This allows backpropagation of the error signal through multiple memory accesses back to the input during training. The overall model is shown in the next figure. During training, all three embedding matrices $A, B$ and $C$, as well as $W$ are jointly learned by minimizing a standard cross-entropy loss between $aˆ$ and the true\n",
        "label $a$. Training is performed using stochastic gradient descent.\n",
        "\n",
        "\n",
        "Delve more deeply into the details: https://arxiv.org/pdf/1503.08895.pdf"
      ]
    },
    {
      "cell_type": "code",
      "metadata": {
        "id": "Tx-wpcdQJfpk"
      },
      "source": [
        "%%capture\n",
        "!wget https://s3.amazonaws.com/text-datasets/babi_tasks_1-20_v1-2.tar.gz\n",
        "!tar -xvzf babi_tasks_1-20_v1-2.tar.gz"
      ],
      "execution_count": null,
      "outputs": []
    },
    {
      "cell_type": "code",
      "metadata": {
        "id": "tBYgDigJanwz"
      },
      "source": [
        "challenges = [\n",
        "    'qa1_single-supporting-fact',\n",
        "    'qa2_two-supporting-facts',\n",
        "]\n",
        "train_file_path = f'/content/tasks_1-20_v1-2/en-10k/{challenges[0]}_train.txt'\n",
        "test_file_path = f'/content/tasks_1-20_v1-2/en-10k/{challenges[0]}_test.txt'"
      ],
      "execution_count": null,
      "outputs": []
    },
    {
      "cell_type": "code",
      "metadata": {
        "id": "JCBfH4qrrKjL"
      },
      "source": [
        "def word_tokenizer(sent):\n",
        "    return [ x.strip() for x in re.split('(\\W+)', sent) if x and x.strip()]"
      ],
      "execution_count": null,
      "outputs": []
    },
    {
      "cell_type": "markdown",
      "metadata": {
        "id": "_WLJmevS-Dy6"
      },
      "source": [
        "According to the dataset (bAbi tasks), we need to prepare the data for training the model. With the next function we parse the dataset and manufactore it in desired way."
      ]
    },
    {
      "cell_type": "code",
      "metadata": {
        "id": "tzksSX8drKjP"
      },
      "source": [
        "def parse_stories(lines, only_supporting=False, tokenize = True):\n",
        "    '''Parse stories provided in the bAbi tasks format\n",
        "    If only_supporting is true, only the sentences\n",
        "    that support the answer are kept.\n",
        "    '''\n",
        "    data = []\n",
        "    story = []\n",
        "    for line in lines:\n",
        "        line = line.strip()\n",
        "        nid, line = line.split(' ', 1)\n",
        "        nid = int(nid)\n",
        "        if nid == 1:\n",
        "            story = []\n",
        "        if '\\t' in line:\n",
        "            q, a, supporting = line.split('\\t')\n",
        "            if tokenize:\n",
        "                q = word_tokenizer(q)\n",
        "            substory = None\n",
        "            if only_supporting:\n",
        "                # Only select the related substory\n",
        "                supporting = map(int, supporting.split())\n",
        "                substory = [story[i - 1] for i in supporting]\n",
        "            else:\n",
        "                # Provide all the substories\n",
        "                substory = [x for x in story if x]\n",
        "            data.append((substory, q, a))\n",
        "            story.append('')\n",
        "        else:\n",
        "            if tokenize:\n",
        "                sent = word_tokenizer(line)\n",
        "            else:\n",
        "                sent = line\n",
        "            story.append(sent)\n",
        "    return data\n"
      ],
      "execution_count": null,
      "outputs": []
    },
    {
      "cell_type": "markdown",
      "metadata": {
        "id": "FwkiTJYRJvPe"
      },
      "source": [
        "Now we need to take proper structure of the data: "
      ]
    },
    {
      "cell_type": "code",
      "metadata": {
        "id": "kBc_rzF-rKjT"
      },
      "source": [
        "def get_stories(f, only_supporting=False, max_length=None, tokenize=True):\n",
        "    data = parse_stories(f.readlines(), only_supporting=only_supporting, tokenize=tokenize)\n",
        "    flatten = lambda data: reduce(lambda x, y: x + y, data)\n",
        "    data = [(story[0]+story[1], q, answer) for story, q, answer in data if not max_length or len(flatten(story)) < max_length]\n",
        "    return data"
      ],
      "execution_count": null,
      "outputs": []
    },
    {
      "cell_type": "markdown",
      "metadata": {
        "id": "FivvTCc8J-GW"
      },
      "source": [
        "Here we need to make the vectors of stories, questions and answers. its too easy:"
      ]
    },
    {
      "cell_type": "code",
      "metadata": {
        "id": "BzEnmDN_rKjW"
      },
      "source": [
        "def vectorize_stories(data, word_idx, story_maxlen, query_maxlen):\n",
        "  \n",
        "    ########################################\n",
        "    #     Put your implementation here     #\n",
        "    ########################################\n",
        "    storyT = list()\n",
        "    queryT = list()\n",
        "    answerT = list()\n",
        "\n",
        "    for story, query, answer in data:\n",
        "        # creating list of story word indices\n",
        "        story1 = [word_idx[w] for w in story]\n",
        "        # creating list of query word indices\n",
        "        query1 = [word_idx[w] for w in query]\n",
        "        # let's not forget that index 0 is reserved\n",
        "        answer1 = np.zeros(len(word_idx) + 1)\n",
        "        # creating label 1 for the answer word index\n",
        "        answer1[word_idx[answer]] = 1\n",
        "        storyT.append(story1)\n",
        "        queryT.append(query1)\n",
        "        answerT.append(answer1)\n",
        "\n",
        "    return (pad_sequences(storyT, maxlen=story_maxlen),\n",
        "            pad_sequences(queryT, maxlen=query_maxlen),\n",
        "            np.array(answerT))\n",
        "\n",
        "\n",
        "    #return inputs_train, queries_train, answers_train\n",
        "\n"
      ],
      "execution_count": null,
      "outputs": []
    },
    {
      "cell_type": "markdown",
      "metadata": {
        "id": "B77myra2ZJYK"
      },
      "source": [
        "Its time to extract stories from the dataset, then pass them to the defined functions for parsing and make it usable:"
      ]
    },
    {
      "cell_type": "code",
      "metadata": {
        "id": "Akcwoo3frKjj"
      },
      "source": [
        "train_stories = get_stories(open(train_file_path), tokenize=True)\n",
        "test_stories = get_stories(open(test_file_path), tokenize=True)"
      ],
      "execution_count": null,
      "outputs": []
    },
    {
      "cell_type": "code",
      "metadata": {
        "id": "kyiMaVRirKjm",
        "colab": {
          "base_uri": "https://localhost:8080/"
        },
        "outputId": "e5d97790-39d7-4b7f-a1e5-c15e0e0f10be"
      },
      "source": [
        "len(train_stories), len(test_stories)"
      ],
      "execution_count": null,
      "outputs": [
        {
          "output_type": "execute_result",
          "data": {
            "text/plain": [
              "(10000, 1000)"
            ]
          },
          "metadata": {},
          "execution_count": 12
        }
      ]
    },
    {
      "cell_type": "markdown",
      "metadata": {
        "id": "YpXH9iYQrKjq"
      },
      "source": [
        "## 1.3 Check our helper functions and prepare the data:"
      ]
    },
    {
      "cell_type": "code",
      "metadata": {
        "id": "29110FTDrKjr"
      },
      "source": [
        "vocab = set()\n",
        "for story, q, answer in train_stories + test_stories:\n",
        "    vocab |= set(story + q + [answer])\n",
        "vocab = sorted(vocab)\n",
        "\n",
        "# Reserve 0 for masking via pad_sequences\n",
        "vocab_size = len(vocab) + 1\n",
        "story_maxlen = max(map(len, (x for x, _, _ in train_stories + test_stories)))\n",
        "query_maxlen = max(map(len, (x for _, x, _ in train_stories + test_stories)))"
      ],
      "execution_count": null,
      "outputs": []
    },
    {
      "cell_type": "code",
      "metadata": {
        "id": "PopB46hnrKju",
        "colab": {
          "base_uri": "https://localhost:8080/"
        },
        "outputId": "aae6c2c4-46fc-4c66-c578-ee4e946e3fe3"
      },
      "source": [
        "story_maxlen, query_maxlen"
      ],
      "execution_count": null,
      "outputs": [
        {
          "output_type": "execute_result",
          "data": {
            "text/plain": [
              "(14, 4)"
            ]
          },
          "metadata": {},
          "execution_count": 14
        }
      ]
    },
    {
      "cell_type": "code",
      "metadata": {
        "id": "q-G22KfxrKjy",
        "colab": {
          "base_uri": "https://localhost:8080/"
        },
        "outputId": "be04a9eb-fd14-4177-e93a-cd707f99433c"
      },
      "source": [
        "print('-')\n",
        "print('Vocab size:', vocab_size, 'unique words')\n",
        "print('Story max length:', story_maxlen, 'words')\n",
        "print('Query max length:', query_maxlen, 'words')\n",
        "print('Number of training stories:', len(train_stories))\n",
        "print('Number of test stories:', len(test_stories))\n",
        "print('-')\n",
        "print('Here\\'s what a \"story\" tuple looks like (input, query, answer):')\n",
        "print(train_stories[0])\n",
        "print('-')\n",
        "print('Vectorizing the word sequences...')\n",
        "\n",
        "word_idx = dict((c, i + 1) for i, c in enumerate(vocab))\n",
        "idx_word = dict((i+1, c) for i,c in enumerate(vocab))\n",
        "inputs_train, queries_train, answers_train = vectorize_stories(train_stories,\n",
        "                                                               word_idx,\n",
        "                                                               story_maxlen,\n",
        "                                                               query_maxlen)\n",
        "inputs_test, queries_test, answers_test = vectorize_stories(test_stories,\n",
        "                                                            word_idx,\n",
        "                                                            story_maxlen,\n",
        "                                                            query_maxlen)\n"
      ],
      "execution_count": null,
      "outputs": [
        {
          "output_type": "stream",
          "name": "stdout",
          "text": [
            "-\n",
            "Vocab size: 22 unique words\n",
            "Story max length: 14 words\n",
            "Query max length: 4 words\n",
            "Number of training stories: 10000\n",
            "Number of test stories: 1000\n",
            "-\n",
            "Here's what a \"story\" tuple looks like (input, query, answer):\n",
            "(['Mary', 'moved', 'to', 'the', 'bathroom', '.', 'John', 'went', 'to', 'the', 'hallway', '.'], ['Where', 'is', 'Mary', '?'], 'bathroom')\n",
            "-\n",
            "Vectorizing the word sequences...\n"
          ]
        }
      ]
    },
    {
      "cell_type": "code",
      "metadata": {
        "id": "oMnIXlTBrKj1",
        "colab": {
          "base_uri": "https://localhost:8080/"
        },
        "outputId": "7b2fb140-e961-4af4-a899-35fcb6010152"
      },
      "source": [
        "inputs_train.shape, queries_train.shape, answers_train.shape"
      ],
      "execution_count": null,
      "outputs": [
        {
          "output_type": "execute_result",
          "data": {
            "text/plain": [
              "((10000, 14), (10000, 4), (10000, 22))"
            ]
          },
          "metadata": {},
          "execution_count": 16
        }
      ]
    },
    {
      "cell_type": "code",
      "metadata": {
        "id": "d4lNOEBkrKj5",
        "colab": {
          "base_uri": "https://localhost:8080/"
        },
        "outputId": "18098e0f-9e3b-4df1-d80a-af5a1c876032"
      },
      "source": [
        "print('-')\n",
        "print('inputs: integer tensor of shape (samples, max_length)')\n",
        "print('inputs_train shape:', inputs_train.shape)\n",
        "print('inputs_test shape:', inputs_test.shape)\n",
        "print('-')\n",
        "print('queries: integer tensor of shape (samples, max_length)')\n",
        "print('queries_train shape:', queries_train.shape)\n",
        "print('queries_test shape:', queries_test.shape)\n",
        "print('-')\n",
        "print('answers: binary (1 or 0) tensor of shape (samples, vocab_size)')\n",
        "print('answers_train shape:', answers_train.shape)\n",
        "print('answers_test shape:', answers_test.shape)\n",
        "print('-')\n",
        "print('Compiling...')\n"
      ],
      "execution_count": null,
      "outputs": [
        {
          "output_type": "stream",
          "name": "stdout",
          "text": [
            "-\n",
            "inputs: integer tensor of shape (samples, max_length)\n",
            "inputs_train shape: (10000, 14)\n",
            "inputs_test shape: (1000, 14)\n",
            "-\n",
            "queries: integer tensor of shape (samples, max_length)\n",
            "queries_train shape: (10000, 4)\n",
            "queries_test shape: (1000, 4)\n",
            "-\n",
            "answers: binary (1 or 0) tensor of shape (samples, vocab_size)\n",
            "answers_train shape: (10000, 22)\n",
            "answers_test shape: (1000, 22)\n",
            "-\n",
            "Compiling...\n"
          ]
        }
      ]
    },
    {
      "cell_type": "markdown",
      "metadata": {
        "id": "tvyawLqgfz_N"
      },
      "source": [
        "In this part you should implement 2 functions which illustrate the procedure of learning, Loss and Accuracy. These functions take two inputs: \n",
        "* The history of your designed model \n",
        "* Proper title for describing the plot"
      ]
    },
    {
      "cell_type": "code",
      "metadata": {
        "id": "g8Ya5e3e3OWG"
      },
      "source": [
        "def plot_acc(history, title):\n",
        "  \n",
        "  # This function should show not only the plot of accuracy on training and validation set\n",
        "  # but also it should show the maximum value of accuracy with its related epoch.\n",
        "  ########################################\n",
        "  #     Put your implementation here     #\n",
        "  ########################################\n",
        "    plt.xlabel(\"Epoch\")\n",
        "    plt.ylabel(\"accuracy\")\n",
        "    plt.plot(history.history['accuracy'],label='train')\n",
        "    plt.plot(history.history['val_accuracy'], label='validation')\n",
        "    plt.legend()\n",
        "    plt.show() "
      ],
      "execution_count": null,
      "outputs": []
    },
    {
      "cell_type": "code",
      "source": [
        "def plot_loss(history, title):\n",
        "  \n",
        "  # This function should show not only the plot of loss on training and validation set\n",
        "  # but also it should show the minimum value of loss with its related epoch.\n",
        "  ########################################\n",
        "  #     Put your implementation here     #\n",
        "  ########################################\n",
        "    plt.xlabel(\"Epoch\")\n",
        "    plt.ylabel(\"loss\")\n",
        "    plt.plot(history.history['loss'],label='train')\n",
        "    plt.plot(history.history['val_loss'], label='validation')\n",
        "    plt.legend()\n",
        "    plt.show() "
      ],
      "metadata": {
        "id": "j_8m7LFBcBmC"
      },
      "execution_count": null,
      "outputs": []
    },
    {
      "cell_type": "markdown",
      "metadata": {
        "id": "cMxMeM78xBT8"
      },
      "source": [
        "Define model's hyperparameters"
      ]
    },
    {
      "cell_type": "code",
      "source": [
        "train_epochs = 20\n",
        "batch_size = 32\n",
        "lstm_size = 64"
      ],
      "metadata": {
        "id": "oiK700LIcEDv"
      },
      "execution_count": null,
      "outputs": []
    },
    {
      "cell_type": "markdown",
      "metadata": {
        "id": "4G5X8ksgrKkA"
      },
      "source": [
        "## 1.4 Implementstion:"
      ]
    },
    {
      "cell_type": "markdown",
      "metadata": {
        "id": "ayB5NMoI-Sh-"
      },
      "source": [
        "Let's build the model. You should use Keras framework. The summary and outview of the right model is saved in the next cells to help you create the proper model faster.\n"
      ]
    },
    {
      "cell_type": "code",
      "metadata": {
        "id": "2UNREQ9rrKkB",
        "colab": {
          "base_uri": "https://localhost:8080/"
        },
        "outputId": "2c892c27-788e-4a36-cb72-d01c58c4b996"
      },
      "source": [
        "# define the model: \n",
        "\n",
        "input_sequence = tf.keras.layers.Input((story_maxlen,))\n",
        "question = tf.keras.layers.Input((query_maxlen,))\n",
        "\n",
        "print('Input sequence:', input_sequence)\n",
        "print('Question:', question)\n",
        "\n",
        "########################################\n",
        "#     Put your implementation here     #\n",
        "########################################\n",
        "# encoders\n",
        "# embed the input sequence into a sequence of vectors\n",
        "input_encoder_m = Sequential()\n",
        "input_encoder_m.add(Embedding(input_dim=vocab_size,\n",
        "                              output_dim=64))\n",
        "input_encoder_m.add(Dropout(0.3))\n",
        "# output: (samples, story_maxlen, embedding_dim)\n",
        "\n",
        "# embed the input into a sequence of vectors of size query_maxlen\n",
        "input_encoder_c = Sequential()\n",
        "input_encoder_c.add(Embedding(input_dim=vocab_size,\n",
        "                              output_dim=query_maxlen))\n",
        "input_encoder_c.add(Dropout(0.3))\n",
        "# output: (samples, story_maxlen, query_maxlen)\n",
        "\n",
        "# embed the question into a sequence of vectors\n",
        "question_encoder = Sequential()\n",
        "question_encoder.add(Embedding(input_dim=vocab_size,\n",
        "                               output_dim=64,\n",
        "                               input_length=query_maxlen))\n",
        "question_encoder.add(Dropout(0.3))\n",
        "# output: (samples, query_maxlen, embedding_dim)\n",
        "# encode input sequence and questions (which are indices)\n",
        "# to sequences of dense vectors\n",
        "input_encoded_m = input_encoder_m(input_sequence)\n",
        "input_encoded_c = input_encoder_c(input_sequence)\n",
        "question_encoded = question_encoder(question)\n",
        "\n",
        "# compute a 'match' between the first input vector sequence\n",
        "# and the question vector sequence\n",
        "# shape: `(samples, story_maxlen, query_maxlen)`\n",
        "match = dot([input_encoded_m, question_encoded], axes=(2, 2))\n",
        "match = Activation('softmax')(match)\n",
        "\n",
        "# add the match matrix with the second input vector sequence\n",
        "response = add([match, input_encoded_c])  # (samples, story_maxlen, query_maxlen)\n",
        "response = Permute((2, 1))(response)  # (samples, query_maxlen, story_maxlen)\n",
        "\n",
        "# concatenate the match matrix with the question vector sequence\n",
        "answer = concatenate([response, question_encoded])\n",
        "\n",
        "# the original paper uses a matrix multiplication for this reduction step.\n",
        "# we choose to use a RNN instead.\n",
        "answer = LSTM(32)(answer)  # (samples, 32)\n",
        "\n",
        "# one regularization layer -- more would probably be needed.\n",
        "answer = Dropout(0.3)(answer)\n",
        "answer = Dense(vocab_size)(answer)  # (samples, vocab_size)\n",
        "# we output a probability distribution over the vocabulary\n",
        "answer = Activation('softmax')(answer)\n"
      ],
      "execution_count": null,
      "outputs": [
        {
          "output_type": "stream",
          "name": "stdout",
          "text": [
            "Input sequence: KerasTensor(type_spec=TensorSpec(shape=(None, 14), dtype=tf.float32, name='input_1'), name='input_1', description=\"created by layer 'input_1'\")\n",
            "Question: KerasTensor(type_spec=TensorSpec(shape=(None, 4), dtype=tf.float32, name='input_2'), name='input_2', description=\"created by layer 'input_2'\")\n"
          ]
        }
      ]
    },
    {
      "cell_type": "code",
      "metadata": {
        "id": "WUvfDiLkrKkF"
      },
      "source": [
        "# build the final model\n",
        "model = tf.keras.models.Model([input_sequence, question], answer)\n",
        "model.compile(optimizer='rmsprop', loss='categorical_crossentropy',\n",
        "              metrics=['accuracy'])"
      ],
      "execution_count": null,
      "outputs": []
    },
    {
      "cell_type": "markdown",
      "metadata": {
        "id": "UFqPorzN_9Lv"
      },
      "source": [
        "The model architecture should look like this:"
      ]
    },
    {
      "cell_type": "code",
      "metadata": {
        "id": "aX6c1qWQ0iMX",
        "colab": {
          "base_uri": "https://localhost:8080/",
          "height": 1000
        },
        "outputId": "f4ffc366-d3f4-4ad6-caab-6c33ce6a0333"
      },
      "source": [
        "from IPython.display import SVG\n",
        "\n",
        "SVG(tf.keras.utils.model_to_dot(model,show_shapes= True, show_layer_names=True, dpi=60).create(prog='dot', format='svg'))"
      ],
      "execution_count": null,
      "outputs": [
        {
          "output_type": "execute_result",
          "data": {
            "text/plain": [
              "<IPython.core.display.SVG object>"
            ],
            "image/svg+xml": "<svg height=\"737pt\" viewBox=\"0.00 0.00 945.00 885.00\" width=\"787pt\" xmlns=\"http://www.w3.org/2000/svg\" xmlns:xlink=\"http://www.w3.org/1999/xlink\">\n<g class=\"graph\" id=\"graph0\" transform=\"scale(.8333 .8333) rotate(0) translate(4 881)\">\n<title>G</title>\n<polygon fill=\"#ffffff\" points=\"-4,4 -4,-881 941,-881 941,4 -4,4\" stroke=\"transparent\"/>\n<!-- 139982315870928 -->\n<g class=\"node\" id=\"node1\">\n<title>139982315870928</title>\n<polygon fill=\"none\" points=\"164,-830.5 164,-876.5 480,-876.5 480,-830.5 164,-830.5\" stroke=\"#000000\"/>\n<text fill=\"#000000\" font-family=\"Times,serif\" font-size=\"14.00\" text-anchor=\"middle\" x=\"204\" y=\"-861.3\">input_1</text>\n<polyline fill=\"none\" points=\"164,-853.5 244,-853.5 \" stroke=\"#000000\"/>\n<text fill=\"#000000\" font-family=\"Times,serif\" font-size=\"14.00\" text-anchor=\"middle\" x=\"204\" y=\"-838.3\">InputLayer</text>\n<polyline fill=\"none\" points=\"244,-830.5 244,-876.5 \" stroke=\"#000000\"/>\n<text fill=\"#000000\" font-family=\"Times,serif\" font-size=\"14.00\" text-anchor=\"middle\" x=\"273\" y=\"-861.3\">input:</text>\n<polyline fill=\"none\" points=\"244,-853.5 302,-853.5 \" stroke=\"#000000\"/>\n<text fill=\"#000000\" font-family=\"Times,serif\" font-size=\"14.00\" text-anchor=\"middle\" x=\"273\" y=\"-838.3\">output:</text>\n<polyline fill=\"none\" points=\"302,-830.5 302,-876.5 \" stroke=\"#000000\"/>\n<text fill=\"#000000\" font-family=\"Times,serif\" font-size=\"14.00\" text-anchor=\"middle\" x=\"346.5\" y=\"-849.8\">[(None, 14)]</text>\n<polyline fill=\"none\" points=\"391,-830.5 391,-876.5 \" stroke=\"#000000\"/>\n<text fill=\"#000000\" font-family=\"Times,serif\" font-size=\"14.00\" text-anchor=\"middle\" x=\"435.5\" y=\"-849.8\">[(None, 14)]</text>\n</g>\n<!-- 139982315872080 -->\n<g class=\"node\" id=\"node3\">\n<title>139982315872080</title>\n<polygon fill=\"none\" points=\"248,-747.5 248,-793.5 598,-793.5 598,-747.5 248,-747.5\" stroke=\"#000000\"/>\n<text fill=\"#000000\" font-family=\"Times,serif\" font-size=\"14.00\" text-anchor=\"middle\" x=\"286.5\" y=\"-778.3\">sequential</text>\n<polyline fill=\"none\" points=\"248,-770.5 325,-770.5 \" stroke=\"#000000\"/>\n<text fill=\"#000000\" font-family=\"Times,serif\" font-size=\"14.00\" text-anchor=\"middle\" x=\"286.5\" y=\"-755.3\">Sequential</text>\n<polyline fill=\"none\" points=\"325,-747.5 325,-793.5 \" stroke=\"#000000\"/>\n<text fill=\"#000000\" font-family=\"Times,serif\" font-size=\"14.00\" text-anchor=\"middle\" x=\"354\" y=\"-778.3\">input:</text>\n<polyline fill=\"none\" points=\"325,-770.5 383,-770.5 \" stroke=\"#000000\"/>\n<text fill=\"#000000\" font-family=\"Times,serif\" font-size=\"14.00\" text-anchor=\"middle\" x=\"354\" y=\"-755.3\">output:</text>\n<polyline fill=\"none\" points=\"383,-747.5 383,-793.5 \" stroke=\"#000000\"/>\n<text fill=\"#000000\" font-family=\"Times,serif\" font-size=\"14.00\" text-anchor=\"middle\" x=\"431\" y=\"-766.8\">(None, None)</text>\n<polyline fill=\"none\" points=\"479,-747.5 479,-793.5 \" stroke=\"#000000\"/>\n<text fill=\"#000000\" font-family=\"Times,serif\" font-size=\"14.00\" text-anchor=\"middle\" x=\"538.5\" y=\"-766.8\">(None, None, 64)</text>\n</g>\n<!-- 139982315870928&#45;&gt;139982315872080 -->\n<g class=\"edge\" id=\"edge1\">\n<title>139982315870928-&gt;139982315872080</title>\n<path d=\"M350.1341,-830.3799C361.5298,-821.0151 374.8297,-810.0855 386.9245,-800.1462\" fill=\"none\" stroke=\"#000000\"/>\n<polygon fill=\"#000000\" points=\"389.1627,-802.8371 394.6665,-793.784 384.7183,-797.429 389.1627,-802.8371\" stroke=\"#000000\"/>\n</g>\n<!-- 139982315899728 -->\n<g class=\"node\" id=\"node7\">\n<title>139982315899728</title>\n<polygon fill=\"none\" points=\"0,-664.5 0,-710.5 354,-710.5 354,-664.5 0,-664.5\" stroke=\"#000000\"/>\n<text fill=\"#000000\" font-family=\"Times,serif\" font-size=\"14.00\" text-anchor=\"middle\" x=\"44.5\" y=\"-695.3\">sequential_1</text>\n<polyline fill=\"none\" points=\"0,-687.5 89,-687.5 \" stroke=\"#000000\"/>\n<text fill=\"#000000\" font-family=\"Times,serif\" font-size=\"14.00\" text-anchor=\"middle\" x=\"44.5\" y=\"-672.3\">Sequential</text>\n<polyline fill=\"none\" points=\"89,-664.5 89,-710.5 \" stroke=\"#000000\"/>\n<text fill=\"#000000\" font-family=\"Times,serif\" font-size=\"14.00\" text-anchor=\"middle\" x=\"118\" y=\"-695.3\">input:</text>\n<polyline fill=\"none\" points=\"89,-687.5 147,-687.5 \" stroke=\"#000000\"/>\n<text fill=\"#000000\" font-family=\"Times,serif\" font-size=\"14.00\" text-anchor=\"middle\" x=\"118\" y=\"-672.3\">output:</text>\n<polyline fill=\"none\" points=\"147,-664.5 147,-710.5 \" stroke=\"#000000\"/>\n<text fill=\"#000000\" font-family=\"Times,serif\" font-size=\"14.00\" text-anchor=\"middle\" x=\"195\" y=\"-683.8\">(None, None)</text>\n<polyline fill=\"none\" points=\"243,-664.5 243,-710.5 \" stroke=\"#000000\"/>\n<text fill=\"#000000\" font-family=\"Times,serif\" font-size=\"14.00\" text-anchor=\"middle\" x=\"298.5\" y=\"-683.8\">(None, None, 4)</text>\n</g>\n<!-- 139982315870928&#45;&gt;139982315899728 -->\n<g class=\"edge\" id=\"edge6\">\n<title>139982315870928-&gt;139982315899728</title>\n<path d=\"M282.9299,-830.4758C268.0483,-820.4944 251.6448,-807.9036 239,-794 218.8474,-771.8412 202.1942,-742.0674 191.24,-719.6346\" fill=\"none\" stroke=\"#000000\"/>\n<polygon fill=\"#000000\" points=\"194.3574,-718.0401 186.9007,-710.5135 188.0363,-721.0474 194.3574,-718.0401\" stroke=\"#000000\"/>\n</g>\n<!-- 139982315784976 -->\n<g class=\"node\" id=\"node2\">\n<title>139982315784976</title>\n<polygon fill=\"none\" points=\"630,-830.5 630,-876.5 930,-876.5 930,-830.5 630,-830.5\" stroke=\"#000000\"/>\n<text fill=\"#000000\" font-family=\"Times,serif\" font-size=\"14.00\" text-anchor=\"middle\" x=\"670\" y=\"-861.3\">input_2</text>\n<polyline fill=\"none\" points=\"630,-853.5 710,-853.5 \" stroke=\"#000000\"/>\n<text fill=\"#000000\" font-family=\"Times,serif\" font-size=\"14.00\" text-anchor=\"middle\" x=\"670\" y=\"-838.3\">InputLayer</text>\n<polyline fill=\"none\" points=\"710,-830.5 710,-876.5 \" stroke=\"#000000\"/>\n<text fill=\"#000000\" font-family=\"Times,serif\" font-size=\"14.00\" text-anchor=\"middle\" x=\"739\" y=\"-861.3\">input:</text>\n<polyline fill=\"none\" points=\"710,-853.5 768,-853.5 \" stroke=\"#000000\"/>\n<text fill=\"#000000\" font-family=\"Times,serif\" font-size=\"14.00\" text-anchor=\"middle\" x=\"739\" y=\"-838.3\">output:</text>\n<polyline fill=\"none\" points=\"768,-830.5 768,-876.5 \" stroke=\"#000000\"/>\n<text fill=\"#000000\" font-family=\"Times,serif\" font-size=\"14.00\" text-anchor=\"middle\" x=\"808.5\" y=\"-849.8\">[(None, 4)]</text>\n<polyline fill=\"none\" points=\"849,-830.5 849,-876.5 \" stroke=\"#000000\"/>\n<text fill=\"#000000\" font-family=\"Times,serif\" font-size=\"14.00\" text-anchor=\"middle\" x=\"889.5\" y=\"-849.8\">[(None, 4)]</text>\n</g>\n<!-- 139982315948240 -->\n<g class=\"node\" id=\"node4\">\n<title>139982315948240</title>\n<polygon fill=\"none\" points=\"623,-747.5 623,-793.5 937,-793.5 937,-747.5 623,-747.5\" stroke=\"#000000\"/>\n<text fill=\"#000000\" font-family=\"Times,serif\" font-size=\"14.00\" text-anchor=\"middle\" x=\"667.5\" y=\"-778.3\">sequential_2</text>\n<polyline fill=\"none\" points=\"623,-770.5 712,-770.5 \" stroke=\"#000000\"/>\n<text fill=\"#000000\" font-family=\"Times,serif\" font-size=\"14.00\" text-anchor=\"middle\" x=\"667.5\" y=\"-755.3\">Sequential</text>\n<polyline fill=\"none\" points=\"712,-747.5 712,-793.5 \" stroke=\"#000000\"/>\n<text fill=\"#000000\" font-family=\"Times,serif\" font-size=\"14.00\" text-anchor=\"middle\" x=\"741\" y=\"-778.3\">input:</text>\n<polyline fill=\"none\" points=\"712,-770.5 770,-770.5 \" stroke=\"#000000\"/>\n<text fill=\"#000000\" font-family=\"Times,serif\" font-size=\"14.00\" text-anchor=\"middle\" x=\"741\" y=\"-755.3\">output:</text>\n<polyline fill=\"none\" points=\"770,-747.5 770,-793.5 \" stroke=\"#000000\"/>\n<text fill=\"#000000\" font-family=\"Times,serif\" font-size=\"14.00\" text-anchor=\"middle\" x=\"806\" y=\"-766.8\">(None, 4)</text>\n<polyline fill=\"none\" points=\"842,-747.5 842,-793.5 \" stroke=\"#000000\"/>\n<text fill=\"#000000\" font-family=\"Times,serif\" font-size=\"14.00\" text-anchor=\"middle\" x=\"889.5\" y=\"-766.8\">(None, 4, 64)</text>\n</g>\n<!-- 139982315784976&#45;&gt;139982315948240 -->\n<g class=\"edge\" id=\"edge2\">\n<title>139982315784976-&gt;139982315948240</title>\n<path d=\"M780,-830.3799C780,-822.1745 780,-812.7679 780,-803.8786\" fill=\"none\" stroke=\"#000000\"/>\n<polygon fill=\"#000000\" points=\"783.5001,-803.784 780,-793.784 776.5001,-803.784 783.5001,-803.784\" stroke=\"#000000\"/>\n</g>\n<!-- 139982316013264 -->\n<g class=\"node\" id=\"node5\">\n<title>139982316013264</title>\n<polygon fill=\"none\" points=\"372,-664.5 372,-710.5 760,-710.5 760,-664.5 372,-664.5\" stroke=\"#000000\"/>\n<text fill=\"#000000\" font-family=\"Times,serif\" font-size=\"14.00\" text-anchor=\"middle\" x=\"391\" y=\"-695.3\">dot</text>\n<polyline fill=\"none\" points=\"372,-687.5 410,-687.5 \" stroke=\"#000000\"/>\n<text fill=\"#000000\" font-family=\"Times,serif\" font-size=\"14.00\" text-anchor=\"middle\" x=\"391\" y=\"-672.3\">Dot</text>\n<polyline fill=\"none\" points=\"410,-664.5 410,-710.5 \" stroke=\"#000000\"/>\n<text fill=\"#000000\" font-family=\"Times,serif\" font-size=\"14.00\" text-anchor=\"middle\" x=\"439\" y=\"-695.3\">input:</text>\n<polyline fill=\"none\" points=\"410,-687.5 468,-687.5 \" stroke=\"#000000\"/>\n<text fill=\"#000000\" font-family=\"Times,serif\" font-size=\"14.00\" text-anchor=\"middle\" x=\"439\" y=\"-672.3\">output:</text>\n<polyline fill=\"none\" points=\"468,-664.5 468,-710.5 \" stroke=\"#000000\"/>\n<text fill=\"#000000\" font-family=\"Times,serif\" font-size=\"14.00\" text-anchor=\"middle\" x=\"566.5\" y=\"-683.8\">[(None, 14, 64), (None, 4, 64)]</text>\n<polyline fill=\"none\" points=\"665,-664.5 665,-710.5 \" stroke=\"#000000\"/>\n<text fill=\"#000000\" font-family=\"Times,serif\" font-size=\"14.00\" text-anchor=\"middle\" x=\"712.5\" y=\"-683.8\">(None, 14, 4)</text>\n</g>\n<!-- 139982315872080&#45;&gt;139982316013264 -->\n<g class=\"edge\" id=\"edge3\">\n<title>139982315872080-&gt;139982316013264</title>\n<path d=\"M462.8335,-747.3799C479.5826,-737.6583 499.2371,-726.2505 516.8723,-716.0147\" fill=\"none\" stroke=\"#000000\"/>\n<polygon fill=\"#000000\" points=\"518.9924,-718.831 525.8842,-710.784 515.4785,-712.7769 518.9924,-718.831\" stroke=\"#000000\"/>\n</g>\n<!-- 139982315948240&#45;&gt;139982316013264 -->\n<g class=\"edge\" id=\"edge4\">\n<title>139982315948240-&gt;139982316013264</title>\n<path d=\"M720.6733,-747.4901C694.1173,-737.1904 662.6368,-724.9806 635.0307,-714.2736\" fill=\"none\" stroke=\"#000000\"/>\n<polygon fill=\"#000000\" points=\"636.0311,-710.9076 625.4421,-710.5547 633.4998,-717.4339 636.0311,-710.9076\" stroke=\"#000000\"/>\n</g>\n<!-- 139982315522832 -->\n<g class=\"node\" id=\"node10\">\n<title>139982315522832</title>\n<polygon fill=\"none\" points=\"463,-332.5 463,-378.5 891,-378.5 891,-332.5 463,-332.5\" stroke=\"#000000\"/>\n<text fill=\"#000000\" font-family=\"Times,serif\" font-size=\"14.00\" text-anchor=\"middle\" x=\"506\" y=\"-363.3\">concatenate</text>\n<polyline fill=\"none\" points=\"463,-355.5 549,-355.5 \" stroke=\"#000000\"/>\n<text fill=\"#000000\" font-family=\"Times,serif\" font-size=\"14.00\" text-anchor=\"middle\" x=\"506\" y=\"-340.3\">Concatenate</text>\n<polyline fill=\"none\" points=\"549,-332.5 549,-378.5 \" stroke=\"#000000\"/>\n<text fill=\"#000000\" font-family=\"Times,serif\" font-size=\"14.00\" text-anchor=\"middle\" x=\"578\" y=\"-363.3\">input:</text>\n<polyline fill=\"none\" points=\"549,-355.5 607,-355.5 \" stroke=\"#000000\"/>\n<text fill=\"#000000\" font-family=\"Times,serif\" font-size=\"14.00\" text-anchor=\"middle\" x=\"578\" y=\"-340.3\">output:</text>\n<polyline fill=\"none\" points=\"607,-332.5 607,-378.5 \" stroke=\"#000000\"/>\n<text fill=\"#000000\" font-family=\"Times,serif\" font-size=\"14.00\" text-anchor=\"middle\" x=\"701.5\" y=\"-351.8\">[(None, 4, 14), (None, 4, 64)]</text>\n<polyline fill=\"none\" points=\"796,-332.5 796,-378.5 \" stroke=\"#000000\"/>\n<text fill=\"#000000\" font-family=\"Times,serif\" font-size=\"14.00\" text-anchor=\"middle\" x=\"843.5\" y=\"-351.8\">(None, 4, 78)</text>\n</g>\n<!-- 139982315948240&#45;&gt;139982315522832 -->\n<g class=\"edge\" id=\"edge11\">\n<title>139982315948240-&gt;139982315522832</title>\n<path d=\"M781.8153,-747.4221C784.1757,-715.3746 788,-655.5696 788,-604.5 788,-604.5 788,-604.5 788,-521.5 788,-471.2439 778.9887,-456.0528 750,-415 742.1088,-403.8248 731.5777,-393.5985 720.9753,-384.8947\" fill=\"none\" stroke=\"#000000\"/>\n<polygon fill=\"#000000\" points=\"722.9213,-381.9725 712.8962,-378.545 718.5958,-387.4762 722.9213,-381.9725\" stroke=\"#000000\"/>\n</g>\n<!-- 139982316007696 -->\n<g class=\"node\" id=\"node6\">\n<title>139982316007696</title>\n<polygon fill=\"none\" points=\"403.5,-581.5 403.5,-627.5 728.5,-627.5 728.5,-581.5 403.5,-581.5\" stroke=\"#000000\"/>\n<text fill=\"#000000\" font-family=\"Times,serif\" font-size=\"14.00\" text-anchor=\"middle\" x=\"442\" y=\"-612.3\">activation</text>\n<polyline fill=\"none\" points=\"403.5,-604.5 480.5,-604.5 \" stroke=\"#000000\"/>\n<text fill=\"#000000\" font-family=\"Times,serif\" font-size=\"14.00\" text-anchor=\"middle\" x=\"442\" y=\"-589.3\">Activation</text>\n<polyline fill=\"none\" points=\"480.5,-581.5 480.5,-627.5 \" stroke=\"#000000\"/>\n<text fill=\"#000000\" font-family=\"Times,serif\" font-size=\"14.00\" text-anchor=\"middle\" x=\"509.5\" y=\"-612.3\">input:</text>\n<polyline fill=\"none\" points=\"480.5,-604.5 538.5,-604.5 \" stroke=\"#000000\"/>\n<text fill=\"#000000\" font-family=\"Times,serif\" font-size=\"14.00\" text-anchor=\"middle\" x=\"509.5\" y=\"-589.3\">output:</text>\n<polyline fill=\"none\" points=\"538.5,-581.5 538.5,-627.5 \" stroke=\"#000000\"/>\n<text fill=\"#000000\" font-family=\"Times,serif\" font-size=\"14.00\" text-anchor=\"middle\" x=\"586\" y=\"-600.8\">(None, 14, 4)</text>\n<polyline fill=\"none\" points=\"633.5,-581.5 633.5,-627.5 \" stroke=\"#000000\"/>\n<text fill=\"#000000\" font-family=\"Times,serif\" font-size=\"14.00\" text-anchor=\"middle\" x=\"681\" y=\"-600.8\">(None, 14, 4)</text>\n</g>\n<!-- 139982316013264&#45;&gt;139982316007696 -->\n<g class=\"edge\" id=\"edge5\">\n<title>139982316013264-&gt;139982316007696</title>\n<path d=\"M566,-664.3799C566,-656.1745 566,-646.7679 566,-637.8786\" fill=\"none\" stroke=\"#000000\"/>\n<polygon fill=\"#000000\" points=\"569.5001,-637.784 566,-627.784 562.5001,-637.784 569.5001,-637.784\" stroke=\"#000000\"/>\n</g>\n<!-- 139982315545104 -->\n<g class=\"node\" id=\"node8\">\n<title>139982315545104</title>\n<polygon fill=\"none\" points=\"374,-498.5 374,-544.5 758,-544.5 758,-498.5 374,-498.5\" stroke=\"#000000\"/>\n<text fill=\"#000000\" font-family=\"Times,serif\" font-size=\"14.00\" text-anchor=\"middle\" x=\"395\" y=\"-529.3\">add</text>\n<polyline fill=\"none\" points=\"374,-521.5 416,-521.5 \" stroke=\"#000000\"/>\n<text fill=\"#000000\" font-family=\"Times,serif\" font-size=\"14.00\" text-anchor=\"middle\" x=\"395\" y=\"-506.3\">Add</text>\n<polyline fill=\"none\" points=\"416,-498.5 416,-544.5 \" stroke=\"#000000\"/>\n<text fill=\"#000000\" font-family=\"Times,serif\" font-size=\"14.00\" text-anchor=\"middle\" x=\"445\" y=\"-529.3\">input:</text>\n<polyline fill=\"none\" points=\"416,-521.5 474,-521.5 \" stroke=\"#000000\"/>\n<text fill=\"#000000\" font-family=\"Times,serif\" font-size=\"14.00\" text-anchor=\"middle\" x=\"445\" y=\"-506.3\">output:</text>\n<polyline fill=\"none\" points=\"474,-498.5 474,-544.5 \" stroke=\"#000000\"/>\n<text fill=\"#000000\" font-family=\"Times,serif\" font-size=\"14.00\" text-anchor=\"middle\" x=\"568.5\" y=\"-517.8\">[(None, 14, 4), (None, 14, 4)]</text>\n<polyline fill=\"none\" points=\"663,-498.5 663,-544.5 \" stroke=\"#000000\"/>\n<text fill=\"#000000\" font-family=\"Times,serif\" font-size=\"14.00\" text-anchor=\"middle\" x=\"710.5\" y=\"-517.8\">(None, 14, 4)</text>\n</g>\n<!-- 139982316007696&#45;&gt;139982315545104 -->\n<g class=\"edge\" id=\"edge7\">\n<title>139982316007696-&gt;139982315545104</title>\n<path d=\"M566,-581.3799C566,-573.1745 566,-563.7679 566,-554.8786\" fill=\"none\" stroke=\"#000000\"/>\n<polygon fill=\"#000000\" points=\"569.5001,-554.784 566,-544.784 562.5001,-554.784 569.5001,-554.784\" stroke=\"#000000\"/>\n</g>\n<!-- 139982315899728&#45;&gt;139982315545104 -->\n<g class=\"edge\" id=\"edge8\">\n<title>139982315899728-&gt;139982315545104</title>\n<path d=\"M220.5474,-664.3073C264.0522,-641.5969 333.1737,-606.75 395,-581 423.6771,-569.0562 455.6974,-557.4668 484.2057,-547.738\" fill=\"none\" stroke=\"#000000\"/>\n<polygon fill=\"#000000\" points=\"485.3807,-551.0355 493.7292,-544.5122 483.1349,-544.4055 485.3807,-551.0355\" stroke=\"#000000\"/>\n</g>\n<!-- 139982315550480 -->\n<g class=\"node\" id=\"node9\">\n<title>139982315550480</title>\n<polygon fill=\"none\" points=\"429,-415.5 429,-461.5 741,-461.5 741,-415.5 429,-415.5\" stroke=\"#000000\"/>\n<text fill=\"#000000\" font-family=\"Times,serif\" font-size=\"14.00\" text-anchor=\"middle\" x=\"461\" y=\"-446.3\">permute</text>\n<polyline fill=\"none\" points=\"429,-438.5 493,-438.5 \" stroke=\"#000000\"/>\n<text fill=\"#000000\" font-family=\"Times,serif\" font-size=\"14.00\" text-anchor=\"middle\" x=\"461\" y=\"-423.3\">Permute</text>\n<polyline fill=\"none\" points=\"493,-415.5 493,-461.5 \" stroke=\"#000000\"/>\n<text fill=\"#000000\" font-family=\"Times,serif\" font-size=\"14.00\" text-anchor=\"middle\" x=\"522\" y=\"-446.3\">input:</text>\n<polyline fill=\"none\" points=\"493,-438.5 551,-438.5 \" stroke=\"#000000\"/>\n<text fill=\"#000000\" font-family=\"Times,serif\" font-size=\"14.00\" text-anchor=\"middle\" x=\"522\" y=\"-423.3\">output:</text>\n<polyline fill=\"none\" points=\"551,-415.5 551,-461.5 \" stroke=\"#000000\"/>\n<text fill=\"#000000\" font-family=\"Times,serif\" font-size=\"14.00\" text-anchor=\"middle\" x=\"598.5\" y=\"-434.8\">(None, 14, 4)</text>\n<polyline fill=\"none\" points=\"646,-415.5 646,-461.5 \" stroke=\"#000000\"/>\n<text fill=\"#000000\" font-family=\"Times,serif\" font-size=\"14.00\" text-anchor=\"middle\" x=\"693.5\" y=\"-434.8\">(None, 4, 14)</text>\n</g>\n<!-- 139982315545104&#45;&gt;139982315550480 -->\n<g class=\"edge\" id=\"edge9\">\n<title>139982315545104-&gt;139982315550480</title>\n<path d=\"M571.2926,-498.3799C573.1913,-490.0854 575.3711,-480.5633 577.4254,-471.5889\" fill=\"none\" stroke=\"#000000\"/>\n<polygon fill=\"#000000\" points=\"580.8502,-472.3129 579.6699,-461.784 574.0267,-470.7508 580.8502,-472.3129\" stroke=\"#000000\"/>\n</g>\n<!-- 139982315550480&#45;&gt;139982315522832 -->\n<g class=\"edge\" id=\"edge10\">\n<title>139982315550480-&gt;139982315522832</title>\n<path d=\"M610.6271,-415.3799C620.8096,-406.1935 632.6612,-395.5013 643.5085,-385.7152\" fill=\"none\" stroke=\"#000000\"/>\n<polygon fill=\"#000000\" points=\"646.1108,-388.0813 651.1912,-378.784 641.4218,-382.8839 646.1108,-388.0813\" stroke=\"#000000\"/>\n</g>\n<!-- 139982315904528 -->\n<g class=\"node\" id=\"node11\">\n<title>139982315904528</title>\n<polygon fill=\"none\" points=\"532.5,-249.5 532.5,-295.5 821.5,-295.5 821.5,-249.5 532.5,-249.5\" stroke=\"#000000\"/>\n<text fill=\"#000000\" font-family=\"Times,serif\" font-size=\"14.00\" text-anchor=\"middle\" x=\"560.5\" y=\"-280.3\">lstm</text>\n<polyline fill=\"none\" points=\"532.5,-272.5 588.5,-272.5 \" stroke=\"#000000\"/>\n<text fill=\"#000000\" font-family=\"Times,serif\" font-size=\"14.00\" text-anchor=\"middle\" x=\"560.5\" y=\"-257.3\">LSTM</text>\n<polyline fill=\"none\" points=\"588.5,-249.5 588.5,-295.5 \" stroke=\"#000000\"/>\n<text fill=\"#000000\" font-family=\"Times,serif\" font-size=\"14.00\" text-anchor=\"middle\" x=\"617.5\" y=\"-280.3\">input:</text>\n<polyline fill=\"none\" points=\"588.5,-272.5 646.5,-272.5 \" stroke=\"#000000\"/>\n<text fill=\"#000000\" font-family=\"Times,serif\" font-size=\"14.00\" text-anchor=\"middle\" x=\"617.5\" y=\"-257.3\">output:</text>\n<polyline fill=\"none\" points=\"646.5,-249.5 646.5,-295.5 \" stroke=\"#000000\"/>\n<text fill=\"#000000\" font-family=\"Times,serif\" font-size=\"14.00\" text-anchor=\"middle\" x=\"694\" y=\"-268.8\">(None, 4, 78)</text>\n<polyline fill=\"none\" points=\"741.5,-249.5 741.5,-295.5 \" stroke=\"#000000\"/>\n<text fill=\"#000000\" font-family=\"Times,serif\" font-size=\"14.00\" text-anchor=\"middle\" x=\"781.5\" y=\"-268.8\">(None, 32)</text>\n</g>\n<!-- 139982315522832&#45;&gt;139982315904528 -->\n<g class=\"edge\" id=\"edge12\">\n<title>139982315522832-&gt;139982315904528</title>\n<path d=\"M677,-332.3799C677,-324.1745 677,-314.7679 677,-305.8786\" fill=\"none\" stroke=\"#000000\"/>\n<polygon fill=\"#000000\" points=\"680.5001,-305.784 677,-295.784 673.5001,-305.784 680.5001,-305.784\" stroke=\"#000000\"/>\n</g>\n<!-- 139982315903312 -->\n<g class=\"node\" id=\"node12\">\n<title>139982315903312</title>\n<polygon fill=\"none\" points=\"529.5,-166.5 529.5,-212.5 824.5,-212.5 824.5,-166.5 529.5,-166.5\" stroke=\"#000000\"/>\n<text fill=\"#000000\" font-family=\"Times,serif\" font-size=\"14.00\" text-anchor=\"middle\" x=\"568\" y=\"-197.3\">dropout_3</text>\n<polyline fill=\"none\" points=\"529.5,-189.5 606.5,-189.5 \" stroke=\"#000000\"/>\n<text fill=\"#000000\" font-family=\"Times,serif\" font-size=\"14.00\" text-anchor=\"middle\" x=\"568\" y=\"-174.3\">Dropout</text>\n<polyline fill=\"none\" points=\"606.5,-166.5 606.5,-212.5 \" stroke=\"#000000\"/>\n<text fill=\"#000000\" font-family=\"Times,serif\" font-size=\"14.00\" text-anchor=\"middle\" x=\"635.5\" y=\"-197.3\">input:</text>\n<polyline fill=\"none\" points=\"606.5,-189.5 664.5,-189.5 \" stroke=\"#000000\"/>\n<text fill=\"#000000\" font-family=\"Times,serif\" font-size=\"14.00\" text-anchor=\"middle\" x=\"635.5\" y=\"-174.3\">output:</text>\n<polyline fill=\"none\" points=\"664.5,-166.5 664.5,-212.5 \" stroke=\"#000000\"/>\n<text fill=\"#000000\" font-family=\"Times,serif\" font-size=\"14.00\" text-anchor=\"middle\" x=\"704.5\" y=\"-185.8\">(None, 32)</text>\n<polyline fill=\"none\" points=\"744.5,-166.5 744.5,-212.5 \" stroke=\"#000000\"/>\n<text fill=\"#000000\" font-family=\"Times,serif\" font-size=\"14.00\" text-anchor=\"middle\" x=\"784.5\" y=\"-185.8\">(None, 32)</text>\n</g>\n<!-- 139982315904528&#45;&gt;139982315903312 -->\n<g class=\"edge\" id=\"edge13\">\n<title>139982315904528-&gt;139982315903312</title>\n<path d=\"M677,-249.3799C677,-241.1745 677,-231.7679 677,-222.8786\" fill=\"none\" stroke=\"#000000\"/>\n<polygon fill=\"#000000\" points=\"680.5001,-222.784 677,-212.784 673.5001,-222.784 680.5001,-222.784\" stroke=\"#000000\"/>\n</g>\n<!-- 139982315546512 -->\n<g class=\"node\" id=\"node13\">\n<title>139982315546512</title>\n<polygon fill=\"none\" points=\"542,-83.5 542,-129.5 812,-129.5 812,-83.5 542,-83.5\" stroke=\"#000000\"/>\n<text fill=\"#000000\" font-family=\"Times,serif\" font-size=\"14.00\" text-anchor=\"middle\" x=\"568\" y=\"-114.3\">dense</text>\n<polyline fill=\"none\" points=\"542,-106.5 594,-106.5 \" stroke=\"#000000\"/>\n<text fill=\"#000000\" font-family=\"Times,serif\" font-size=\"14.00\" text-anchor=\"middle\" x=\"568\" y=\"-91.3\">Dense</text>\n<polyline fill=\"none\" points=\"594,-83.5 594,-129.5 \" stroke=\"#000000\"/>\n<text fill=\"#000000\" font-family=\"Times,serif\" font-size=\"14.00\" text-anchor=\"middle\" x=\"623\" y=\"-114.3\">input:</text>\n<polyline fill=\"none\" points=\"594,-106.5 652,-106.5 \" stroke=\"#000000\"/>\n<text fill=\"#000000\" font-family=\"Times,serif\" font-size=\"14.00\" text-anchor=\"middle\" x=\"623\" y=\"-91.3\">output:</text>\n<polyline fill=\"none\" points=\"652,-83.5 652,-129.5 \" stroke=\"#000000\"/>\n<text fill=\"#000000\" font-family=\"Times,serif\" font-size=\"14.00\" text-anchor=\"middle\" x=\"692\" y=\"-102.8\">(None, 32)</text>\n<polyline fill=\"none\" points=\"732,-83.5 732,-129.5 \" stroke=\"#000000\"/>\n<text fill=\"#000000\" font-family=\"Times,serif\" font-size=\"14.00\" text-anchor=\"middle\" x=\"772\" y=\"-102.8\">(None, 22)</text>\n</g>\n<!-- 139982315903312&#45;&gt;139982315546512 -->\n<g class=\"edge\" id=\"edge14\">\n<title>139982315903312-&gt;139982315546512</title>\n<path d=\"M677,-166.3799C677,-158.1745 677,-148.7679 677,-139.8786\" fill=\"none\" stroke=\"#000000\"/>\n<polygon fill=\"#000000\" points=\"680.5001,-139.784 677,-129.784 673.5001,-139.784 680.5001,-139.784\" stroke=\"#000000\"/>\n</g>\n<!-- 139982315315344 -->\n<g class=\"node\" id=\"node14\">\n<title>139982315315344</title>\n<polygon fill=\"none\" points=\"524.5,-.5 524.5,-46.5 829.5,-46.5 829.5,-.5 524.5,-.5\" stroke=\"#000000\"/>\n<text fill=\"#000000\" font-family=\"Times,serif\" font-size=\"14.00\" text-anchor=\"middle\" x=\"568\" y=\"-31.3\">activation_1</text>\n<polyline fill=\"none\" points=\"524.5,-23.5 611.5,-23.5 \" stroke=\"#000000\"/>\n<text fill=\"#000000\" font-family=\"Times,serif\" font-size=\"14.00\" text-anchor=\"middle\" x=\"568\" y=\"-8.3\">Activation</text>\n<polyline fill=\"none\" points=\"611.5,-.5 611.5,-46.5 \" stroke=\"#000000\"/>\n<text fill=\"#000000\" font-family=\"Times,serif\" font-size=\"14.00\" text-anchor=\"middle\" x=\"640.5\" y=\"-31.3\">input:</text>\n<polyline fill=\"none\" points=\"611.5,-23.5 669.5,-23.5 \" stroke=\"#000000\"/>\n<text fill=\"#000000\" font-family=\"Times,serif\" font-size=\"14.00\" text-anchor=\"middle\" x=\"640.5\" y=\"-8.3\">output:</text>\n<polyline fill=\"none\" points=\"669.5,-.5 669.5,-46.5 \" stroke=\"#000000\"/>\n<text fill=\"#000000\" font-family=\"Times,serif\" font-size=\"14.00\" text-anchor=\"middle\" x=\"709.5\" y=\"-19.8\">(None, 22)</text>\n<polyline fill=\"none\" points=\"749.5,-.5 749.5,-46.5 \" stroke=\"#000000\"/>\n<text fill=\"#000000\" font-family=\"Times,serif\" font-size=\"14.00\" text-anchor=\"middle\" x=\"789.5\" y=\"-19.8\">(None, 22)</text>\n</g>\n<!-- 139982315546512&#45;&gt;139982315315344 -->\n<g class=\"edge\" id=\"edge15\">\n<title>139982315546512-&gt;139982315315344</title>\n<path d=\"M677,-83.3799C677,-75.1745 677,-65.7679 677,-56.8786\" fill=\"none\" stroke=\"#000000\"/>\n<polygon fill=\"#000000\" points=\"680.5001,-56.784 677,-46.784 673.5001,-56.784 680.5001,-56.784\" stroke=\"#000000\"/>\n</g>\n</g>\n</svg>"
          },
          "metadata": {},
          "execution_count": 23
        }
      ]
    },
    {
      "cell_type": "markdown",
      "metadata": {
        "id": "BxK-MxYMrKkI"
      },
      "source": [
        "Model summary"
      ]
    },
    {
      "cell_type": "code",
      "metadata": {
        "id": "bjEgTL9LrKkJ",
        "colab": {
          "base_uri": "https://localhost:8080/"
        },
        "outputId": "28270f15-e6d0-476c-a6a0-e47ed8571b03"
      },
      "source": [
        "model.summary()"
      ],
      "execution_count": null,
      "outputs": [
        {
          "output_type": "stream",
          "name": "stdout",
          "text": [
            "Model: \"model\"\n",
            "__________________________________________________________________________________________________\n",
            " Layer (type)                   Output Shape         Param #     Connected to                     \n",
            "==================================================================================================\n",
            " input_1 (InputLayer)           [(None, 14)]         0           []                               \n",
            "                                                                                                  \n",
            " input_2 (InputLayer)           [(None, 4)]          0           []                               \n",
            "                                                                                                  \n",
            " sequential (Sequential)        (None, None, 64)     1408        ['input_1[0][0]']                \n",
            "                                                                                                  \n",
            " sequential_2 (Sequential)      (None, 4, 64)        1408        ['input_2[0][0]']                \n",
            "                                                                                                  \n",
            " dot (Dot)                      (None, 14, 4)        0           ['sequential[0][0]',             \n",
            "                                                                  'sequential_2[0][0]']           \n",
            "                                                                                                  \n",
            " activation (Activation)        (None, 14, 4)        0           ['dot[0][0]']                    \n",
            "                                                                                                  \n",
            " sequential_1 (Sequential)      (None, None, 4)      88          ['input_1[0][0]']                \n",
            "                                                                                                  \n",
            " add (Add)                      (None, 14, 4)        0           ['activation[0][0]',             \n",
            "                                                                  'sequential_1[0][0]']           \n",
            "                                                                                                  \n",
            " permute (Permute)              (None, 4, 14)        0           ['add[0][0]']                    \n",
            "                                                                                                  \n",
            " concatenate (Concatenate)      (None, 4, 78)        0           ['permute[0][0]',                \n",
            "                                                                  'sequential_2[0][0]']           \n",
            "                                                                                                  \n",
            " lstm (LSTM)                    (None, 32)           14208       ['concatenate[0][0]']            \n",
            "                                                                                                  \n",
            " dropout_3 (Dropout)            (None, 32)           0           ['lstm[0][0]']                   \n",
            "                                                                                                  \n",
            " dense (Dense)                  (None, 22)           726         ['dropout_3[0][0]']              \n",
            "                                                                                                  \n",
            " activation_1 (Activation)      (None, 22)           0           ['dense[0][0]']                  \n",
            "                                                                                                  \n",
            "==================================================================================================\n",
            "Total params: 17,838\n",
            "Trainable params: 17,838\n",
            "Non-trainable params: 0\n",
            "__________________________________________________________________________________________________\n"
          ]
        }
      ]
    },
    {
      "cell_type": "markdown",
      "metadata": {
        "id": "_tnbz5YJrKkQ"
      },
      "source": [
        "## 1.5 Training"
      ]
    },
    {
      "cell_type": "markdown",
      "metadata": {
        "id": "W_bUUHq-A8Us"
      },
      "source": [
        "In this section we start the training procedure with fitting the data to the designed model."
      ]
    },
    {
      "cell_type": "code",
      "source": [
        "history = model.fit([inputs_train, queries_train], answers_train, batch_size, train_epochs,\n",
        "          validation_data=([inputs_test, queries_test], answers_test))\n",
        "\n",
        "plot_loss(history,\"Loss\")\n",
        "plot_acc(history,\"Accuracy\")\n",
        "\n",
        "model.save('model.h5')"
      ],
      "metadata": {
        "id": "c3sOGkotZKmk",
        "colab": {
          "base_uri": "https://localhost:8080/",
          "height": 1000
        },
        "outputId": "dab0b95a-e859-4101-e414-76bd83afb17d"
      },
      "execution_count": null,
      "outputs": [
        {
          "output_type": "stream",
          "name": "stdout",
          "text": [
            "Epoch 1/20\n",
            "  3/313 [..............................] - ETA: 12s - loss: 1.7391 - accuracy: 0.2708"
          ]
        },
        {
          "output_type": "stream",
          "name": "stderr",
          "text": [
            "/usr/local/lib/python3.7/dist-packages/tensorflow/python/data/ops/structured_function.py:265: UserWarning: Even though the `tf.config.experimental_run_functions_eagerly` option is set, this option does not apply to tf.data functions. To force eager execution of tf.data functions, please use `tf.data.experimental.enable_debug_mode()`.\n",
            "  \"Even though the `tf.config.experimental_run_functions_eagerly` \"\n"
          ]
        },
        {
          "output_type": "stream",
          "name": "stdout",
          "text": [
            "313/313 [==============================] - 13s 41ms/step - loss: 1.7624 - accuracy: 0.2407 - val_loss: 1.7490 - val_accuracy: 0.2830\n",
            "Epoch 2/20\n",
            "313/313 [==============================] - 13s 43ms/step - loss: 1.7622 - accuracy: 0.2441 - val_loss: 1.7514 - val_accuracy: 0.2820\n",
            "Epoch 3/20\n",
            "313/313 [==============================] - 13s 40ms/step - loss: 1.7605 - accuracy: 0.2520 - val_loss: 1.7465 - val_accuracy: 0.2820\n",
            "Epoch 4/20\n",
            "313/313 [==============================] - 13s 42ms/step - loss: 1.7577 - accuracy: 0.2532 - val_loss: 1.7465 - val_accuracy: 0.2850\n",
            "Epoch 5/20\n",
            "313/313 [==============================] - 13s 41ms/step - loss: 1.7588 - accuracy: 0.2546 - val_loss: 1.7388 - val_accuracy: 0.2900\n",
            "Epoch 6/20\n",
            "313/313 [==============================] - 13s 40ms/step - loss: 1.7567 - accuracy: 0.2611 - val_loss: 1.7372 - val_accuracy: 0.2990\n",
            "Epoch 7/20\n",
            "313/313 [==============================] - 12s 40ms/step - loss: 1.7554 - accuracy: 0.2622 - val_loss: 1.7351 - val_accuracy: 0.2980\n",
            "Epoch 8/20\n",
            "313/313 [==============================] - 13s 40ms/step - loss: 1.7501 - accuracy: 0.2667 - val_loss: 1.7501 - val_accuracy: 0.2730\n",
            "Epoch 9/20\n",
            "313/313 [==============================] - 13s 42ms/step - loss: 1.7489 - accuracy: 0.2641 - val_loss: 1.7342 - val_accuracy: 0.2980\n",
            "Epoch 10/20\n",
            "313/313 [==============================] - 13s 41ms/step - loss: 1.7455 - accuracy: 0.2706 - val_loss: 1.7268 - val_accuracy: 0.3100\n",
            "Epoch 11/20\n",
            "313/313 [==============================] - 13s 40ms/step - loss: 1.7465 - accuracy: 0.2691 - val_loss: 1.7291 - val_accuracy: 0.3120\n",
            "Epoch 12/20\n",
            "313/313 [==============================] - 12s 40ms/step - loss: 1.7474 - accuracy: 0.2692 - val_loss: 1.7273 - val_accuracy: 0.3040\n",
            "Epoch 13/20\n",
            "313/313 [==============================] - 13s 40ms/step - loss: 1.7427 - accuracy: 0.2725 - val_loss: 1.7250 - val_accuracy: 0.3160\n",
            "Epoch 14/20\n",
            "313/313 [==============================] - 13s 40ms/step - loss: 1.7420 - accuracy: 0.2739 - val_loss: 1.7266 - val_accuracy: 0.3120\n",
            "Epoch 15/20\n",
            "313/313 [==============================] - 13s 40ms/step - loss: 1.7439 - accuracy: 0.2766 - val_loss: 1.7279 - val_accuracy: 0.3090\n",
            "Epoch 16/20\n",
            "313/313 [==============================] - 13s 42ms/step - loss: 1.7417 - accuracy: 0.2745 - val_loss: 1.7295 - val_accuracy: 0.3110\n",
            "Epoch 17/20\n",
            "313/313 [==============================] - 13s 41ms/step - loss: 1.7395 - accuracy: 0.2738 - val_loss: 1.7277 - val_accuracy: 0.3100\n",
            "Epoch 18/20\n",
            "313/313 [==============================] - 13s 41ms/step - loss: 1.7378 - accuracy: 0.2784 - val_loss: 1.7257 - val_accuracy: 0.3120\n",
            "Epoch 19/20\n",
            "313/313 [==============================] - 13s 41ms/step - loss: 1.7387 - accuracy: 0.2830 - val_loss: 1.7243 - val_accuracy: 0.3140\n",
            "Epoch 20/20\n",
            "313/313 [==============================] - 13s 40ms/step - loss: 1.7353 - accuracy: 0.2798 - val_loss: 1.7269 - val_accuracy: 0.3110\n"
          ]
        },
        {
          "output_type": "display_data",
          "data": {
            "text/plain": [
              "<Figure size 432x288 with 1 Axes>"
            ],
            "image/png": "[encoded data removed]"
          },
          "metadata": {
            "needs_background": "light"
          }
        },
        {
          "output_type": "display_data",
          "data": {
            "text/plain": [
              "<Figure size 432x288 with 1 Axes>"
            ],
            "image/png": "[encoded data removed]"
          },
          "metadata": {
            "needs_background": "light"
          }
        }
      ]
    },
    {
      "cell_type": "markdown",
      "metadata": {
        "id": "GXxhXOvcrKkV"
      },
      "source": [
        "## 1.6 Testing and Analysis"
      ]
    },
    {
      "cell_type": "markdown",
      "metadata": {
        "id": "ciBt077dEBLd"
      },
      "source": [
        "Now we need to actually make predictions and check the performance of our trained model with some examples:"
      ]
    },
    {
      "cell_type": "code",
      "metadata": {
        "id": "a4b3f5-arKkW",
        "colab": {
          "base_uri": "https://localhost:8080/"
        },
        "outputId": "6aff5358-e6b6-4918-ec53-706e660ae441"
      },
      "source": [
        "for i in range(0,10):\n",
        "    current_inp = test_stories[2*i]\n",
        "    current_story, current_query, current_answer = vectorize_stories([current_inp], word_idx, story_maxlen, query_maxlen)\n",
        "    current_prediction = model.predict([current_story, current_query])\n",
        "    current_prediction = idx_word[np.argmax(current_prediction)]\n",
        "    print(' '.join(current_inp[0]), ' '.join(current_inp[1]), '| Prediction:', current_prediction, '| Ground Truth:', current_inp[2])\n",
        "    print(\"-----------------------------------------------------------------------------------------\")\n"
      ],
      "execution_count": null,
      "outputs": [
        {
          "output_type": "stream",
          "name": "stderr",
          "text": [
            "/usr/local/lib/python3.7/dist-packages/tensorflow/python/data/ops/structured_function.py:265: UserWarning: Even though the `tf.config.experimental_run_functions_eagerly` option is set, this option does not apply to tf.data functions. To force eager execution of tf.data functions, please use `tf.data.experimental.enable_debug_mode()`.\n",
            "  \"Even though the `tf.config.experimental_run_functions_eagerly` \"\n"
          ]
        },
        {
          "output_type": "stream",
          "name": "stdout",
          "text": [
            "John travelled to the hallway . Mary journeyed to the bathroom . Where is John ? | Prediction: bathroom | Ground Truth: hallway\n",
            "-----------------------------------------------------------------------------------------\n",
            "John travelled to the hallway . Mary journeyed to the bathroom . Where is Sandra ? | Prediction: bathroom | Ground Truth: kitchen\n",
            "-----------------------------------------------------------------------------------------\n",
            "John travelled to the hallway . Mary journeyed to the bathroom . Where is Sandra ? | Prediction: bathroom | Ground Truth: kitchen\n",
            "-----------------------------------------------------------------------------------------\n",
            "Sandra travelled to the kitchen . Sandra travelled to the hallway . Where is Sandra ? | Prediction: hallway | Ground Truth: garden\n",
            "-----------------------------------------------------------------------------------------\n",
            "Sandra travelled to the kitchen . Sandra travelled to the hallway . Where is Sandra ? | Prediction: hallway | Ground Truth: office\n",
            "-----------------------------------------------------------------------------------------\n",
            "John travelled to the office . Mary journeyed to the kitchen . Where is Mary ? | Prediction: kitchen | Ground Truth: kitchen\n",
            "-----------------------------------------------------------------------------------------\n",
            "John travelled to the office . Mary journeyed to the kitchen . Where is Daniel ? | Prediction: bathroom | Ground Truth: office\n",
            "-----------------------------------------------------------------------------------------\n",
            "John travelled to the office . Mary journeyed to the kitchen . Where is Mary ? | Prediction: kitchen | Ground Truth: bedroom\n",
            "-----------------------------------------------------------------------------------------\n",
            "John moved to the hallway . John journeyed to the kitchen . Where is John ? | Prediction: kitchen | Ground Truth: garden\n",
            "-----------------------------------------------------------------------------------------\n",
            "John moved to the hallway . John journeyed to the kitchen . Where is Daniel ? | Prediction: kitchen | Ground Truth: office\n",
            "-----------------------------------------------------------------------------------------\n"
          ]
        }
      ]
    },
    {
      "cell_type": "markdown",
      "metadata": {
        "collapsed": true,
        "id": "DWGbl4PdrKka"
      },
      "source": [
        "## 1.7 Custom Inputs"
      ]
    },
    {
      "cell_type": "markdown",
      "metadata": {
        "id": "iJUI2SIXEV4x"
      },
      "source": [
        "You can even write your example and test it with your model to see how powerful it is:"
      ]
    },
    {
      "cell_type": "code",
      "metadata": {
        "id": "UT83MJ8yrKkb",
        "colab": {
          "base_uri": "https://localhost:8080/",
          "height": 761
        },
        "outputId": "a87804ac-8dca-4800-d96e-4671e805e6fe"
      },
      "source": [
        "print('-------------------------------------------------------------------------------------------')\n",
        "print('Custom User Queries (Make sure there are spaces before each word)')\n",
        "while 1:\n",
        "    print('-------------------------------------------------------------------------------------------')\n",
        "    print('Please input a story')\n",
        "    user_story_inp = input().split(' ')\n",
        "    print('Please input a query')\n",
        "    user_query_inp = input().split(' ')\n",
        "    user_story, user_query, user_ans = vectorize_stories([[user_story_inp, user_query_inp, '.']], word_idx, story_maxlen, query_maxlen)\n",
        "    user_prediction = model.predict([user_story, user_query])\n",
        "    user_prediction = idx_word[np.argmax(user_prediction)]\n",
        "    print('Result')\n",
        "    print(' '.join(user_story_inp), ' '.join(user_query_inp), '| Prediction:', user_prediction)"
      ],
      "execution_count": null,
      "outputs": [
        {
          "name": "stdout",
          "output_type": "stream",
          "text": [
            "-------------------------------------------------------------------------------------------\n",
            "Custom User Queries (Make sure there are spaces before each word)\n",
            "-------------------------------------------------------------------------------------------\n",
            "Please input a story\n",
            "Mary went to the bathroom . John moved to the hallway . Mary travelled to the office .\n",
            "Please input a query\n",
            "Where is Mary ?\n"
          ]
        },
        {
          "output_type": "stream",
          "name": "stderr",
          "text": [
            "/usr/local/lib/python3.7/dist-packages/tensorflow/python/data/ops/structured_function.py:265: UserWarning: Even though the `tf.config.experimental_run_functions_eagerly` option is set, this option does not apply to tf.data functions. To force eager execution of tf.data functions, please use `tf.data.experimental.enable_debug_mode()`.\n",
            "  \"Even though the `tf.config.experimental_run_functions_eagerly` \"\n"
          ]
        },
        {
          "output_type": "stream",
          "name": "stdout",
          "text": [
            "Result\n",
            "Mary went to the bathroom . John moved to the hallway . Mary travelled to the office . Where is Mary ? | Prediction: office\n",
            "-------------------------------------------------------------------------------------------\n",
            "Please input a story\n"
          ]
        },
        {
          "output_type": "error",
          "ename": "KeyboardInterrupt",
          "evalue": "ignored",
          "traceback": [
            "\u001b[0;31m---------------------------------------------------------------------------\u001b[0m",
            "\u001b[0;31mKeyboardInterrupt\u001b[0m                         Traceback (most recent call last)",
            "\u001b[0;32m/usr/local/lib/python3.7/dist-packages/ipykernel/kernelbase.py\u001b[0m in \u001b[0;36m_input_request\u001b[0;34m(self, prompt, ident, parent, password)\u001b[0m\n\u001b[1;32m    728\u001b[0m             \u001b[0;32mtry\u001b[0m\u001b[0;34m:\u001b[0m\u001b[0;34m\u001b[0m\u001b[0;34m\u001b[0m\u001b[0m\n\u001b[0;32m--> 729\u001b[0;31m                 \u001b[0mident\u001b[0m\u001b[0;34m,\u001b[0m \u001b[0mreply\u001b[0m \u001b[0;34m=\u001b[0m \u001b[0mself\u001b[0m\u001b[0;34m.\u001b[0m\u001b[0msession\u001b[0m\u001b[0;34m.\u001b[0m\u001b[0mrecv\u001b[0m\u001b[0;34m(\u001b[0m\u001b[0mself\u001b[0m\u001b[0;34m.\u001b[0m\u001b[0mstdin_socket\u001b[0m\u001b[0;34m,\u001b[0m \u001b[0;36m0\u001b[0m\u001b[0;34m)\u001b[0m\u001b[0;34m\u001b[0m\u001b[0;34m\u001b[0m\u001b[0m\n\u001b[0m\u001b[1;32m    730\u001b[0m             \u001b[0;32mexcept\u001b[0m \u001b[0mException\u001b[0m\u001b[0;34m:\u001b[0m\u001b[0;34m\u001b[0m\u001b[0;34m\u001b[0m\u001b[0m\n",
            "\u001b[0;32m/usr/local/lib/python3.7/dist-packages/jupyter_client/session.py\u001b[0m in \u001b[0;36mrecv\u001b[0;34m(self, socket, mode, content, copy)\u001b[0m\n\u001b[1;32m    802\u001b[0m         \u001b[0;32mtry\u001b[0m\u001b[0;34m:\u001b[0m\u001b[0;34m\u001b[0m\u001b[0;34m\u001b[0m\u001b[0m\n\u001b[0;32m--> 803\u001b[0;31m             \u001b[0mmsg_list\u001b[0m \u001b[0;34m=\u001b[0m \u001b[0msocket\u001b[0m\u001b[0;34m.\u001b[0m\u001b[0mrecv_multipart\u001b[0m\u001b[0;34m(\u001b[0m\u001b[0mmode\u001b[0m\u001b[0;34m,\u001b[0m \u001b[0mcopy\u001b[0m\u001b[0;34m=\u001b[0m\u001b[0mcopy\u001b[0m\u001b[0;34m)\u001b[0m\u001b[0;34m\u001b[0m\u001b[0;34m\u001b[0m\u001b[0m\n\u001b[0m\u001b[1;32m    804\u001b[0m         \u001b[0;32mexcept\u001b[0m \u001b[0mzmq\u001b[0m\u001b[0;34m.\u001b[0m\u001b[0mZMQError\u001b[0m \u001b[0;32mas\u001b[0m \u001b[0me\u001b[0m\u001b[0;34m:\u001b[0m\u001b[0;34m\u001b[0m\u001b[0;34m\u001b[0m\u001b[0m\n",
            "\u001b[0;32m/usr/local/lib/python3.7/dist-packages/zmq/sugar/socket.py\u001b[0m in \u001b[0;36mrecv_multipart\u001b[0;34m(self, flags, copy, track)\u001b[0m\n\u001b[1;32m    723\u001b[0m         \"\"\"\n\u001b[0;32m--> 724\u001b[0;31m         \u001b[0mparts\u001b[0m \u001b[0;34m=\u001b[0m \u001b[0;34m[\u001b[0m\u001b[0mself\u001b[0m\u001b[0;34m.\u001b[0m\u001b[0mrecv\u001b[0m\u001b[0;34m(\u001b[0m\u001b[0mflags\u001b[0m\u001b[0;34m,\u001b[0m \u001b[0mcopy\u001b[0m\u001b[0;34m=\u001b[0m\u001b[0mcopy\u001b[0m\u001b[0;34m,\u001b[0m \u001b[0mtrack\u001b[0m\u001b[0;34m=\u001b[0m\u001b[0mtrack\u001b[0m\u001b[0;34m)\u001b[0m\u001b[0;34m]\u001b[0m\u001b[0;34m\u001b[0m\u001b[0;34m\u001b[0m\u001b[0m\n\u001b[0m\u001b[1;32m    725\u001b[0m         \u001b[0;31m# have first part already, only loop while more to receive\u001b[0m\u001b[0;34m\u001b[0m\u001b[0;34m\u001b[0m\u001b[0;34m\u001b[0m\u001b[0m\n",
            "\u001b[0;32mzmq/backend/cython/socket.pyx\u001b[0m in \u001b[0;36mzmq.backend.cython.socket.Socket.recv\u001b[0;34m()\u001b[0m\n",
            "\u001b[0;32mzmq/backend/cython/socket.pyx\u001b[0m in \u001b[0;36mzmq.backend.cython.socket.Socket.recv\u001b[0;34m()\u001b[0m\n",
            "\u001b[0;32mzmq/backend/cython/socket.pyx\u001b[0m in \u001b[0;36mzmq.backend.cython.socket._recv_copy\u001b[0;34m()\u001b[0m\n",
            "\u001b[0;32m/usr/local/lib/python3.7/dist-packages/zmq/backend/cython/checkrc.pxd\u001b[0m in \u001b[0;36mzmq.backend.cython.checkrc._check_rc\u001b[0;34m()\u001b[0m\n",
            "\u001b[0;31mKeyboardInterrupt\u001b[0m: ",
            "\nDuring handling of the above exception, another exception occurred:\n",
            "\u001b[0;31mKeyboardInterrupt\u001b[0m                         Traceback (most recent call last)",
            "\u001b[0;32m<ipython-input-31-cd5b1d8fbfdb>\u001b[0m in \u001b[0;36m<module>\u001b[0;34m()\u001b[0m\n\u001b[1;32m      4\u001b[0m     \u001b[0mprint\u001b[0m\u001b[0;34m(\u001b[0m\u001b[0;34m'-------------------------------------------------------------------------------------------'\u001b[0m\u001b[0;34m)\u001b[0m\u001b[0;34m\u001b[0m\u001b[0;34m\u001b[0m\u001b[0m\n\u001b[1;32m      5\u001b[0m     \u001b[0mprint\u001b[0m\u001b[0;34m(\u001b[0m\u001b[0;34m'Please input a story'\u001b[0m\u001b[0;34m)\u001b[0m\u001b[0;34m\u001b[0m\u001b[0;34m\u001b[0m\u001b[0m\n\u001b[0;32m----> 6\u001b[0;31m     \u001b[0muser_story_inp\u001b[0m \u001b[0;34m=\u001b[0m \u001b[0minput\u001b[0m\u001b[0;34m(\u001b[0m\u001b[0;34m)\u001b[0m\u001b[0;34m.\u001b[0m\u001b[0msplit\u001b[0m\u001b[0;34m(\u001b[0m\u001b[0;34m' '\u001b[0m\u001b[0;34m)\u001b[0m\u001b[0;34m\u001b[0m\u001b[0;34m\u001b[0m\u001b[0m\n\u001b[0m\u001b[1;32m      7\u001b[0m     \u001b[0mprint\u001b[0m\u001b[0;34m(\u001b[0m\u001b[0;34m'Please input a query'\u001b[0m\u001b[0;34m)\u001b[0m\u001b[0;34m\u001b[0m\u001b[0;34m\u001b[0m\u001b[0m\n\u001b[1;32m      8\u001b[0m     \u001b[0muser_query_inp\u001b[0m \u001b[0;34m=\u001b[0m \u001b[0minput\u001b[0m\u001b[0;34m(\u001b[0m\u001b[0;34m)\u001b[0m\u001b[0;34m.\u001b[0m\u001b[0msplit\u001b[0m\u001b[0;34m(\u001b[0m\u001b[0;34m' '\u001b[0m\u001b[0;34m)\u001b[0m\u001b[0;34m\u001b[0m\u001b[0;34m\u001b[0m\u001b[0m\n",
            "\u001b[0;32m/usr/local/lib/python3.7/dist-packages/ipykernel/kernelbase.py\u001b[0m in \u001b[0;36mraw_input\u001b[0;34m(self, prompt)\u001b[0m\n\u001b[1;32m    702\u001b[0m             \u001b[0mself\u001b[0m\u001b[0;34m.\u001b[0m\u001b[0m_parent_ident\u001b[0m\u001b[0;34m,\u001b[0m\u001b[0;34m\u001b[0m\u001b[0;34m\u001b[0m\u001b[0m\n\u001b[1;32m    703\u001b[0m             \u001b[0mself\u001b[0m\u001b[0;34m.\u001b[0m\u001b[0m_parent_header\u001b[0m\u001b[0;34m,\u001b[0m\u001b[0;34m\u001b[0m\u001b[0;34m\u001b[0m\u001b[0m\n\u001b[0;32m--> 704\u001b[0;31m             \u001b[0mpassword\u001b[0m\u001b[0;34m=\u001b[0m\u001b[0;32mFalse\u001b[0m\u001b[0;34m,\u001b[0m\u001b[0;34m\u001b[0m\u001b[0;34m\u001b[0m\u001b[0m\n\u001b[0m\u001b[1;32m    705\u001b[0m         )\n\u001b[1;32m    706\u001b[0m \u001b[0;34m\u001b[0m\u001b[0m\n",
            "\u001b[0;32m/usr/local/lib/python3.7/dist-packages/ipykernel/kernelbase.py\u001b[0m in \u001b[0;36m_input_request\u001b[0;34m(self, prompt, ident, parent, password)\u001b[0m\n\u001b[1;32m    732\u001b[0m             \u001b[0;32mexcept\u001b[0m \u001b[0mKeyboardInterrupt\u001b[0m\u001b[0;34m:\u001b[0m\u001b[0;34m\u001b[0m\u001b[0;34m\u001b[0m\u001b[0m\n\u001b[1;32m    733\u001b[0m                 \u001b[0;31m# re-raise KeyboardInterrupt, to truncate traceback\u001b[0m\u001b[0;34m\u001b[0m\u001b[0;34m\u001b[0m\u001b[0;34m\u001b[0m\u001b[0m\n\u001b[0;32m--> 734\u001b[0;31m                 \u001b[0;32mraise\u001b[0m \u001b[0mKeyboardInterrupt\u001b[0m\u001b[0;34m\u001b[0m\u001b[0;34m\u001b[0m\u001b[0m\n\u001b[0m\u001b[1;32m    735\u001b[0m             \u001b[0;32melse\u001b[0m\u001b[0;34m:\u001b[0m\u001b[0;34m\u001b[0m\u001b[0;34m\u001b[0m\u001b[0m\n\u001b[1;32m    736\u001b[0m                 \u001b[0;32mbreak\u001b[0m\u001b[0;34m\u001b[0m\u001b[0;34m\u001b[0m\u001b[0m\n",
            "\u001b[0;31mKeyboardInterrupt\u001b[0m: "
          ]
        }
      ]
    },
    {
      "cell_type": "code",
      "metadata": {
        "id": "id1unEEQrKkf"
      },
      "source": [
        "# some examples:\n",
        "# Mary went to the bathroom . John moved to the hallway . Mary travelled to the office . # Where is Mary ?\n",
        "# Sandra travelled to the office . John journeyed to the garden ."
      ],
      "execution_count": null,
      "outputs": []
    },
    {
      "cell_type": "markdown",
      "metadata": {
        "id": "ZtYRcM2KE4te"
      },
      "source": [
        "As you understood how the model trained, please tell us about the pros and cons of the proposed model. How can we improve it if we want to use it in realistic task ? "
      ]
    },
    {
      "cell_type": "markdown",
      "metadata": {
        "id": "p9NiIbN5F7zb"
      },
      "source": [
        "$\\color{red}{\\text{Write your answer in document}}$\n",
        "\n"
      ]
    },
    {
      "cell_type": "markdown",
      "source": [
        "**Answer : **\n",
        "مشخصا مدل آموزش داده شده توانایی هندل کردن دنباله های طولانی را ندارد ، استفاده از lstm ها می تواند کمک کننده باشد.\n"
      ],
      "metadata": {
        "id": "n3ptWqezThnJ"
      }
    },
    {
      "cell_type": "markdown",
      "metadata": {
        "id": "OFKXfqrgQfQm"
      },
      "source": [
        "#  2. Hands on Transformers"
      ]
    },
    {
      "cell_type": "markdown",
      "metadata": {
        "id": "h7UbcqmKUZ1q"
      },
      "source": [
        "## 2.1 Preprocessing\n",
        "\n",
        "We will use dataset from tfds api in this sections. These datasets are prepared in [tf.data.Dataset](https://www.tensorflow.org/api_docs/python/tf/data/Dataset) format which can be used in a pipeline to read data and do the needed preprocessings on that. But for our purpos we can't use pipeline functions to achieve our goal so we will exctract dataset from Dataset format and later we will convert it back."
      ]
    },
    {
      "cell_type": "code",
      "source": [
        "import tensorflow_datasets as tfds\n",
        "(train_data, validation_data), ds_info = tfds.load('imdb_reviews', \n",
        "          split = (tfds.Split.TRAIN, tfds.Split.TEST),\n",
        "          as_supervised=True,\n",
        "          with_info=True)\n",
        "print('info', ds_info)"
      ],
      "metadata": {
        "id": "RDOwLbCAjENO",
        "colab": {
          "base_uri": "https://localhost:8080/"
        },
        "outputId": "c3f8c65f-d38f-4768-dbd4-81fa9a5afe27"
      },
      "execution_count": 4,
      "outputs": [
        {
          "output_type": "stream",
          "name": "stdout",
          "text": [
            "info tfds.core.DatasetInfo(\n",
            "    name='imdb_reviews',\n",
            "    version=1.0.0,\n",
            "    description='Large Movie Review Dataset.\n",
            "This is a dataset for binary sentiment classification containing substantially more data than previous benchmark datasets. We provide a set of 25,000 highly polar movie reviews for training, and 25,000 for testing. There is additional unlabeled data for use as well.',\n",
            "    homepage='http://ai.stanford.edu/~amaas/data/sentiment/',\n",
            "    features=FeaturesDict({\n",
            "        'label': ClassLabel(shape=(), dtype=tf.int64, num_classes=2),\n",
            "        'text': Text(shape=(), dtype=tf.string),\n",
            "    }),\n",
            "    total_num_examples=100000,\n",
            "    splits={\n",
            "        'test': 25000,\n",
            "        'train': 25000,\n",
            "        'unsupervised': 50000,\n",
            "    },\n",
            "    supervised_keys=('text', 'label'),\n",
            "    citation=\"\"\"@InProceedings{maas-EtAl:2011:ACL-HLT2011,\n",
            "      author    = {Maas, Andrew L.  and  Daly, Raymond E.  and  Pham, Peter T.  and  Huang, Dan  and  Ng, Andrew Y.  and  Potts, Christopher},\n",
            "      title     = {Learning Word Vectors for Sentiment Analysis},\n",
            "      booktitle = {Proceedings of the 49th Annual Meeting of the Association for Computational Linguistics: Human Language Technologies},\n",
            "      month     = {June},\n",
            "      year      = {2011},\n",
            "      address   = {Portland, Oregon, USA},\n",
            "      publisher = {Association for Computational Linguistics},\n",
            "      pages     = {142--150},\n",
            "      url       = {http://www.aclweb.org/anthology/P11-1015}\n",
            "    }\"\"\",\n",
            "    redistribution_info=,\n",
            ")\n",
            "\n"
          ]
        },
        {
          "output_type": "stream",
          "name": "stderr",
          "text": [
            "/usr/local/lib/python3.7/dist-packages/tensorflow/python/data/ops/structured_function.py:265: UserWarning: Even though the `tf.config.experimental_run_functions_eagerly` option is set, this option does not apply to tf.data functions. To force eager execution of tf.data functions, please use `tf.data.experimental.enable_debug_mode()`.\n",
            "  \"Even though the `tf.config.experimental_run_functions_eagerly` \"\n"
          ]
        }
      ]
    },
    {
      "cell_type": "markdown",
      "source": [
        "## 2.2 Tokenization\n",
        "There are 3 important parts to prepare the transformer model for training and inference: Tokenizer, Confing and the Model itself.\n",
        "\n",
        "Tokenizer as it's clear from its name is a tool to convert input string to tokens and assign an id to each one so it can be passed to model input. Tokenizer is trained prior to training the main model using [sentence piece](https://github.com/google/sentencepiece) library.\n",
        "\n",
        "There are two important things to consider with tokenization:\n",
        "1. As part of transformer models there are special tokens that should be added to input string before passing it to model. These tokens are in the tokenizer class.\n",
        "2. Alongside the the ids of input string there are two other inputs witch each sample: Attention Mask, Token Type IDs. Feel free to google these terms to find out more.\n"
      ],
      "metadata": {
        "id": "Fl9UenUrU8H2"
      }
    },
    {
      "cell_type": "code",
      "source": [
        "from transformers import BertTokenizer\n",
        "tokenizer = BertTokenizer.from_pretrained('bert-base-uncased', do_lower_case=True)"
      ],
      "metadata": {
        "id": "_GMQmFwajGW4"
      },
      "execution_count": 5,
      "outputs": []
    },
    {
      "cell_type": "code",
      "source": [
        "max_length_test = 20\n",
        "test_sentence = \"This film is awsome you should watch it\"\n",
        "\n",
        "# add special tokens\n",
        "test_sentence_with_special_tokens = '[CLS]' + test_sentence + '[SEP]'\n",
        "tokenized = tokenizer.tokenize(test_sentence_with_special_tokens)\n",
        "print('tokenized', tokenized)\n",
        "\n",
        "\n",
        "# convert tokens to ids\n",
        "input_ids = tokenizer.convert_tokens_to_ids(tokenized)\n",
        "\n",
        "# precalculation of pad length, so that we can reuse it later on\n",
        "padding_length = max_length_test - len(input_ids)\n",
        "# map tokens to WordPiece dictionary and add pad token for those text shorter than our max length\n",
        "input_ids = input_ids + ([0] * padding_length)\n",
        "\n",
        "# attention should focus just on sequence with non padded tokens\n",
        "attention_mask = [1] * len(input_ids)\n",
        "# do not focus attention on padded tokens\n",
        "attention_mask = attention_mask + ([0] * padding_length)\n",
        "\n",
        "# token types, needed for example for question answering, for our purpose we will just set 0 as we have just one sequence\n",
        "token_type_ids = [0] * max_length_test\n",
        "\n",
        "bert_input = {\n",
        "    \"token_ids\": input_ids,\n",
        "    \"token_type_ids\": token_type_ids,\n",
        "    \"attention_mask\": attention_mask\n",
        "} \n",
        "print(bert_input)"
      ],
      "metadata": {
        "id": "cBwOJ5sJjJOm",
        "colab": {
          "base_uri": "https://localhost:8080/"
        },
        "outputId": "74735b02-ed83-417d-96aa-38e367be8f01"
      },
      "execution_count": 6,
      "outputs": [
        {
          "output_type": "stream",
          "name": "stdout",
          "text": [
            "tokenized ['[CLS]', 'this', 'film', 'is', 'aw', '##some', 'you', 'should', 'watch', 'it', '[SEP]']\n",
            "{'token_ids': [101, 2023, 2143, 2003, 22091, 14045, 2017, 2323, 3422, 2009, 102, 0, 0, 0, 0, 0, 0, 0, 0, 0], 'token_type_ids': [0, 0, 0, 0, 0, 0, 0, 0, 0, 0, 0, 0, 0, 0, 0, 0, 0, 0, 0, 0], 'attention_mask': [1, 1, 1, 1, 1, 1, 1, 1, 1, 1, 1, 1, 1, 1, 1, 1, 1, 1, 1, 1, 0, 0, 0, 0, 0, 0, 0, 0, 0]}\n"
          ]
        }
      ]
    },
    {
      "cell_type": "markdown",
      "source": [
        "We can do all the above operations to prepare each input or we can use encode_plus function which does the boilerpolate code. Use encode_plus to get output like above for test sentence."
      ],
      "metadata": {
        "id": "wOlkbozHVMz2"
      }
    },
    {
      "cell_type": "code",
      "source": [
        "bert_input = tokenizer.encode_plus( # same as calling tokenizer itself e.g tokenizer(....)\n",
        "                        test_sentence,                      \n",
        "                        add_special_tokens = True, # add [CLS], [SEP]\n",
        "                        max_length = max_length_test, # max length of the text that can go to BERT\n",
        "                        padding='max_length', # add [PAD] tokens\n",
        "                        return_attention_mask = True, # add attention mask to not focus on pad tokens\n",
        "              )\n",
        "print(bert_input)"
      ],
      "metadata": {
        "id": "B4R5nnKejLF2",
        "colab": {
          "base_uri": "https://localhost:8080/"
        },
        "outputId": "bb7a66fa-61f8-4d73-93e3-bd5ebaa88096"
      },
      "execution_count": 7,
      "outputs": [
        {
          "output_type": "stream",
          "name": "stdout",
          "text": [
            "{'input_ids': [101, 2023, 2143, 2003, 22091, 14045, 2017, 2323, 3422, 2009, 102, 0, 0, 0, 0, 0, 0, 0, 0, 0], 'token_type_ids': [0, 0, 0, 0, 0, 0, 0, 0, 0, 0, 0, 0, 0, 0, 0, 0, 0, 0, 0, 0], 'attention_mask': [1, 1, 1, 1, 1, 1, 1, 1, 1, 1, 1, 0, 0, 0, 0, 0, 0, 0, 0, 0]}\n"
          ]
        }
      ]
    },
    {
      "cell_type": "markdown",
      "source": [
        "We should convert each sample to above format. To do this we will iterate overt dataset and convert each sample. We will put converted samples in tf.data.Dataset format. We will also apply a [map function](https://www.tensorflow.org/api_docs/python/tf/data/Dataset#map) on dataset to convert it to dictionary format. We don't need token type ids as we have one token type in this task. Complete the functions below."
      ],
      "metadata": {
        "id": "4hu0WKFGVSPY"
      }
    },
    {
      "cell_type": "code",
      "source": [
        "import numpy as np\n",
        "\n",
        "def map_example_to_dict(input_ids, attention_mask, label):\n",
        "    return {\n",
        "        \"input_ids\": input_ids,\n",
        "        #\"token_type_ids\": token_type_ids,\n",
        "        \"attention_mask\": attention_mask\n",
        "    }, label\n",
        "\n",
        "\n",
        "def encode_examples(ds, max_sequence_length):\n",
        "    # prepare list, so that we can build up final TensorFlow dataset from slices.\n",
        "    input_ids_list = []\n",
        "    attention_mask_list = []\n",
        "    labels = []\n",
        "   # token_type_ids_list = []\n",
        "\n",
        "    if (max_sequence_length > 0):\n",
        "      ds = ds.take(max_sequence_length)\n",
        "\n",
        "    for review, label in tfds.as_numpy(ds):\n",
        "      bert_input= tokenizer.encode_plus(review.decode(), \n",
        "                add_special_tokens = True, # add [CLS], [SEP]\n",
        "                max_length = max_sequence_length, # max length of the text that can go to BERT\n",
        "                pad_to_max_length = True, # add [PAD] tokens\n",
        "                return_attention_mask = True, # add attention mask to not focus on pad tokens\n",
        "              )\n",
        "      #bert_input = convert_example_to_feature(review.decode())\n",
        "      input_ids_list.append(bert_input['input_ids'])\n",
        "      #token_type_ids_list.append(bert_input['token_type_ids'])\n",
        "      attention_mask_list.append(bert_input['attention_mask'])\n",
        "      labels.append([label])\n",
        "\n",
        "\n",
        "    #iterate over ds and extract input ids and attention masks for each sample\n",
        "\n",
        "    # reshape each input_ids_list and attention_mask_list to (-1, max_sequence_length)\n",
        "    # reshape labels to (-1, 1)\n",
        "\n",
        "    return tf.data.Dataset.from_tensor_slices((input_ids_list, attention_mask_list, labels)).map(map_example_to_dict)"
      ],
      "metadata": {
        "id": "6qNEkwHGVRHu"
      },
      "execution_count": 8,
      "outputs": []
    },
    {
      "cell_type": "code",
      "source": [
        "# train dataset\n",
        "batch_size = 8\n",
        "max_sequence_length = 256 # can be up to 512 for BERT but I have resourse Eroor in colab\n",
        "\n",
        "train_data_encoded = encode_examples(train_data, max_sequence_length).batch(batch_size)\n",
        "validation_data_encoded = encode_examples(validation_data.take(5000), max_sequence_length).batch(batch_size)\n",
        "\n",
        "print(train_data_encoded)\n",
        "print(validation_data_encoded)"
      ],
      "metadata": {
        "id": "kX0D5NkDT_0a",
        "colab": {
          "base_uri": "https://localhost:8080/"
        },
        "outputId": "ce21ffdc-903e-4765-c39f-913206b6f4b3"
      },
      "execution_count": 9,
      "outputs": [
        {
          "output_type": "stream",
          "name": "stderr",
          "text": [
            "Truncation was not explicitly activated but `max_length` is provided a specific value, please use `truncation=True` to explicitly truncate examples to max length. Defaulting to 'longest_first' truncation strategy. If you encode pairs of sequences (GLUE-style) with the tokenizer you can select this strategy more precisely by providing a specific strategy to `truncation`.\n",
            "/usr/local/lib/python3.7/dist-packages/transformers/tokenization_utils_base.py:2291: FutureWarning: The `pad_to_max_length` argument is deprecated and will be removed in a future version, use `padding=True` or `padding='longest'` to pad to the longest sequence in the batch, or use `padding='max_length'` to pad to a max length. In this case, you can give a specific length with `max_length` (e.g. `max_length=45`) or leave max_length to None to pad to the maximal input size of the model (e.g. 512 for Bert).\n",
            "  FutureWarning,\n",
            "/usr/local/lib/python3.7/dist-packages/tensorflow/python/data/ops/structured_function.py:265: UserWarning: Even though the `tf.config.experimental_run_functions_eagerly` option is set, this option does not apply to tf.data functions. To force eager execution of tf.data functions, please use `tf.data.experimental.enable_debug_mode()`.\n",
            "  \"Even though the `tf.config.experimental_run_functions_eagerly` \"\n"
          ]
        },
        {
          "output_type": "stream",
          "name": "stdout",
          "text": [
            "<BatchDataset element_spec=({'input_ids': TensorSpec(shape=(None, 256), dtype=tf.int32, name=None), 'attention_mask': TensorSpec(shape=(None, 256), dtype=tf.int32, name=None)}, TensorSpec(shape=(None, 1), dtype=tf.int32, name=None))>\n",
            "<BatchDataset element_spec=({'input_ids': TensorSpec(shape=(None, 256), dtype=tf.int32, name=None), 'attention_mask': TensorSpec(shape=(None, 256), dtype=tf.int32, name=None)}, TensorSpec(shape=(None, 1), dtype=tf.int32, name=None))>\n"
          ]
        }
      ]
    },
    {
      "cell_type": "markdown",
      "source": [
        "## 2.3 Defining model"
      ],
      "metadata": {
        "id": "65sDlwQKVwau"
      }
    },
    {
      "cell_type": "code",
      "source": [
        "from transformers import TFBertForSequenceClassification\n",
        "\n",
        "########################################\n",
        "#     Put your implementation here    #\n",
        "########################################\n",
        "\n",
        "model = TFBertForSequenceClassification.from_pretrained(\"bert-base-uncased\")"
      ],
      "metadata": {
        "id": "4SbjrcMhdmaj",
        "colab": {
          "base_uri": "https://localhost:8080/"
        },
        "outputId": "2da3e234-66d8-4ad7-c8c0-a167b93833fc"
      },
      "execution_count": 10,
      "outputs": [
        {
          "output_type": "stream",
          "name": "stderr",
          "text": [
            "All model checkpoint layers were used when initializing TFBertForSequenceClassification.\n",
            "\n",
            "Some layers of TFBertForSequenceClassification were not initialized from the model checkpoint at bert-base-uncased and are newly initialized: ['classifier']\n",
            "You should probably TRAIN this model on a down-stream task to be able to use it for predictions and inference.\n"
          ]
        }
      ]
    },
    {
      "cell_type": "code",
      "source": [
        "print(model.summary())"
      ],
      "metadata": {
        "id": "_q3o-T6jdp9K",
        "colab": {
          "base_uri": "https://localhost:8080/"
        },
        "outputId": "69fa8b84-a7b5-4408-d44d-528b7896c8b0"
      },
      "execution_count": 11,
      "outputs": [
        {
          "output_type": "stream",
          "name": "stdout",
          "text": [
            "Model: \"tf_bert_for_sequence_classification\"\n",
            "_________________________________________________________________\n",
            " Layer (type)                Output Shape              Param #   \n",
            "=================================================================\n",
            " bert (TFBertMainLayer)      multiple                  109482240 \n",
            "                                                                 \n",
            " dropout_37 (Dropout)        multiple                  0         \n",
            "                                                                 \n",
            " classifier (Dense)          multiple                  1538      \n",
            "                                                                 \n",
            "=================================================================\n",
            "Total params: 109,483,778\n",
            "Trainable params: 109,483,778\n",
            "Non-trainable params: 0\n",
            "_________________________________________________________________\n",
            "None\n"
          ]
        }
      ]
    },
    {
      "cell_type": "markdown",
      "source": [
        "## 2.4 Training"
      ],
      "metadata": {
        "id": "SfbuR4ygWDTQ"
      }
    },
    {
      "cell_type": "code",
      "source": [
        "epochs = 5\n",
        "########################################\n",
        "#     Put your implementation here     # best accuracy: 96.88 % in epoch=5\n",
        "########################################\n",
        "model.compile(optimizer= tf.keras.optimizers.Adam(2e-5),\n",
        "              loss=tf.keras.losses.SparseCategoricalCrossentropy(from_logits=True),\n",
        "              metrics=['accuracy'])\n",
        "\n",
        "model.fit(train_data_encoded, validation_data=validation_data_encoded, epochs=epochs)"
      ],
      "metadata": {
        "id": "eKQ34LdHdtB_",
        "colab": {
          "base_uri": "https://localhost:8080/"
        },
        "outputId": "20ad8000-3844-4d24-e7c2-155cb306df74"
      },
      "execution_count": 12,
      "outputs": [
        {
          "output_type": "stream",
          "name": "stdout",
          "text": [
            "Epoch 1/5\n",
            "32/32 [==============================] - 23s 700ms/step - loss: 0.6846 - accuracy: 0.5664 - val_loss: 0.6282 - val_accuracy: 0.6992\n",
            "Epoch 2/5\n",
            "32/32 [==============================] - 23s 711ms/step - loss: 0.4451 - accuracy: 0.8438 - val_loss: 0.4396 - val_accuracy: 0.8008\n",
            "Epoch 3/5\n",
            "32/32 [==============================] - 23s 716ms/step - loss: 0.2501 - accuracy: 0.9141 - val_loss: 0.6360 - val_accuracy: 0.7422\n",
            "Epoch 4/5\n",
            "32/32 [==============================] - 22s 706ms/step - loss: 0.1896 - accuracy: 0.9336 - val_loss: 0.5446 - val_accuracy: 0.7773\n",
            "Epoch 5/5\n",
            "32/32 [==============================] - 23s 717ms/step - loss: 0.1251 - accuracy: 0.9648 - val_loss: 0.4108 - val_accuracy: 0.8320\n"
          ]
        },
        {
          "output_type": "execute_result",
          "data": {
            "text/plain": [
              "<keras.callbacks.History at 0x7faeeb6b2110>"
            ]
          },
          "metadata": {},
          "execution_count": 12
        }
      ]
    },
    {
      "cell_type": "markdown",
      "source": [
        "## 2.5 Testing\n",
        "Feel free to change these senetences and test the model."
      ],
      "metadata": {
        "id": "cxdxFFOhV-7d"
      }
    },
    {
      "cell_type": "code",
      "source": [
        "pred_sentences = [\"This is an awful film do not watch it.\", \"This is an aswsome film you should watch it.\"]"
      ],
      "metadata": {
        "id": "MD7NUrNdd_5Q"
      },
      "execution_count": 13,
      "outputs": []
    },
    {
      "cell_type": "code",
      "source": [
        "\n",
        "\n",
        "# testing pred_sentences[i]\n",
        "tf_batch = tokenizer(pred_sentences, max_length=128, add_special_tokens = True, padding=True, truncation=True, return_tensors='tf')\n",
        "tf_outputs = model(tf_batch)\n",
        "tf_predictions = tf.nn.softmax(tf_outputs[0], axis=-1)\n",
        "labels = ['Negative','Positive']\n",
        "\n",
        "########################################\n",
        "#     Put your implementation here    #\n",
        "########################################\n",
        "label = tf.argmax(tf_predictions, axis=1).numpy()\n",
        "for i in range(len(pred_sentences)):\n",
        "    print(pred_sentences[i], \": \", labels[label[i]])"
      ],
      "metadata": {
        "id": "zjpMj7qLeu84",
        "colab": {
          "base_uri": "https://localhost:8080/"
        },
        "outputId": "0f04aeba-f57e-4928-d093-00460972c4ee"
      },
      "execution_count": 14,
      "outputs": [
        {
          "output_type": "stream",
          "name": "stdout",
          "text": [
            "This is an awful film do not watch it. :  Negative\n",
            "This is an aswsome film you should watch it. :  Negative\n"
          ]
        }
      ]
    },
    {
      "cell_type": "markdown",
      "source": [
        "This is an awful film do not watch it. : \n",
        "\n",
        " Negative\n",
        " \n",
        "This is an aswsome film you should watch it. : \n",
        "\n",
        " Positive"
      ],
      "metadata": {
        "id": "OuWpvUAQeIEo"
      }
    },
    {
      "cell_type": "markdown",
      "source": [
        "$\\color{red}{\\text{Write your answer in document}}$\n",
        "\n",
        "1. When token type ids is useful?\n",
        "2. What is the main idea of transformer models? Explain it.\n",
        "3. What can be challenges to transformers if input sequences are very long? Why?"
      ],
      "metadata": {
        "id": "A1dJst5HWSF1"
      }
    },
    {
      "cell_type": "markdown",
      "source": [
        "# GPT: for further study (It has no grade)\n",
        "\n",
        "The task is to train poem based on GPT-2 model which is available in transformers library. You will choose poets of Shakespeare and train GPT-2 on that dataset and produce some sample poets.\n",
        "\n",
        "Solution link: http://education.abcom.com/using-gpt-2-to-write-like-shakespeare/\n",
        "\n"
      ],
      "metadata": {
        "id": "QNjXfQ5kWd7l"
      }
    },
    {
      "cell_type": "code",
      "source": [
        "%tensorflow_version 1.x\n",
        "!pip install -q gpt-2-simple\n",
        "import gpt_2_simple as gpt2\n",
        "from datetime import datetime\n",
        "from google.colab import files"
      ],
      "metadata": {
        "colab": {
          "base_uri": "https://localhost:8080/"
        },
        "id": "HtHWzkJ6WL29",
        "outputId": "05c34457-f497-42c5-fa55-d7188717d49f"
      },
      "execution_count": 15,
      "outputs": [
        {
          "output_type": "stream",
          "name": "stdout",
          "text": [
            "TensorFlow is already loaded. Please restart the runtime to change versions.\n",
            "  Building wheel for gpt-2-simple (setup.py) ... \u001b[?25l\u001b[?25hdone\n"
          ]
        }
      ]
    },
    {
      "cell_type": "code",
      "source": [
        "!nvidia-smi"
      ],
      "metadata": {
        "colab": {
          "base_uri": "https://localhost:8080/"
        },
        "id": "_HYpcurVWi62",
        "outputId": "4c606a64-86d0-4e40-a179-64c5d61029e1"
      },
      "execution_count": 16,
      "outputs": [
        {
          "output_type": "stream",
          "name": "stdout",
          "text": [
            "Thu Jun  9 07:36:09 2022       \n",
            "+-----------------------------------------------------------------------------+\n",
            "| NVIDIA-SMI 460.32.03    Driver Version: 460.32.03    CUDA Version: 11.2     |\n",
            "|-------------------------------+----------------------+----------------------+\n",
            "| GPU  Name        Persistence-M| Bus-Id        Disp.A | Volatile Uncorr. ECC |\n",
            "| Fan  Temp  Perf  Pwr:Usage/Cap|         Memory-Usage | GPU-Util  Compute M. |\n",
            "|                               |                      |               MIG M. |\n",
            "|===============================+======================+======================|\n",
            "|   0  Tesla T4            Off  | 00000000:00:04.0 Off |                    0 |\n",
            "| N/A   70C    P0    31W /  70W |   8624MiB / 15109MiB |      0%      Default |\n",
            "|                               |                      |                  N/A |\n",
            "+-------------------------------+----------------------+----------------------+\n",
            "                                                                               \n",
            "+-----------------------------------------------------------------------------+\n",
            "| Processes:                                                                  |\n",
            "|  GPU   GI   CI        PID   Type   Process name                  GPU Memory |\n",
            "|        ID   ID                                                   Usage      |\n",
            "|=============================================================================|\n",
            "+-----------------------------------------------------------------------------+\n"
          ]
        }
      ]
    },
    {
      "cell_type": "code",
      "source": [
        "!wget https://raw.githubusercontent.com/karpathy/char-rnn/master/data/tinyshakespeare/input.txt"
      ],
      "metadata": {
        "colab": {
          "base_uri": "https://localhost:8080/"
        },
        "id": "HtmazEJDWkkc",
        "outputId": "1138842f-bdcd-4220-aee8-41c2012819fb"
      },
      "execution_count": 17,
      "outputs": [
        {
          "output_type": "stream",
          "name": "stdout",
          "text": [
            "--2022-06-09 07:36:09--  https://raw.githubusercontent.com/karpathy/char-rnn/master/data/tinyshakespeare/input.txt\n",
            "Resolving raw.githubusercontent.com (raw.githubusercontent.com)... 185.199.108.133, 185.199.109.133, 185.199.110.133, ...\n",
            "Connecting to raw.githubusercontent.com (raw.githubusercontent.com)|185.199.108.133|:443... connected.\n",
            "HTTP request sent, awaiting response... 200 OK\n",
            "Length: 1115394 (1.1M) [text/plain]\n",
            "Saving to: ‘input.txt’\n",
            "\n",
            "input.txt           100%[===================>]   1.06M  --.-KB/s    in 0.005s  \n",
            "\n",
            "2022-06-09 07:36:10 (207 MB/s) - ‘input.txt’ saved [1115394/1115394]\n",
            "\n"
          ]
        }
      ]
    },
    {
      "cell_type": "code",
      "source": [
        "# Downloading GPT-2\n",
        "\n",
        "########################################\n",
        "#   Put your implementation here    #\n",
        "########################################"
      ],
      "metadata": {
        "id": "2k4R7ZAPWmJF"
      },
      "execution_count": 18,
      "outputs": []
    },
    {
      "cell_type": "code",
      "source": [
        "# Finetune GPT-2\n",
        "\n",
        "########################################\n",
        "#   Put your implementation here     #\n",
        "########################################"
      ],
      "metadata": {
        "id": "Sw-WTqQ2ZpOO"
      },
      "execution_count": 19,
      "outputs": []
    },
    {
      "cell_type": "code",
      "source": [
        ""
      ],
      "metadata": {
        "id": "_oIfSFCIZuQ2"
      },
      "execution_count": 19,
      "outputs": []
    },
    {
      "cell_type": "code",
      "source": [
        "# Generate Text From The Trained Model\n",
        "\n",
        "########################################\n",
        "#   Put your implementation here     #\n",
        "########################################"
      ],
      "metadata": {
        "id": "wG9OI0_WZuDO"
      },
      "execution_count": 20,
      "outputs": []
    }
  ]
}