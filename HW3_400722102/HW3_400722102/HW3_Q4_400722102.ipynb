{
  "nbformat": 4,
  "nbformat_minor": 0,
  "metadata": {
    "colab": {
      "name": "HW3_Q4.ipynb",
      "provenance": [],
      "collapsed_sections": []
    },
    "kernelspec": {
      "name": "python3",
      "display_name": "Python 3"
    },
    "language_info": {
      "name": "python"
    },
    "accelerator": "GPU",
    "widgets": {
      "application/vnd.jupyter.widget-state+json": {
        "1227892d92e5446da4b9c07aeb2558f7": {
          "model_module": "@jupyter-widgets/controls",
          "model_name": "HBoxModel",
          "model_module_version": "1.5.0",
          "state": {
            "_view_name": "HBoxView",
            "_dom_classes": [],
            "_model_name": "HBoxModel",
            "_view_module": "@jupyter-widgets/controls",
            "_model_module_version": "1.5.0",
            "_view_count": null,
            "_view_module_version": "1.5.0",
            "box_style": "",
            "layout": "IPY_MODEL_e38945bea40e46d88e794027f22b8b27",
            "_model_module": "@jupyter-widgets/controls",
            "children": [
              "IPY_MODEL_f299959793bc41609dcbc2946c2d08ae",
              "IPY_MODEL_e38d0a187eb44117bd7bd48323c26182",
              "IPY_MODEL_6bd4d7070fe64783b238e8ed8306fc3c"
            ]
          }
        },
        "e38945bea40e46d88e794027f22b8b27": {
          "model_module": "@jupyter-widgets/base",
          "model_name": "LayoutModel",
          "model_module_version": "1.2.0",
          "state": {
            "_view_name": "LayoutView",
            "grid_template_rows": null,
            "right": null,
            "justify_content": null,
            "_view_module": "@jupyter-widgets/base",
            "overflow": null,
            "_model_module_version": "1.2.0",
            "_view_count": null,
            "flex_flow": null,
            "width": null,
            "min_width": null,
            "border": null,
            "align_items": null,
            "bottom": null,
            "_model_module": "@jupyter-widgets/base",
            "top": null,
            "grid_column": null,
            "overflow_y": null,
            "overflow_x": null,
            "grid_auto_flow": null,
            "grid_area": null,
            "grid_template_columns": null,
            "flex": null,
            "_model_name": "LayoutModel",
            "justify_items": null,
            "grid_row": null,
            "max_height": null,
            "align_content": null,
            "visibility": null,
            "align_self": null,
            "height": null,
            "min_height": null,
            "padding": null,
            "grid_auto_rows": null,
            "grid_gap": null,
            "max_width": null,
            "order": null,
            "_view_module_version": "1.2.0",
            "grid_template_areas": null,
            "object_position": null,
            "object_fit": null,
            "grid_auto_columns": null,
            "margin": null,
            "display": null,
            "left": null
          }
        },
        "f299959793bc41609dcbc2946c2d08ae": {
          "model_module": "@jupyter-widgets/controls",
          "model_name": "HTMLModel",
          "model_module_version": "1.5.0",
          "state": {
            "_view_name": "HTMLView",
            "style": "IPY_MODEL_4194e4db29914be3b2220ab9f8acba07",
            "_dom_classes": [],
            "description": "",
            "_model_name": "HTMLModel",
            "placeholder": "​",
            "_view_module": "@jupyter-widgets/controls",
            "_model_module_version": "1.5.0",
            "value": "",
            "_view_count": null,
            "_view_module_version": "1.5.0",
            "description_tooltip": null,
            "_model_module": "@jupyter-widgets/controls",
            "layout": "IPY_MODEL_1d263ce807514db09d719cb0ef46ea9b"
          }
        },
        "e38d0a187eb44117bd7bd48323c26182": {
          "model_module": "@jupyter-widgets/controls",
          "model_name": "FloatProgressModel",
          "model_module_version": "1.5.0",
          "state": {
            "_view_name": "ProgressView",
            "style": "IPY_MODEL_548c336b7ff34c6998521f96c2d96c99",
            "_dom_classes": [],
            "description": "",
            "_model_name": "FloatProgressModel",
            "bar_style": "success",
            "max": 26421880,
            "_view_module": "@jupyter-widgets/controls",
            "_model_module_version": "1.5.0",
            "value": 26421880,
            "_view_count": null,
            "_view_module_version": "1.5.0",
            "orientation": "horizontal",
            "min": 0,
            "description_tooltip": null,
            "_model_module": "@jupyter-widgets/controls",
            "layout": "IPY_MODEL_1791307011b04431bf3d151c89d222cf"
          }
        },
        "6bd4d7070fe64783b238e8ed8306fc3c": {
          "model_module": "@jupyter-widgets/controls",
          "model_name": "HTMLModel",
          "model_module_version": "1.5.0",
          "state": {
            "_view_name": "HTMLView",
            "style": "IPY_MODEL_e38e82f862ce4bf58846cfc9f832ec7a",
            "_dom_classes": [],
            "description": "",
            "_model_name": "HTMLModel",
            "placeholder": "​",
            "_view_module": "@jupyter-widgets/controls",
            "_model_module_version": "1.5.0",
            "value": " 26422272/? [00:01&lt;00:00, 22854876.10it/s]",
            "_view_count": null,
            "_view_module_version": "1.5.0",
            "description_tooltip": null,
            "_model_module": "@jupyter-widgets/controls",
            "layout": "IPY_MODEL_45c963cca8d44ca1bfffe800e2852b93"
          }
        },
        "4194e4db29914be3b2220ab9f8acba07": {
          "model_module": "@jupyter-widgets/controls",
          "model_name": "DescriptionStyleModel",
          "model_module_version": "1.5.0",
          "state": {
            "_view_name": "StyleView",
            "_model_name": "DescriptionStyleModel",
            "description_width": "",
            "_view_module": "@jupyter-widgets/base",
            "_model_module_version": "1.5.0",
            "_view_count": null,
            "_view_module_version": "1.2.0",
            "_model_module": "@jupyter-widgets/controls"
          }
        },
        "1d263ce807514db09d719cb0ef46ea9b": {
          "model_module": "@jupyter-widgets/base",
          "model_name": "LayoutModel",
          "model_module_version": "1.2.0",
          "state": {
            "_view_name": "LayoutView",
            "grid_template_rows": null,
            "right": null,
            "justify_content": null,
            "_view_module": "@jupyter-widgets/base",
            "overflow": null,
            "_model_module_version": "1.2.0",
            "_view_count": null,
            "flex_flow": null,
            "width": null,
            "min_width": null,
            "border": null,
            "align_items": null,
            "bottom": null,
            "_model_module": "@jupyter-widgets/base",
            "top": null,
            "grid_column": null,
            "overflow_y": null,
            "overflow_x": null,
            "grid_auto_flow": null,
            "grid_area": null,
            "grid_template_columns": null,
            "flex": null,
            "_model_name": "LayoutModel",
            "justify_items": null,
            "grid_row": null,
            "max_height": null,
            "align_content": null,
            "visibility": null,
            "align_self": null,
            "height": null,
            "min_height": null,
            "padding": null,
            "grid_auto_rows": null,
            "grid_gap": null,
            "max_width": null,
            "order": null,
            "_view_module_version": "1.2.0",
            "grid_template_areas": null,
            "object_position": null,
            "object_fit": null,
            "grid_auto_columns": null,
            "margin": null,
            "display": null,
            "left": null
          }
        },
        "548c336b7ff34c6998521f96c2d96c99": {
          "model_module": "@jupyter-widgets/controls",
          "model_name": "ProgressStyleModel",
          "model_module_version": "1.5.0",
          "state": {
            "_view_name": "StyleView",
            "_model_name": "ProgressStyleModel",
            "description_width": "",
            "_view_module": "@jupyter-widgets/base",
            "_model_module_version": "1.5.0",
            "_view_count": null,
            "_view_module_version": "1.2.0",
            "bar_color": null,
            "_model_module": "@jupyter-widgets/controls"
          }
        },
        "1791307011b04431bf3d151c89d222cf": {
          "model_module": "@jupyter-widgets/base",
          "model_name": "LayoutModel",
          "model_module_version": "1.2.0",
          "state": {
            "_view_name": "LayoutView",
            "grid_template_rows": null,
            "right": null,
            "justify_content": null,
            "_view_module": "@jupyter-widgets/base",
            "overflow": null,
            "_model_module_version": "1.2.0",
            "_view_count": null,
            "flex_flow": null,
            "width": null,
            "min_width": null,
            "border": null,
            "align_items": null,
            "bottom": null,
            "_model_module": "@jupyter-widgets/base",
            "top": null,
            "grid_column": null,
            "overflow_y": null,
            "overflow_x": null,
            "grid_auto_flow": null,
            "grid_area": null,
            "grid_template_columns": null,
            "flex": null,
            "_model_name": "LayoutModel",
            "justify_items": null,
            "grid_row": null,
            "max_height": null,
            "align_content": null,
            "visibility": null,
            "align_self": null,
            "height": null,
            "min_height": null,
            "padding": null,
            "grid_auto_rows": null,
            "grid_gap": null,
            "max_width": null,
            "order": null,
            "_view_module_version": "1.2.0",
            "grid_template_areas": null,
            "object_position": null,
            "object_fit": null,
            "grid_auto_columns": null,
            "margin": null,
            "display": null,
            "left": null
          }
        },
        "e38e82f862ce4bf58846cfc9f832ec7a": {
          "model_module": "@jupyter-widgets/controls",
          "model_name": "DescriptionStyleModel",
          "model_module_version": "1.5.0",
          "state": {
            "_view_name": "StyleView",
            "_model_name": "DescriptionStyleModel",
            "description_width": "",
            "_view_module": "@jupyter-widgets/base",
            "_model_module_version": "1.5.0",
            "_view_count": null,
            "_view_module_version": "1.2.0",
            "_model_module": "@jupyter-widgets/controls"
          }
        },
        "45c963cca8d44ca1bfffe800e2852b93": {
          "model_module": "@jupyter-widgets/base",
          "model_name": "LayoutModel",
          "model_module_version": "1.2.0",
          "state": {
            "_view_name": "LayoutView",
            "grid_template_rows": null,
            "right": null,
            "justify_content": null,
            "_view_module": "@jupyter-widgets/base",
            "overflow": null,
            "_model_module_version": "1.2.0",
            "_view_count": null,
            "flex_flow": null,
            "width": null,
            "min_width": null,
            "border": null,
            "align_items": null,
            "bottom": null,
            "_model_module": "@jupyter-widgets/base",
            "top": null,
            "grid_column": null,
            "overflow_y": null,
            "overflow_x": null,
            "grid_auto_flow": null,
            "grid_area": null,
            "grid_template_columns": null,
            "flex": null,
            "_model_name": "LayoutModel",
            "justify_items": null,
            "grid_row": null,
            "max_height": null,
            "align_content": null,
            "visibility": null,
            "align_self": null,
            "height": null,
            "min_height": null,
            "padding": null,
            "grid_auto_rows": null,
            "grid_gap": null,
            "max_width": null,
            "order": null,
            "_view_module_version": "1.2.0",
            "grid_template_areas": null,
            "object_position": null,
            "object_fit": null,
            "grid_auto_columns": null,
            "margin": null,
            "display": null,
            "left": null
          }
        },
        "a51436dbcf274e479ca8b311114509e3": {
          "model_module": "@jupyter-widgets/controls",
          "model_name": "HBoxModel",
          "model_module_version": "1.5.0",
          "state": {
            "_view_name": "HBoxView",
            "_dom_classes": [],
            "_model_name": "HBoxModel",
            "_view_module": "@jupyter-widgets/controls",
            "_model_module_version": "1.5.0",
            "_view_count": null,
            "_view_module_version": "1.5.0",
            "box_style": "",
            "layout": "IPY_MODEL_d6fdf0e9464a4bbf8b73114d7b6567e4",
            "_model_module": "@jupyter-widgets/controls",
            "children": [
              "IPY_MODEL_352d70ba93a540729408af4141608fb6",
              "IPY_MODEL_6e08a8fc8bda4bb8b954b40e3d5eadb7",
              "IPY_MODEL_1bac5e74d6254b4bb11c5af333c51fbd"
            ]
          }
        },
        "d6fdf0e9464a4bbf8b73114d7b6567e4": {
          "model_module": "@jupyter-widgets/base",
          "model_name": "LayoutModel",
          "model_module_version": "1.2.0",
          "state": {
            "_view_name": "LayoutView",
            "grid_template_rows": null,
            "right": null,
            "justify_content": null,
            "_view_module": "@jupyter-widgets/base",
            "overflow": null,
            "_model_module_version": "1.2.0",
            "_view_count": null,
            "flex_flow": null,
            "width": null,
            "min_width": null,
            "border": null,
            "align_items": null,
            "bottom": null,
            "_model_module": "@jupyter-widgets/base",
            "top": null,
            "grid_column": null,
            "overflow_y": null,
            "overflow_x": null,
            "grid_auto_flow": null,
            "grid_area": null,
            "grid_template_columns": null,
            "flex": null,
            "_model_name": "LayoutModel",
            "justify_items": null,
            "grid_row": null,
            "max_height": null,
            "align_content": null,
            "visibility": null,
            "align_self": null,
            "height": null,
            "min_height": null,
            "padding": null,
            "grid_auto_rows": null,
            "grid_gap": null,
            "max_width": null,
            "order": null,
            "_view_module_version": "1.2.0",
            "grid_template_areas": null,
            "object_position": null,
            "object_fit": null,
            "grid_auto_columns": null,
            "margin": null,
            "display": null,
            "left": null
          }
        },
        "352d70ba93a540729408af4141608fb6": {
          "model_module": "@jupyter-widgets/controls",
          "model_name": "HTMLModel",
          "model_module_version": "1.5.0",
          "state": {
            "_view_name": "HTMLView",
            "style": "IPY_MODEL_a863c4bf66194d84927b9d24b39a98c3",
            "_dom_classes": [],
            "description": "",
            "_model_name": "HTMLModel",
            "placeholder": "​",
            "_view_module": "@jupyter-widgets/controls",
            "_model_module_version": "1.5.0",
            "value": "",
            "_view_count": null,
            "_view_module_version": "1.5.0",
            "description_tooltip": null,
            "_model_module": "@jupyter-widgets/controls",
            "layout": "IPY_MODEL_5828c6256dc645d1be6d1cdff3c62242"
          }
        },
        "6e08a8fc8bda4bb8b954b40e3d5eadb7": {
          "model_module": "@jupyter-widgets/controls",
          "model_name": "FloatProgressModel",
          "model_module_version": "1.5.0",
          "state": {
            "_view_name": "ProgressView",
            "style": "IPY_MODEL_2682f4f4fbea48079c0e63a3fbcc0aa1",
            "_dom_classes": [],
            "description": "",
            "_model_name": "FloatProgressModel",
            "bar_style": "success",
            "max": 29515,
            "_view_module": "@jupyter-widgets/controls",
            "_model_module_version": "1.5.0",
            "value": 29515,
            "_view_count": null,
            "_view_module_version": "1.5.0",
            "orientation": "horizontal",
            "min": 0,
            "description_tooltip": null,
            "_model_module": "@jupyter-widgets/controls",
            "layout": "IPY_MODEL_9448a0aac61f4407b2bb0e3681911638"
          }
        },
        "1bac5e74d6254b4bb11c5af333c51fbd": {
          "model_module": "@jupyter-widgets/controls",
          "model_name": "HTMLModel",
          "model_module_version": "1.5.0",
          "state": {
            "_view_name": "HTMLView",
            "style": "IPY_MODEL_9107d251e80244bb98493887c6f96bf0",
            "_dom_classes": [],
            "description": "",
            "_model_name": "HTMLModel",
            "placeholder": "​",
            "_view_module": "@jupyter-widgets/controls",
            "_model_module_version": "1.5.0",
            "value": " 29696/? [00:00&lt;00:00, 124933.04it/s]",
            "_view_count": null,
            "_view_module_version": "1.5.0",
            "description_tooltip": null,
            "_model_module": "@jupyter-widgets/controls",
            "layout": "IPY_MODEL_8065fae046944c488b8d7d36cefee453"
          }
        },
        "a863c4bf66194d84927b9d24b39a98c3": {
          "model_module": "@jupyter-widgets/controls",
          "model_name": "DescriptionStyleModel",
          "model_module_version": "1.5.0",
          "state": {
            "_view_name": "StyleView",
            "_model_name": "DescriptionStyleModel",
            "description_width": "",
            "_view_module": "@jupyter-widgets/base",
            "_model_module_version": "1.5.0",
            "_view_count": null,
            "_view_module_version": "1.2.0",
            "_model_module": "@jupyter-widgets/controls"
          }
        },
        "5828c6256dc645d1be6d1cdff3c62242": {
          "model_module": "@jupyter-widgets/base",
          "model_name": "LayoutModel",
          "model_module_version": "1.2.0",
          "state": {
            "_view_name": "LayoutView",
            "grid_template_rows": null,
            "right": null,
            "justify_content": null,
            "_view_module": "@jupyter-widgets/base",
            "overflow": null,
            "_model_module_version": "1.2.0",
            "_view_count": null,
            "flex_flow": null,
            "width": null,
            "min_width": null,
            "border": null,
            "align_items": null,
            "bottom": null,
            "_model_module": "@jupyter-widgets/base",
            "top": null,
            "grid_column": null,
            "overflow_y": null,
            "overflow_x": null,
            "grid_auto_flow": null,
            "grid_area": null,
            "grid_template_columns": null,
            "flex": null,
            "_model_name": "LayoutModel",
            "justify_items": null,
            "grid_row": null,
            "max_height": null,
            "align_content": null,
            "visibility": null,
            "align_self": null,
            "height": null,
            "min_height": null,
            "padding": null,
            "grid_auto_rows": null,
            "grid_gap": null,
            "max_width": null,
            "order": null,
            "_view_module_version": "1.2.0",
            "grid_template_areas": null,
            "object_position": null,
            "object_fit": null,
            "grid_auto_columns": null,
            "margin": null,
            "display": null,
            "left": null
          }
        },
        "2682f4f4fbea48079c0e63a3fbcc0aa1": {
          "model_module": "@jupyter-widgets/controls",
          "model_name": "ProgressStyleModel",
          "model_module_version": "1.5.0",
          "state": {
            "_view_name": "StyleView",
            "_model_name": "ProgressStyleModel",
            "description_width": "",
            "_view_module": "@jupyter-widgets/base",
            "_model_module_version": "1.5.0",
            "_view_count": null,
            "_view_module_version": "1.2.0",
            "bar_color": null,
            "_model_module": "@jupyter-widgets/controls"
          }
        },
        "9448a0aac61f4407b2bb0e3681911638": {
          "model_module": "@jupyter-widgets/base",
          "model_name": "LayoutModel",
          "model_module_version": "1.2.0",
          "state": {
            "_view_name": "LayoutView",
            "grid_template_rows": null,
            "right": null,
            "justify_content": null,
            "_view_module": "@jupyter-widgets/base",
            "overflow": null,
            "_model_module_version": "1.2.0",
            "_view_count": null,
            "flex_flow": null,
            "width": null,
            "min_width": null,
            "border": null,
            "align_items": null,
            "bottom": null,
            "_model_module": "@jupyter-widgets/base",
            "top": null,
            "grid_column": null,
            "overflow_y": null,
            "overflow_x": null,
            "grid_auto_flow": null,
            "grid_area": null,
            "grid_template_columns": null,
            "flex": null,
            "_model_name": "LayoutModel",
            "justify_items": null,
            "grid_row": null,
            "max_height": null,
            "align_content": null,
            "visibility": null,
            "align_self": null,
            "height": null,
            "min_height": null,
            "padding": null,
            "grid_auto_rows": null,
            "grid_gap": null,
            "max_width": null,
            "order": null,
            "_view_module_version": "1.2.0",
            "grid_template_areas": null,
            "object_position": null,
            "object_fit": null,
            "grid_auto_columns": null,
            "margin": null,
            "display": null,
            "left": null
          }
        },
        "9107d251e80244bb98493887c6f96bf0": {
          "model_module": "@jupyter-widgets/controls",
          "model_name": "DescriptionStyleModel",
          "model_module_version": "1.5.0",
          "state": {
            "_view_name": "StyleView",
            "_model_name": "DescriptionStyleModel",
            "description_width": "",
            "_view_module": "@jupyter-widgets/base",
            "_model_module_version": "1.5.0",
            "_view_count": null,
            "_view_module_version": "1.2.0",
            "_model_module": "@jupyter-widgets/controls"
          }
        },
        "8065fae046944c488b8d7d36cefee453": {
          "model_module": "@jupyter-widgets/base",
          "model_name": "LayoutModel",
          "model_module_version": "1.2.0",
          "state": {
            "_view_name": "LayoutView",
            "grid_template_rows": null,
            "right": null,
            "justify_content": null,
            "_view_module": "@jupyter-widgets/base",
            "overflow": null,
            "_model_module_version": "1.2.0",
            "_view_count": null,
            "flex_flow": null,
            "width": null,
            "min_width": null,
            "border": null,
            "align_items": null,
            "bottom": null,
            "_model_module": "@jupyter-widgets/base",
            "top": null,
            "grid_column": null,
            "overflow_y": null,
            "overflow_x": null,
            "grid_auto_flow": null,
            "grid_area": null,
            "grid_template_columns": null,
            "flex": null,
            "_model_name": "LayoutModel",
            "justify_items": null,
            "grid_row": null,
            "max_height": null,
            "align_content": null,
            "visibility": null,
            "align_self": null,
            "height": null,
            "min_height": null,
            "padding": null,
            "grid_auto_rows": null,
            "grid_gap": null,
            "max_width": null,
            "order": null,
            "_view_module_version": "1.2.0",
            "grid_template_areas": null,
            "object_position": null,
            "object_fit": null,
            "grid_auto_columns": null,
            "margin": null,
            "display": null,
            "left": null
          }
        },
        "f07dfba1e8934809bc4735c7194416c5": {
          "model_module": "@jupyter-widgets/controls",
          "model_name": "HBoxModel",
          "model_module_version": "1.5.0",
          "state": {
            "_view_name": "HBoxView",
            "_dom_classes": [],
            "_model_name": "HBoxModel",
            "_view_module": "@jupyter-widgets/controls",
            "_model_module_version": "1.5.0",
            "_view_count": null,
            "_view_module_version": "1.5.0",
            "box_style": "",
            "layout": "IPY_MODEL_fd61b69dd6c84e6ab034a01599edb35d",
            "_model_module": "@jupyter-widgets/controls",
            "children": [
              "IPY_MODEL_9dce7db90cba4c90b65ddd476322def1",
              "IPY_MODEL_157e936c1b6640b6af6a872e54459397",
              "IPY_MODEL_7be2f10c4d484565bff80d82b759355c"
            ]
          }
        },
        "fd61b69dd6c84e6ab034a01599edb35d": {
          "model_module": "@jupyter-widgets/base",
          "model_name": "LayoutModel",
          "model_module_version": "1.2.0",
          "state": {
            "_view_name": "LayoutView",
            "grid_template_rows": null,
            "right": null,
            "justify_content": null,
            "_view_module": "@jupyter-widgets/base",
            "overflow": null,
            "_model_module_version": "1.2.0",
            "_view_count": null,
            "flex_flow": null,
            "width": null,
            "min_width": null,
            "border": null,
            "align_items": null,
            "bottom": null,
            "_model_module": "@jupyter-widgets/base",
            "top": null,
            "grid_column": null,
            "overflow_y": null,
            "overflow_x": null,
            "grid_auto_flow": null,
            "grid_area": null,
            "grid_template_columns": null,
            "flex": null,
            "_model_name": "LayoutModel",
            "justify_items": null,
            "grid_row": null,
            "max_height": null,
            "align_content": null,
            "visibility": null,
            "align_self": null,
            "height": null,
            "min_height": null,
            "padding": null,
            "grid_auto_rows": null,
            "grid_gap": null,
            "max_width": null,
            "order": null,
            "_view_module_version": "1.2.0",
            "grid_template_areas": null,
            "object_position": null,
            "object_fit": null,
            "grid_auto_columns": null,
            "margin": null,
            "display": null,
            "left": null
          }
        },
        "9dce7db90cba4c90b65ddd476322def1": {
          "model_module": "@jupyter-widgets/controls",
          "model_name": "HTMLModel",
          "model_module_version": "1.5.0",
          "state": {
            "_view_name": "HTMLView",
            "style": "IPY_MODEL_ad42cfa7cd134554bf5b181612ed5ef0",
            "_dom_classes": [],
            "description": "",
            "_model_name": "HTMLModel",
            "placeholder": "​",
            "_view_module": "@jupyter-widgets/controls",
            "_model_module_version": "1.5.0",
            "value": "",
            "_view_count": null,
            "_view_module_version": "1.5.0",
            "description_tooltip": null,
            "_model_module": "@jupyter-widgets/controls",
            "layout": "IPY_MODEL_c3a4099fadbd4bbaa2c63a5c8e3aea8f"
          }
        },
        "157e936c1b6640b6af6a872e54459397": {
          "model_module": "@jupyter-widgets/controls",
          "model_name": "FloatProgressModel",
          "model_module_version": "1.5.0",
          "state": {
            "_view_name": "ProgressView",
            "style": "IPY_MODEL_4a4a734f68ed4f46a75d27d6bae00781",
            "_dom_classes": [],
            "description": "",
            "_model_name": "FloatProgressModel",
            "bar_style": "success",
            "max": 4422102,
            "_view_module": "@jupyter-widgets/controls",
            "_model_module_version": "1.5.0",
            "value": 4422102,
            "_view_count": null,
            "_view_module_version": "1.5.0",
            "orientation": "horizontal",
            "min": 0,
            "description_tooltip": null,
            "_model_module": "@jupyter-widgets/controls",
            "layout": "IPY_MODEL_a550ac39ab0a4232a4fa7ba1f6430a11"
          }
        },
        "7be2f10c4d484565bff80d82b759355c": {
          "model_module": "@jupyter-widgets/controls",
          "model_name": "HTMLModel",
          "model_module_version": "1.5.0",
          "state": {
            "_view_name": "HTMLView",
            "style": "IPY_MODEL_c48ae1e2fbb9481a9fb224fbe351b429",
            "_dom_classes": [],
            "description": "",
            "_model_name": "HTMLModel",
            "placeholder": "​",
            "_view_module": "@jupyter-widgets/controls",
            "_model_module_version": "1.5.0",
            "value": " 4422656/? [00:00&lt;00:00, 7989529.80it/s]",
            "_view_count": null,
            "_view_module_version": "1.5.0",
            "description_tooltip": null,
            "_model_module": "@jupyter-widgets/controls",
            "layout": "IPY_MODEL_0b2e775d46d24fe08fd93dfbe1a559a2"
          }
        },
        "ad42cfa7cd134554bf5b181612ed5ef0": {
          "model_module": "@jupyter-widgets/controls",
          "model_name": "DescriptionStyleModel",
          "model_module_version": "1.5.0",
          "state": {
            "_view_name": "StyleView",
            "_model_name": "DescriptionStyleModel",
            "description_width": "",
            "_view_module": "@jupyter-widgets/base",
            "_model_module_version": "1.5.0",
            "_view_count": null,
            "_view_module_version": "1.2.0",
            "_model_module": "@jupyter-widgets/controls"
          }
        },
        "c3a4099fadbd4bbaa2c63a5c8e3aea8f": {
          "model_module": "@jupyter-widgets/base",
          "model_name": "LayoutModel",
          "model_module_version": "1.2.0",
          "state": {
            "_view_name": "LayoutView",
            "grid_template_rows": null,
            "right": null,
            "justify_content": null,
            "_view_module": "@jupyter-widgets/base",
            "overflow": null,
            "_model_module_version": "1.2.0",
            "_view_count": null,
            "flex_flow": null,
            "width": null,
            "min_width": null,
            "border": null,
            "align_items": null,
            "bottom": null,
            "_model_module": "@jupyter-widgets/base",
            "top": null,
            "grid_column": null,
            "overflow_y": null,
            "overflow_x": null,
            "grid_auto_flow": null,
            "grid_area": null,
            "grid_template_columns": null,
            "flex": null,
            "_model_name": "LayoutModel",
            "justify_items": null,
            "grid_row": null,
            "max_height": null,
            "align_content": null,
            "visibility": null,
            "align_self": null,
            "height": null,
            "min_height": null,
            "padding": null,
            "grid_auto_rows": null,
            "grid_gap": null,
            "max_width": null,
            "order": null,
            "_view_module_version": "1.2.0",
            "grid_template_areas": null,
            "object_position": null,
            "object_fit": null,
            "grid_auto_columns": null,
            "margin": null,
            "display": null,
            "left": null
          }
        },
        "4a4a734f68ed4f46a75d27d6bae00781": {
          "model_module": "@jupyter-widgets/controls",
          "model_name": "ProgressStyleModel",
          "model_module_version": "1.5.0",
          "state": {
            "_view_name": "StyleView",
            "_model_name": "ProgressStyleModel",
            "description_width": "",
            "_view_module": "@jupyter-widgets/base",
            "_model_module_version": "1.5.0",
            "_view_count": null,
            "_view_module_version": "1.2.0",
            "bar_color": null,
            "_model_module": "@jupyter-widgets/controls"
          }
        },
        "a550ac39ab0a4232a4fa7ba1f6430a11": {
          "model_module": "@jupyter-widgets/base",
          "model_name": "LayoutModel",
          "model_module_version": "1.2.0",
          "state": {
            "_view_name": "LayoutView",
            "grid_template_rows": null,
            "right": null,
            "justify_content": null,
            "_view_module": "@jupyter-widgets/base",
            "overflow": null,
            "_model_module_version": "1.2.0",
            "_view_count": null,
            "flex_flow": null,
            "width": null,
            "min_width": null,
            "border": null,
            "align_items": null,
            "bottom": null,
            "_model_module": "@jupyter-widgets/base",
            "top": null,
            "grid_column": null,
            "overflow_y": null,
            "overflow_x": null,
            "grid_auto_flow": null,
            "grid_area": null,
            "grid_template_columns": null,
            "flex": null,
            "_model_name": "LayoutModel",
            "justify_items": null,
            "grid_row": null,
            "max_height": null,
            "align_content": null,
            "visibility": null,
            "align_self": null,
            "height": null,
            "min_height": null,
            "padding": null,
            "grid_auto_rows": null,
            "grid_gap": null,
            "max_width": null,
            "order": null,
            "_view_module_version": "1.2.0",
            "grid_template_areas": null,
            "object_position": null,
            "object_fit": null,
            "grid_auto_columns": null,
            "margin": null,
            "display": null,
            "left": null
          }
        },
        "c48ae1e2fbb9481a9fb224fbe351b429": {
          "model_module": "@jupyter-widgets/controls",
          "model_name": "DescriptionStyleModel",
          "model_module_version": "1.5.0",
          "state": {
            "_view_name": "StyleView",
            "_model_name": "DescriptionStyleModel",
            "description_width": "",
            "_view_module": "@jupyter-widgets/base",
            "_model_module_version": "1.5.0",
            "_view_count": null,
            "_view_module_version": "1.2.0",
            "_model_module": "@jupyter-widgets/controls"
          }
        },
        "0b2e775d46d24fe08fd93dfbe1a559a2": {
          "model_module": "@jupyter-widgets/base",
          "model_name": "LayoutModel",
          "model_module_version": "1.2.0",
          "state": {
            "_view_name": "LayoutView",
            "grid_template_rows": null,
            "right": null,
            "justify_content": null,
            "_view_module": "@jupyter-widgets/base",
            "overflow": null,
            "_model_module_version": "1.2.0",
            "_view_count": null,
            "flex_flow": null,
            "width": null,
            "min_width": null,
            "border": null,
            "align_items": null,
            "bottom": null,
            "_model_module": "@jupyter-widgets/base",
            "top": null,
            "grid_column": null,
            "overflow_y": null,
            "overflow_x": null,
            "grid_auto_flow": null,
            "grid_area": null,
            "grid_template_columns": null,
            "flex": null,
            "_model_name": "LayoutModel",
            "justify_items": null,
            "grid_row": null,
            "max_height": null,
            "align_content": null,
            "visibility": null,
            "align_self": null,
            "height": null,
            "min_height": null,
            "padding": null,
            "grid_auto_rows": null,
            "grid_gap": null,
            "max_width": null,
            "order": null,
            "_view_module_version": "1.2.0",
            "grid_template_areas": null,
            "object_position": null,
            "object_fit": null,
            "grid_auto_columns": null,
            "margin": null,
            "display": null,
            "left": null
          }
        },
        "3b48c8eeba7a4004a1d443ae5ca2ddd7": {
          "model_module": "@jupyter-widgets/controls",
          "model_name": "HBoxModel",
          "model_module_version": "1.5.0",
          "state": {
            "_view_name": "HBoxView",
            "_dom_classes": [],
            "_model_name": "HBoxModel",
            "_view_module": "@jupyter-widgets/controls",
            "_model_module_version": "1.5.0",
            "_view_count": null,
            "_view_module_version": "1.5.0",
            "box_style": "",
            "layout": "IPY_MODEL_935c0d11c31a454d8ebb5a80e6952a53",
            "_model_module": "@jupyter-widgets/controls",
            "children": [
              "IPY_MODEL_e08b23082d714f228092f6e7e3477c44",
              "IPY_MODEL_31966c1ada084c6c8ea0bf9c15377122",
              "IPY_MODEL_47c7294cca5848b186ce00ec2a608c9c"
            ]
          }
        },
        "935c0d11c31a454d8ebb5a80e6952a53": {
          "model_module": "@jupyter-widgets/base",
          "model_name": "LayoutModel",
          "model_module_version": "1.2.0",
          "state": {
            "_view_name": "LayoutView",
            "grid_template_rows": null,
            "right": null,
            "justify_content": null,
            "_view_module": "@jupyter-widgets/base",
            "overflow": null,
            "_model_module_version": "1.2.0",
            "_view_count": null,
            "flex_flow": null,
            "width": null,
            "min_width": null,
            "border": null,
            "align_items": null,
            "bottom": null,
            "_model_module": "@jupyter-widgets/base",
            "top": null,
            "grid_column": null,
            "overflow_y": null,
            "overflow_x": null,
            "grid_auto_flow": null,
            "grid_area": null,
            "grid_template_columns": null,
            "flex": null,
            "_model_name": "LayoutModel",
            "justify_items": null,
            "grid_row": null,
            "max_height": null,
            "align_content": null,
            "visibility": null,
            "align_self": null,
            "height": null,
            "min_height": null,
            "padding": null,
            "grid_auto_rows": null,
            "grid_gap": null,
            "max_width": null,
            "order": null,
            "_view_module_version": "1.2.0",
            "grid_template_areas": null,
            "object_position": null,
            "object_fit": null,
            "grid_auto_columns": null,
            "margin": null,
            "display": null,
            "left": null
          }
        },
        "e08b23082d714f228092f6e7e3477c44": {
          "model_module": "@jupyter-widgets/controls",
          "model_name": "HTMLModel",
          "model_module_version": "1.5.0",
          "state": {
            "_view_name": "HTMLView",
            "style": "IPY_MODEL_3b0608e90ad74aa5bdb339a984a75ac6",
            "_dom_classes": [],
            "description": "",
            "_model_name": "HTMLModel",
            "placeholder": "​",
            "_view_module": "@jupyter-widgets/controls",
            "_model_module_version": "1.5.0",
            "value": "",
            "_view_count": null,
            "_view_module_version": "1.5.0",
            "description_tooltip": null,
            "_model_module": "@jupyter-widgets/controls",
            "layout": "IPY_MODEL_77883b81f47d47e0b2b16321a75cff89"
          }
        },
        "31966c1ada084c6c8ea0bf9c15377122": {
          "model_module": "@jupyter-widgets/controls",
          "model_name": "FloatProgressModel",
          "model_module_version": "1.5.0",
          "state": {
            "_view_name": "ProgressView",
            "style": "IPY_MODEL_e2b7d05cdc484524b45c3c21a4114840",
            "_dom_classes": [],
            "description": "",
            "_model_name": "FloatProgressModel",
            "bar_style": "success",
            "max": 5148,
            "_view_module": "@jupyter-widgets/controls",
            "_model_module_version": "1.5.0",
            "value": 5148,
            "_view_count": null,
            "_view_module_version": "1.5.0",
            "orientation": "horizontal",
            "min": 0,
            "description_tooltip": null,
            "_model_module": "@jupyter-widgets/controls",
            "layout": "IPY_MODEL_85ef83e977534f97827caa71aec699d8"
          }
        },
        "47c7294cca5848b186ce00ec2a608c9c": {
          "model_module": "@jupyter-widgets/controls",
          "model_name": "HTMLModel",
          "model_module_version": "1.5.0",
          "state": {
            "_view_name": "HTMLView",
            "style": "IPY_MODEL_8e94960d4942427281962da9ee4a7cdf",
            "_dom_classes": [],
            "description": "",
            "_model_name": "HTMLModel",
            "placeholder": "​",
            "_view_module": "@jupyter-widgets/controls",
            "_model_module_version": "1.5.0",
            "value": " 6144/? [00:00&lt;00:00, 161374.95it/s]",
            "_view_count": null,
            "_view_module_version": "1.5.0",
            "description_tooltip": null,
            "_model_module": "@jupyter-widgets/controls",
            "layout": "IPY_MODEL_30fa5c54e9a64cb8b74b7c71a1b874b7"
          }
        },
        "3b0608e90ad74aa5bdb339a984a75ac6": {
          "model_module": "@jupyter-widgets/controls",
          "model_name": "DescriptionStyleModel",
          "model_module_version": "1.5.0",
          "state": {
            "_view_name": "StyleView",
            "_model_name": "DescriptionStyleModel",
            "description_width": "",
            "_view_module": "@jupyter-widgets/base",
            "_model_module_version": "1.5.0",
            "_view_count": null,
            "_view_module_version": "1.2.0",
            "_model_module": "@jupyter-widgets/controls"
          }
        },
        "77883b81f47d47e0b2b16321a75cff89": {
          "model_module": "@jupyter-widgets/base",
          "model_name": "LayoutModel",
          "model_module_version": "1.2.0",
          "state": {
            "_view_name": "LayoutView",
            "grid_template_rows": null,
            "right": null,
            "justify_content": null,
            "_view_module": "@jupyter-widgets/base",
            "overflow": null,
            "_model_module_version": "1.2.0",
            "_view_count": null,
            "flex_flow": null,
            "width": null,
            "min_width": null,
            "border": null,
            "align_items": null,
            "bottom": null,
            "_model_module": "@jupyter-widgets/base",
            "top": null,
            "grid_column": null,
            "overflow_y": null,
            "overflow_x": null,
            "grid_auto_flow": null,
            "grid_area": null,
            "grid_template_columns": null,
            "flex": null,
            "_model_name": "LayoutModel",
            "justify_items": null,
            "grid_row": null,
            "max_height": null,
            "align_content": null,
            "visibility": null,
            "align_self": null,
            "height": null,
            "min_height": null,
            "padding": null,
            "grid_auto_rows": null,
            "grid_gap": null,
            "max_width": null,
            "order": null,
            "_view_module_version": "1.2.0",
            "grid_template_areas": null,
            "object_position": null,
            "object_fit": null,
            "grid_auto_columns": null,
            "margin": null,
            "display": null,
            "left": null
          }
        },
        "e2b7d05cdc484524b45c3c21a4114840": {
          "model_module": "@jupyter-widgets/controls",
          "model_name": "ProgressStyleModel",
          "model_module_version": "1.5.0",
          "state": {
            "_view_name": "StyleView",
            "_model_name": "ProgressStyleModel",
            "description_width": "",
            "_view_module": "@jupyter-widgets/base",
            "_model_module_version": "1.5.0",
            "_view_count": null,
            "_view_module_version": "1.2.0",
            "bar_color": null,
            "_model_module": "@jupyter-widgets/controls"
          }
        },
        "85ef83e977534f97827caa71aec699d8": {
          "model_module": "@jupyter-widgets/base",
          "model_name": "LayoutModel",
          "model_module_version": "1.2.0",
          "state": {
            "_view_name": "LayoutView",
            "grid_template_rows": null,
            "right": null,
            "justify_content": null,
            "_view_module": "@jupyter-widgets/base",
            "overflow": null,
            "_model_module_version": "1.2.0",
            "_view_count": null,
            "flex_flow": null,
            "width": null,
            "min_width": null,
            "border": null,
            "align_items": null,
            "bottom": null,
            "_model_module": "@jupyter-widgets/base",
            "top": null,
            "grid_column": null,
            "overflow_y": null,
            "overflow_x": null,
            "grid_auto_flow": null,
            "grid_area": null,
            "grid_template_columns": null,
            "flex": null,
            "_model_name": "LayoutModel",
            "justify_items": null,
            "grid_row": null,
            "max_height": null,
            "align_content": null,
            "visibility": null,
            "align_self": null,
            "height": null,
            "min_height": null,
            "padding": null,
            "grid_auto_rows": null,
            "grid_gap": null,
            "max_width": null,
            "order": null,
            "_view_module_version": "1.2.0",
            "grid_template_areas": null,
            "object_position": null,
            "object_fit": null,
            "grid_auto_columns": null,
            "margin": null,
            "display": null,
            "left": null
          }
        },
        "8e94960d4942427281962da9ee4a7cdf": {
          "model_module": "@jupyter-widgets/controls",
          "model_name": "DescriptionStyleModel",
          "model_module_version": "1.5.0",
          "state": {
            "_view_name": "StyleView",
            "_model_name": "DescriptionStyleModel",
            "description_width": "",
            "_view_module": "@jupyter-widgets/base",
            "_model_module_version": "1.5.0",
            "_view_count": null,
            "_view_module_version": "1.2.0",
            "_model_module": "@jupyter-widgets/controls"
          }
        },
        "30fa5c54e9a64cb8b74b7c71a1b874b7": {
          "model_module": "@jupyter-widgets/base",
          "model_name": "LayoutModel",
          "model_module_version": "1.2.0",
          "state": {
            "_view_name": "LayoutView",
            "grid_template_rows": null,
            "right": null,
            "justify_content": null,
            "_view_module": "@jupyter-widgets/base",
            "overflow": null,
            "_model_module_version": "1.2.0",
            "_view_count": null,
            "flex_flow": null,
            "width": null,
            "min_width": null,
            "border": null,
            "align_items": null,
            "bottom": null,
            "_model_module": "@jupyter-widgets/base",
            "top": null,
            "grid_column": null,
            "overflow_y": null,
            "overflow_x": null,
            "grid_auto_flow": null,
            "grid_area": null,
            "grid_template_columns": null,
            "flex": null,
            "_model_name": "LayoutModel",
            "justify_items": null,
            "grid_row": null,
            "max_height": null,
            "align_content": null,
            "visibility": null,
            "align_self": null,
            "height": null,
            "min_height": null,
            "padding": null,
            "grid_auto_rows": null,
            "grid_gap": null,
            "max_width": null,
            "order": null,
            "_view_module_version": "1.2.0",
            "grid_template_areas": null,
            "object_position": null,
            "object_fit": null,
            "grid_auto_columns": null,
            "margin": null,
            "display": null,
            "left": null
          }
        }
      }
    }
  },
  "cells": [
    {
      "cell_type": "markdown",
      "source": [
        "40077220102"
      ],
      "metadata": {
        "id": "QncCH8maLkJb"
      }
    },
    {
      "cell_type": "code",
      "execution_count": 2,
      "metadata": {
        "id": "je0pD2TSICi6"
      },
      "outputs": [],
      "source": [
        "import torch\n",
        "import torchvision\n",
        "import torchvision.datasets as datasets\n",
        "import torchvision.transforms as transforms\n",
        "import torch.nn as nn\n",
        "import torch.nn.functional as F\n",
        "import torch.optim as optim\n",
        "import matplotlib \n",
        "import matplotlib.pyplot as plt\n",
        "import numpy as np\n",
        "import pandas as pd\n",
        "import random\n",
        "import math\n",
        "from torch.utils.data.sampler import SubsetRandomSampler\n",
        "from torch.autograd import Variable"
      ]
    },
    {
      "cell_type": "code",
      "source": [
        "# Define a transform to normalize the data\n",
        "transform = transforms.Compose([transforms.ToTensor(), transforms.Normalize((0.1307,), (0.3081,))])\n",
        "\n",
        "# Download and load training data\n",
        "trainset = datasets.FashionMNIST('./data',download=True, train= True, transform=transform)\n",
        "trainloader = torch.utils.data.DataLoader(trainset, batch_size= 64, shuffle=True)\n",
        "\n",
        "# Download and load test data\n",
        "testset = datasets.FashionMNIST('./data',download=True, train= False, transform=transform)\n",
        "testloader = torch.utils.data.DataLoader(testset, batch_size= 64, shuffle=True)"
      ],
      "metadata": {
        "id": "fHXjbP9rIJv2",
        "colab": {
          "base_uri": "https://localhost:8080/",
          "height": 422,
          "referenced_widgets": [
            "1227892d92e5446da4b9c07aeb2558f7",
            "e38945bea40e46d88e794027f22b8b27",
            "f299959793bc41609dcbc2946c2d08ae",
            "e38d0a187eb44117bd7bd48323c26182",
            "6bd4d7070fe64783b238e8ed8306fc3c",
            "4194e4db29914be3b2220ab9f8acba07",
            "1d263ce807514db09d719cb0ef46ea9b",
            "548c336b7ff34c6998521f96c2d96c99",
            "1791307011b04431bf3d151c89d222cf",
            "e38e82f862ce4bf58846cfc9f832ec7a",
            "45c963cca8d44ca1bfffe800e2852b93",
            "a51436dbcf274e479ca8b311114509e3",
            "d6fdf0e9464a4bbf8b73114d7b6567e4",
            "352d70ba93a540729408af4141608fb6",
            "6e08a8fc8bda4bb8b954b40e3d5eadb7",
            "1bac5e74d6254b4bb11c5af333c51fbd",
            "a863c4bf66194d84927b9d24b39a98c3",
            "5828c6256dc645d1be6d1cdff3c62242",
            "2682f4f4fbea48079c0e63a3fbcc0aa1",
            "9448a0aac61f4407b2bb0e3681911638",
            "9107d251e80244bb98493887c6f96bf0",
            "8065fae046944c488b8d7d36cefee453",
            "f07dfba1e8934809bc4735c7194416c5",
            "fd61b69dd6c84e6ab034a01599edb35d",
            "9dce7db90cba4c90b65ddd476322def1",
            "157e936c1b6640b6af6a872e54459397",
            "7be2f10c4d484565bff80d82b759355c",
            "ad42cfa7cd134554bf5b181612ed5ef0",
            "c3a4099fadbd4bbaa2c63a5c8e3aea8f",
            "4a4a734f68ed4f46a75d27d6bae00781",
            "a550ac39ab0a4232a4fa7ba1f6430a11",
            "c48ae1e2fbb9481a9fb224fbe351b429",
            "0b2e775d46d24fe08fd93dfbe1a559a2",
            "3b48c8eeba7a4004a1d443ae5ca2ddd7",
            "935c0d11c31a454d8ebb5a80e6952a53",
            "e08b23082d714f228092f6e7e3477c44",
            "31966c1ada084c6c8ea0bf9c15377122",
            "47c7294cca5848b186ce00ec2a608c9c",
            "3b0608e90ad74aa5bdb339a984a75ac6",
            "77883b81f47d47e0b2b16321a75cff89",
            "e2b7d05cdc484524b45c3c21a4114840",
            "85ef83e977534f97827caa71aec699d8",
            "8e94960d4942427281962da9ee4a7cdf",
            "30fa5c54e9a64cb8b74b7c71a1b874b7"
          ]
        },
        "outputId": "e30fac24-2861-44e2-9b5b-7bffd2332ca3"
      },
      "execution_count": 3,
      "outputs": [
        {
          "output_type": "stream",
          "name": "stdout",
          "text": [
            "Downloading http://fashion-mnist.s3-website.eu-central-1.amazonaws.com/train-images-idx3-ubyte.gz\n",
            "Downloading http://fashion-mnist.s3-website.eu-central-1.amazonaws.com/train-images-idx3-ubyte.gz to ./data/FashionMNIST/raw/train-images-idx3-ubyte.gz\n"
          ]
        },
        {
          "output_type": "display_data",
          "data": {
            "application/vnd.jupyter.widget-view+json": {
              "model_id": "1227892d92e5446da4b9c07aeb2558f7",
              "version_minor": 0,
              "version_major": 2
            },
            "text/plain": [
              "  0%|          | 0/26421880 [00:00<?, ?it/s]"
            ]
          },
          "metadata": {}
        },
        {
          "output_type": "stream",
          "name": "stdout",
          "text": [
            "Extracting ./data/FashionMNIST/raw/train-images-idx3-ubyte.gz to ./data/FashionMNIST/raw\n",
            "\n",
            "Downloading http://fashion-mnist.s3-website.eu-central-1.amazonaws.com/train-labels-idx1-ubyte.gz\n",
            "Downloading http://fashion-mnist.s3-website.eu-central-1.amazonaws.com/train-labels-idx1-ubyte.gz to ./data/FashionMNIST/raw/train-labels-idx1-ubyte.gz\n"
          ]
        },
        {
          "output_type": "display_data",
          "data": {
            "application/vnd.jupyter.widget-view+json": {
              "model_id": "a51436dbcf274e479ca8b311114509e3",
              "version_minor": 0,
              "version_major": 2
            },
            "text/plain": [
              "  0%|          | 0/29515 [00:00<?, ?it/s]"
            ]
          },
          "metadata": {}
        },
        {
          "output_type": "stream",
          "name": "stdout",
          "text": [
            "Extracting ./data/FashionMNIST/raw/train-labels-idx1-ubyte.gz to ./data/FashionMNIST/raw\n",
            "\n",
            "Downloading http://fashion-mnist.s3-website.eu-central-1.amazonaws.com/t10k-images-idx3-ubyte.gz\n",
            "Downloading http://fashion-mnist.s3-website.eu-central-1.amazonaws.com/t10k-images-idx3-ubyte.gz to ./data/FashionMNIST/raw/t10k-images-idx3-ubyte.gz\n"
          ]
        },
        {
          "output_type": "display_data",
          "data": {
            "application/vnd.jupyter.widget-view+json": {
              "model_id": "f07dfba1e8934809bc4735c7194416c5",
              "version_minor": 0,
              "version_major": 2
            },
            "text/plain": [
              "  0%|          | 0/4422102 [00:00<?, ?it/s]"
            ]
          },
          "metadata": {}
        },
        {
          "output_type": "stream",
          "name": "stdout",
          "text": [
            "Extracting ./data/FashionMNIST/raw/t10k-images-idx3-ubyte.gz to ./data/FashionMNIST/raw\n",
            "\n",
            "Downloading http://fashion-mnist.s3-website.eu-central-1.amazonaws.com/t10k-labels-idx1-ubyte.gz\n",
            "Downloading http://fashion-mnist.s3-website.eu-central-1.amazonaws.com/t10k-labels-idx1-ubyte.gz to ./data/FashionMNIST/raw/t10k-labels-idx1-ubyte.gz\n"
          ]
        },
        {
          "output_type": "display_data",
          "data": {
            "application/vnd.jupyter.widget-view+json": {
              "model_id": "3b48c8eeba7a4004a1d443ae5ca2ddd7",
              "version_minor": 0,
              "version_major": 2
            },
            "text/plain": [
              "  0%|          | 0/5148 [00:00<?, ?it/s]"
            ]
          },
          "metadata": {}
        },
        {
          "output_type": "stream",
          "name": "stdout",
          "text": [
            "Extracting ./data/FashionMNIST/raw/t10k-labels-idx1-ubyte.gz to ./data/FashionMNIST/raw\n",
            "\n"
          ]
        }
      ]
    },
    {
      "cell_type": "code",
      "source": [
        "labels_map = ('T-Shirt', 'Trouser', 'Pullover', 'Dress', 'Coat', 'Sandal', 'Shirt','Sneaker', 'Bag', 'Ankle Boot')\n",
        "fig = plt.figure(figsize=(10,10));\n",
        "columns = 4;\n",
        "rows = 5;\n",
        "for i in range(1, 10):\n",
        "    print(trainset.train_labels)\n",
        "    fig.add_subplot(rows, columns, i)\n",
        "    fig.tight_layout()\n",
        "    plt.imshow(trainset.train_data[i].numpy(), cmap='gray')\n",
        "    plt.title('Training Label : %s' % labels_map[trainset.train_labels[i]])\n",
        "plt.show()"
      ],
      "metadata": {
        "id": "n1BN3BUwI6ka",
        "colab": {
          "base_uri": "https://localhost:8080/",
          "height": 680
        },
        "outputId": "1d62fc78-8bb3-4e3c-9142-ff00feaf7e6f"
      },
      "execution_count": null,
      "outputs": [
        {
          "output_type": "stream",
          "name": "stderr",
          "text": [
            "/usr/local/lib/python3.7/dist-packages/torchvision/datasets/mnist.py:52: UserWarning: train_labels has been renamed targets\n",
            "  warnings.warn(\"train_labels has been renamed targets\")\n",
            "/usr/local/lib/python3.7/dist-packages/torchvision/datasets/mnist.py:62: UserWarning: train_data has been renamed data\n",
            "  warnings.warn(\"train_data has been renamed data\")\n"
          ]
        },
        {
          "output_type": "stream",
          "name": "stdout",
          "text": [
            "tensor([9, 0, 0,  ..., 3, 0, 5])\n",
            "tensor([9, 0, 0,  ..., 3, 0, 5])\n",
            "tensor([9, 0, 0,  ..., 3, 0, 5])\n",
            "tensor([9, 0, 0,  ..., 3, 0, 5])\n",
            "tensor([9, 0, 0,  ..., 3, 0, 5])\n",
            "tensor([9, 0, 0,  ..., 3, 0, 5])\n",
            "tensor([9, 0, 0,  ..., 3, 0, 5])\n",
            "tensor([9, 0, 0,  ..., 3, 0, 5])\n",
            "tensor([9, 0, 0,  ..., 3, 0, 5])\n"
          ]
        },
        {
          "output_type": "display_data",
          "data": {
            "image/png": "[encoded data removed]",
            "text/plain": [
              "<Figure size 720x720 with 9 Axes>"
            ]
          },
          "metadata": {
            "image/png": {
              "width": 674,
              "height": 438
            },
            "needs_background": "light"
          }
        }
      ]
    },
    {
      "cell_type": "markdown",
      "source": [
        "## Part a"
      ],
      "metadata": {
        "id": "aKJDyRWXJnfi"
      }
    },
    {
      "cell_type": "code",
      "source": [
        ""
      ],
      "metadata": {
        "id": "-tTRyo1MEoRi"
      },
      "execution_count": null,
      "outputs": []
    },
    {
      "cell_type": "code",
      "source": [
        "input_size = 784\n",
        "out_size = 10"
      ],
      "metadata": {
        "id": "LX02zMCeJCfK"
      },
      "execution_count": null,
      "outputs": []
    },
    {
      "cell_type": "code",
      "source": [
        "## Define the model\n",
        "################ Your code ############\n",
        "model = nn.Sequential(\n",
        "            nn.Linear(784 ,600 ),\n",
        "            nn.ReLU(),\n",
        "            nn.Linear(600 , 600),\n",
        "            nn.ReLU(),\n",
        "            nn.Linear(600 , 10),\n",
        "            nn.LogSoftmax()\n",
        "\n",
        ")\n",
        "#######################################"
      ],
      "metadata": {
        "id": "7YlP2ve7KBTt"
      },
      "execution_count": null,
      "outputs": []
    },
    {
      "cell_type": "code",
      "source": [
        "################ Your code ############\n",
        "criterion = nn.CrossEntropyLoss()\n",
        "learning_rate = 0.001\n",
        "optimizer = optim.Adam(model.parameters(), lr=learning_rate)\n",
        "#######################################"
      ],
      "metadata": {
        "id": "yTu2Opx4LlkT"
      },
      "execution_count": null,
      "outputs": []
    },
    {
      "cell_type": "code",
      "source": [
        "print(model)"
      ],
      "metadata": {
        "id": "6Ht3JkkjKZ55",
        "colab": {
          "base_uri": "https://localhost:8080/"
        },
        "outputId": "f76f43ba-be4d-4fdd-d96e-f32f02f33131"
      },
      "execution_count": null,
      "outputs": [
        {
          "output_type": "stream",
          "name": "stdout",
          "text": [
            "Sequential(\n",
            "  (0): Linear(in_features=784, out_features=600, bias=True)\n",
            "  (1): ReLU()\n",
            "  (2): Linear(in_features=600, out_features=600, bias=True)\n",
            "  (3): ReLU()\n",
            "  (4): Linear(in_features=600, out_features=10, bias=True)\n",
            "  (5): LogSoftmax(dim=None)\n",
            ")\n"
          ]
        }
      ]
    },
    {
      "cell_type": "code",
      "source": [
        "## Train your model\n",
        "epochs = 10\n",
        "\n",
        "# Lists for knowing classwise accuracy\n",
        "\n",
        "for e in range(epochs):\n",
        "  running_loss = 0\n",
        "  for images, labels in trainloader:\n",
        "    \n",
        "    images = images.view(images.shape[0],-1) #sqash the image in to 784*1 vector\n",
        "\n",
        "    #reset the default gradients\n",
        "    optimizer.zero_grad()\n",
        "    \n",
        "    # forward pass\n",
        "    ################ Your code ############\n",
        "    output = model(images)\n",
        "    loss = criterion(output, labels)\n",
        "    #######################################\n",
        "    #backward pass calculate the gradients for loss\n",
        "    loss.backward()\n",
        "    #backward pass calculate the gradients for loss\n",
        "    optimizer.step()\n",
        "\n",
        "    running_loss = running_loss+loss.item()\n",
        "  \n",
        "  print(f\"Training loss: {running_loss/len(trainloader)}\")\n"
      ],
      "metadata": {
        "id": "-G_9wk87KehM",
        "colab": {
          "base_uri": "https://localhost:8080/"
        },
        "outputId": "8c05ce20-7438-4a29-af5e-22ee9673d88f"
      },
      "execution_count": null,
      "outputs": [
        {
          "output_type": "stream",
          "name": "stderr",
          "text": [
            "/usr/local/lib/python3.7/dist-packages/torch/nn/modules/container.py:141: UserWarning: Implicit dimension choice for log_softmax has been deprecated. Change the call to include dim=X as an argument.\n",
            "  input = module(input)\n"
          ]
        },
        {
          "output_type": "stream",
          "name": "stdout",
          "text": [
            "Training loss: 0.3017598070553752\n",
            "Training loss: 0.21628437351697544\n",
            "Training loss: 0.19223529064674366\n",
            "Training loss: 0.1780912439420279\n",
            "Training loss: 0.1718418008264607\n",
            "Training loss: 0.16118162178368903\n",
            "Training loss: 0.15441350926007671\n",
            "Training loss: 0.14842582525196932\n",
            "Training loss: 0.14571972785076734\n",
            "Training loss: 0.1375994981943703\n"
          ]
        }
      ]
    },
    {
      "cell_type": "code",
      "source": [
        "## Test your model\n",
        "################ Your code ############\n",
        "predictions_list = []\n",
        "correct = 0\n",
        "total = 0\n",
        "for images, labels in testloader:\n",
        "  images2 = images.view(images.shape[0],-1) \n",
        "  #turn off the gradients\n",
        "  with torch.no_grad():\n",
        "    logps = model(images2)\n",
        "  loss2 = criterion(logps, labels)\n",
        "  predictions = torch.max(logps, 1)[1]\n",
        "  predictions_list.append(predictions)\n",
        "  correct += (predictions == labels).sum()\n",
        "  loss2 = criterion(logps, labels)\n",
        "  total += len(labels)\n",
        "accuracy = correct * 100 / total\n",
        "print(\"Loss: {}, Accuracy: {}%\".format(loss2.data, accuracy))\n",
        "\n",
        "\n",
        "#########################################################################plot\n",
        "%matplotlib inline\n",
        "%config InlineBackend.figure_format = 'retina'\n",
        "\n",
        "for i in  range(10) :\n",
        "  dataiter = iter(testloader)\n",
        "  images, labels = dataiter.next()\n",
        "  img = images[0]\n",
        "  # Convert 2D image to 1D vector\n",
        "  img = img.resize_(1, 784)\n",
        "\n",
        "#turn off the gradients\n",
        "  with torch.no_grad():\n",
        "    logps = model(img)\n",
        "# TODO: Calculate the class probabilities (softmax) for img\n",
        "  ps = torch.exp(logps)\n",
        "\n",
        "  def view_classify(img, ps):\n",
        "    ''' Function for viewing an image and it's predicted classes.\n",
        "    '''\n",
        "    ps = ps.data.numpy().squeeze()\n",
        "\n",
        "    fig, (ax1, ax2) = plt.subplots(figsize=(6,9), ncols=2)\n",
        "    ax1.imshow(img.resize_(1, 28, 28).numpy().squeeze())\n",
        "    ax1.axis('off')\n",
        "    ax2.barh(np.arange(10), ps)\n",
        "    ax2.set_aspect(0.1)\n",
        "    ax2.set_yticks(np.arange(10))\n",
        "    ax2.set_yticklabels(['T-shirt/top',\n",
        "                            'Trouser',\n",
        "                            'Pullover',\n",
        "                            'Dress',\n",
        "                            'Coat',\n",
        "                            'Sandal',\n",
        "                            'Shirt',\n",
        "                            'Sneaker',\n",
        "                            'Bag',\n",
        "                            'Ankle Boot'], size='small');\n",
        "    ax2.set_title('Class Probability')\n",
        "    ax2.set_xlim(0, 1)\n",
        "  view_classify(img.resize_(1, 28, 28), ps)\n",
        "#######################################"
      ],
      "metadata": {
        "id": "R1TD7mF_KkHP",
        "colab": {
          "base_uri": "https://localhost:8080/",
          "height": 1000
        },
        "outputId": "3813cdc3-645b-469b-c746-a646d519436d"
      },
      "execution_count": null,
      "outputs": [
        {
          "output_type": "stream",
          "name": "stderr",
          "text": [
            "/usr/local/lib/python3.7/dist-packages/torch/nn/modules/container.py:141: UserWarning: Implicit dimension choice for log_softmax has been deprecated. Change the call to include dim=X as an argument.\n",
            "  input = module(input)\n"
          ]
        },
        {
          "output_type": "stream",
          "name": "stdout",
          "text": [
            "Loss: 0.12784354388713837, Accuracy: 88.95999908447266%\n"
          ]
        },
        {
          "output_type": "display_data",
          "data": {
            "image/png": "[encoded data removed]",
            "text/plain": [
              "<Figure size 432x648 with 2 Axes>"
            ]
          },
          "metadata": {
            "image/png": {
              "width": 357,
              "height": 210
            },
            "needs_background": "light"
          }
        },
        {
          "output_type": "display_data",
          "data": {
            "image/png": "[encoded data removed]",
            "text/plain": [
              "<Figure size 432x648 with 2 Axes>"
            ]
          },
          "metadata": {
            "image/png": {
              "width": 357,
              "height": 210
            },
            "needs_background": "light"
          }
        },
        {
          "output_type": "display_data",
          "data": {
            "image/png": "[encoded data removed]",
            "text/plain": [
              "<Figure size 432x648 with 2 Axes>"
            ]
          },
          "metadata": {
            "image/png": {
              "width": 357,
              "height": 210
            },
            "needs_background": "light"
          }
        },
        {
          "output_type": "display_data",
          "data": {
            "image/png": "[encoded data removed]",
            "text/plain": [
              "<Figure size 432x648 with 2 Axes>"
            ]
          },
          "metadata": {
            "image/png": {
              "width": 357,
              "height": 210
            },
            "needs_background": "light"
          }
        },
        {
          "output_type": "display_data",
          "data": {
            "image/png": "[encoded data removed]",
            "text/plain": [
              "<Figure size 432x648 with 2 Axes>"
            ]
          },
          "metadata": {
            "image/png": {
              "width": 357,
              "height": 210
            },
            "needs_background": "light"
          }
        },
        {
          "output_type": "display_data",
          "data": {
            "image/png": "[encoded data removed]",
            "text/plain": [
              "<Figure size 432x648 with 2 Axes>"
            ]
          },
          "metadata": {
            "image/png": {
              "width": 357,
              "height": 210
            },
            "needs_background": "light"
          }
        },
        {
          "output_type": "display_data",
          "data": {
            "image/png": "[encoded data removed]",
            "text/plain": [
              "<Figure size 432x648 with 2 Axes>"
            ]
          },
          "metadata": {
            "image/png": {
              "width": 357,
              "height": 210
            },
            "needs_background": "light"
          }
        },
        {
          "output_type": "display_data",
          "data": {
            "image/png": "[encoded data removed]",
            "text/plain": [
              "<Figure size 432x648 with 2 Axes>"
            ]
          },
          "metadata": {
            "image/png": {
              "width": 357,
              "height": 210
            },
            "needs_background": "light"
          }
        },
        {
          "output_type": "display_data",
          "data": {
            "image/png": "[encoded data removed]",
            "text/plain": [
              "<Figure size 432x648 with 2 Axes>"
            ]
          },
          "metadata": {
            "image/png": {
              "width": 357,
              "height": 210
            },
            "needs_background": "light"
          }
        },
        {
          "output_type": "display_data",
          "data": {
            "image/png": "[encoded data removed]",
            "text/plain": [
              "<Figure size 432x648 with 2 Axes>"
            ]
          },
          "metadata": {
            "image/png": {
              "width": 357,
              "height": 210
            },
            "needs_background": "light"
          }
        }
      ]
    },
    {
      "cell_type": "markdown",
      "source": [
        "## Part b"
      ],
      "metadata": {
        "id": "BS1HDtG3OpYc"
      }
    },
    {
      "cell_type": "code",
      "source": [
        "## Define the model\n",
        "################ Your code ############\n",
        "model2 = nn.Sequential(\n",
        "            nn.Linear(784 ,1500 ),\n",
        "            nn.ReLU(),\n",
        "            nn.Linear(1500 , 1500),\n",
        "            nn.ReLU(),\n",
        "            nn.Linear(1500 , 10),\n",
        "            nn.LogSoftmax()\n",
        "\n",
        ")\n",
        "#######################################"
      ],
      "metadata": {
        "id": "oxnXpIDME94o"
      },
      "execution_count": null,
      "outputs": []
    },
    {
      "cell_type": "code",
      "source": [
        "################ Your code ############\n",
        "criterion2 = nn.CrossEntropyLoss()\n",
        "learning_rate2 = 0.001\n",
        "optimizer2 = optim.Adam(model2.parameters(), lr=learning_rate2)\n",
        "#######################################"
      ],
      "metadata": {
        "id": "93Eb8ZCHFBif"
      },
      "execution_count": null,
      "outputs": []
    },
    {
      "cell_type": "code",
      "source": [
        "\n",
        "## Train your model\n",
        "epochs = 40\n",
        "\n",
        "# Lists for knowing classwise accuracy\n",
        "\n",
        "for e in range(epochs):\n",
        "  running_loss = 0\n",
        "  for images, labels in trainloader:\n",
        "    \n",
        "    images = images.view(images.shape[0],-1) #sqash the image in to 784*1 vector\n",
        "\n",
        "    #reset the default gradients\n",
        "    optimizer2.zero_grad()\n",
        "    \n",
        "    # forward pass\n",
        "    ################ Your code ############\n",
        "    output = model2(images)\n",
        "    loss = criterion2(output, labels)\n",
        "    #######################################\n",
        "    #backward pass calculate the gradients for loss\n",
        "    loss.backward()\n",
        "    #backward pass calculate the gradients for loss\n",
        "    optimizer2.step()\n",
        "\n",
        "    running_loss = running_loss+loss.item()\n",
        "  \n",
        "  print(f\"Training loss: {running_loss/len(trainloader)}\")\n"
      ],
      "metadata": {
        "id": "yPfXRzZOLHgJ",
        "colab": {
          "base_uri": "https://localhost:8080/"
        },
        "outputId": "8210c301-07ff-4a06-bbd3-8f9f6ab0addc"
      },
      "execution_count": null,
      "outputs": [
        {
          "output_type": "stream",
          "name": "stderr",
          "text": [
            "/usr/local/lib/python3.7/dist-packages/torch/nn/modules/container.py:141: UserWarning: Implicit dimension choice for log_softmax has been deprecated. Change the call to include dim=X as an argument.\n",
            "  input = module(input)\n"
          ]
        },
        {
          "output_type": "stream",
          "name": "stdout",
          "text": [
            "Training loss: 0.44901810074920084\n",
            "Training loss: 0.34707445486871674\n",
            "Training loss: 0.3079290683351473\n",
            "Training loss: 0.28546844396605164\n",
            "Training loss: 0.2642947236921932\n",
            "Training loss: 0.2475581733561528\n",
            "Training loss: 0.23352028965664062\n",
            "Training loss: 0.22051629107167472\n",
            "Training loss: 0.20935392415504467\n",
            "Training loss: 0.19878260157843516\n",
            "Training loss: 0.19449425234532813\n",
            "Training loss: 0.1880578286469237\n",
            "Training loss: 0.19242825821391554\n",
            "Training loss: 0.1670251831507632\n",
            "Training loss: 0.1558276205353423\n",
            "Training loss: 0.15238480616424446\n",
            "Training loss: 0.14949064993702654\n",
            "Training loss: 0.14315136041351234\n",
            "Training loss: 0.1370998851335379\n",
            "Training loss: 0.12967628497642272\n",
            "Training loss: 0.130583160505223\n",
            "Training loss: 0.12204264132365553\n",
            "Training loss: 0.11916350604080633\n",
            "Training loss: 0.1161396277895662\n",
            "Training loss: 0.11517766328937591\n",
            "Training loss: 0.1093061630353967\n",
            "Training loss: 0.10361204824861148\n",
            "Training loss: 0.102397990357657\n",
            "Training loss: 0.10287666836701857\n",
            "Training loss: 0.10231055928143992\n",
            "Training loss: 0.10590891212598284\n",
            "Training loss: 0.09875923689397206\n",
            "Training loss: 0.08436349696710087\n",
            "Training loss: 0.08995782795485292\n",
            "Training loss: 0.08848794223566943\n",
            "Training loss: 0.0842612865212153\n",
            "Training loss: 0.08104217079106166\n",
            "Training loss: 0.07892891576663573\n",
            "Training loss: 0.07649770510945914\n",
            "Training loss: 0.08841666532247558\n"
          ]
        }
      ]
    },
    {
      "cell_type": "code",
      "source": [
        "\n",
        "## Test your model\n",
        "################ Your code ############\n",
        "predictions_list = []\n",
        "correct = 0\n",
        "total = 0\n",
        "for images, labels in testloader:\n",
        "  images2 = images.view(images.shape[0],-1) \n",
        "  #turn off the gradients\n",
        "  with torch.no_grad():\n",
        "    logps = model(images2)\n",
        "  loss2 = criterion(logps, labels)\n",
        "  ps = torch.exp(logps)\n",
        "  predictions = torch.max(logps, 1)[1]\n",
        "  predictions_list.append(predictions)\n",
        "  correct += (predictions == labels).sum()\n",
        "  loss2 = criterion(logps, labels)\n",
        "  total += len(labels)\n",
        "accuracy = correct * 100 / total\n",
        "print(\"Loss: {}, Accuracy: {}%\".format(loss2.data, accuracy))\n"
      ],
      "metadata": {
        "colab": {
          "base_uri": "https://localhost:8080/"
        },
        "id": "uEp1xbm3865N",
        "outputId": "5896c302-bc8e-45f0-da1a-c918e575d760"
      },
      "execution_count": null,
      "outputs": [
        {
          "output_type": "stream",
          "name": "stderr",
          "text": [
            "/usr/local/lib/python3.7/dist-packages/torch/nn/modules/container.py:141: UserWarning: Implicit dimension choice for log_softmax has been deprecated. Change the call to include dim=X as an argument.\n",
            "  input = module(input)\n"
          ]
        },
        {
          "output_type": "stream",
          "name": "stdout",
          "text": [
            "Loss: 0.6699567437171936, Accuracy: 89.2699966430664%\n"
          ]
        }
      ]
    },
    {
      "cell_type": "markdown",
      "source": [
        "## Part c"
      ],
      "metadata": {
        "id": "koz_Yd8jRFIe"
      }
    },
    {
      "cell_type": "markdown",
      "source": [
        "**All Relu & CE**"
      ],
      "metadata": {
        "id": "t5CYUyjlFNEJ"
      }
    },
    {
      "cell_type": "code",
      "source": [
        "model4 = nn.Sequential(\n",
        "            nn.Linear(784 ,600 ),\n",
        "            nn.ReLU(),\n",
        "            nn.Linear(600 , 600),\n",
        "            nn.ReLU(),\n",
        "            nn.Linear(600 , 10),\n",
        "            nn.ReLU()\n",
        "\n",
        ")"
      ],
      "metadata": {
        "id": "lrCKW9LNRGBM"
      },
      "execution_count": 4,
      "outputs": []
    },
    {
      "cell_type": "code",
      "source": [
        "################ Your code ############\n",
        "criterion = nn.CrossEntropyLoss()\n",
        "learning_rate = 0.001\n",
        "optimizer = optim.Adam(model4.parameters(), lr=learning_rate)\n",
        "#######################################"
      ],
      "metadata": {
        "id": "mFtUMthREvki"
      },
      "execution_count": 6,
      "outputs": []
    },
    {
      "cell_type": "code",
      "source": [
        "## Train your model\n",
        "epochs = 10\n",
        "\n",
        "# Lists for knowing classwise accuracy\n",
        "\n",
        "for e in range(epochs):\n",
        "  running_loss = 0\n",
        "  for images, labels in trainloader:\n",
        "    \n",
        "    images = images.view(images.shape[0],-1) #sqash the image in to 784*1 vector\n",
        "\n",
        "    #reset the default gradients\n",
        "    optimizer.zero_grad()\n",
        "    \n",
        "    # forward pass\n",
        "    ################ Your code ############\n",
        "    output = model4(images)\n",
        "    loss = criterion(output, labels)\n",
        "    #######################################\n",
        "    #backward pass calculate the gradients for loss\n",
        "    loss.backward()\n",
        "    #backward pass calculate the gradients for loss\n",
        "    optimizer.step()\n",
        "\n",
        "    running_loss = running_loss+loss.item()\n",
        "  \n",
        "  print(f\"Training loss: {running_loss/len(trainloader)}\")"
      ],
      "metadata": {
        "colab": {
          "base_uri": "https://localhost:8080/"
        },
        "id": "0r1tMioZFC7J",
        "outputId": "1a48facf-a210-4813-edb5-d968fc2ed529"
      },
      "execution_count": 7,
      "outputs": [
        {
          "output_type": "stream",
          "name": "stdout",
          "text": [
            "Training loss: 0.9248061974419713\n",
            "Training loss: 0.5571702128248428\n",
            "Training loss: 0.32414268185176065\n",
            "Training loss: 0.28633390348762083\n",
            "Training loss: 0.26396283127669334\n",
            "Training loss: 0.24850139329269497\n",
            "Training loss: 0.2342155922982675\n",
            "Training loss: 0.22009772438802191\n",
            "Training loss: 0.20967454005326672\n",
            "Training loss: 0.1973976344505607\n"
          ]
        }
      ]
    },
    {
      "cell_type": "code",
      "source": [
        "\n",
        "## Test your model\n",
        "################ Your code ############\n",
        "predictions_list = []\n",
        "correct = 0\n",
        "total = 0\n",
        "for images, labels in testloader:\n",
        "  images2 = images.view(images.shape[0],-1) \n",
        "  #turn off the gradients\n",
        "  with torch.no_grad():\n",
        "    logps = model4(images2)\n",
        "  loss2 = criterion(logps, labels)\n",
        "  ps = torch.exp(logps)\n",
        "  predictions = torch.max(logps, 1)[1]\n",
        "  predictions_list.append(predictions)\n",
        "  correct += (predictions == labels).sum()\n",
        "  loss2 = criterion(logps, labels)\n",
        "  total += len(labels)\n",
        "accuracy = correct * 100 / total\n",
        "print(\"Loss: {}, Accuracy: {}%\".format(loss2.data, accuracy))"
      ],
      "metadata": {
        "colab": {
          "base_uri": "https://localhost:8080/"
        },
        "id": "t5NfjVERFElf",
        "outputId": "61bdea92-476c-4322-f7e2-a787dae1743f"
      },
      "execution_count": 8,
      "outputs": [
        {
          "output_type": "stream",
          "name": "stdout",
          "text": [
            "Loss: 0.11737029254436493, Accuracy: 89.0999984741211%\n"
          ]
        }
      ]
    },
    {
      "cell_type": "code",
      "source": [
        "model5 = nn.Sequential(\n",
        "            nn.Linear(784 ,600 ),\n",
        "            nn.LeakyReLU(0.1),\n",
        "            nn.Linear(600 , 600),\n",
        "            nn.LeakyReLU(0.1),\n",
        "            nn.Linear(600 , 10),\n",
        "            nn.LeakyReLU(0.1)\n",
        "\n",
        ")"
      ],
      "metadata": {
        "id": "uNG7tfHLFKY7"
      },
      "execution_count": 10,
      "outputs": []
    },
    {
      "cell_type": "code",
      "source": [
        "################ Your code ############\n",
        "criterion5 = nn.CrossEntropyLoss()\n",
        "learning_rate = 0.001\n",
        "optimizer5 = optim.Adam(model5.parameters(), lr=learning_rate)"
      ],
      "metadata": {
        "id": "cgO5CGR8I8ox"
      },
      "execution_count": 23,
      "outputs": []
    },
    {
      "cell_type": "code",
      "source": [
        "## Train your model\n",
        "epochs = 10\n",
        "\n",
        "# Lists for knowing classwise accuracy\n",
        "\n",
        "for e in range(epochs):\n",
        "  running_loss = 0\n",
        "  for images, labels in trainloader:\n",
        "    \n",
        "    images = images.view(images.shape[0],-1) #sqash the image in to 784*1 vector\n",
        "\n",
        "    #reset the default gradients\n",
        "    optimizer5.zero_grad()\n",
        "    \n",
        "    # forward pass\n",
        "    ################ Your code ############\n",
        "    output = model5(images)\n",
        "    loss = criterion5(output, labels)\n",
        "    #######################################\n",
        "    #backward pass calculate the gradients for loss\n",
        "    loss.backward()\n",
        "    #backward pass calculate the gradients for loss\n",
        "    optimizer5.step()\n",
        "\n",
        "    running_loss = running_loss+loss.item()\n",
        "  \n",
        "  print(f\"Training loss: {running_loss/len(trainloader)}\")"
      ],
      "metadata": {
        "colab": {
          "base_uri": "https://localhost:8080/"
        },
        "id": "9ObicnN4F_kL",
        "outputId": "b9415ae4-50c6-4fae-cb33-0914b16057cd"
      },
      "execution_count": 24,
      "outputs": [
        {
          "output_type": "stream",
          "name": "stdout",
          "text": [
            "Training loss: 0.46112907236255307\n",
            "Training loss: 0.35210838098960645\n",
            "Training loss: 0.32413756360472645\n",
            "Training loss: 0.29667906253052545\n",
            "Training loss: 0.28283636131361606\n",
            "Training loss: 0.26556421976798633\n",
            "Training loss: 0.2539350028826929\n",
            "Training loss: 0.2388182705534356\n",
            "Training loss: 0.23386397381930718\n",
            "Training loss: 0.22323821823416487\n"
          ]
        }
      ]
    },
    {
      "cell_type": "code",
      "source": [
        "\n",
        "## Test your model\n",
        "################ Your code ############\n",
        "predictions_list = []\n",
        "correct = 0\n",
        "total = 0\n",
        "for images, labels in testloader:\n",
        "  images2 = images.view(images.shape[0],-1) \n",
        "  #turn off the gradients\n",
        "  with torch.no_grad():\n",
        "    logps = model5(images2)\n",
        "  loss2 = criterion5(logps, labels)\n",
        "  ps = torch.exp(logps)\n",
        "  predictions = torch.max(logps, 1)[1]\n",
        "  predictions_list.append(predictions)\n",
        "  correct += (predictions == labels).sum()\n",
        "  loss2 = criterion5(logps, labels)\n",
        "  total += len(labels)\n",
        "accuracy = correct * 100 / total\n",
        "print(\"Loss: {}, Accuracy: {}%\".format(loss2.data, accuracy))"
      ],
      "metadata": {
        "colab": {
          "base_uri": "https://localhost:8080/"
        },
        "id": "K4Hu9EkmGP_9",
        "outputId": "52aebdad-d3c2-45b4-eb93-dc47e5dad1ee"
      },
      "execution_count": 25,
      "outputs": [
        {
          "output_type": "stream",
          "name": "stdout",
          "text": [
            "Loss: 0.33830171823501587, Accuracy: 87.41000366210938%\n"
          ]
        }
      ]
    },
    {
      "cell_type": "code",
      "source": [
        "model6 = nn.Sequential(\n",
        "            nn.Linear(784 ,600 ),\n",
        "            nn.Softmax(dim=1),\n",
        "            nn.Linear(600 , 600),\n",
        "            nn.Softmax(dim=1),\n",
        "            nn.Linear(600 , 10),\n",
        "            nn.Softmax(dim=1)\n",
        "\n",
        ")"
      ],
      "metadata": {
        "id": "RjseMyXrGUFM"
      },
      "execution_count": 13,
      "outputs": []
    },
    {
      "cell_type": "code",
      "source": [
        "################ Your code ############\n",
        "criterion6 = nn.CrossEntropyLoss()\n",
        "learning_rate = 0.001\n",
        "optimizer6 = optim.Adam(model6.parameters(), lr=learning_rate)"
      ],
      "metadata": {
        "id": "wfc0rmyoIpXE"
      },
      "execution_count": 20,
      "outputs": []
    },
    {
      "cell_type": "code",
      "source": [
        "## Train your model\n",
        "epochs = 10\n",
        "\n",
        "# Lists for knowing classwise accuracy\n",
        "\n",
        "for e in range(epochs):\n",
        "  running_loss = 0\n",
        "  for images, labels in trainloader:\n",
        "    \n",
        "    images = images.view(images.shape[0],-1) #sqash the image in to 784*1 vector\n",
        "\n",
        "    #reset the default gradients\n",
        "    optimizer6.zero_grad()\n",
        "    \n",
        "    # forward pass\n",
        "    ################ Your code ############\n",
        "    output = model6(images)\n",
        "    loss = criterion6(output, labels)\n",
        "    #######################################\n",
        "    #backward pass calculate the gradients for loss\n",
        "    loss.backward()\n",
        "    #backward pass calculate the gradients for loss\n",
        "    optimizer6.step()\n",
        "\n",
        "    running_loss = running_loss+loss.item()\n",
        "  \n",
        "  print(f\"Training loss: {running_loss/len(trainloader)}\")"
      ],
      "metadata": {
        "colab": {
          "base_uri": "https://localhost:8080/"
        },
        "id": "8Wa84umiGwP-",
        "outputId": "c91b4744-f9c3-47ad-8592-859fd949d840"
      },
      "execution_count": 21,
      "outputs": [
        {
          "output_type": "stream",
          "name": "stdout",
          "text": [
            "Training loss: 2.2677591723928066\n",
            "Training loss: 2.018985055402906\n",
            "Training loss: 1.9027397027656214\n",
            "Training loss: 1.886564132247144\n",
            "Training loss: 1.8796059310054982\n",
            "Training loss: 1.8793143814306523\n",
            "Training loss: 1.8769461090630815\n",
            "Training loss: 1.8744917107797634\n",
            "Training loss: 1.8741566210921639\n",
            "Training loss: 1.8597288054189702\n"
          ]
        }
      ]
    },
    {
      "cell_type": "code",
      "source": [
        "\n",
        "## Test your model\n",
        "################ Your code ############\n",
        "predictions_list = []\n",
        "correct = 0\n",
        "total = 0\n",
        "for images, labels in testloader:\n",
        "  images2 = images.view(images.shape[0],-1) \n",
        "  #turn off the gradients\n",
        "  with torch.no_grad():\n",
        "    logps = model6(images2)\n",
        "  loss2 = criterion6(logps, labels)\n",
        "  ps = torch.exp(logps)\n",
        "  predictions = torch.max(logps, 1)[1]\n",
        "  predictions_list.append(predictions)\n",
        "  correct += (predictions == labels).sum()\n",
        "  loss2 = criterion6(logps, labels)\n",
        "  total += len(labels)\n",
        "accuracy = correct * 100 / total\n",
        "print(\"Loss: {}, Accuracy: {}%\".format(loss2.data, accuracy))"
      ],
      "metadata": {
        "colab": {
          "base_uri": "https://localhost:8080/"
        },
        "id": "cqSJTbx5G4iz",
        "outputId": "d2365993-8433-4da1-f307-34ad3a893568"
      },
      "execution_count": 22,
      "outputs": [
        {
          "output_type": "stream",
          "name": "stdout",
          "text": [
            "Loss: 1.835360050201416, Accuracy: 60.779998779296875%\n"
          ]
        }
      ]
    }
  ]
}