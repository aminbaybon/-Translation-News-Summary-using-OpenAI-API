{
  "nbformat": 4,
  "nbformat_minor": 0,
  "metadata": {
    "colab": {
      "name": "CIFAR100_Optuna_PyTorch_Q4_B_Epoch_53.ipynb",
      "provenance": [],
      "collapsed_sections": []
    },
    "kernelspec": {
      "name": "python3",
      "display_name": "Python 3"
    },
    "language_info": {
      "name": "python"
    },
    "accelerator": "GPU",
    "gpuClass": "standard",
    "widgets": {
      "application/vnd.jupyter.widget-state+json": {
        "d96930c38d3a40faa0a78918b18cd0e7": {
          "model_module": "@jupyter-widgets/controls",
          "model_name": "HBoxModel",
          "model_module_version": "1.5.0",
          "state": {
            "_dom_classes": [],
            "_model_module": "@jupyter-widgets/controls",
            "_model_module_version": "1.5.0",
            "_model_name": "HBoxModel",
            "_view_count": null,
            "_view_module": "@jupyter-widgets/controls",
            "_view_module_version": "1.5.0",
            "_view_name": "HBoxView",
            "box_style": "",
            "children": [
              "IPY_MODEL_a3c88a94b86e40f0937bddafd33db12c",
              "IPY_MODEL_6d2f6e8d4c8446baab5fc7588d698f2a",
              "IPY_MODEL_2024e7fb12384af5bc178caa0c470b02"
            ],
            "layout": "IPY_MODEL_76fffdb5392e49929c3f6f88a024f207"
          }
        },
        "a3c88a94b86e40f0937bddafd33db12c": {
          "model_module": "@jupyter-widgets/controls",
          "model_name": "HTMLModel",
          "model_module_version": "1.5.0",
          "state": {
            "_dom_classes": [],
            "_model_module": "@jupyter-widgets/controls",
            "_model_module_version": "1.5.0",
            "_model_name": "HTMLModel",
            "_view_count": null,
            "_view_module": "@jupyter-widgets/controls",
            "_view_module_version": "1.5.0",
            "_view_name": "HTMLView",
            "description": "",
            "description_tooltip": null,
            "layout": "IPY_MODEL_fc382f1c67dc491cb4b75ff10eca0e99",
            "placeholder": "​",
            "style": "IPY_MODEL_f0fc6d2a6f7d4b3fac74f117854e6320",
            "value": ""
          }
        },
        "6d2f6e8d4c8446baab5fc7588d698f2a": {
          "model_module": "@jupyter-widgets/controls",
          "model_name": "FloatProgressModel",
          "model_module_version": "1.5.0",
          "state": {
            "_dom_classes": [],
            "_model_module": "@jupyter-widgets/controls",
            "_model_module_version": "1.5.0",
            "_model_name": "FloatProgressModel",
            "_view_count": null,
            "_view_module": "@jupyter-widgets/controls",
            "_view_module_version": "1.5.0",
            "_view_name": "ProgressView",
            "bar_style": "success",
            "description": "",
            "description_tooltip": null,
            "layout": "IPY_MODEL_92d116eea7c74b6dafbdc717a5961277",
            "max": 169001437,
            "min": 0,
            "orientation": "horizontal",
            "style": "IPY_MODEL_8bee49e829894170b9182736f512b17a",
            "value": 169001437
          }
        },
        "2024e7fb12384af5bc178caa0c470b02": {
          "model_module": "@jupyter-widgets/controls",
          "model_name": "HTMLModel",
          "model_module_version": "1.5.0",
          "state": {
            "_dom_classes": [],
            "_model_module": "@jupyter-widgets/controls",
            "_model_module_version": "1.5.0",
            "_model_name": "HTMLModel",
            "_view_count": null,
            "_view_module": "@jupyter-widgets/controls",
            "_view_module_version": "1.5.0",
            "_view_name": "HTMLView",
            "description": "",
            "description_tooltip": null,
            "layout": "IPY_MODEL_43e6ab74f68b43febe27507f5bfe8fbc",
            "placeholder": "​",
            "style": "IPY_MODEL_6f339774f78647928feb2a0c34146c44",
            "value": " 169001984/? [00:02&lt;00:00, 83230460.44it/s]"
          }
        },
        "76fffdb5392e49929c3f6f88a024f207": {
          "model_module": "@jupyter-widgets/base",
          "model_name": "LayoutModel",
          "model_module_version": "1.2.0",
          "state": {
            "_model_module": "@jupyter-widgets/base",
            "_model_module_version": "1.2.0",
            "_model_name": "LayoutModel",
            "_view_count": null,
            "_view_module": "@jupyter-widgets/base",
            "_view_module_version": "1.2.0",
            "_view_name": "LayoutView",
            "align_content": null,
            "align_items": null,
            "align_self": null,
            "border": null,
            "bottom": null,
            "display": null,
            "flex": null,
            "flex_flow": null,
            "grid_area": null,
            "grid_auto_columns": null,
            "grid_auto_flow": null,
            "grid_auto_rows": null,
            "grid_column": null,
            "grid_gap": null,
            "grid_row": null,
            "grid_template_areas": null,
            "grid_template_columns": null,
            "grid_template_rows": null,
            "height": null,
            "justify_content": null,
            "justify_items": null,
            "left": null,
            "margin": null,
            "max_height": null,
            "max_width": null,
            "min_height": null,
            "min_width": null,
            "object_fit": null,
            "object_position": null,
            "order": null,
            "overflow": null,
            "overflow_x": null,
            "overflow_y": null,
            "padding": null,
            "right": null,
            "top": null,
            "visibility": null,
            "width": null
          }
        },
        "fc382f1c67dc491cb4b75ff10eca0e99": {
          "model_module": "@jupyter-widgets/base",
          "model_name": "LayoutModel",
          "model_module_version": "1.2.0",
          "state": {
            "_model_module": "@jupyter-widgets/base",
            "_model_module_version": "1.2.0",
            "_model_name": "LayoutModel",
            "_view_count": null,
            "_view_module": "@jupyter-widgets/base",
            "_view_module_version": "1.2.0",
            "_view_name": "LayoutView",
            "align_content": null,
            "align_items": null,
            "align_self": null,
            "border": null,
            "bottom": null,
            "display": null,
            "flex": null,
            "flex_flow": null,
            "grid_area": null,
            "grid_auto_columns": null,
            "grid_auto_flow": null,
            "grid_auto_rows": null,
            "grid_column": null,
            "grid_gap": null,
            "grid_row": null,
            "grid_template_areas": null,
            "grid_template_columns": null,
            "grid_template_rows": null,
            "height": null,
            "justify_content": null,
            "justify_items": null,
            "left": null,
            "margin": null,
            "max_height": null,
            "max_width": null,
            "min_height": null,
            "min_width": null,
            "object_fit": null,
            "object_position": null,
            "order": null,
            "overflow": null,
            "overflow_x": null,
            "overflow_y": null,
            "padding": null,
            "right": null,
            "top": null,
            "visibility": null,
            "width": null
          }
        },
        "f0fc6d2a6f7d4b3fac74f117854e6320": {
          "model_module": "@jupyter-widgets/controls",
          "model_name": "DescriptionStyleModel",
          "model_module_version": "1.5.0",
          "state": {
            "_model_module": "@jupyter-widgets/controls",
            "_model_module_version": "1.5.0",
            "_model_name": "DescriptionStyleModel",
            "_view_count": null,
            "_view_module": "@jupyter-widgets/base",
            "_view_module_version": "1.2.0",
            "_view_name": "StyleView",
            "description_width": ""
          }
        },
        "92d116eea7c74b6dafbdc717a5961277": {
          "model_module": "@jupyter-widgets/base",
          "model_name": "LayoutModel",
          "model_module_version": "1.2.0",
          "state": {
            "_model_module": "@jupyter-widgets/base",
            "_model_module_version": "1.2.0",
            "_model_name": "LayoutModel",
            "_view_count": null,
            "_view_module": "@jupyter-widgets/base",
            "_view_module_version": "1.2.0",
            "_view_name": "LayoutView",
            "align_content": null,
            "align_items": null,
            "align_self": null,
            "border": null,
            "bottom": null,
            "display": null,
            "flex": null,
            "flex_flow": null,
            "grid_area": null,
            "grid_auto_columns": null,
            "grid_auto_flow": null,
            "grid_auto_rows": null,
            "grid_column": null,
            "grid_gap": null,
            "grid_row": null,
            "grid_template_areas": null,
            "grid_template_columns": null,
            "grid_template_rows": null,
            "height": null,
            "justify_content": null,
            "justify_items": null,
            "left": null,
            "margin": null,
            "max_height": null,
            "max_width": null,
            "min_height": null,
            "min_width": null,
            "object_fit": null,
            "object_position": null,
            "order": null,
            "overflow": null,
            "overflow_x": null,
            "overflow_y": null,
            "padding": null,
            "right": null,
            "top": null,
            "visibility": null,
            "width": null
          }
        },
        "8bee49e829894170b9182736f512b17a": {
          "model_module": "@jupyter-widgets/controls",
          "model_name": "ProgressStyleModel",
          "model_module_version": "1.5.0",
          "state": {
            "_model_module": "@jupyter-widgets/controls",
            "_model_module_version": "1.5.0",
            "_model_name": "ProgressStyleModel",
            "_view_count": null,
            "_view_module": "@jupyter-widgets/base",
            "_view_module_version": "1.2.0",
            "_view_name": "StyleView",
            "bar_color": null,
            "description_width": ""
          }
        },
        "43e6ab74f68b43febe27507f5bfe8fbc": {
          "model_module": "@jupyter-widgets/base",
          "model_name": "LayoutModel",
          "model_module_version": "1.2.0",
          "state": {
            "_model_module": "@jupyter-widgets/base",
            "_model_module_version": "1.2.0",
            "_model_name": "LayoutModel",
            "_view_count": null,
            "_view_module": "@jupyter-widgets/base",
            "_view_module_version": "1.2.0",
            "_view_name": "LayoutView",
            "align_content": null,
            "align_items": null,
            "align_self": null,
            "border": null,
            "bottom": null,
            "display": null,
            "flex": null,
            "flex_flow": null,
            "grid_area": null,
            "grid_auto_columns": null,
            "grid_auto_flow": null,
            "grid_auto_rows": null,
            "grid_column": null,
            "grid_gap": null,
            "grid_row": null,
            "grid_template_areas": null,
            "grid_template_columns": null,
            "grid_template_rows": null,
            "height": null,
            "justify_content": null,
            "justify_items": null,
            "left": null,
            "margin": null,
            "max_height": null,
            "max_width": null,
            "min_height": null,
            "min_width": null,
            "object_fit": null,
            "object_position": null,
            "order": null,
            "overflow": null,
            "overflow_x": null,
            "overflow_y": null,
            "padding": null,
            "right": null,
            "top": null,
            "visibility": null,
            "width": null
          }
        },
        "6f339774f78647928feb2a0c34146c44": {
          "model_module": "@jupyter-widgets/controls",
          "model_name": "DescriptionStyleModel",
          "model_module_version": "1.5.0",
          "state": {
            "_model_module": "@jupyter-widgets/controls",
            "_model_module_version": "1.5.0",
            "_model_name": "DescriptionStyleModel",
            "_view_count": null,
            "_view_module": "@jupyter-widgets/base",
            "_view_module_version": "1.2.0",
            "_view_name": "StyleView",
            "description_width": ""
          }
        }
      }
    }
  },
  "cells": [
    {
      "cell_type": "code",
      "execution_count": 1,
      "metadata": {
        "colab": {
          "base_uri": "https://localhost:8080/"
        },
        "id": "6brG6xRQVBca",
        "outputId": "4f74012e-3af8-48e1-d014-282f7f370ed2"
      },
      "outputs": [
        {
          "output_type": "stream",
          "name": "stdout",
          "text": [
            "Looking in indexes: https://pypi.org/simple, https://us-python.pkg.dev/colab-wheels/public/simple/\n",
            "Collecting optuna\n",
            "  Downloading optuna-2.10.1-py3-none-any.whl (308 kB)\n",
            "\u001b[K     |████████████████████████████████| 308 kB 5.1 MB/s \n",
            "\u001b[?25hRequirement already satisfied: numpy in /usr/local/lib/python3.7/dist-packages (from optuna) (1.21.6)\n",
            "Requirement already satisfied: scipy!=1.4.0 in /usr/local/lib/python3.7/dist-packages (from optuna) (1.4.1)\n",
            "Collecting cmaes>=0.8.2\n",
            "  Downloading cmaes-0.8.2-py3-none-any.whl (15 kB)\n",
            "Collecting colorlog\n",
            "  Downloading colorlog-6.6.0-py2.py3-none-any.whl (11 kB)\n",
            "Requirement already satisfied: packaging>=20.0 in /usr/local/lib/python3.7/dist-packages (from optuna) (21.3)\n",
            "Collecting cliff\n",
            "  Downloading cliff-3.10.1-py3-none-any.whl (81 kB)\n",
            "\u001b[K     |████████████████████████████████| 81 kB 10.5 MB/s \n",
            "\u001b[?25hRequirement already satisfied: tqdm in /usr/local/lib/python3.7/dist-packages (from optuna) (4.64.0)\n",
            "Requirement already satisfied: sqlalchemy>=1.1.0 in /usr/local/lib/python3.7/dist-packages (from optuna) (1.4.37)\n",
            "Collecting alembic\n",
            "  Downloading alembic-1.8.0-py3-none-any.whl (209 kB)\n",
            "\u001b[K     |████████████████████████████████| 209 kB 59.5 MB/s \n",
            "\u001b[?25hRequirement already satisfied: PyYAML in /usr/local/lib/python3.7/dist-packages (from optuna) (3.13)\n",
            "Requirement already satisfied: pyparsing!=3.0.5,>=2.0.2 in /usr/local/lib/python3.7/dist-packages (from packaging>=20.0->optuna) (3.0.9)\n",
            "Requirement already satisfied: importlib-metadata in /usr/local/lib/python3.7/dist-packages (from sqlalchemy>=1.1.0->optuna) (4.11.4)\n",
            "Requirement already satisfied: greenlet!=0.4.17 in /usr/local/lib/python3.7/dist-packages (from sqlalchemy>=1.1.0->optuna) (1.1.2)\n",
            "Requirement already satisfied: importlib-resources in /usr/local/lib/python3.7/dist-packages (from alembic->optuna) (5.7.1)\n",
            "Collecting Mako\n",
            "  Downloading Mako-1.2.0-py3-none-any.whl (78 kB)\n",
            "\u001b[K     |████████████████████████████████| 78 kB 4.7 MB/s \n",
            "\u001b[?25hCollecting autopage>=0.4.0\n",
            "  Downloading autopage-0.5.1-py3-none-any.whl (29 kB)\n",
            "Collecting cmd2>=1.0.0\n",
            "  Downloading cmd2-2.4.1-py3-none-any.whl (146 kB)\n",
            "\u001b[K     |████████████████████████████████| 146 kB 67.7 MB/s \n",
            "\u001b[?25hCollecting pbr!=2.1.0,>=2.0.0\n",
            "  Downloading pbr-5.9.0-py2.py3-none-any.whl (112 kB)\n",
            "\u001b[K     |████████████████████████████████| 112 kB 68.4 MB/s \n",
            "\u001b[?25hRequirement already satisfied: PrettyTable>=0.7.2 in /usr/local/lib/python3.7/dist-packages (from cliff->optuna) (3.3.0)\n",
            "Collecting stevedore>=2.0.1\n",
            "  Downloading stevedore-3.5.0-py3-none-any.whl (49 kB)\n",
            "\u001b[K     |████████████████████████████████| 49 kB 6.2 MB/s \n",
            "\u001b[?25hCollecting pyperclip>=1.6\n",
            "  Downloading pyperclip-1.8.2.tar.gz (20 kB)\n",
            "Requirement already satisfied: typing-extensions in /usr/local/lib/python3.7/dist-packages (from cmd2>=1.0.0->cliff->optuna) (4.1.1)\n",
            "Requirement already satisfied: attrs>=16.3.0 in /usr/local/lib/python3.7/dist-packages (from cmd2>=1.0.0->cliff->optuna) (21.4.0)\n",
            "Requirement already satisfied: wcwidth>=0.1.7 in /usr/local/lib/python3.7/dist-packages (from cmd2>=1.0.0->cliff->optuna) (0.2.5)\n",
            "Requirement already satisfied: zipp>=0.5 in /usr/local/lib/python3.7/dist-packages (from importlib-metadata->sqlalchemy>=1.1.0->optuna) (3.8.0)\n",
            "Requirement already satisfied: MarkupSafe>=0.9.2 in /usr/local/lib/python3.7/dist-packages (from Mako->alembic->optuna) (2.0.1)\n",
            "Building wheels for collected packages: pyperclip\n",
            "  Building wheel for pyperclip (setup.py) ... \u001b[?25l\u001b[?25hdone\n",
            "  Created wheel for pyperclip: filename=pyperclip-1.8.2-py3-none-any.whl size=11137 sha256=46b852e9eec04466ab00c9995fee6466b614621dd17721746416e2cdc81fcaba\n",
            "  Stored in directory: /root/.cache/pip/wheels/9f/18/84/8f69f8b08169c7bae2dde6bd7daf0c19fca8c8e500ee620a28\n",
            "Successfully built pyperclip\n",
            "Installing collected packages: pyperclip, pbr, stevedore, Mako, cmd2, autopage, colorlog, cmaes, cliff, alembic, optuna\n",
            "Successfully installed Mako-1.2.0 alembic-1.8.0 autopage-0.5.1 cliff-3.10.1 cmaes-0.8.2 cmd2-2.4.1 colorlog-6.6.0 optuna-2.10.1 pbr-5.9.0 pyperclip-1.8.2 stevedore-3.5.0\n"
          ]
        }
      ],
      "source": [
        "!pip install optuna"
      ]
    },
    {
      "cell_type": "code",
      "source": [
        "import os\n",
        "\n",
        "import optuna\n",
        "from optuna.trial import TrialState\n",
        "import torch\n",
        "import torch.nn as nn\n",
        "import torch.nn.functional as F\n",
        "import torch.optim as optim\n",
        "import torch.utils.data\n",
        "from torchvision import datasets\n",
        "from torchvision import transforms\n",
        "from torchsummary import summary\n",
        "import numpy as np"
      ],
      "metadata": {
        "id": "MENVL_e_VQnf"
      },
      "execution_count": 2,
      "outputs": []
    },
    {
      "cell_type": "code",
      "source": [
        "DEVICE = torch.device(\"cuda\")\n",
        "BATCHSIZE = 128\n",
        "CLASSES = 100\n",
        "DIR = os.getcwd()\n",
        "EPOCHS = 10\n",
        "N_TRAIN_EXAMPLES = BATCHSIZE * 300\n",
        "N_VALID_EXAMPLES = BATCHSIZE * 100"
      ],
      "metadata": {
        "id": "vhyYP7f_VTQR"
      },
      "execution_count": 3,
      "outputs": []
    },
    {
      "cell_type": "code",
      "source": [
        "def define_model(trial):\n",
        "    # We optimize the number of layers, hidden units and dropout ratio in each layer.\n",
        "    n_layers_Conv = trial.suggest_int(\"n_layers_conv\", 1, 4)\n",
        "    n_layers_Dense = trial.suggest_int(\"n_layers_dense\", 1, 3)\n",
        "    layers = []\n",
        "\n",
        "    #print(f\"{n_layers_Conv} layers Conv and {n_layers_Dense} Dense\")\n",
        "\n",
        "    in_channel = 3\n",
        "    width_height = 32\n",
        "\n",
        "    # convolution layers\n",
        "    for i in range(n_layers_Conv):\n",
        "      n_filters = trial.suggest_categorical(\"filters_{}\".format(i), [16, 32, 64, 128])\n",
        "      n_kernel_size = trial.suggest_categorical(\"kernel_size_{}\".format(i), [3, 5])\n",
        "      n_stride = trial.suggest_categorical(\"strides_{}\".format(i), [1, 2])\n",
        "\n",
        "      # for kernel > image\n",
        "      if (n_kernel_size > width_height):\n",
        "        continue\n",
        "\n",
        "      layers.append(nn.Conv2d(in_channels = in_channel, out_channels= n_filters, kernel_size= n_kernel_size, stride= n_stride,padding='valid'))\n",
        "      layers.append(nn.ReLU())\n",
        "\n",
        "      # get size of convs\n",
        "      TMP = ((width_height - n_kernel_size) // n_stride) + 1\n",
        "      out_shape = (TMP, TMP, n_filters)\n",
        "\n",
        "      #print(f\"in_channels = {in_channel}\\nout_channels = {n_filters}\\nkernel_size = {n_kernel_size}\\nstride = {n_stride}\\nOutput Shape = {out_shape}\")\n",
        "      #print('----------------------------------------------------------------')\n",
        "\n",
        "      width_height = TMP\n",
        "      in_channel = n_filters\n",
        "\n",
        "    # Flatten layer\n",
        "    layers.append(nn.Flatten())\n",
        "    \n",
        "\n",
        "    in_features = out_shape[0] * out_shape[1] * out_shape[2]\n",
        "    #in_features = out_shape[0]\n",
        "    for i in range(n_layers_Dense):\n",
        "        out_features = trial.suggest_int(\"n_units_{}\".format(i), 64, 128)\n",
        "        layers.append(nn.Linear(in_features, out_features))\n",
        "\n",
        "        #print(f\"in_features = {in_features}\\nout_features = {out_features}\")\n",
        "        #print('----------------------------------------------------------------')\n",
        "\n",
        "        layers.append(nn.ReLU())\n",
        "\n",
        "        in_features = out_features\n",
        "\n",
        "    # last Dense layer    \n",
        "    layers.append(nn.Linear(in_features, CLASSES))\n",
        "    #print(f\"in_features = {in_features}\\nout_features = {CLASSES}\")\n",
        "    #print('----------------------------------------------------------------')\n",
        "\n",
        "    #layers.append(nn.LogSoftmax(dim=1))\n",
        "    layers.append(nn.Softmax(dim = 1))\n",
        "\n",
        "    network = nn.Sequential(*layers)\n",
        "    #print('----------------------------------------------------------------')\n",
        "    #summary(network, (3, 32, 32))\n",
        "    #print('----------------------------------------------------------------')\n",
        "\n",
        "    return network"
      ],
      "metadata": {
        "id": "Dzu9gIwWVbZh"
      },
      "execution_count": 4,
      "outputs": []
    },
    {
      "cell_type": "code",
      "source": [
        "def get_CIFAR100():\n",
        "    # Load FashionMNIST dataset.\n",
        "    train_loader = torch.utils.data.DataLoader(\n",
        "        datasets.CIFAR100(DIR, train=True, download=True, transform=transforms.ToTensor()),\n",
        "        batch_size=BATCHSIZE,\n",
        "        shuffle=True,\n",
        "    )\n",
        "    valid_loader = torch.utils.data.DataLoader(\n",
        "        datasets.CIFAR100(DIR, train=False, transform=transforms.ToTensor()),\n",
        "        batch_size=BATCHSIZE,\n",
        "        shuffle=True,\n",
        "    )\n",
        "\n",
        "    return train_loader, valid_loader"
      ],
      "metadata": {
        "id": "wpmjnd_qarVa"
      },
      "execution_count": 5,
      "outputs": []
    },
    {
      "cell_type": "code",
      "source": [
        "def objective(trial):\n",
        "\n",
        "    # Generate the model.\n",
        "    model = define_model(trial).to(DEVICE)\n",
        "\n",
        "    # Generate the optimizers.\n",
        "    optimizer_name = trial.suggest_categorical(\"optimizer\", [\"Adam\", \"RMSprop\", \"SGD\"])\n",
        "    lr = trial.suggest_float(\"lr\", 1e-5, 1e-1, log=True)\n",
        "    optimizer = getattr(optim, optimizer_name)(model.parameters(), lr=lr)\n",
        "\n",
        "    # Get the CIFAR100 dataset.\n",
        "    train_loader, valid_loader = get_CIFAR100()\n",
        "\n",
        "    # Training of the model.\n",
        "    for epoch in range(EPOCHS):\n",
        "        model.train()\n",
        "        for batch_idx, (data, target) in enumerate(train_loader):\n",
        "\n",
        "            # Limiting training data for faster epochs.\n",
        "            if batch_idx * BATCHSIZE >= N_TRAIN_EXAMPLES:\n",
        "                break\n",
        "            \n",
        "            data, target = data.to(DEVICE), target.to(DEVICE)\n",
        "\n",
        "            optimizer.zero_grad()\n",
        "            output = model(data)\n",
        "            loss = F.nll_loss(output, target)\n",
        "            loss.backward()\n",
        "            optimizer.step()\n",
        "\n",
        "        # Validation of the model.\n",
        "        model.eval()\n",
        "        correct = 0\n",
        "        with torch.no_grad():\n",
        "            for batch_idx, (data, target) in enumerate(valid_loader):\n",
        "                # Limiting validation data.\n",
        "                if batch_idx * BATCHSIZE >= N_VALID_EXAMPLES:\n",
        "                    break\n",
        "                data, target = data.to(DEVICE), target.to(DEVICE)\n",
        "                output = model(data)\n",
        "                # Get the index of the max log-probability.\n",
        "                pred = output.argmax(dim=1, keepdim=True)\n",
        "                correct += pred.eq(target.view_as(pred)).sum().item()\n",
        "\n",
        "        accuracy = correct / min(len(valid_loader.dataset), N_VALID_EXAMPLES)\n",
        "\n",
        "        trial.report(accuracy, epoch)\n",
        "\n",
        "        # Handle pruning based on the intermediate value.\n",
        "        #if trial.should_prune():\n",
        "            #raise optuna.exceptions.TrialPruned()\n",
        "\n",
        "    return accuracy"
      ],
      "metadata": {
        "id": "aJSnRNBna0xA"
      },
      "execution_count": 6,
      "outputs": []
    },
    {
      "cell_type": "markdown",
      "source": [
        "# Q4_B\n",
        "## Run 1"
      ],
      "metadata": {
        "id": "ughG_uj6_fd0"
      }
    },
    {
      "cell_type": "code",
      "source": [
        "if __name__ == \"__main__\":\n",
        "    study = optuna.create_study(direction=\"maximize\")\n",
        "    study.optimize(objective, timeout=600)\n",
        "\n",
        "    #pruned_trials = study.get_trials(deepcopy=False, states=[TrialState.PRUNED])\n",
        "    complete_trials = study.get_trials(deepcopy=False, states=[TrialState.COMPLETE])\n",
        "\n",
        "    print(\"Study statistics: \")\n",
        "    print(\"  Number of finished trials: \", len(study.trials))\n",
        "    #print(\"  Number of pruned trials: \", len(pruned_trials))\n",
        "    print(\"  Number of complete trials: \", len(complete_trials))\n",
        "\n",
        "    print(\"Best trial:\")\n",
        "    trial = study.best_trial\n",
        "\n",
        "    print(\"  Value: \", trial.value)\n",
        "\n",
        "    print(\"  Params: \")\n",
        "    for key, value in trial.params.items():\n",
        "        print(\"    {}: {}\".format(key, value))"
      ],
      "metadata": {
        "colab": {
          "base_uri": "https://localhost:8080/",
          "height": 797,
          "referenced_widgets": [
            "d96930c38d3a40faa0a78918b18cd0e7",
            "a3c88a94b86e40f0937bddafd33db12c",
            "6d2f6e8d4c8446baab5fc7588d698f2a",
            "2024e7fb12384af5bc178caa0c470b02",
            "76fffdb5392e49929c3f6f88a024f207",
            "fc382f1c67dc491cb4b75ff10eca0e99",
            "f0fc6d2a6f7d4b3fac74f117854e6320",
            "92d116eea7c74b6dafbdc717a5961277",
            "8bee49e829894170b9182736f512b17a",
            "43e6ab74f68b43febe27507f5bfe8fbc",
            "6f339774f78647928feb2a0c34146c44"
          ]
        },
        "id": "SbB4viDoa6un",
        "outputId": "fb41368f-5a2c-4f7f-ed51-1ce67255d535"
      },
      "execution_count": 7,
      "outputs": [
        {
          "output_type": "stream",
          "name": "stderr",
          "text": [
            "\u001b[32m[I 2022-06-21 04:05:00,668]\u001b[0m A new study created in memory with name: no-name-91d8c07d-808b-485d-9493-246a10df60ad\u001b[0m\n"
          ]
        },
        {
          "output_type": "stream",
          "name": "stdout",
          "text": [
            "Downloading https://www.cs.toronto.edu/~kriz/cifar-100-python.tar.gz to /content/cifar-100-python.tar.gz\n"
          ]
        },
        {
          "output_type": "display_data",
          "data": {
            "text/plain": [
              "  0%|          | 0/169001437 [00:00<?, ?it/s]"
            ],
            "application/vnd.jupyter.widget-view+json": {
              "version_major": 2,
              "version_minor": 0,
              "model_id": "d96930c38d3a40faa0a78918b18cd0e7"
            }
          },
          "metadata": {}
        },
        {
          "output_type": "stream",
          "name": "stdout",
          "text": [
            "Extracting /content/cifar-100-python.tar.gz to /content\n"
          ]
        },
        {
          "output_type": "stream",
          "name": "stderr",
          "text": [
            "\u001b[32m[I 2022-06-21 04:06:24,260]\u001b[0m Trial 0 finished with value: 0.055 and parameters: {'n_layers_conv': 3, 'n_layers_dense': 3, 'filters_0': 32, 'kernel_size_0': 3, 'strides_0': 1, 'filters_1': 32, 'kernel_size_1': 5, 'strides_1': 2, 'filters_2': 16, 'kernel_size_2': 3, 'strides_2': 1, 'n_units_0': 101, 'n_units_1': 80, 'n_units_2': 126, 'optimizer': 'Adam', 'lr': 0.0001098147208820252}. Best is trial 0 with value: 0.055.\u001b[0m\n"
          ]
        },
        {
          "output_type": "stream",
          "name": "stdout",
          "text": [
            "Files already downloaded and verified\n"
          ]
        },
        {
          "output_type": "stream",
          "name": "stderr",
          "text": [
            "\u001b[32m[I 2022-06-21 04:07:37,355]\u001b[0m Trial 1 finished with value: 0.01 and parameters: {'n_layers_conv': 2, 'n_layers_dense': 1, 'filters_0': 32, 'kernel_size_0': 5, 'strides_0': 1, 'filters_1': 128, 'kernel_size_1': 5, 'strides_1': 1, 'n_units_0': 122, 'optimizer': 'Adam', 'lr': 0.04904227217028913}. Best is trial 0 with value: 0.055.\u001b[0m\n"
          ]
        },
        {
          "output_type": "stream",
          "name": "stdout",
          "text": [
            "Files already downloaded and verified\n"
          ]
        },
        {
          "output_type": "stream",
          "name": "stderr",
          "text": [
            "\u001b[32m[I 2022-06-21 04:08:42,966]\u001b[0m Trial 2 finished with value: 0.055 and parameters: {'n_layers_conv': 4, 'n_layers_dense': 3, 'filters_0': 128, 'kernel_size_0': 5, 'strides_0': 2, 'filters_1': 16, 'kernel_size_1': 3, 'strides_1': 2, 'filters_2': 64, 'kernel_size_2': 5, 'strides_2': 2, 'filters_3': 16, 'kernel_size_3': 3, 'strides_3': 1, 'n_units_0': 110, 'n_units_1': 76, 'n_units_2': 102, 'optimizer': 'Adam', 'lr': 0.00011131754646124537}. Best is trial 0 with value: 0.055.\u001b[0m\n"
          ]
        },
        {
          "output_type": "stream",
          "name": "stdout",
          "text": [
            "Files already downloaded and verified\n"
          ]
        },
        {
          "output_type": "stream",
          "name": "stderr",
          "text": [
            "\u001b[32m[I 2022-06-21 04:09:52,000]\u001b[0m Trial 3 finished with value: 0.01 and parameters: {'n_layers_conv': 4, 'n_layers_dense': 2, 'filters_0': 64, 'kernel_size_0': 3, 'strides_0': 1, 'filters_1': 64, 'kernel_size_1': 3, 'strides_1': 1, 'filters_2': 32, 'kernel_size_2': 5, 'strides_2': 1, 'filters_3': 32, 'kernel_size_3': 5, 'strides_3': 1, 'n_units_0': 69, 'n_units_1': 75, 'optimizer': 'RMSprop', 'lr': 0.0010972940362603146}. Best is trial 0 with value: 0.055.\u001b[0m\n"
          ]
        },
        {
          "output_type": "stream",
          "name": "stdout",
          "text": [
            "Files already downloaded and verified\n"
          ]
        },
        {
          "output_type": "stream",
          "name": "stderr",
          "text": [
            "\u001b[32m[I 2022-06-21 04:10:58,816]\u001b[0m Trial 4 finished with value: 0.032 and parameters: {'n_layers_conv': 4, 'n_layers_dense': 3, 'filters_0': 128, 'kernel_size_0': 5, 'strides_0': 2, 'filters_1': 16, 'kernel_size_1': 5, 'strides_1': 2, 'filters_2': 16, 'kernel_size_2': 3, 'strides_2': 1, 'filters_3': 32, 'kernel_size_3': 5, 'strides_3': 2, 'n_units_0': 108, 'n_units_1': 119, 'n_units_2': 80, 'optimizer': 'Adam', 'lr': 0.0007861339639429301}. Best is trial 0 with value: 0.055.\u001b[0m\n"
          ]
        },
        {
          "output_type": "stream",
          "name": "stdout",
          "text": [
            "Files already downloaded and verified\n"
          ]
        },
        {
          "output_type": "stream",
          "name": "stderr",
          "text": [
            "\u001b[32m[I 2022-06-21 04:12:02,779]\u001b[0m Trial 5 finished with value: 0.0389 and parameters: {'n_layers_conv': 3, 'n_layers_dense': 2, 'filters_0': 32, 'kernel_size_0': 5, 'strides_0': 2, 'filters_1': 32, 'kernel_size_1': 5, 'strides_1': 2, 'filters_2': 32, 'kernel_size_2': 3, 'strides_2': 2, 'n_units_0': 113, 'n_units_1': 75, 'optimizer': 'Adam', 'lr': 1.815612542481578e-05}. Best is trial 0 with value: 0.055.\u001b[0m\n"
          ]
        },
        {
          "output_type": "stream",
          "name": "stdout",
          "text": [
            "Files already downloaded and verified\n"
          ]
        },
        {
          "output_type": "stream",
          "name": "stderr",
          "text": [
            "\u001b[32m[I 2022-06-21 04:12:59,635]\u001b[0m Trial 6 finished with value: 0.0132 and parameters: {'n_layers_conv': 1, 'n_layers_dense': 1, 'filters_0': 16, 'kernel_size_0': 5, 'strides_0': 1, 'n_units_0': 121, 'optimizer': 'SGD', 'lr': 9.070661842831905e-05}. Best is trial 0 with value: 0.055.\u001b[0m\n"
          ]
        },
        {
          "output_type": "stream",
          "name": "stdout",
          "text": [
            "Files already downloaded and verified\n"
          ]
        },
        {
          "output_type": "stream",
          "name": "stderr",
          "text": [
            "\u001b[32m[I 2022-06-21 04:14:00,304]\u001b[0m Trial 7 finished with value: 0.01 and parameters: {'n_layers_conv': 2, 'n_layers_dense': 2, 'filters_0': 16, 'kernel_size_0': 5, 'strides_0': 1, 'filters_1': 32, 'kernel_size_1': 3, 'strides_1': 1, 'n_units_0': 72, 'n_units_1': 65, 'optimizer': 'SGD', 'lr': 0.0010051976630114623}. Best is trial 0 with value: 0.055.\u001b[0m\n"
          ]
        },
        {
          "output_type": "stream",
          "name": "stdout",
          "text": [
            "Files already downloaded and verified\n"
          ]
        },
        {
          "output_type": "stream",
          "name": "stderr",
          "text": [
            "\u001b[32m[I 2022-06-21 04:15:03,977]\u001b[0m Trial 8 finished with value: 0.01 and parameters: {'n_layers_conv': 4, 'n_layers_dense': 2, 'filters_0': 32, 'kernel_size_0': 5, 'strides_0': 1, 'filters_1': 16, 'kernel_size_1': 3, 'strides_1': 2, 'filters_2': 16, 'kernel_size_2': 5, 'strides_2': 1, 'filters_3': 64, 'kernel_size_3': 5, 'strides_3': 1, 'n_units_0': 118, 'n_units_1': 80, 'optimizer': 'Adam', 'lr': 0.000928731556371391}. Best is trial 0 with value: 0.055.\u001b[0m\n"
          ]
        },
        {
          "output_type": "stream",
          "name": "stdout",
          "text": [
            "Study statistics: \n",
            "  Number of finished trials:  9\n",
            "  Number of complete trials:  9\n",
            "Best trial:\n",
            "  Value:  0.055\n",
            "  Params: \n",
            "    n_layers_conv: 3\n",
            "    n_layers_dense: 3\n",
            "    filters_0: 32\n",
            "    kernel_size_0: 3\n",
            "    strides_0: 1\n",
            "    filters_1: 32\n",
            "    kernel_size_1: 5\n",
            "    strides_1: 2\n",
            "    filters_2: 16\n",
            "    kernel_size_2: 3\n",
            "    strides_2: 1\n",
            "    n_units_0: 101\n",
            "    n_units_1: 80\n",
            "    n_units_2: 126\n",
            "    optimizer: Adam\n",
            "    lr: 0.0001098147208820252\n"
          ]
        }
      ]
    },
    {
      "cell_type": "markdown",
      "source": [
        "# Q4_B\n",
        "## Run 2 (without TimeOut)"
      ],
      "metadata": {
        "id": "t4x4CNf1_kAM"
      }
    },
    {
      "cell_type": "code",
      "source": [
        "if __name__ == \"__main__\":\n",
        "    study = optuna.create_study(direction=\"maximize\")\n",
        "    study.optimize(objective)\n",
        "\n",
        "    #pruned_trials = study.get_trials(deepcopy=False, states=[TrialState.PRUNED])\n",
        "    complete_trials = study.get_trials(deepcopy=False, states=[TrialState.COMPLETE])\n",
        "\n",
        "    print(\"Study statistics: \")\n",
        "    print(\"  Number of finished trials: \", len(study.trials))\n",
        "    #print(\"  Number of pruned trials: \", len(pruned_trials))\n",
        "    print(\"  Number of complete trials: \", len(complete_trials))\n",
        "\n",
        "    print(\"Best trial:\")\n",
        "    trial = study.best_trial\n",
        "\n",
        "    print(\"  Value: \", trial.value)\n",
        "\n",
        "    print(\"  Params: \")\n",
        "    for key, value in trial.params.items():\n",
        "        print(\"    {}: {}\".format(key, value))"
      ],
      "metadata": {
        "colab": {
          "base_uri": "https://localhost:8080/",
          "height": 1000
        },
        "id": "0MtoVqD-bCZP",
        "outputId": "eb99bf55-10fd-40d5-f30a-3aba846db125"
      },
      "execution_count": 8,
      "outputs": [
        {
          "output_type": "stream",
          "name": "stderr",
          "text": [
            "\u001b[32m[I 2022-06-21 04:16:44,444]\u001b[0m A new study created in memory with name: no-name-bdf69d00-e18b-424a-84ce-c2a45ac98d80\u001b[0m\n"
          ]
        },
        {
          "output_type": "stream",
          "name": "stdout",
          "text": [
            "Files already downloaded and verified\n"
          ]
        },
        {
          "output_type": "stream",
          "name": "stderr",
          "text": [
            "\u001b[32m[I 2022-06-21 04:17:45,332]\u001b[0m Trial 0 finished with value: 0.01 and parameters: {'n_layers_conv': 3, 'n_layers_dense': 3, 'filters_0': 64, 'kernel_size_0': 3, 'strides_0': 2, 'filters_1': 64, 'kernel_size_1': 3, 'strides_1': 1, 'filters_2': 64, 'kernel_size_2': 3, 'strides_2': 2, 'n_units_0': 88, 'n_units_1': 123, 'n_units_2': 95, 'optimizer': 'SGD', 'lr': 0.0327201092652903}. Best is trial 0 with value: 0.01.\u001b[0m\n"
          ]
        },
        {
          "output_type": "stream",
          "name": "stdout",
          "text": [
            "Files already downloaded and verified\n"
          ]
        },
        {
          "output_type": "stream",
          "name": "stderr",
          "text": [
            "\u001b[32m[I 2022-06-21 04:18:45,842]\u001b[0m Trial 1 finished with value: 0.0796 and parameters: {'n_layers_conv': 2, 'n_layers_dense': 1, 'filters_0': 128, 'kernel_size_0': 5, 'strides_0': 1, 'filters_1': 64, 'kernel_size_1': 3, 'strides_1': 2, 'n_units_0': 97, 'optimizer': 'RMSprop', 'lr': 0.0001571768313966064}. Best is trial 1 with value: 0.0796.\u001b[0m\n"
          ]
        },
        {
          "output_type": "stream",
          "name": "stdout",
          "text": [
            "Files already downloaded and verified\n"
          ]
        },
        {
          "output_type": "stream",
          "name": "stderr",
          "text": [
            "\u001b[32m[I 2022-06-21 04:19:45,635]\u001b[0m Trial 2 finished with value: 0.0096 and parameters: {'n_layers_conv': 2, 'n_layers_dense': 1, 'filters_0': 128, 'kernel_size_0': 3, 'strides_0': 1, 'filters_1': 32, 'kernel_size_1': 5, 'strides_1': 2, 'n_units_0': 99, 'optimizer': 'SGD', 'lr': 0.014625875069786597}. Best is trial 1 with value: 0.0796.\u001b[0m\n"
          ]
        },
        {
          "output_type": "stream",
          "name": "stdout",
          "text": [
            "Files already downloaded and verified\n"
          ]
        },
        {
          "output_type": "stream",
          "name": "stderr",
          "text": [
            "\u001b[32m[I 2022-06-21 04:20:47,044]\u001b[0m Trial 3 finished with value: 0.01 and parameters: {'n_layers_conv': 2, 'n_layers_dense': 3, 'filters_0': 32, 'kernel_size_0': 5, 'strides_0': 1, 'filters_1': 64, 'kernel_size_1': 3, 'strides_1': 2, 'n_units_0': 117, 'n_units_1': 123, 'n_units_2': 92, 'optimizer': 'Adam', 'lr': 0.001838057790037042}. Best is trial 1 with value: 0.0796.\u001b[0m\n"
          ]
        },
        {
          "output_type": "stream",
          "name": "stdout",
          "text": [
            "Files already downloaded and verified\n"
          ]
        },
        {
          "output_type": "stream",
          "name": "stderr",
          "text": [
            "\u001b[32m[I 2022-06-21 04:21:47,363]\u001b[0m Trial 4 finished with value: 0.01 and parameters: {'n_layers_conv': 4, 'n_layers_dense': 2, 'filters_0': 32, 'kernel_size_0': 3, 'strides_0': 2, 'filters_1': 128, 'kernel_size_1': 3, 'strides_1': 2, 'filters_2': 16, 'kernel_size_2': 5, 'strides_2': 2, 'filters_3': 128, 'kernel_size_3': 3, 'strides_3': 1, 'n_units_0': 94, 'n_units_1': 118, 'optimizer': 'RMSprop', 'lr': 0.0016230750470240941}. Best is trial 1 with value: 0.0796.\u001b[0m\n"
          ]
        },
        {
          "output_type": "stream",
          "name": "stdout",
          "text": [
            "Files already downloaded and verified\n"
          ]
        },
        {
          "output_type": "stream",
          "name": "stderr",
          "text": [
            "\u001b[32m[I 2022-06-21 04:22:52,345]\u001b[0m Trial 5 finished with value: 0.0296 and parameters: {'n_layers_conv': 4, 'n_layers_dense': 3, 'filters_0': 16, 'kernel_size_0': 3, 'strides_0': 2, 'filters_1': 32, 'kernel_size_1': 3, 'strides_1': 1, 'filters_2': 128, 'kernel_size_2': 5, 'strides_2': 1, 'filters_3': 16, 'kernel_size_3': 5, 'strides_3': 1, 'n_units_0': 102, 'n_units_1': 76, 'n_units_2': 115, 'optimizer': 'Adam', 'lr': 5.006732444340967e-05}. Best is trial 1 with value: 0.0796.\u001b[0m\n"
          ]
        },
        {
          "output_type": "stream",
          "name": "stdout",
          "text": [
            "Files already downloaded and verified\n"
          ]
        },
        {
          "output_type": "stream",
          "name": "stderr",
          "text": [
            "\u001b[32m[I 2022-06-21 04:23:54,776]\u001b[0m Trial 6 finished with value: 0.0105 and parameters: {'n_layers_conv': 4, 'n_layers_dense': 1, 'filters_0': 64, 'kernel_size_0': 3, 'strides_0': 1, 'filters_1': 16, 'kernel_size_1': 5, 'strides_1': 2, 'filters_2': 16, 'kernel_size_2': 3, 'strides_2': 2, 'filters_3': 64, 'kernel_size_3': 5, 'strides_3': 2, 'n_units_0': 69, 'optimizer': 'Adam', 'lr': 0.001778827885942668}. Best is trial 1 with value: 0.0796.\u001b[0m\n"
          ]
        },
        {
          "output_type": "stream",
          "name": "stdout",
          "text": [
            "Files already downloaded and verified\n"
          ]
        },
        {
          "output_type": "stream",
          "name": "stderr",
          "text": [
            "\u001b[32m[I 2022-06-21 04:24:52,986]\u001b[0m Trial 7 finished with value: 0.01 and parameters: {'n_layers_conv': 2, 'n_layers_dense': 2, 'filters_0': 16, 'kernel_size_0': 5, 'strides_0': 2, 'filters_1': 32, 'kernel_size_1': 3, 'strides_1': 1, 'n_units_0': 86, 'n_units_1': 70, 'optimizer': 'SGD', 'lr': 0.05100528746398479}. Best is trial 1 with value: 0.0796.\u001b[0m\n"
          ]
        },
        {
          "output_type": "stream",
          "name": "stdout",
          "text": [
            "Files already downloaded and verified\n"
          ]
        },
        {
          "output_type": "stream",
          "name": "stderr",
          "text": [
            "\u001b[32m[I 2022-06-21 04:25:54,774]\u001b[0m Trial 8 finished with value: 0.01 and parameters: {'n_layers_conv': 3, 'n_layers_dense': 2, 'filters_0': 64, 'kernel_size_0': 5, 'strides_0': 1, 'filters_1': 32, 'kernel_size_1': 3, 'strides_1': 1, 'filters_2': 64, 'kernel_size_2': 5, 'strides_2': 1, 'n_units_0': 124, 'n_units_1': 93, 'optimizer': 'SGD', 'lr': 0.00011900701164039619}. Best is trial 1 with value: 0.0796.\u001b[0m\n"
          ]
        },
        {
          "output_type": "stream",
          "name": "stdout",
          "text": [
            "Files already downloaded and verified\n"
          ]
        },
        {
          "output_type": "stream",
          "name": "stderr",
          "text": [
            "\u001b[32m[I 2022-06-21 04:26:52,008]\u001b[0m Trial 9 finished with value: 0.0093 and parameters: {'n_layers_conv': 1, 'n_layers_dense': 1, 'filters_0': 64, 'kernel_size_0': 3, 'strides_0': 1, 'n_units_0': 119, 'optimizer': 'SGD', 'lr': 0.0001483779079401235}. Best is trial 1 with value: 0.0796.\u001b[0m\n"
          ]
        },
        {
          "output_type": "stream",
          "name": "stdout",
          "text": [
            "Files already downloaded and verified\n"
          ]
        },
        {
          "output_type": "stream",
          "name": "stderr",
          "text": [
            "\u001b[32m[I 2022-06-21 04:27:50,841]\u001b[0m Trial 10 finished with value: 0.0546 and parameters: {'n_layers_conv': 1, 'n_layers_dense': 1, 'filters_0': 128, 'kernel_size_0': 5, 'strides_0': 1, 'n_units_0': 73, 'optimizer': 'RMSprop', 'lr': 1.4430297085663063e-05}. Best is trial 1 with value: 0.0796.\u001b[0m\n"
          ]
        },
        {
          "output_type": "stream",
          "name": "stdout",
          "text": [
            "Files already downloaded and verified\n"
          ]
        },
        {
          "output_type": "stream",
          "name": "stderr",
          "text": [
            "\u001b[32m[I 2022-06-21 04:28:49,535]\u001b[0m Trial 11 finished with value: 0.0418 and parameters: {'n_layers_conv': 1, 'n_layers_dense': 1, 'filters_0': 128, 'kernel_size_0': 5, 'strides_0': 1, 'n_units_0': 64, 'optimizer': 'RMSprop', 'lr': 1.1129750350186188e-05}. Best is trial 1 with value: 0.0796.\u001b[0m\n"
          ]
        },
        {
          "output_type": "stream",
          "name": "stdout",
          "text": [
            "Files already downloaded and verified\n"
          ]
        },
        {
          "output_type": "stream",
          "name": "stderr",
          "text": [
            "\u001b[32m[I 2022-06-21 04:29:48,272]\u001b[0m Trial 12 finished with value: 0.0527 and parameters: {'n_layers_conv': 1, 'n_layers_dense': 1, 'filters_0': 128, 'kernel_size_0': 5, 'strides_0': 1, 'n_units_0': 78, 'optimizer': 'RMSprop', 'lr': 1.0003907123016887e-05}. Best is trial 1 with value: 0.0796.\u001b[0m\n"
          ]
        },
        {
          "output_type": "stream",
          "name": "stdout",
          "text": [
            "Files already downloaded and verified\n"
          ]
        },
        {
          "output_type": "stream",
          "name": "stderr",
          "text": [
            "\u001b[32m[I 2022-06-21 04:30:47,026]\u001b[0m Trial 13 finished with value: 0.01 and parameters: {'n_layers_conv': 1, 'n_layers_dense': 1, 'filters_0': 128, 'kernel_size_0': 5, 'strides_0': 1, 'n_units_0': 108, 'optimizer': 'RMSprop', 'lr': 0.00027040315625889217}. Best is trial 1 with value: 0.0796.\u001b[0m\n"
          ]
        },
        {
          "output_type": "stream",
          "name": "stdout",
          "text": [
            "Files already downloaded and verified\n"
          ]
        },
        {
          "output_type": "stream",
          "name": "stderr",
          "text": [
            "\u001b[32m[I 2022-06-21 04:31:48,589]\u001b[0m Trial 14 finished with value: 0.0549 and parameters: {'n_layers_conv': 2, 'n_layers_dense': 2, 'filters_0': 128, 'kernel_size_0': 5, 'strides_0': 1, 'filters_1': 64, 'kernel_size_1': 5, 'strides_1': 2, 'n_units_0': 78, 'n_units_1': 100, 'optimizer': 'RMSprop', 'lr': 3.862669703721242e-05}. Best is trial 1 with value: 0.0796.\u001b[0m\n"
          ]
        },
        {
          "output_type": "stream",
          "name": "stdout",
          "text": [
            "Files already downloaded and verified\n"
          ]
        },
        {
          "output_type": "stream",
          "name": "stderr",
          "text": [
            "\u001b[32m[I 2022-06-21 04:32:51,691]\u001b[0m Trial 15 finished with value: 0.01 and parameters: {'n_layers_conv': 3, 'n_layers_dense': 2, 'filters_0': 128, 'kernel_size_0': 5, 'strides_0': 1, 'filters_1': 64, 'kernel_size_1': 5, 'strides_1': 2, 'filters_2': 32, 'kernel_size_2': 3, 'strides_2': 1, 'n_units_0': 81, 'n_units_1': 99, 'optimizer': 'RMSprop', 'lr': 0.0004840081398608155}. Best is trial 1 with value: 0.0796.\u001b[0m\n"
          ]
        },
        {
          "output_type": "stream",
          "name": "stdout",
          "text": [
            "Files already downloaded and verified\n"
          ]
        },
        {
          "output_type": "stream",
          "name": "stderr",
          "text": [
            "\u001b[32m[I 2022-06-21 04:33:53,087]\u001b[0m Trial 16 finished with value: 0.0679 and parameters: {'n_layers_conv': 2, 'n_layers_dense': 2, 'filters_0': 128, 'kernel_size_0': 5, 'strides_0': 1, 'filters_1': 64, 'kernel_size_1': 5, 'strides_1': 2, 'n_units_0': 93, 'n_units_1': 102, 'optimizer': 'RMSprop', 'lr': 4.566170609963087e-05}. Best is trial 1 with value: 0.0796.\u001b[0m\n"
          ]
        },
        {
          "output_type": "stream",
          "name": "stdout",
          "text": [
            "Files already downloaded and verified\n"
          ]
        },
        {
          "output_type": "stream",
          "name": "stderr",
          "text": [
            "\u001b[32m[I 2022-06-21 04:34:55,606]\u001b[0m Trial 17 finished with value: 0.0606 and parameters: {'n_layers_conv': 2, 'n_layers_dense': 3, 'filters_0': 128, 'kernel_size_0': 5, 'strides_0': 1, 'filters_1': 64, 'kernel_size_1': 5, 'strides_1': 2, 'n_units_0': 109, 'n_units_1': 83, 'n_units_2': 64, 'optimizer': 'RMSprop', 'lr': 5.496808786068999e-05}. Best is trial 1 with value: 0.0796.\u001b[0m\n"
          ]
        },
        {
          "output_type": "stream",
          "name": "stdout",
          "text": [
            "Files already downloaded and verified\n"
          ]
        },
        {
          "output_type": "stream",
          "name": "stderr",
          "text": [
            "\u001b[32m[I 2022-06-21 04:35:56,224]\u001b[0m Trial 18 finished with value: 0.01 and parameters: {'n_layers_conv': 3, 'n_layers_dense': 2, 'filters_0': 16, 'kernel_size_0': 5, 'strides_0': 2, 'filters_1': 128, 'kernel_size_1': 5, 'strides_1': 2, 'filters_2': 32, 'kernel_size_2': 3, 'strides_2': 1, 'n_units_0': 93, 'n_units_1': 109, 'optimizer': 'RMSprop', 'lr': 0.005589031603229291}. Best is trial 1 with value: 0.0796.\u001b[0m\n"
          ]
        },
        {
          "output_type": "stream",
          "name": "stdout",
          "text": [
            "Files already downloaded and verified\n"
          ]
        },
        {
          "output_type": "stream",
          "name": "stderr",
          "text": [
            "\u001b[32m[I 2022-06-21 04:36:55,985]\u001b[0m Trial 19 finished with value: 0.0556 and parameters: {'n_layers_conv': 2, 'n_layers_dense': 2, 'filters_0': 32, 'kernel_size_0': 5, 'strides_0': 1, 'filters_1': 16, 'kernel_size_1': 5, 'strides_1': 2, 'n_units_0': 105, 'n_units_1': 87, 'optimizer': 'RMSprop', 'lr': 0.0004170856547000325}. Best is trial 1 with value: 0.0796.\u001b[0m\n"
          ]
        },
        {
          "output_type": "stream",
          "name": "stdout",
          "text": [
            "Files already downloaded and verified\n"
          ]
        },
        {
          "output_type": "stream",
          "name": "stderr",
          "text": [
            "\u001b[32m[I 2022-06-21 04:37:59,486]\u001b[0m Trial 20 finished with value: 0.0762 and parameters: {'n_layers_conv': 3, 'n_layers_dense': 2, 'filters_0': 128, 'kernel_size_0': 5, 'strides_0': 1, 'filters_1': 64, 'kernel_size_1': 3, 'strides_1': 2, 'filters_2': 128, 'kernel_size_2': 5, 'strides_2': 2, 'n_units_0': 89, 'n_units_1': 112, 'optimizer': 'Adam', 'lr': 0.00010906882990745624}. Best is trial 1 with value: 0.0796.\u001b[0m\n"
          ]
        },
        {
          "output_type": "stream",
          "name": "stdout",
          "text": [
            "Files already downloaded and verified\n"
          ]
        },
        {
          "output_type": "stream",
          "name": "stderr",
          "text": [
            "\u001b[32m[I 2022-06-21 04:39:03,181]\u001b[0m Trial 21 finished with value: 0.0598 and parameters: {'n_layers_conv': 3, 'n_layers_dense': 2, 'filters_0': 128, 'kernel_size_0': 5, 'strides_0': 1, 'filters_1': 64, 'kernel_size_1': 3, 'strides_1': 2, 'filters_2': 128, 'kernel_size_2': 5, 'strides_2': 2, 'n_units_0': 89, 'n_units_1': 107, 'optimizer': 'Adam', 'lr': 0.00010446898928484777}. Best is trial 1 with value: 0.0796.\u001b[0m\n"
          ]
        },
        {
          "output_type": "stream",
          "name": "stdout",
          "text": [
            "Files already downloaded and verified\n"
          ]
        },
        {
          "output_type": "stream",
          "name": "stderr",
          "text": [
            "\u001b[32m[I 2022-06-21 04:40:05,388]\u001b[0m Trial 22 finished with value: 0.0667 and parameters: {'n_layers_conv': 2, 'n_layers_dense': 2, 'filters_0': 128, 'kernel_size_0': 5, 'strides_0': 1, 'filters_1': 64, 'kernel_size_1': 3, 'strides_1': 2, 'n_units_0': 85, 'n_units_1': 113, 'optimizer': 'Adam', 'lr': 2.5022458490981857e-05}. Best is trial 1 with value: 0.0796.\u001b[0m\n"
          ]
        },
        {
          "output_type": "stream",
          "name": "stdout",
          "text": [
            "Files already downloaded and verified\n"
          ]
        },
        {
          "output_type": "stream",
          "name": "stderr",
          "text": [
            "\u001b[32m[I 2022-06-21 04:41:09,901]\u001b[0m Trial 23 finished with value: 0.0527 and parameters: {'n_layers_conv': 3, 'n_layers_dense': 3, 'filters_0': 128, 'kernel_size_0': 5, 'strides_0': 1, 'filters_1': 64, 'kernel_size_1': 3, 'strides_1': 2, 'filters_2': 128, 'kernel_size_2': 5, 'strides_2': 2, 'n_units_0': 96, 'n_units_1': 128, 'n_units_2': 127, 'optimizer': 'Adam', 'lr': 0.0002299961960326669}. Best is trial 1 with value: 0.0796.\u001b[0m\n"
          ]
        },
        {
          "output_type": "stream",
          "name": "stdout",
          "text": [
            "Files already downloaded and verified\n"
          ]
        },
        {
          "output_type": "stream",
          "name": "stderr",
          "text": [
            "\u001b[32m[I 2022-06-21 04:42:11,709]\u001b[0m Trial 24 finished with value: 0.01 and parameters: {'n_layers_conv': 2, 'n_layers_dense': 2, 'filters_0': 128, 'kernel_size_0': 5, 'strides_0': 1, 'filters_1': 64, 'kernel_size_1': 3, 'strides_1': 2, 'n_units_0': 92, 'n_units_1': 104, 'optimizer': 'Adam', 'lr': 0.0005773793533770747}. Best is trial 1 with value: 0.0796.\u001b[0m\n"
          ]
        },
        {
          "output_type": "stream",
          "name": "stdout",
          "text": [
            "Files already downloaded and verified\n"
          ]
        },
        {
          "output_type": "stream",
          "name": "stderr",
          "text": [
            "\u001b[32m[I 2022-06-21 04:43:13,461]\u001b[0m Trial 25 finished with value: 0.0328 and parameters: {'n_layers_conv': 3, 'n_layers_dense': 1, 'filters_0': 128, 'kernel_size_0': 5, 'strides_0': 1, 'filters_1': 64, 'kernel_size_1': 3, 'strides_1': 2, 'filters_2': 128, 'kernel_size_2': 5, 'strides_2': 2, 'n_units_0': 99, 'optimizer': 'RMSprop', 'lr': 8.444855518097361e-05}. Best is trial 1 with value: 0.0796.\u001b[0m\n"
          ]
        },
        {
          "output_type": "stream",
          "name": "stdout",
          "text": [
            "Files already downloaded and verified\n"
          ]
        },
        {
          "output_type": "stream",
          "name": "stderr",
          "text": [
            "\u001b[32m[I 2022-06-21 04:44:14,048]\u001b[0m Trial 26 finished with value: 0.0482 and parameters: {'n_layers_conv': 2, 'n_layers_dense': 2, 'filters_0': 128, 'kernel_size_0': 5, 'strides_0': 2, 'filters_1': 16, 'kernel_size_1': 5, 'strides_1': 2, 'n_units_0': 111, 'n_units_1': 92, 'optimizer': 'Adam', 'lr': 2.1210561637204167e-05}. Best is trial 1 with value: 0.0796.\u001b[0m\n"
          ]
        },
        {
          "output_type": "stream",
          "name": "stdout",
          "text": [
            "Files already downloaded and verified\n"
          ]
        },
        {
          "output_type": "stream",
          "name": "stderr",
          "text": [
            "\u001b[32m[I 2022-06-21 04:45:15,974]\u001b[0m Trial 27 finished with value: 0.0264 and parameters: {'n_layers_conv': 3, 'n_layers_dense': 3, 'filters_0': 16, 'kernel_size_0': 5, 'strides_0': 1, 'filters_1': 128, 'kernel_size_1': 3, 'strides_1': 2, 'filters_2': 128, 'kernel_size_2': 5, 'strides_2': 2, 'n_units_0': 98, 'n_units_1': 115, 'n_units_2': 66, 'optimizer': 'RMSprop', 'lr': 0.0007819324645817645}. Best is trial 1 with value: 0.0796.\u001b[0m\n"
          ]
        },
        {
          "output_type": "stream",
          "name": "stdout",
          "text": [
            "Files already downloaded and verified\n"
          ]
        },
        {
          "output_type": "stream",
          "name": "stderr",
          "text": [
            "\u001b[32m[I 2022-06-21 04:46:20,824]\u001b[0m Trial 28 finished with value: 0.0452 and parameters: {'n_layers_conv': 4, 'n_layers_dense': 1, 'filters_0': 32, 'kernel_size_0': 5, 'strides_0': 1, 'filters_1': 64, 'kernel_size_1': 5, 'strides_1': 1, 'filters_2': 32, 'kernel_size_2': 5, 'strides_2': 2, 'filters_3': 32, 'kernel_size_3': 3, 'strides_3': 2, 'n_units_0': 82, 'optimizer': 'Adam', 'lr': 0.00021372739251036946}. Best is trial 1 with value: 0.0796.\u001b[0m\n"
          ]
        },
        {
          "output_type": "stream",
          "name": "stdout",
          "text": [
            "Files already downloaded and verified\n"
          ]
        },
        {
          "output_type": "stream",
          "name": "stderr",
          "text": [
            "\u001b[32m[I 2022-06-21 04:47:22,789]\u001b[0m Trial 29 finished with value: 0.0565 and parameters: {'n_layers_conv': 2, 'n_layers_dense': 3, 'filters_0': 64, 'kernel_size_0': 3, 'strides_0': 2, 'filters_1': 64, 'kernel_size_1': 3, 'strides_1': 2, 'n_units_0': 89, 'n_units_1': 103, 'n_units_2': 82, 'optimizer': 'RMSprop', 'lr': 6.791478937668368e-05}. Best is trial 1 with value: 0.0796.\u001b[0m\n"
          ]
        },
        {
          "output_type": "stream",
          "name": "stdout",
          "text": [
            "Files already downloaded and verified\n"
          ]
        },
        {
          "output_type": "stream",
          "name": "stderr",
          "text": [
            "\u001b[32m[I 2022-06-21 04:48:25,243]\u001b[0m Trial 30 finished with value: 0.01 and parameters: {'n_layers_conv': 3, 'n_layers_dense': 2, 'filters_0': 128, 'kernel_size_0': 5, 'strides_0': 1, 'filters_1': 64, 'kernel_size_1': 3, 'strides_1': 2, 'filters_2': 64, 'kernel_size_2': 3, 'strides_2': 1, 'n_units_0': 104, 'n_units_1': 64, 'optimizer': 'SGD', 'lr': 3.081095690475887e-05}. Best is trial 1 with value: 0.0796.\u001b[0m\n"
          ]
        },
        {
          "output_type": "stream",
          "name": "stdout",
          "text": [
            "Files already downloaded and verified\n"
          ]
        },
        {
          "output_type": "stream",
          "name": "stderr",
          "text": [
            "\u001b[32m[I 2022-06-21 04:49:27,893]\u001b[0m Trial 31 finished with value: 0.0598 and parameters: {'n_layers_conv': 2, 'n_layers_dense': 2, 'filters_0': 128, 'kernel_size_0': 5, 'strides_0': 1, 'filters_1': 64, 'kernel_size_1': 3, 'strides_1': 2, 'n_units_0': 84, 'n_units_1': 112, 'optimizer': 'Adam', 'lr': 3.122384363145677e-05}. Best is trial 1 with value: 0.0796.\u001b[0m\n"
          ]
        },
        {
          "output_type": "stream",
          "name": "stdout",
          "text": [
            "Files already downloaded and verified\n"
          ]
        },
        {
          "output_type": "stream",
          "name": "stderr",
          "text": [
            "\u001b[32m[I 2022-06-21 04:50:30,683]\u001b[0m Trial 32 finished with value: 0.0637 and parameters: {'n_layers_conv': 2, 'n_layers_dense': 2, 'filters_0': 128, 'kernel_size_0': 5, 'strides_0': 1, 'filters_1': 64, 'kernel_size_1': 3, 'strides_1': 2, 'n_units_0': 89, 'n_units_1': 118, 'optimizer': 'Adam', 'lr': 2.0298173160400004e-05}. Best is trial 1 with value: 0.0796.\u001b[0m\n"
          ]
        },
        {
          "output_type": "stream",
          "name": "stdout",
          "text": [
            "Files already downloaded and verified\n"
          ]
        },
        {
          "output_type": "stream",
          "name": "stderr",
          "text": [
            "\u001b[32m[I 2022-06-21 04:51:32,975]\u001b[0m Trial 33 finished with value: 0.0813 and parameters: {'n_layers_conv': 2, 'n_layers_dense': 2, 'filters_0': 128, 'kernel_size_0': 5, 'strides_0': 1, 'filters_1': 64, 'kernel_size_1': 3, 'strides_1': 2, 'n_units_0': 76, 'n_units_1': 110, 'optimizer': 'Adam', 'lr': 0.00014756162694291365}. Best is trial 33 with value: 0.0813.\u001b[0m\n"
          ]
        },
        {
          "output_type": "stream",
          "name": "stdout",
          "text": [
            "Files already downloaded and verified\n"
          ]
        },
        {
          "output_type": "stream",
          "name": "stderr",
          "text": [
            "\u001b[32m[I 2022-06-21 04:52:35,486]\u001b[0m Trial 34 finished with value: 0.0667 and parameters: {'n_layers_conv': 2, 'n_layers_dense': 2, 'filters_0': 128, 'kernel_size_0': 3, 'strides_0': 1, 'filters_1': 64, 'kernel_size_1': 3, 'strides_1': 2, 'n_units_0': 76, 'n_units_1': 96, 'optimizer': 'Adam', 'lr': 0.00016839191403922394}. Best is trial 33 with value: 0.0813.\u001b[0m\n"
          ]
        },
        {
          "output_type": "stream",
          "name": "stdout",
          "text": [
            "Files already downloaded and verified\n"
          ]
        },
        {
          "output_type": "stream",
          "name": "stderr",
          "text": [
            "\u001b[32m[I 2022-06-21 04:53:37,686]\u001b[0m Trial 35 finished with value: 0.01 and parameters: {'n_layers_conv': 2, 'n_layers_dense': 3, 'filters_0': 32, 'kernel_size_0': 5, 'strides_0': 1, 'filters_1': 64, 'kernel_size_1': 3, 'strides_1': 1, 'n_units_0': 71, 'n_units_1': 107, 'n_units_2': 111, 'optimizer': 'Adam', 'lr': 0.00859781608799064}. Best is trial 33 with value: 0.0813.\u001b[0m\n"
          ]
        },
        {
          "output_type": "stream",
          "name": "stdout",
          "text": [
            "Files already downloaded and verified\n"
          ]
        },
        {
          "output_type": "stream",
          "name": "stderr",
          "text": [
            "\u001b[32m[I 2022-06-21 04:54:40,078]\u001b[0m Trial 36 finished with value: 0.01 and parameters: {'n_layers_conv': 3, 'n_layers_dense': 2, 'filters_0': 128, 'kernel_size_0': 3, 'strides_0': 2, 'filters_1': 64, 'kernel_size_1': 3, 'strides_1': 2, 'filters_2': 16, 'kernel_size_2': 5, 'strides_2': 2, 'n_units_0': 101, 'n_units_1': 86, 'optimizer': 'Adam', 'lr': 0.0011415067290366165}. Best is trial 33 with value: 0.0813.\u001b[0m\n"
          ]
        },
        {
          "output_type": "stream",
          "name": "stdout",
          "text": [
            "Files already downloaded and verified\n"
          ]
        },
        {
          "output_type": "stream",
          "name": "stderr",
          "text": [
            "\u001b[32m[I 2022-06-21 04:55:37,212]\u001b[0m Trial 37 finished with value: 0.0117 and parameters: {'n_layers_conv': 1, 'n_layers_dense': 1, 'filters_0': 16, 'kernel_size_0': 5, 'strides_0': 1, 'n_units_0': 92, 'optimizer': 'SGD', 'lr': 0.0036657675543184183}. Best is trial 33 with value: 0.0813.\u001b[0m\n"
          ]
        },
        {
          "output_type": "stream",
          "name": "stdout",
          "text": [
            "Files already downloaded and verified\n"
          ]
        },
        {
          "output_type": "stream",
          "name": "stderr",
          "text": [
            "\u001b[32m[I 2022-06-21 04:57:15,845]\u001b[0m Trial 38 finished with value: 0.053 and parameters: {'n_layers_conv': 4, 'n_layers_dense': 2, 'filters_0': 128, 'kernel_size_0': 5, 'strides_0': 1, 'filters_1': 128, 'kernel_size_1': 5, 'strides_1': 2, 'filters_2': 128, 'kernel_size_2': 5, 'strides_2': 2, 'filters_3': 64, 'kernel_size_3': 3, 'strides_3': 2, 'n_units_0': 64, 'n_units_1': 102, 'optimizer': 'RMSprop', 'lr': 0.00033902879619617795}. Best is trial 33 with value: 0.0813.\u001b[0m\n"
          ]
        },
        {
          "output_type": "stream",
          "name": "stdout",
          "text": [
            "Files already downloaded and verified\n"
          ]
        },
        {
          "output_type": "stream",
          "name": "stderr",
          "text": [
            "\u001b[32m[I 2022-06-21 04:58:15,936]\u001b[0m Trial 39 finished with value: 0.0843 and parameters: {'n_layers_conv': 2, 'n_layers_dense': 1, 'filters_0': 64, 'kernel_size_0': 3, 'strides_0': 2, 'filters_1': 16, 'kernel_size_1': 3, 'strides_1': 2, 'n_units_0': 114, 'optimizer': 'Adam', 'lr': 7.438008946290933e-05}. Best is trial 39 with value: 0.0843.\u001b[0m\n"
          ]
        },
        {
          "output_type": "stream",
          "name": "stdout",
          "text": [
            "Files already downloaded and verified\n"
          ]
        },
        {
          "output_type": "stream",
          "name": "stderr",
          "text": [
            "\u001b[32m[I 2022-06-21 04:59:16,193]\u001b[0m Trial 40 finished with value: 0.01 and parameters: {'n_layers_conv': 2, 'n_layers_dense': 1, 'filters_0': 64, 'kernel_size_0': 3, 'strides_0': 2, 'filters_1': 16, 'kernel_size_1': 3, 'strides_1': 1, 'n_units_0': 125, 'optimizer': 'Adam', 'lr': 0.08643623453291308}. Best is trial 39 with value: 0.0843.\u001b[0m\n"
          ]
        },
        {
          "output_type": "stream",
          "name": "stdout",
          "text": [
            "Files already downloaded and verified\n"
          ]
        },
        {
          "output_type": "stream",
          "name": "stderr",
          "text": [
            "\u001b[32m[I 2022-06-21 05:00:16,294]\u001b[0m Trial 41 finished with value: 0.0824 and parameters: {'n_layers_conv': 2, 'n_layers_dense': 1, 'filters_0': 64, 'kernel_size_0': 3, 'strides_0': 2, 'filters_1': 16, 'kernel_size_1': 3, 'strides_1': 2, 'n_units_0': 115, 'optimizer': 'Adam', 'lr': 7.045820760059138e-05}. Best is trial 39 with value: 0.0843.\u001b[0m\n"
          ]
        },
        {
          "output_type": "stream",
          "name": "stdout",
          "text": [
            "Files already downloaded and verified\n"
          ]
        },
        {
          "output_type": "stream",
          "name": "stderr",
          "text": [
            "\u001b[32m[I 2022-06-21 05:01:16,259]\u001b[0m Trial 42 finished with value: 0.0736 and parameters: {'n_layers_conv': 2, 'n_layers_dense': 1, 'filters_0': 64, 'kernel_size_0': 3, 'strides_0': 2, 'filters_1': 16, 'kernel_size_1': 3, 'strides_1': 2, 'n_units_0': 112, 'optimizer': 'Adam', 'lr': 0.00010749253716768257}. Best is trial 39 with value: 0.0843.\u001b[0m\n"
          ]
        },
        {
          "output_type": "stream",
          "name": "stdout",
          "text": [
            "Files already downloaded and verified\n"
          ]
        },
        {
          "output_type": "stream",
          "name": "stderr",
          "text": [
            "\u001b[32m[I 2022-06-21 05:02:16,686]\u001b[0m Trial 43 finished with value: 0.065 and parameters: {'n_layers_conv': 2, 'n_layers_dense': 1, 'filters_0': 64, 'kernel_size_0': 3, 'strides_0': 2, 'filters_1': 16, 'kernel_size_1': 3, 'strides_1': 2, 'n_units_0': 117, 'optimizer': 'Adam', 'lr': 6.556397223111766e-05}. Best is trial 39 with value: 0.0843.\u001b[0m\n"
          ]
        },
        {
          "output_type": "stream",
          "name": "stdout",
          "text": [
            "Files already downloaded and verified\n"
          ]
        },
        {
          "output_type": "stream",
          "name": "stderr",
          "text": [
            "\u001b[32m[I 2022-06-21 05:03:15,104]\u001b[0m Trial 44 finished with value: 0.0735 and parameters: {'n_layers_conv': 1, 'n_layers_dense': 1, 'filters_0': 64, 'kernel_size_0': 3, 'strides_0': 2, 'n_units_0': 128, 'optimizer': 'Adam', 'lr': 0.00013533555938558223}. Best is trial 39 with value: 0.0843.\u001b[0m\n"
          ]
        },
        {
          "output_type": "stream",
          "name": "stdout",
          "text": [
            "Files already downloaded and verified\n"
          ]
        },
        {
          "output_type": "stream",
          "name": "stderr",
          "text": [
            "\u001b[32m[I 2022-06-21 05:04:15,579]\u001b[0m Trial 45 finished with value: 0.0747 and parameters: {'n_layers_conv': 2, 'n_layers_dense': 1, 'filters_0': 64, 'kernel_size_0': 3, 'strides_0': 2, 'filters_1': 16, 'kernel_size_1': 3, 'strides_1': 2, 'n_units_0': 120, 'optimizer': 'Adam', 'lr': 0.00018671350002697306}. Best is trial 39 with value: 0.0843.\u001b[0m\n"
          ]
        },
        {
          "output_type": "stream",
          "name": "stdout",
          "text": [
            "Files already downloaded and verified\n"
          ]
        },
        {
          "output_type": "stream",
          "name": "stderr",
          "text": [
            "\u001b[32m[I 2022-06-21 05:05:14,087]\u001b[0m Trial 46 finished with value: 0.0607 and parameters: {'n_layers_conv': 1, 'n_layers_dense': 1, 'filters_0': 64, 'kernel_size_0': 3, 'strides_0': 2, 'n_units_0': 114, 'optimizer': 'Adam', 'lr': 7.895564312311281e-05}. Best is trial 39 with value: 0.0843.\u001b[0m\n"
          ]
        },
        {
          "output_type": "stream",
          "name": "stdout",
          "text": [
            "Files already downloaded and verified\n"
          ]
        },
        {
          "output_type": "stream",
          "name": "stderr",
          "text": [
            "\u001b[32m[I 2022-06-21 05:06:14,373]\u001b[0m Trial 47 finished with value: 0.0125 and parameters: {'n_layers_conv': 3, 'n_layers_dense': 1, 'filters_0': 64, 'kernel_size_0': 3, 'strides_0': 2, 'filters_1': 16, 'kernel_size_1': 3, 'strides_1': 2, 'filters_2': 128, 'kernel_size_2': 3, 'strides_2': 1, 'n_units_0': 122, 'optimizer': 'SGD', 'lr': 0.02137385349072638}. Best is trial 39 with value: 0.0843.\u001b[0m\n"
          ]
        },
        {
          "output_type": "stream",
          "name": "stdout",
          "text": [
            "Files already downloaded and verified\n"
          ]
        },
        {
          "output_type": "stream",
          "name": "stderr",
          "text": [
            "\u001b[32m[I 2022-06-21 05:07:14,399]\u001b[0m Trial 48 finished with value: 0.0744 and parameters: {'n_layers_conv': 2, 'n_layers_dense': 1, 'filters_0': 64, 'kernel_size_0': 3, 'strides_0': 2, 'filters_1': 32, 'kernel_size_1': 3, 'strides_1': 2, 'n_units_0': 117, 'optimizer': 'Adam', 'lr': 0.00029022039445790335}. Best is trial 39 with value: 0.0843.\u001b[0m\n"
          ]
        },
        {
          "output_type": "stream",
          "name": "stdout",
          "text": [
            "Files already downloaded and verified\n"
          ]
        },
        {
          "output_type": "stream",
          "name": "stderr",
          "text": [
            "\u001b[32m[I 2022-06-21 05:08:14,621]\u001b[0m Trial 49 finished with value: 0.0781 and parameters: {'n_layers_conv': 2, 'n_layers_dense': 1, 'filters_0': 64, 'kernel_size_0': 3, 'strides_0': 2, 'filters_1': 16, 'kernel_size_1': 3, 'strides_1': 1, 'n_units_0': 108, 'optimizer': 'Adam', 'lr': 4.67383514346248e-05}. Best is trial 39 with value: 0.0843.\u001b[0m\n"
          ]
        },
        {
          "output_type": "stream",
          "name": "stdout",
          "text": [
            "Files already downloaded and verified\n"
          ]
        },
        {
          "output_type": "stream",
          "name": "stderr",
          "text": [
            "\u001b[32m[I 2022-06-21 05:09:18,212]\u001b[0m Trial 50 finished with value: 0.0702 and parameters: {'n_layers_conv': 2, 'n_layers_dense': 1, 'filters_0': 64, 'kernel_size_0': 3, 'strides_0': 2, 'filters_1': 16, 'kernel_size_1': 3, 'strides_1': 1, 'n_units_0': 107, 'optimizer': 'Adam', 'lr': 3.7976032431075475e-05}. Best is trial 39 with value: 0.0843.\u001b[0m\n"
          ]
        },
        {
          "output_type": "stream",
          "name": "stdout",
          "text": [
            "Files already downloaded and verified\n"
          ]
        },
        {
          "output_type": "stream",
          "name": "stderr",
          "text": [
            "\u001b[32m[I 2022-06-21 05:10:18,359]\u001b[0m Trial 51 finished with value: 0.0527 and parameters: {'n_layers_conv': 2, 'n_layers_dense': 1, 'filters_0': 64, 'kernel_size_0': 3, 'strides_0': 2, 'filters_1': 16, 'kernel_size_1': 3, 'strides_1': 1, 'n_units_0': 114, 'optimizer': 'Adam', 'lr': 4.9587921559362334e-05}. Best is trial 39 with value: 0.0843.\u001b[0m\n"
          ]
        },
        {
          "output_type": "stream",
          "name": "stdout",
          "text": [
            "Files already downloaded and verified\n"
          ]
        },
        {
          "output_type": "stream",
          "name": "stderr",
          "text": [
            "\u001b[32m[I 2022-06-21 05:11:19,406]\u001b[0m Trial 52 finished with value: 0.0563 and parameters: {'n_layers_conv': 2, 'n_layers_dense': 1, 'filters_0': 64, 'kernel_size_0': 3, 'strides_0': 2, 'filters_1': 16, 'kernel_size_1': 3, 'strides_1': 1, 'n_units_0': 103, 'optimizer': 'Adam', 'lr': 0.00013024925668446598}. Best is trial 39 with value: 0.0843.\u001b[0m\n"
          ]
        },
        {
          "output_type": "stream",
          "name": "stdout",
          "text": [
            "Files already downloaded and verified\n"
          ]
        },
        {
          "output_type": "stream",
          "name": "stderr",
          "text": [
            "\u001b[32m[I 2022-06-21 05:12:21,602]\u001b[0m Trial 53 finished with value: 0.0533 and parameters: {'n_layers_conv': 2, 'n_layers_dense': 1, 'filters_0': 64, 'kernel_size_0': 3, 'strides_0': 2, 'filters_1': 16, 'kernel_size_1': 3, 'strides_1': 1, 'n_units_0': 114, 'optimizer': 'Adam', 'lr': 1.3944702232441019e-05}. Best is trial 39 with value: 0.0843.\u001b[0m\n"
          ]
        },
        {
          "output_type": "stream",
          "name": "stdout",
          "text": [
            "Files already downloaded and verified\n"
          ]
        },
        {
          "output_type": "stream",
          "name": "stderr",
          "text": [
            "\u001b[32m[I 2022-06-21 05:13:24,196]\u001b[0m Trial 54 finished with value: 0.0681 and parameters: {'n_layers_conv': 2, 'n_layers_dense': 1, 'filters_0': 32, 'kernel_size_0': 3, 'strides_0': 2, 'filters_1': 32, 'kernel_size_1': 3, 'strides_1': 1, 'n_units_0': 106, 'optimizer': 'Adam', 'lr': 0.00010130063734930419}. Best is trial 39 with value: 0.0843.\u001b[0m\n"
          ]
        },
        {
          "output_type": "stream",
          "name": "stdout",
          "text": [
            "Files already downloaded and verified\n"
          ]
        },
        {
          "output_type": "stream",
          "name": "stderr",
          "text": [
            "\u001b[32m[I 2022-06-21 05:14:25,561]\u001b[0m Trial 55 finished with value: 0.0601 and parameters: {'n_layers_conv': 3, 'n_layers_dense': 1, 'filters_0': 16, 'kernel_size_0': 3, 'strides_0': 2, 'filters_1': 16, 'kernel_size_1': 3, 'strides_1': 2, 'filters_2': 64, 'kernel_size_2': 5, 'strides_2': 2, 'n_units_0': 110, 'optimizer': 'Adam', 'lr': 5.383684512809665e-05}. Best is trial 39 with value: 0.0843.\u001b[0m\n"
          ]
        },
        {
          "output_type": "stream",
          "name": "stdout",
          "text": [
            "Files already downloaded and verified\n"
          ]
        },
        {
          "output_type": "stream",
          "name": "stderr",
          "text": [
            "\u001b[32m[I 2022-06-21 05:15:25,318]\u001b[0m Trial 56 finished with value: 0.01 and parameters: {'n_layers_conv': 3, 'n_layers_dense': 1, 'filters_0': 64, 'kernel_size_0': 3, 'strides_0': 2, 'filters_1': 16, 'kernel_size_1': 3, 'strides_1': 2, 'filters_2': 32, 'kernel_size_2': 3, 'strides_2': 1, 'n_units_0': 68, 'optimizer': 'SGD', 'lr': 0.0003521880985109881}. Best is trial 39 with value: 0.0843.\u001b[0m\n"
          ]
        },
        {
          "output_type": "stream",
          "name": "stdout",
          "text": [
            "Files already downloaded and verified\n"
          ]
        },
        {
          "output_type": "stream",
          "name": "stderr",
          "text": [
            "\u001b[32m[I 2022-06-21 05:16:26,503]\u001b[0m Trial 57 finished with value: 0.059 and parameters: {'n_layers_conv': 2, 'n_layers_dense': 1, 'filters_0': 64, 'kernel_size_0': 3, 'strides_0': 1, 'filters_1': 128, 'kernel_size_1': 3, 'strides_1': 2, 'n_units_0': 75, 'optimizer': 'Adam', 'lr': 1.6633315607473724e-05}. Best is trial 39 with value: 0.0843.\u001b[0m\n"
          ]
        },
        {
          "output_type": "stream",
          "name": "stdout",
          "text": [
            "Files already downloaded and verified\n"
          ]
        },
        {
          "output_type": "stream",
          "name": "stderr",
          "text": [
            "\u001b[32m[I 2022-06-21 05:17:24,804]\u001b[0m Trial 58 finished with value: 0.0809 and parameters: {'n_layers_conv': 1, 'n_layers_dense': 1, 'filters_0': 128, 'kernel_size_0': 5, 'strides_0': 2, 'n_units_0': 97, 'optimizer': 'Adam', 'lr': 0.0005929823342512721}. Best is trial 39 with value: 0.0843.\u001b[0m\n"
          ]
        },
        {
          "output_type": "stream",
          "name": "stdout",
          "text": [
            "Files already downloaded and verified\n"
          ]
        },
        {
          "output_type": "stream",
          "name": "stderr",
          "text": [
            "\u001b[32m[I 2022-06-21 05:18:22,624]\u001b[0m Trial 59 finished with value: 0.0474 and parameters: {'n_layers_conv': 1, 'n_layers_dense': 1, 'filters_0': 128, 'kernel_size_0': 5, 'strides_0': 2, 'n_units_0': 99, 'optimizer': 'Adam', 'lr': 0.0006917749896137132}. Best is trial 39 with value: 0.0843.\u001b[0m\n"
          ]
        },
        {
          "output_type": "stream",
          "name": "stdout",
          "text": [
            "Files already downloaded and verified\n"
          ]
        },
        {
          "output_type": "stream",
          "name": "stderr",
          "text": [
            "\u001b[32m[I 2022-06-21 05:19:19,300]\u001b[0m Trial 60 finished with value: 0.0496 and parameters: {'n_layers_conv': 1, 'n_layers_dense': 1, 'filters_0': 32, 'kernel_size_0': 3, 'strides_0': 2, 'n_units_0': 101, 'optimizer': 'RMSprop', 'lr': 0.0010883199779544179}. Best is trial 39 with value: 0.0843.\u001b[0m\n"
          ]
        },
        {
          "output_type": "stream",
          "name": "stdout",
          "text": [
            "Files already downloaded and verified\n"
          ]
        },
        {
          "output_type": "stream",
          "name": "stderr",
          "text": [
            "\u001b[32m[I 2022-06-21 05:20:17,230]\u001b[0m Trial 61 finished with value: 0.01 and parameters: {'n_layers_conv': 1, 'n_layers_dense': 1, 'filters_0': 128, 'kernel_size_0': 5, 'strides_0': 2, 'n_units_0': 120, 'optimizer': 'Adam', 'lr': 0.0020134486695927646}. Best is trial 39 with value: 0.0843.\u001b[0m\n"
          ]
        },
        {
          "output_type": "stream",
          "name": "stdout",
          "text": [
            "Files already downloaded and verified\n"
          ]
        },
        {
          "output_type": "stream",
          "name": "stderr",
          "text": [
            "\u001b[32m[I 2022-06-21 05:21:18,822]\u001b[0m Trial 62 finished with value: 0.0604 and parameters: {'n_layers_conv': 4, 'n_layers_dense': 1, 'filters_0': 128, 'kernel_size_0': 5, 'strides_0': 2, 'filters_1': 32, 'kernel_size_1': 3, 'strides_1': 1, 'filters_2': 16, 'kernel_size_2': 5, 'strides_2': 2, 'filters_3': 32, 'kernel_size_3': 5, 'strides_3': 1, 'n_units_0': 97, 'optimizer': 'Adam', 'lr': 0.00017221728838051612}. Best is trial 39 with value: 0.0843.\u001b[0m\n"
          ]
        },
        {
          "output_type": "stream",
          "name": "stdout",
          "text": [
            "Files already downloaded and verified\n"
          ]
        },
        {
          "output_type": "stream",
          "name": "stderr",
          "text": [
            "\u001b[32m[I 2022-06-21 05:22:18,033]\u001b[0m Trial 63 finished with value: 0.0657 and parameters: {'n_layers_conv': 1, 'n_layers_dense': 1, 'filters_0': 128, 'kernel_size_0': 5, 'strides_0': 1, 'n_units_0': 94, 'optimizer': 'Adam', 'lr': 7.96474151880009e-05}. Best is trial 39 with value: 0.0843.\u001b[0m\n"
          ]
        },
        {
          "output_type": "stream",
          "name": "stdout",
          "text": [
            "Files already downloaded and verified\n"
          ]
        },
        {
          "output_type": "stream",
          "name": "stderr",
          "text": [
            "\u001b[32m[I 2022-06-21 05:23:19,676]\u001b[0m Trial 64 finished with value: 0.0533 and parameters: {'n_layers_conv': 3, 'n_layers_dense': 2, 'filters_0': 128, 'kernel_size_0': 5, 'strides_0': 2, 'filters_1': 16, 'kernel_size_1': 3, 'strides_1': 2, 'filters_2': 128, 'kernel_size_2': 5, 'strides_2': 2, 'n_units_0': 81, 'n_units_1': 123, 'optimizer': 'Adam', 'lr': 0.00023682470527922145}. Best is trial 39 with value: 0.0843.\u001b[0m\n"
          ]
        },
        {
          "output_type": "stream",
          "name": "stdout",
          "text": [
            "Files already downloaded and verified\n"
          ]
        },
        {
          "output_type": "stream",
          "name": "stderr",
          "text": [
            "\u001b[32m[I 2022-06-21 05:24:20,391]\u001b[0m Trial 65 finished with value: 0.0595 and parameters: {'n_layers_conv': 2, 'n_layers_dense': 2, 'filters_0': 128, 'kernel_size_0': 5, 'strides_0': 1, 'filters_1': 16, 'kernel_size_1': 3, 'strides_1': 2, 'n_units_0': 108, 'n_units_1': 127, 'optimizer': 'Adam', 'lr': 3.605164184153964e-05}. Best is trial 39 with value: 0.0843.\u001b[0m\n"
          ]
        },
        {
          "output_type": "stream",
          "name": "stdout",
          "text": [
            "Files already downloaded and verified\n"
          ]
        },
        {
          "output_type": "stream",
          "name": "stderr",
          "text": [
            "\u001b[32m[I 2022-06-21 05:25:19,641]\u001b[0m Trial 66 finished with value: 0.0583 and parameters: {'n_layers_conv': 2, 'n_layers_dense': 1, 'filters_0': 16, 'kernel_size_0': 5, 'strides_0': 1, 'filters_1': 64, 'kernel_size_1': 3, 'strides_1': 2, 'n_units_0': 95, 'optimizer': 'Adam', 'lr': 9.869107776380007e-05}. Best is trial 39 with value: 0.0843.\u001b[0m\n"
          ]
        },
        {
          "output_type": "stream",
          "name": "stdout",
          "text": [
            "Files already downloaded and verified\n"
          ]
        },
        {
          "output_type": "stream",
          "name": "stderr",
          "text": [
            "\u001b[32m[I 2022-06-21 05:26:18,387]\u001b[0m Trial 67 finished with value: 0.0577 and parameters: {'n_layers_conv': 2, 'n_layers_dense': 1, 'filters_0': 128, 'kernel_size_0': 5, 'strides_0': 2, 'filters_1': 64, 'kernel_size_1': 3, 'strides_1': 2, 'n_units_0': 91, 'optimizer': 'RMSprop', 'lr': 0.00040912981137564136}. Best is trial 39 with value: 0.0843.\u001b[0m\n"
          ]
        },
        {
          "output_type": "stream",
          "name": "stdout",
          "text": [
            "Files already downloaded and verified\n"
          ]
        },
        {
          "output_type": "stream",
          "name": "stderr",
          "text": [
            "\u001b[32m[I 2022-06-21 05:27:16,563]\u001b[0m Trial 68 finished with value: 0.0048 and parameters: {'n_layers_conv': 1, 'n_layers_dense': 2, 'filters_0': 128, 'kernel_size_0': 5, 'strides_0': 1, 'n_units_0': 87, 'n_units_1': 121, 'optimizer': 'SGD', 'lr': 2.740914239371835e-05}. Best is trial 39 with value: 0.0843.\u001b[0m\n"
          ]
        },
        {
          "output_type": "stream",
          "name": "stdout",
          "text": [
            "Files already downloaded and verified\n"
          ]
        },
        {
          "output_type": "stream",
          "name": "stderr",
          "text": [
            "\u001b[32m[I 2022-06-21 05:29:00,317]\u001b[0m Trial 69 finished with value: 0.0607 and parameters: {'n_layers_conv': 3, 'n_layers_dense': 3, 'filters_0': 64, 'kernel_size_0': 5, 'strides_0': 1, 'filters_1': 128, 'kernel_size_1': 3, 'strides_1': 1, 'filters_2': 128, 'kernel_size_2': 3, 'strides_2': 1, 'n_units_0': 102, 'n_units_1': 111, 'n_units_2': 80, 'optimizer': 'Adam', 'lr': 6.595812641827226e-05}. Best is trial 39 with value: 0.0843.\u001b[0m\n"
          ]
        },
        {
          "output_type": "stream",
          "name": "stdout",
          "text": [
            "Files already downloaded and verified\n"
          ]
        },
        {
          "output_type": "stream",
          "name": "stderr",
          "text": [
            "\u001b[32m[I 2022-06-21 05:30:00,145]\u001b[0m Trial 70 finished with value: 0.0322 and parameters: {'n_layers_conv': 2, 'n_layers_dense': 2, 'filters_0': 128, 'kernel_size_0': 5, 'strides_0': 2, 'filters_1': 16, 'kernel_size_1': 3, 'strides_1': 2, 'n_units_0': 112, 'n_units_1': 118, 'optimizer': 'RMSprop', 'lr': 0.0005088228393863729}. Best is trial 39 with value: 0.0843.\u001b[0m\n"
          ]
        },
        {
          "output_type": "stream",
          "name": "stdout",
          "text": [
            "Files already downloaded and verified\n"
          ]
        },
        {
          "output_type": "stream",
          "name": "stderr",
          "text": [
            "\u001b[32m[I 2022-06-21 05:30:59,518]\u001b[0m Trial 71 finished with value: 0.0839 and parameters: {'n_layers_conv': 2, 'n_layers_dense': 1, 'filters_0': 64, 'kernel_size_0': 3, 'strides_0': 2, 'filters_1': 16, 'kernel_size_1': 3, 'strides_1': 2, 'n_units_0': 118, 'optimizer': 'Adam', 'lr': 0.00019050437531798609}. Best is trial 39 with value: 0.0843.\u001b[0m\n"
          ]
        },
        {
          "output_type": "stream",
          "name": "stdout",
          "text": [
            "Files already downloaded and verified\n"
          ]
        },
        {
          "output_type": "stream",
          "name": "stderr",
          "text": [
            "\u001b[32m[I 2022-06-21 05:32:00,720]\u001b[0m Trial 72 finished with value: 0.0803 and parameters: {'n_layers_conv': 2, 'n_layers_dense': 1, 'filters_0': 64, 'kernel_size_0': 3, 'strides_0': 2, 'filters_1': 16, 'kernel_size_1': 3, 'strides_1': 2, 'n_units_0': 123, 'optimizer': 'Adam', 'lr': 0.00015566146379869826}. Best is trial 39 with value: 0.0843.\u001b[0m\n"
          ]
        },
        {
          "output_type": "stream",
          "name": "stdout",
          "text": [
            "Files already downloaded and verified\n"
          ]
        },
        {
          "output_type": "stream",
          "name": "stderr",
          "text": [
            "\u001b[32m[I 2022-06-21 05:33:00,184]\u001b[0m Trial 73 finished with value: 0.0849 and parameters: {'n_layers_conv': 2, 'n_layers_dense': 1, 'filters_0': 64, 'kernel_size_0': 3, 'strides_0': 2, 'filters_1': 16, 'kernel_size_1': 3, 'strides_1': 2, 'n_units_0': 123, 'optimizer': 'Adam', 'lr': 0.00014109509800540933}. Best is trial 73 with value: 0.0849.\u001b[0m\n"
          ]
        },
        {
          "output_type": "stream",
          "name": "stdout",
          "text": [
            "Files already downloaded and verified\n"
          ]
        },
        {
          "output_type": "stream",
          "name": "stderr",
          "text": [
            "\u001b[32m[I 2022-06-21 05:33:59,573]\u001b[0m Trial 74 finished with value: 0.0776 and parameters: {'n_layers_conv': 2, 'n_layers_dense': 1, 'filters_0': 64, 'kernel_size_0': 3, 'strides_0': 2, 'filters_1': 16, 'kernel_size_1': 3, 'strides_1': 2, 'n_units_0': 125, 'optimizer': 'Adam', 'lr': 0.00028711875885279814}. Best is trial 73 with value: 0.0849.\u001b[0m\n"
          ]
        },
        {
          "output_type": "stream",
          "name": "stdout",
          "text": [
            "Files already downloaded and verified\n"
          ]
        },
        {
          "output_type": "stream",
          "name": "stderr",
          "text": [
            "\u001b[32m[I 2022-06-21 05:34:59,078]\u001b[0m Trial 75 finished with value: 0.0773 and parameters: {'n_layers_conv': 2, 'n_layers_dense': 1, 'filters_0': 64, 'kernel_size_0': 3, 'strides_0': 2, 'filters_1': 16, 'kernel_size_1': 5, 'strides_1': 2, 'n_units_0': 128, 'optimizer': 'Adam', 'lr': 0.00016859004620990652}. Best is trial 73 with value: 0.0849.\u001b[0m\n"
          ]
        },
        {
          "output_type": "stream",
          "name": "stdout",
          "text": [
            "Files already downloaded and verified\n"
          ]
        },
        {
          "output_type": "stream",
          "name": "stderr",
          "text": [
            "\u001b[32m[I 2022-06-21 05:35:58,441]\u001b[0m Trial 76 finished with value: 0.0745 and parameters: {'n_layers_conv': 2, 'n_layers_dense': 1, 'filters_0': 64, 'kernel_size_0': 3, 'strides_0': 2, 'filters_1': 16, 'kernel_size_1': 3, 'strides_1': 2, 'n_units_0': 123, 'optimizer': 'Adam', 'lr': 0.00021111964150235466}. Best is trial 73 with value: 0.0849.\u001b[0m\n"
          ]
        },
        {
          "output_type": "stream",
          "name": "stdout",
          "text": [
            "Files already downloaded and verified\n"
          ]
        },
        {
          "output_type": "stream",
          "name": "stderr",
          "text": [
            "\u001b[32m[I 2022-06-21 05:36:58,145]\u001b[0m Trial 77 finished with value: 0.0869 and parameters: {'n_layers_conv': 2, 'n_layers_dense': 1, 'filters_0': 64, 'kernel_size_0': 3, 'strides_0': 2, 'filters_1': 16, 'kernel_size_1': 3, 'strides_1': 2, 'n_units_0': 118, 'optimizer': 'Adam', 'lr': 0.0008425772289458649}. Best is trial 77 with value: 0.0869.\u001b[0m\n"
          ]
        },
        {
          "output_type": "stream",
          "name": "stdout",
          "text": [
            "Files already downloaded and verified\n"
          ]
        },
        {
          "output_type": "stream",
          "name": "stderr",
          "text": [
            "\u001b[32m[I 2022-06-21 05:37:57,539]\u001b[0m Trial 78 finished with value: 0.0165 and parameters: {'n_layers_conv': 2, 'n_layers_dense': 1, 'filters_0': 64, 'kernel_size_0': 3, 'strides_0': 2, 'filters_1': 16, 'kernel_size_1': 3, 'strides_1': 2, 'n_units_0': 119, 'optimizer': 'Adam', 'lr': 0.0026256207254876135}. Best is trial 77 with value: 0.0869.\u001b[0m\n"
          ]
        },
        {
          "output_type": "stream",
          "name": "stdout",
          "text": [
            "Files already downloaded and verified\n"
          ]
        },
        {
          "output_type": "stream",
          "name": "stderr",
          "text": [
            "\u001b[32m[I 2022-06-21 05:38:56,776]\u001b[0m Trial 79 finished with value: 0.0463 and parameters: {'n_layers_conv': 2, 'n_layers_dense': 1, 'filters_0': 64, 'kernel_size_0': 3, 'strides_0': 2, 'filters_1': 16, 'kernel_size_1': 3, 'strides_1': 2, 'n_units_0': 122, 'optimizer': 'Adam', 'lr': 0.0014694677764480804}. Best is trial 77 with value: 0.0869.\u001b[0m\n"
          ]
        },
        {
          "output_type": "stream",
          "name": "stdout",
          "text": [
            "Files already downloaded and verified\n"
          ]
        },
        {
          "output_type": "stream",
          "name": "stderr",
          "text": [
            "\u001b[32m[I 2022-06-21 05:39:56,425]\u001b[0m Trial 80 finished with value: 0.0925 and parameters: {'n_layers_conv': 2, 'n_layers_dense': 1, 'filters_0': 64, 'kernel_size_0': 3, 'strides_0': 2, 'filters_1': 16, 'kernel_size_1': 3, 'strides_1': 2, 'n_units_0': 116, 'optimizer': 'Adam', 'lr': 0.0008395232136179749}. Best is trial 80 with value: 0.0925.\u001b[0m\n"
          ]
        },
        {
          "output_type": "stream",
          "name": "stdout",
          "text": [
            "Files already downloaded and verified\n"
          ]
        },
        {
          "output_type": "stream",
          "name": "stderr",
          "text": [
            "\u001b[32m[I 2022-06-21 05:40:56,427]\u001b[0m Trial 81 finished with value: 0.0635 and parameters: {'n_layers_conv': 2, 'n_layers_dense': 1, 'filters_0': 64, 'kernel_size_0': 3, 'strides_0': 2, 'filters_1': 16, 'kernel_size_1': 3, 'strides_1': 2, 'n_units_0': 116, 'optimizer': 'Adam', 'lr': 0.0007912174585519262}. Best is trial 80 with value: 0.0925.\u001b[0m\n"
          ]
        },
        {
          "output_type": "stream",
          "name": "stdout",
          "text": [
            "Files already downloaded and verified\n"
          ]
        },
        {
          "output_type": "stream",
          "name": "stderr",
          "text": [
            "\u001b[32m[I 2022-06-21 05:41:56,145]\u001b[0m Trial 82 finished with value: 0.076 and parameters: {'n_layers_conv': 2, 'n_layers_dense': 1, 'filters_0': 64, 'kernel_size_0': 3, 'strides_0': 2, 'filters_1': 16, 'kernel_size_1': 3, 'strides_1': 2, 'n_units_0': 119, 'optimizer': 'Adam', 'lr': 0.0005858168811363736}. Best is trial 80 with value: 0.0925.\u001b[0m\n"
          ]
        },
        {
          "output_type": "stream",
          "name": "stdout",
          "text": [
            "Files already downloaded and verified\n"
          ]
        },
        {
          "output_type": "stream",
          "name": "stderr",
          "text": [
            "\u001b[32m[I 2022-06-21 05:42:55,970]\u001b[0m Trial 83 finished with value: 0.089 and parameters: {'n_layers_conv': 2, 'n_layers_dense': 1, 'filters_0': 64, 'kernel_size_0': 3, 'strides_0': 2, 'filters_1': 16, 'kernel_size_1': 3, 'strides_1': 2, 'n_units_0': 126, 'optimizer': 'Adam', 'lr': 0.00013936518547139174}. Best is trial 80 with value: 0.0925.\u001b[0m\n"
          ]
        },
        {
          "output_type": "stream",
          "name": "stdout",
          "text": [
            "Files already downloaded and verified\n"
          ]
        },
        {
          "output_type": "stream",
          "name": "stderr",
          "text": [
            "\u001b[32m[I 2022-06-21 05:43:55,603]\u001b[0m Trial 84 finished with value: 0.076 and parameters: {'n_layers_conv': 2, 'n_layers_dense': 1, 'filters_0': 64, 'kernel_size_0': 3, 'strides_0': 2, 'filters_1': 16, 'kernel_size_1': 3, 'strides_1': 2, 'n_units_0': 126, 'optimizer': 'Adam', 'lr': 0.0013276635117335067}. Best is trial 80 with value: 0.0925.\u001b[0m\n"
          ]
        },
        {
          "output_type": "stream",
          "name": "stdout",
          "text": [
            "Files already downloaded and verified\n"
          ]
        },
        {
          "output_type": "stream",
          "name": "stderr",
          "text": [
            "\u001b[32m[I 2022-06-21 05:44:55,387]\u001b[0m Trial 85 finished with value: 0.0698 and parameters: {'n_layers_conv': 2, 'n_layers_dense': 1, 'filters_0': 64, 'kernel_size_0': 3, 'strides_0': 2, 'filters_1': 16, 'kernel_size_1': 3, 'strides_1': 2, 'n_units_0': 116, 'optimizer': 'Adam', 'lr': 0.0008885455376908011}. Best is trial 80 with value: 0.0925.\u001b[0m\n"
          ]
        },
        {
          "output_type": "stream",
          "name": "stdout",
          "text": [
            "Files already downloaded and verified\n"
          ]
        },
        {
          "output_type": "stream",
          "name": "stderr",
          "text": [
            "\u001b[32m[I 2022-06-21 05:45:54,994]\u001b[0m Trial 86 finished with value: 0.0851 and parameters: {'n_layers_conv': 2, 'n_layers_dense': 1, 'filters_0': 64, 'kernel_size_0': 3, 'strides_0': 2, 'filters_1': 16, 'kernel_size_1': 5, 'strides_1': 2, 'n_units_0': 126, 'optimizer': 'Adam', 'lr': 0.00012930341420586114}. Best is trial 80 with value: 0.0925.\u001b[0m\n"
          ]
        },
        {
          "output_type": "stream",
          "name": "stdout",
          "text": [
            "Files already downloaded and verified\n"
          ]
        },
        {
          "output_type": "stream",
          "name": "stderr",
          "text": [
            "\u001b[32m[I 2022-06-21 05:46:54,527]\u001b[0m Trial 87 finished with value: 0.0766 and parameters: {'n_layers_conv': 2, 'n_layers_dense': 1, 'filters_0': 64, 'kernel_size_0': 3, 'strides_0': 2, 'filters_1': 16, 'kernel_size_1': 5, 'strides_1': 2, 'n_units_0': 120, 'optimizer': 'Adam', 'lr': 0.00012265187647665987}. Best is trial 80 with value: 0.0925.\u001b[0m\n"
          ]
        },
        {
          "output_type": "stream",
          "name": "stdout",
          "text": [
            "Files already downloaded and verified\n"
          ]
        },
        {
          "output_type": "stream",
          "name": "stderr",
          "text": [
            "\u001b[32m[I 2022-06-21 05:47:54,090]\u001b[0m Trial 88 finished with value: 0.0842 and parameters: {'n_layers_conv': 2, 'n_layers_dense': 1, 'filters_0': 64, 'kernel_size_0': 3, 'strides_0': 2, 'filters_1': 16, 'kernel_size_1': 5, 'strides_1': 2, 'n_units_0': 127, 'optimizer': 'Adam', 'lr': 6.0293902531989784e-05}. Best is trial 80 with value: 0.0925.\u001b[0m\n"
          ]
        },
        {
          "output_type": "stream",
          "name": "stdout",
          "text": [
            "Files already downloaded and verified\n"
          ]
        },
        {
          "output_type": "stream",
          "name": "stderr",
          "text": [
            "\u001b[32m[I 2022-06-21 05:48:54,291]\u001b[0m Trial 89 finished with value: 0.0728 and parameters: {'n_layers_conv': 2, 'n_layers_dense': 1, 'filters_0': 64, 'kernel_size_0': 3, 'strides_0': 2, 'filters_1': 16, 'kernel_size_1': 5, 'strides_1': 2, 'n_units_0': 128, 'optimizer': 'Adam', 'lr': 8.407480747795757e-05}. Best is trial 80 with value: 0.0925.\u001b[0m\n"
          ]
        },
        {
          "output_type": "stream",
          "name": "stdout",
          "text": [
            "Files already downloaded and verified\n"
          ]
        },
        {
          "output_type": "stream",
          "name": "stderr",
          "text": [
            "\u001b[32m[I 2022-06-21 05:49:53,806]\u001b[0m Trial 90 finished with value: 0.0646 and parameters: {'n_layers_conv': 2, 'n_layers_dense': 1, 'filters_0': 64, 'kernel_size_0': 3, 'strides_0': 2, 'filters_1': 16, 'kernel_size_1': 5, 'strides_1': 2, 'n_units_0': 126, 'optimizer': 'Adam', 'lr': 5.893252642056648e-05}. Best is trial 80 with value: 0.0925.\u001b[0m\n"
          ]
        },
        {
          "output_type": "stream",
          "name": "stdout",
          "text": [
            "Files already downloaded and verified\n"
          ]
        },
        {
          "output_type": "stream",
          "name": "stderr",
          "text": [
            "\u001b[32m[I 2022-06-21 05:50:53,293]\u001b[0m Trial 91 finished with value: 0.0828 and parameters: {'n_layers_conv': 2, 'n_layers_dense': 1, 'filters_0': 64, 'kernel_size_0': 3, 'strides_0': 2, 'filters_1': 16, 'kernel_size_1': 5, 'strides_1': 2, 'n_units_0': 122, 'optimizer': 'Adam', 'lr': 0.00013799154925348215}. Best is trial 80 with value: 0.0925.\u001b[0m\n"
          ]
        },
        {
          "output_type": "stream",
          "name": "stdout",
          "text": [
            "Files already downloaded and verified\n"
          ]
        },
        {
          "output_type": "stream",
          "name": "stderr",
          "text": [
            "\u001b[32m[I 2022-06-21 05:51:52,492]\u001b[0m Trial 92 finished with value: 0.0667 and parameters: {'n_layers_conv': 2, 'n_layers_dense': 1, 'filters_0': 64, 'kernel_size_0': 3, 'strides_0': 2, 'filters_1': 16, 'kernel_size_1': 5, 'strides_1': 2, 'n_units_0': 122, 'optimizer': 'Adam', 'lr': 8.898715003993005e-05}. Best is trial 80 with value: 0.0925.\u001b[0m\n"
          ]
        },
        {
          "output_type": "stream",
          "name": "stdout",
          "text": [
            "Files already downloaded and verified\n"
          ]
        },
        {
          "output_type": "stream",
          "name": "stderr",
          "text": [
            "\u001b[32m[I 2022-06-21 05:52:52,561]\u001b[0m Trial 93 finished with value: 0.0831 and parameters: {'n_layers_conv': 2, 'n_layers_dense': 1, 'filters_0': 64, 'kernel_size_0': 3, 'strides_0': 2, 'filters_1': 16, 'kernel_size_1': 5, 'strides_1': 2, 'n_units_0': 124, 'optimizer': 'Adam', 'lr': 0.00012714814278289051}. Best is trial 80 with value: 0.0925.\u001b[0m\n"
          ]
        },
        {
          "output_type": "stream",
          "name": "stdout",
          "text": [
            "Files already downloaded and verified\n"
          ]
        },
        {
          "output_type": "stream",
          "name": "stderr",
          "text": [
            "\u001b[32m[I 2022-06-21 05:53:51,939]\u001b[0m Trial 94 finished with value: 0.0693 and parameters: {'n_layers_conv': 2, 'n_layers_dense': 1, 'filters_0': 64, 'kernel_size_0': 3, 'strides_0': 2, 'filters_1': 16, 'kernel_size_1': 5, 'strides_1': 2, 'n_units_0': 126, 'optimizer': 'Adam', 'lr': 0.00024213949145842785}. Best is trial 80 with value: 0.0925.\u001b[0m\n"
          ]
        },
        {
          "output_type": "stream",
          "name": "stdout",
          "text": [
            "Files already downloaded and verified\n"
          ]
        },
        {
          "output_type": "stream",
          "name": "stderr",
          "text": [
            "\u001b[32m[I 2022-06-21 05:54:51,526]\u001b[0m Trial 95 finished with value: 0.0736 and parameters: {'n_layers_conv': 2, 'n_layers_dense': 1, 'filters_0': 64, 'kernel_size_0': 3, 'strides_0': 2, 'filters_1': 16, 'kernel_size_1': 5, 'strides_1': 2, 'n_units_0': 124, 'optimizer': 'Adam', 'lr': 0.0001263918759289894}. Best is trial 80 with value: 0.0925.\u001b[0m\n"
          ]
        },
        {
          "output_type": "stream",
          "name": "stdout",
          "text": [
            "Files already downloaded and verified\n"
          ]
        },
        {
          "output_type": "stream",
          "name": "stderr",
          "text": [
            "\u001b[32m[I 2022-06-21 05:55:50,650]\u001b[0m Trial 96 finished with value: 0.0692 and parameters: {'n_layers_conv': 2, 'n_layers_dense': 1, 'filters_0': 64, 'kernel_size_0': 3, 'strides_0': 2, 'filters_1': 16, 'kernel_size_1': 5, 'strides_1': 2, 'n_units_0': 121, 'optimizer': 'Adam', 'lr': 0.00032622674788106317}. Best is trial 80 with value: 0.0925.\u001b[0m\n"
          ]
        },
        {
          "output_type": "stream",
          "name": "stdout",
          "text": [
            "Files already downloaded and verified\n"
          ]
        },
        {
          "output_type": "stream",
          "name": "stderr",
          "text": [
            "\u001b[32m[I 2022-06-21 05:56:48,511]\u001b[0m Trial 97 finished with value: 0.0099 and parameters: {'n_layers_conv': 2, 'n_layers_dense': 1, 'filters_0': 64, 'kernel_size_0': 3, 'strides_0': 2, 'filters_1': 16, 'kernel_size_1': 5, 'strides_1': 2, 'n_units_0': 118, 'optimizer': 'SGD', 'lr': 0.00020581934802458608}. Best is trial 80 with value: 0.0925.\u001b[0m\n"
          ]
        },
        {
          "output_type": "stream",
          "name": "stdout",
          "text": [
            "Files already downloaded and verified\n"
          ]
        },
        {
          "output_type": "stream",
          "name": "stderr",
          "text": [
            "\u001b[32m[I 2022-06-21 05:57:49,441]\u001b[0m Trial 98 finished with value: 0.0793 and parameters: {'n_layers_conv': 2, 'n_layers_dense': 1, 'filters_0': 64, 'kernel_size_0': 3, 'strides_0': 2, 'filters_1': 16, 'kernel_size_1': 5, 'strides_1': 2, 'n_units_0': 124, 'optimizer': 'Adam', 'lr': 0.00014328614287607857}. Best is trial 80 with value: 0.0925.\u001b[0m\n"
          ]
        },
        {
          "output_type": "stream",
          "name": "stdout",
          "text": [
            "Files already downloaded and verified\n"
          ]
        },
        {
          "output_type": "stream",
          "name": "stderr",
          "text": [
            "\u001b[32m[I 2022-06-21 05:58:49,490]\u001b[0m Trial 99 finished with value: 0.0874 and parameters: {'n_layers_conv': 2, 'n_layers_dense': 1, 'filters_0': 64, 'kernel_size_0': 3, 'strides_0': 2, 'filters_1': 16, 'kernel_size_1': 5, 'strides_1': 2, 'n_units_0': 127, 'optimizer': 'Adam', 'lr': 0.0004133626986309031}. Best is trial 80 with value: 0.0925.\u001b[0m\n"
          ]
        },
        {
          "output_type": "stream",
          "name": "stdout",
          "text": [
            "Files already downloaded and verified\n"
          ]
        },
        {
          "output_type": "stream",
          "name": "stderr",
          "text": [
            "\u001b[32m[I 2022-06-21 05:59:48,613]\u001b[0m Trial 100 finished with value: 0.0727 and parameters: {'n_layers_conv': 2, 'n_layers_dense': 1, 'filters_0': 64, 'kernel_size_0': 3, 'strides_0': 2, 'filters_1': 16, 'kernel_size_1': 5, 'strides_1': 2, 'n_units_0': 126, 'optimizer': 'Adam', 'lr': 0.0004752058363502059}. Best is trial 80 with value: 0.0925.\u001b[0m\n"
          ]
        },
        {
          "output_type": "stream",
          "name": "stdout",
          "text": [
            "Files already downloaded and verified\n"
          ]
        },
        {
          "output_type": "stream",
          "name": "stderr",
          "text": [
            "\u001b[32m[I 2022-06-21 06:00:47,882]\u001b[0m Trial 101 finished with value: 0.0764 and parameters: {'n_layers_conv': 2, 'n_layers_dense': 1, 'filters_0': 64, 'kernel_size_0': 3, 'strides_0': 2, 'filters_1': 16, 'kernel_size_1': 5, 'strides_1': 2, 'n_units_0': 127, 'optimizer': 'Adam', 'lr': 0.000397866386774601}. Best is trial 80 with value: 0.0925.\u001b[0m\n"
          ]
        },
        {
          "output_type": "stream",
          "name": "stdout",
          "text": [
            "Files already downloaded and verified\n"
          ]
        },
        {
          "output_type": "stream",
          "name": "stderr",
          "text": [
            "\u001b[32m[I 2022-06-21 06:01:47,859]\u001b[0m Trial 102 finished with value: 0.0853 and parameters: {'n_layers_conv': 2, 'n_layers_dense': 1, 'filters_0': 64, 'kernel_size_0': 3, 'strides_0': 2, 'filters_1': 16, 'kernel_size_1': 5, 'strides_1': 2, 'n_units_0': 123, 'optimizer': 'Adam', 'lr': 0.00010976105592582779}. Best is trial 80 with value: 0.0925.\u001b[0m\n"
          ]
        },
        {
          "output_type": "stream",
          "name": "stdout",
          "text": [
            "Files already downloaded and verified\n"
          ]
        },
        {
          "output_type": "stream",
          "name": "stderr",
          "text": [
            "\u001b[32m[I 2022-06-21 06:02:47,457]\u001b[0m Trial 103 finished with value: 0.0775 and parameters: {'n_layers_conv': 2, 'n_layers_dense': 1, 'filters_0': 64, 'kernel_size_0': 3, 'strides_0': 2, 'filters_1': 16, 'kernel_size_1': 5, 'strides_1': 2, 'n_units_0': 124, 'optimizer': 'Adam', 'lr': 9.840282348036895e-05}. Best is trial 80 with value: 0.0925.\u001b[0m\n"
          ]
        },
        {
          "output_type": "stream",
          "name": "stdout",
          "text": [
            "Files already downloaded and verified\n"
          ]
        },
        {
          "output_type": "stream",
          "name": "stderr",
          "text": [
            "\u001b[32m[I 2022-06-21 06:03:47,587]\u001b[0m Trial 104 finished with value: 0.0794 and parameters: {'n_layers_conv': 2, 'n_layers_dense': 1, 'filters_0': 64, 'kernel_size_0': 3, 'strides_0': 2, 'filters_1': 16, 'kernel_size_1': 5, 'strides_1': 2, 'n_units_0': 118, 'optimizer': 'Adam', 'lr': 0.0002513163840319603}. Best is trial 80 with value: 0.0925.\u001b[0m\n"
          ]
        },
        {
          "output_type": "stream",
          "name": "stdout",
          "text": [
            "Files already downloaded and verified\n"
          ]
        },
        {
          "output_type": "stream",
          "name": "stderr",
          "text": [
            "\u001b[32m[I 2022-06-21 06:04:47,267]\u001b[0m Trial 105 finished with value: 0.0732 and parameters: {'n_layers_conv': 2, 'n_layers_dense': 1, 'filters_0': 64, 'kernel_size_0': 3, 'strides_0': 2, 'filters_1': 32, 'kernel_size_1': 5, 'strides_1': 2, 'n_units_0': 121, 'optimizer': 'Adam', 'lr': 4.099626465306398e-05}. Best is trial 80 with value: 0.0925.\u001b[0m\n"
          ]
        },
        {
          "output_type": "stream",
          "name": "stdout",
          "text": [
            "Files already downloaded and verified\n"
          ]
        },
        {
          "output_type": "stream",
          "name": "stderr",
          "text": [
            "\u001b[32m[I 2022-06-21 06:05:47,165]\u001b[0m Trial 106 finished with value: 0.0664 and parameters: {'n_layers_conv': 2, 'n_layers_dense': 1, 'filters_0': 32, 'kernel_size_0': 3, 'strides_0': 2, 'filters_1': 16, 'kernel_size_1': 5, 'strides_1': 2, 'n_units_0': 125, 'optimizer': 'Adam', 'lr': 0.00011265636995234532}. Best is trial 80 with value: 0.0925.\u001b[0m\n"
          ]
        },
        {
          "output_type": "stream",
          "name": "stdout",
          "text": [
            "Files already downloaded and verified\n"
          ]
        },
        {
          "output_type": "stream",
          "name": "stderr",
          "text": [
            "\u001b[32m[I 2022-06-21 06:06:47,864]\u001b[0m Trial 107 finished with value: 0.0832 and parameters: {'n_layers_conv': 2, 'n_layers_dense': 1, 'filters_0': 64, 'kernel_size_0': 3, 'strides_0': 2, 'filters_1': 16, 'kernel_size_1': 5, 'strides_1': 2, 'n_units_0': 127, 'optimizer': 'Adam', 'lr': 0.0001820496746257266}. Best is trial 80 with value: 0.0925.\u001b[0m\n"
          ]
        },
        {
          "output_type": "stream",
          "name": "stdout",
          "text": [
            "Files already downloaded and verified\n"
          ]
        },
        {
          "output_type": "stream",
          "name": "stderr",
          "text": [
            "\u001b[32m[I 2022-06-21 06:07:48,295]\u001b[0m Trial 108 finished with value: 0.0798 and parameters: {'n_layers_conv': 2, 'n_layers_dense': 1, 'filters_0': 16, 'kernel_size_0': 3, 'strides_0': 2, 'filters_1': 128, 'kernel_size_1': 5, 'strides_1': 2, 'n_units_0': 128, 'optimizer': 'Adam', 'lr': 0.00018138345398856158}. Best is trial 80 with value: 0.0925.\u001b[0m\n"
          ]
        },
        {
          "output_type": "stream",
          "name": "stdout",
          "text": [
            "Files already downloaded and verified\n"
          ]
        },
        {
          "output_type": "stream",
          "name": "stderr",
          "text": [
            "\u001b[32m[I 2022-06-21 06:08:49,050]\u001b[0m Trial 109 finished with value: 0.01 and parameters: {'n_layers_conv': 2, 'n_layers_dense': 1, 'filters_0': 64, 'kernel_size_0': 3, 'strides_0': 2, 'filters_1': 16, 'kernel_size_1': 5, 'strides_1': 2, 'n_units_0': 127, 'optimizer': 'Adam', 'lr': 0.0019152231471288978}. Best is trial 80 with value: 0.0925.\u001b[0m\n"
          ]
        },
        {
          "output_type": "stream",
          "name": "stdout",
          "text": [
            "Files already downloaded and verified\n"
          ]
        },
        {
          "output_type": "stream",
          "name": "stderr",
          "text": [
            "\u001b[32m[I 2022-06-21 06:09:47,082]\u001b[0m Trial 110 finished with value: 0.0102 and parameters: {'n_layers_conv': 2, 'n_layers_dense': 1, 'filters_0': 64, 'kernel_size_0': 3, 'strides_0': 2, 'filters_1': 16, 'kernel_size_1': 5, 'strides_1': 2, 'n_units_0': 121, 'optimizer': 'SGD', 'lr': 0.0003120684503567106}. Best is trial 80 with value: 0.0925.\u001b[0m\n"
          ]
        },
        {
          "output_type": "stream",
          "name": "stdout",
          "text": [
            "Files already downloaded and verified\n"
          ]
        },
        {
          "output_type": "stream",
          "name": "stderr",
          "text": [
            "\u001b[32m[I 2022-06-21 06:10:47,441]\u001b[0m Trial 111 finished with value: 0.0792 and parameters: {'n_layers_conv': 2, 'n_layers_dense': 1, 'filters_0': 64, 'kernel_size_0': 3, 'strides_0': 2, 'filters_1': 16, 'kernel_size_1': 5, 'strides_1': 2, 'n_units_0': 123, 'optimizer': 'Adam', 'lr': 6.933283086595407e-05}. Best is trial 80 with value: 0.0925.\u001b[0m\n"
          ]
        },
        {
          "output_type": "stream",
          "name": "stdout",
          "text": [
            "Files already downloaded and verified\n"
          ]
        },
        {
          "output_type": "stream",
          "name": "stderr",
          "text": [
            "\u001b[32m[I 2022-06-21 06:11:49,027]\u001b[0m Trial 112 finished with value: 0.0755 and parameters: {'n_layers_conv': 2, 'n_layers_dense': 1, 'filters_0': 64, 'kernel_size_0': 3, 'strides_0': 2, 'filters_1': 16, 'kernel_size_1': 5, 'strides_1': 2, 'n_units_0': 125, 'optimizer': 'Adam', 'lr': 0.00019402600538320333}. Best is trial 80 with value: 0.0925.\u001b[0m\n"
          ]
        },
        {
          "output_type": "stream",
          "name": "stdout",
          "text": [
            "Files already downloaded and verified\n"
          ]
        },
        {
          "output_type": "stream",
          "name": "stderr",
          "text": [
            "\u001b[32m[I 2022-06-21 06:12:50,313]\u001b[0m Trial 113 finished with value: 0.055 and parameters: {'n_layers_conv': 2, 'n_layers_dense': 1, 'filters_0': 64, 'kernel_size_0': 3, 'strides_0': 2, 'filters_1': 16, 'kernel_size_1': 5, 'strides_1': 2, 'n_units_0': 127, 'optimizer': 'Adam', 'lr': 0.0007077372589419566}. Best is trial 80 with value: 0.0925.\u001b[0m\n"
          ]
        },
        {
          "output_type": "stream",
          "name": "stdout",
          "text": [
            "Files already downloaded and verified\n"
          ]
        },
        {
          "output_type": "stream",
          "name": "stderr",
          "text": [
            "\u001b[32m[I 2022-06-21 06:13:50,242]\u001b[0m Trial 114 finished with value: 0.0696 and parameters: {'n_layers_conv': 2, 'n_layers_dense': 1, 'filters_0': 64, 'kernel_size_0': 3, 'strides_0': 2, 'filters_1': 16, 'kernel_size_1': 5, 'strides_1': 2, 'n_units_0': 118, 'optimizer': 'Adam', 'lr': 0.00011529456512438504}. Best is trial 80 with value: 0.0925.\u001b[0m\n"
          ]
        },
        {
          "output_type": "stream",
          "name": "stdout",
          "text": [
            "Files already downloaded and verified\n"
          ]
        },
        {
          "output_type": "stream",
          "name": "stderr",
          "text": [
            "\u001b[32m[I 2022-06-21 06:14:51,387]\u001b[0m Trial 115 finished with value: 0.0855 and parameters: {'n_layers_conv': 2, 'n_layers_dense': 1, 'filters_0': 64, 'kernel_size_0': 3, 'strides_0': 2, 'filters_1': 16, 'kernel_size_1': 5, 'strides_1': 2, 'n_units_0': 115, 'optimizer': 'Adam', 'lr': 8.017627800330594e-05}. Best is trial 80 with value: 0.0925.\u001b[0m\n"
          ]
        },
        {
          "output_type": "stream",
          "name": "stdout",
          "text": [
            "Files already downloaded and verified\n"
          ]
        },
        {
          "output_type": "stream",
          "name": "stderr",
          "text": [
            "\u001b[32m[I 2022-06-21 06:15:51,115]\u001b[0m Trial 116 finished with value: 0.0814 and parameters: {'n_layers_conv': 2, 'n_layers_dense': 1, 'filters_0': 64, 'kernel_size_0': 3, 'strides_0': 2, 'filters_1': 16, 'kernel_size_1': 5, 'strides_1': 2, 'n_units_0': 113, 'optimizer': 'Adam', 'lr': 5.360090290459995e-05}. Best is trial 80 with value: 0.0925.\u001b[0m\n"
          ]
        },
        {
          "output_type": "stream",
          "name": "stdout",
          "text": [
            "Files already downloaded and verified\n"
          ]
        },
        {
          "output_type": "stream",
          "name": "stderr",
          "text": [
            "\u001b[32m[I 2022-06-21 06:16:50,992]\u001b[0m Trial 117 finished with value: 0.0568 and parameters: {'n_layers_conv': 2, 'n_layers_dense': 1, 'filters_0': 64, 'kernel_size_0': 3, 'strides_0': 2, 'filters_1': 16, 'kernel_size_1': 5, 'strides_1': 2, 'n_units_0': 116, 'optimizer': 'Adam', 'lr': 7.58570035428918e-05}. Best is trial 80 with value: 0.0925.\u001b[0m\n"
          ]
        },
        {
          "output_type": "stream",
          "name": "stdout",
          "text": [
            "Files already downloaded and verified\n"
          ]
        },
        {
          "output_type": "stream",
          "name": "stderr",
          "text": [
            "\u001b[32m[I 2022-06-21 06:17:50,677]\u001b[0m Trial 118 finished with value: 0.0592 and parameters: {'n_layers_conv': 2, 'n_layers_dense': 1, 'filters_0': 64, 'kernel_size_0': 3, 'strides_0': 2, 'filters_1': 16, 'kernel_size_1': 5, 'strides_1': 2, 'n_units_0': 110, 'optimizer': 'Adam', 'lr': 0.0009859726253810108}. Best is trial 80 with value: 0.0925.\u001b[0m\n"
          ]
        },
        {
          "output_type": "stream",
          "name": "stdout",
          "text": [
            "Files already downloaded and verified\n"
          ]
        },
        {
          "output_type": "stream",
          "name": "stderr",
          "text": [
            "\u001b[32m[I 2022-06-21 06:18:50,519]\u001b[0m Trial 119 finished with value: 0.0671 and parameters: {'n_layers_conv': 2, 'n_layers_dense': 1, 'filters_0': 64, 'kernel_size_0': 3, 'strides_0': 2, 'filters_1': 32, 'kernel_size_1': 3, 'strides_1': 2, 'n_units_0': 115, 'optimizer': 'Adam', 'lr': 9.676551874742953e-05}. Best is trial 80 with value: 0.0925.\u001b[0m\n"
          ]
        },
        {
          "output_type": "stream",
          "name": "stdout",
          "text": [
            "Files already downloaded and verified\n"
          ]
        },
        {
          "output_type": "stream",
          "name": "stderr",
          "text": [
            "\u001b[32m[I 2022-06-21 06:19:50,351]\u001b[0m Trial 120 finished with value: 0.0784 and parameters: {'n_layers_conv': 2, 'n_layers_dense': 1, 'filters_0': 32, 'kernel_size_0': 3, 'strides_0': 2, 'filters_1': 16, 'kernel_size_1': 3, 'strides_1': 2, 'n_units_0': 119, 'optimizer': 'Adam', 'lr': 0.00016558584168582157}. Best is trial 80 with value: 0.0925.\u001b[0m\n"
          ]
        },
        {
          "output_type": "stream",
          "name": "stdout",
          "text": [
            "Files already downloaded and verified\n"
          ]
        },
        {
          "output_type": "stream",
          "name": "stderr",
          "text": [
            "\u001b[32m[I 2022-06-21 06:20:49,932]\u001b[0m Trial 121 finished with value: 0.0737 and parameters: {'n_layers_conv': 2, 'n_layers_dense': 1, 'filters_0': 64, 'kernel_size_0': 3, 'strides_0': 2, 'filters_1': 16, 'kernel_size_1': 5, 'strides_1': 2, 'n_units_0': 124, 'optimizer': 'Adam', 'lr': 5.8752289542439554e-05}. Best is trial 80 with value: 0.0925.\u001b[0m\n"
          ]
        },
        {
          "output_type": "stream",
          "name": "stdout",
          "text": [
            "Files already downloaded and verified\n"
          ]
        },
        {
          "output_type": "stream",
          "name": "stderr",
          "text": [
            "\u001b[32m[I 2022-06-21 06:21:49,738]\u001b[0m Trial 122 finished with value: 0.0859 and parameters: {'n_layers_conv': 2, 'n_layers_dense': 1, 'filters_0': 64, 'kernel_size_0': 3, 'strides_0': 2, 'filters_1': 16, 'kernel_size_1': 5, 'strides_1': 2, 'n_units_0': 123, 'optimizer': 'Adam', 'lr': 0.00014001710468858193}. Best is trial 80 with value: 0.0925.\u001b[0m\n"
          ]
        },
        {
          "output_type": "stream",
          "name": "stdout",
          "text": [
            "Files already downloaded and verified\n"
          ]
        },
        {
          "output_type": "stream",
          "name": "stderr",
          "text": [
            "\u001b[32m[I 2022-06-21 06:22:49,931]\u001b[0m Trial 123 finished with value: 0.0675 and parameters: {'n_layers_conv': 2, 'n_layers_dense': 1, 'filters_0': 64, 'kernel_size_0': 3, 'strides_0': 2, 'filters_1': 16, 'kernel_size_1': 5, 'strides_1': 2, 'n_units_0': 121, 'optimizer': 'Adam', 'lr': 8.622319496924698e-05}. Best is trial 80 with value: 0.0925.\u001b[0m\n"
          ]
        },
        {
          "output_type": "stream",
          "name": "stdout",
          "text": [
            "Files already downloaded and verified\n"
          ]
        },
        {
          "output_type": "stream",
          "name": "stderr",
          "text": [
            "\u001b[32m[I 2022-06-21 06:23:50,463]\u001b[0m Trial 124 finished with value: 0.0705 and parameters: {'n_layers_conv': 2, 'n_layers_dense': 1, 'filters_0': 64, 'kernel_size_0': 3, 'strides_0': 2, 'filters_1': 16, 'kernel_size_1': 5, 'strides_1': 2, 'n_units_0': 123, 'optimizer': 'Adam', 'lr': 4.466715499494252e-05}. Best is trial 80 with value: 0.0925.\u001b[0m\n"
          ]
        },
        {
          "output_type": "stream",
          "name": "stdout",
          "text": [
            "Files already downloaded and verified\n"
          ]
        },
        {
          "output_type": "stream",
          "name": "stderr",
          "text": [
            "\u001b[32m[I 2022-06-21 06:24:51,113]\u001b[0m Trial 125 finished with value: 0.0816 and parameters: {'n_layers_conv': 2, 'n_layers_dense': 1, 'filters_0': 64, 'kernel_size_0': 3, 'strides_0': 2, 'filters_1': 16, 'kernel_size_1': 5, 'strides_1': 2, 'n_units_0': 127, 'optimizer': 'Adam', 'lr': 0.00014621257868259552}. Best is trial 80 with value: 0.0925.\u001b[0m\n"
          ]
        },
        {
          "output_type": "stream",
          "name": "stdout",
          "text": [
            "Files already downloaded and verified\n"
          ]
        },
        {
          "output_type": "stream",
          "name": "stderr",
          "text": [
            "\u001b[32m[I 2022-06-21 06:25:50,724]\u001b[0m Trial 126 finished with value: 0.0843 and parameters: {'n_layers_conv': 2, 'n_layers_dense': 1, 'filters_0': 64, 'kernel_size_0': 3, 'strides_0': 2, 'filters_1': 16, 'kernel_size_1': 3, 'strides_1': 2, 'n_units_0': 117, 'optimizer': 'Adam', 'lr': 0.0002733079487821367}. Best is trial 80 with value: 0.0925.\u001b[0m\n"
          ]
        },
        {
          "output_type": "stream",
          "name": "stdout",
          "text": [
            "Files already downloaded and verified\n"
          ]
        },
        {
          "output_type": "stream",
          "name": "stderr",
          "text": [
            "\u001b[32m[I 2022-06-21 06:26:50,365]\u001b[0m Trial 127 finished with value: 0.0795 and parameters: {'n_layers_conv': 2, 'n_layers_dense': 1, 'filters_0': 64, 'kernel_size_0': 3, 'strides_0': 2, 'filters_1': 16, 'kernel_size_1': 3, 'strides_1': 2, 'n_units_0': 117, 'optimizer': 'Adam', 'lr': 0.0002917939800442782}. Best is trial 80 with value: 0.0925.\u001b[0m\n"
          ]
        },
        {
          "output_type": "stream",
          "name": "stdout",
          "text": [
            "Files already downloaded and verified\n"
          ]
        },
        {
          "output_type": "stream",
          "name": "stderr",
          "text": [
            "\u001b[32m[I 2022-06-21 06:27:49,661]\u001b[0m Trial 128 finished with value: 0.0832 and parameters: {'n_layers_conv': 2, 'n_layers_dense': 1, 'filters_0': 16, 'kernel_size_0': 3, 'strides_0': 2, 'filters_1': 16, 'kernel_size_1': 3, 'strides_1': 2, 'n_units_0': 112, 'optimizer': 'Adam', 'lr': 0.0004477055039274048}. Best is trial 80 with value: 0.0925.\u001b[0m\n"
          ]
        },
        {
          "output_type": "stream",
          "name": "stdout",
          "text": [
            "Files already downloaded and verified\n"
          ]
        },
        {
          "output_type": "stream",
          "name": "stderr",
          "text": [
            "\u001b[32m[I 2022-06-21 06:28:49,562]\u001b[0m Trial 129 finished with value: 0.0665 and parameters: {'n_layers_conv': 2, 'n_layers_dense': 1, 'filters_0': 64, 'kernel_size_0': 3, 'strides_0': 2, 'filters_1': 128, 'kernel_size_1': 3, 'strides_1': 2, 'n_units_0': 115, 'optimizer': 'Adam', 'lr': 0.00038534251304102313}. Best is trial 80 with value: 0.0925.\u001b[0m\n"
          ]
        },
        {
          "output_type": "stream",
          "name": "stdout",
          "text": [
            "Files already downloaded and verified\n"
          ]
        },
        {
          "output_type": "stream",
          "name": "stderr",
          "text": [
            "\u001b[32m[I 2022-06-21 06:29:49,732]\u001b[0m Trial 130 finished with value: 0.0845 and parameters: {'n_layers_conv': 2, 'n_layers_dense': 1, 'filters_0': 64, 'kernel_size_0': 3, 'strides_0': 2, 'filters_1': 16, 'kernel_size_1': 3, 'strides_1': 2, 'n_units_0': 119, 'optimizer': 'Adam', 'lr': 0.00024957852822550416}. Best is trial 80 with value: 0.0925.\u001b[0m\n"
          ]
        },
        {
          "output_type": "stream",
          "name": "stdout",
          "text": [
            "Files already downloaded and verified\n"
          ]
        },
        {
          "output_type": "stream",
          "name": "stderr",
          "text": [
            "\u001b[32m[I 2022-06-21 06:30:50,038]\u001b[0m Trial 131 finished with value: 0.0829 and parameters: {'n_layers_conv': 2, 'n_layers_dense': 1, 'filters_0': 64, 'kernel_size_0': 3, 'strides_0': 2, 'filters_1': 16, 'kernel_size_1': 3, 'strides_1': 2, 'n_units_0': 119, 'optimizer': 'Adam', 'lr': 0.00021929040632476615}. Best is trial 80 with value: 0.0925.\u001b[0m\n"
          ]
        },
        {
          "output_type": "stream",
          "name": "stdout",
          "text": [
            "Files already downloaded and verified\n"
          ]
        },
        {
          "output_type": "stream",
          "name": "stderr",
          "text": [
            "\u001b[32m[I 2022-06-21 06:31:49,858]\u001b[0m Trial 132 finished with value: 0.0666 and parameters: {'n_layers_conv': 2, 'n_layers_dense': 1, 'filters_0': 64, 'kernel_size_0': 3, 'strides_0': 2, 'filters_1': 16, 'kernel_size_1': 3, 'strides_1': 2, 'n_units_0': 121, 'optimizer': 'Adam', 'lr': 0.00026957358965554813}. Best is trial 80 with value: 0.0925.\u001b[0m\n"
          ]
        },
        {
          "output_type": "stream",
          "name": "stdout",
          "text": [
            "Files already downloaded and verified\n"
          ]
        },
        {
          "output_type": "stream",
          "name": "stderr",
          "text": [
            "\u001b[32m[I 2022-06-21 06:32:49,470]\u001b[0m Trial 133 finished with value: 0.0712 and parameters: {'n_layers_conv': 2, 'n_layers_dense': 1, 'filters_0': 64, 'kernel_size_0': 3, 'strides_0': 2, 'filters_1': 16, 'kernel_size_1': 3, 'strides_1': 2, 'n_units_0': 117, 'optimizer': 'Adam', 'lr': 0.0005655757110293703}. Best is trial 80 with value: 0.0925.\u001b[0m\n"
          ]
        },
        {
          "output_type": "stream",
          "name": "stdout",
          "text": [
            "Files already downloaded and verified\n"
          ]
        },
        {
          "output_type": "stream",
          "name": "stderr",
          "text": [
            "\u001b[32m[I 2022-06-21 06:33:49,948]\u001b[0m Trial 134 finished with value: 0.0687 and parameters: {'n_layers_conv': 2, 'n_layers_dense': 1, 'filters_0': 64, 'kernel_size_0': 3, 'strides_0': 2, 'filters_1': 16, 'kernel_size_1': 3, 'strides_1': 2, 'n_units_0': 118, 'optimizer': 'Adam', 'lr': 0.0003495827904669078}. Best is trial 80 with value: 0.0925.\u001b[0m\n"
          ]
        },
        {
          "output_type": "stream",
          "name": "stdout",
          "text": [
            "Files already downloaded and verified\n"
          ]
        },
        {
          "output_type": "stream",
          "name": "stderr",
          "text": [
            "\u001b[32m[I 2022-06-21 06:34:49,787]\u001b[0m Trial 135 finished with value: 0.0665 and parameters: {'n_layers_conv': 2, 'n_layers_dense': 1, 'filters_0': 64, 'kernel_size_0': 3, 'strides_0': 2, 'filters_1': 16, 'kernel_size_1': 3, 'strides_1': 2, 'n_units_0': 120, 'optimizer': 'Adam', 'lr': 0.001245994829773153}. Best is trial 80 with value: 0.0925.\u001b[0m\n"
          ]
        },
        {
          "output_type": "stream",
          "name": "stdout",
          "text": [
            "Files already downloaded and verified\n"
          ]
        },
        {
          "output_type": "stream",
          "name": "stderr",
          "text": [
            "\u001b[32m[I 2022-06-21 06:35:48,402]\u001b[0m Trial 136 finished with value: 0.0062 and parameters: {'n_layers_conv': 2, 'n_layers_dense': 1, 'filters_0': 64, 'kernel_size_0': 3, 'strides_0': 2, 'filters_1': 16, 'kernel_size_1': 3, 'strides_1': 2, 'n_units_0': 113, 'optimizer': 'SGD', 'lr': 0.00023996302549293382}. Best is trial 80 with value: 0.0925.\u001b[0m\n"
          ]
        },
        {
          "output_type": "stream",
          "name": "stdout",
          "text": [
            "Files already downloaded and verified\n"
          ]
        },
        {
          "output_type": "stream",
          "name": "stderr",
          "text": [
            "\u001b[32m[I 2022-06-21 06:36:48,851]\u001b[0m Trial 137 finished with value: 0.0944 and parameters: {'n_layers_conv': 2, 'n_layers_dense': 1, 'filters_0': 64, 'kernel_size_0': 3, 'strides_0': 2, 'filters_1': 16, 'kernel_size_1': 3, 'strides_1': 2, 'n_units_0': 122, 'optimizer': 'Adam', 'lr': 0.00011345087306050725}. Best is trial 137 with value: 0.0944.\u001b[0m\n"
          ]
        },
        {
          "output_type": "stream",
          "name": "stdout",
          "text": [
            "Files already downloaded and verified\n"
          ]
        },
        {
          "output_type": "stream",
          "name": "stderr",
          "text": [
            "\u001b[32m[I 2022-06-21 06:37:49,346]\u001b[0m Trial 138 finished with value: 0.0811 and parameters: {'n_layers_conv': 2, 'n_layers_dense': 1, 'filters_0': 64, 'kernel_size_0': 3, 'strides_0': 2, 'filters_1': 16, 'kernel_size_1': 3, 'strides_1': 2, 'n_units_0': 123, 'optimizer': 'Adam', 'lr': 0.00010750797314033929}. Best is trial 137 with value: 0.0944.\u001b[0m\n"
          ]
        },
        {
          "output_type": "stream",
          "name": "stdout",
          "text": [
            "Files already downloaded and verified\n"
          ]
        },
        {
          "output_type": "stream",
          "name": "stderr",
          "text": [
            "\u001b[32m[I 2022-06-21 06:38:49,087]\u001b[0m Trial 139 finished with value: 0.0652 and parameters: {'n_layers_conv': 2, 'n_layers_dense': 1, 'filters_0': 64, 'kernel_size_0': 3, 'strides_0': 2, 'filters_1': 16, 'kernel_size_1': 3, 'strides_1': 2, 'n_units_0': 125, 'optimizer': 'RMSprop', 'lr': 7.634847051435504e-05}. Best is trial 137 with value: 0.0944.\u001b[0m\n"
          ]
        },
        {
          "output_type": "stream",
          "name": "stdout",
          "text": [
            "Files already downloaded and verified\n"
          ]
        },
        {
          "output_type": "stream",
          "name": "stderr",
          "text": [
            "\u001b[32m[I 2022-06-21 06:39:48,676]\u001b[0m Trial 140 finished with value: 0.084 and parameters: {'n_layers_conv': 2, 'n_layers_dense': 1, 'filters_0': 64, 'kernel_size_0': 3, 'strides_0': 2, 'filters_1': 16, 'kernel_size_1': 3, 'strides_1': 2, 'n_units_0': 122, 'optimizer': 'Adam', 'lr': 0.00015200168634230853}. Best is trial 137 with value: 0.0944.\u001b[0m\n"
          ]
        },
        {
          "output_type": "stream",
          "name": "stdout",
          "text": [
            "Files already downloaded and verified\n"
          ]
        },
        {
          "output_type": "stream",
          "name": "stderr",
          "text": [
            "\u001b[32m[I 2022-06-21 06:40:48,248]\u001b[0m Trial 141 finished with value: 0.0724 and parameters: {'n_layers_conv': 2, 'n_layers_dense': 1, 'filters_0': 64, 'kernel_size_0': 3, 'strides_0': 2, 'filters_1': 16, 'kernel_size_1': 3, 'strides_1': 2, 'n_units_0': 122, 'optimizer': 'Adam', 'lr': 0.00013745498962605465}. Best is trial 137 with value: 0.0944.\u001b[0m\n"
          ]
        },
        {
          "output_type": "stream",
          "name": "stdout",
          "text": [
            "Files already downloaded and verified\n"
          ]
        },
        {
          "output_type": "stream",
          "name": "stderr",
          "text": [
            "\u001b[32m[I 2022-06-21 06:41:48,134]\u001b[0m Trial 142 finished with value: 0.0735 and parameters: {'n_layers_conv': 2, 'n_layers_dense': 1, 'filters_0': 64, 'kernel_size_0': 3, 'strides_0': 2, 'filters_1': 16, 'kernel_size_1': 3, 'strides_1': 2, 'n_units_0': 120, 'optimizer': 'Adam', 'lr': 8.972007483312284e-05}. Best is trial 137 with value: 0.0944.\u001b[0m\n"
          ]
        },
        {
          "output_type": "stream",
          "name": "stdout",
          "text": [
            "Files already downloaded and verified\n"
          ]
        },
        {
          "output_type": "stream",
          "name": "stderr",
          "text": [
            "\u001b[32m[I 2022-06-21 06:42:48,163]\u001b[0m Trial 143 finished with value: 0.0749 and parameters: {'n_layers_conv': 2, 'n_layers_dense': 1, 'filters_0': 64, 'kernel_size_0': 3, 'strides_0': 2, 'filters_1': 16, 'kernel_size_1': 3, 'strides_1': 2, 'n_units_0': 125, 'optimizer': 'Adam', 'lr': 6.241185327569389e-05}. Best is trial 137 with value: 0.0944.\u001b[0m\n"
          ]
        },
        {
          "output_type": "stream",
          "name": "stdout",
          "text": [
            "Files already downloaded and verified\n"
          ]
        },
        {
          "output_type": "stream",
          "name": "stderr",
          "text": [
            "\u001b[32m[I 2022-06-21 06:43:48,492]\u001b[0m Trial 144 finished with value: 0.0883 and parameters: {'n_layers_conv': 2, 'n_layers_dense': 1, 'filters_0': 64, 'kernel_size_0': 3, 'strides_0': 2, 'filters_1': 16, 'kernel_size_1': 3, 'strides_1': 2, 'n_units_0': 122, 'optimizer': 'Adam', 'lr': 0.00015206995704417412}. Best is trial 137 with value: 0.0944.\u001b[0m\n"
          ]
        },
        {
          "output_type": "stream",
          "name": "stdout",
          "text": [
            "Files already downloaded and verified\n"
          ]
        },
        {
          "output_type": "stream",
          "name": "stderr",
          "text": [
            "\u001b[32m[I 2022-06-21 06:44:48,266]\u001b[0m Trial 145 finished with value: 0.0735 and parameters: {'n_layers_conv': 2, 'n_layers_dense': 1, 'filters_0': 64, 'kernel_size_0': 3, 'strides_0': 2, 'filters_1': 16, 'kernel_size_1': 3, 'strides_1': 2, 'n_units_0': 116, 'optimizer': 'Adam', 'lr': 0.00011229293080505004}. Best is trial 137 with value: 0.0944.\u001b[0m\n"
          ]
        },
        {
          "output_type": "stream",
          "name": "stdout",
          "text": [
            "Files already downloaded and verified\n"
          ]
        },
        {
          "output_type": "stream",
          "name": "stderr",
          "text": [
            "\u001b[32m[I 2022-06-21 06:45:47,919]\u001b[0m Trial 146 finished with value: 0.0635 and parameters: {'n_layers_conv': 2, 'n_layers_dense': 1, 'filters_0': 64, 'kernel_size_0': 3, 'strides_0': 2, 'filters_1': 16, 'kernel_size_1': 3, 'strides_1': 2, 'n_units_0': 128, 'optimizer': 'Adam', 'lr': 3.2734100910187015e-05}. Best is trial 137 with value: 0.0944.\u001b[0m\n"
          ]
        },
        {
          "output_type": "stream",
          "name": "stdout",
          "text": [
            "Files already downloaded and verified\n"
          ]
        },
        {
          "output_type": "stream",
          "name": "stderr",
          "text": [
            "\u001b[32m[I 2022-06-21 06:46:48,842]\u001b[0m Trial 147 finished with value: 0.0752 and parameters: {'n_layers_conv': 2, 'n_layers_dense': 1, 'filters_0': 64, 'kernel_size_0': 3, 'strides_0': 2, 'filters_1': 32, 'kernel_size_1': 3, 'strides_1': 2, 'n_units_0': 123, 'optimizer': 'Adam', 'lr': 0.0001609764034903983}. Best is trial 137 with value: 0.0944.\u001b[0m\n"
          ]
        },
        {
          "output_type": "stream",
          "name": "stdout",
          "text": [
            "Files already downloaded and verified\n"
          ]
        },
        {
          "output_type": "stream",
          "name": "stderr",
          "text": [
            "\u001b[32m[I 2022-06-21 06:47:48,931]\u001b[0m Trial 148 finished with value: 0.082 and parameters: {'n_layers_conv': 2, 'n_layers_dense': 1, 'filters_0': 64, 'kernel_size_0': 3, 'strides_0': 2, 'filters_1': 16, 'kernel_size_1': 3, 'strides_1': 2, 'n_units_0': 126, 'optimizer': 'Adam', 'lr': 0.00012686404482459014}. Best is trial 137 with value: 0.0944.\u001b[0m\n"
          ]
        },
        {
          "output_type": "stream",
          "name": "stdout",
          "text": [
            "Files already downloaded and verified\n"
          ]
        },
        {
          "output_type": "stream",
          "name": "stderr",
          "text": [
            "\u001b[32m[I 2022-06-21 06:48:48,503]\u001b[0m Trial 149 finished with value: 0.0793 and parameters: {'n_layers_conv': 2, 'n_layers_dense': 1, 'filters_0': 32, 'kernel_size_0': 3, 'strides_0': 2, 'filters_1': 16, 'kernel_size_1': 3, 'strides_1': 2, 'n_units_0': 120, 'optimizer': 'Adam', 'lr': 9.464836610740995e-05}. Best is trial 137 with value: 0.0944.\u001b[0m\n"
          ]
        },
        {
          "output_type": "stream",
          "name": "stdout",
          "text": [
            "Files already downloaded and verified\n"
          ]
        },
        {
          "output_type": "stream",
          "name": "stderr",
          "text": [
            "\u001b[32m[I 2022-06-21 06:49:48,118]\u001b[0m Trial 150 finished with value: 0.0824 and parameters: {'n_layers_conv': 2, 'n_layers_dense': 1, 'filters_0': 16, 'kernel_size_0': 3, 'strides_0': 2, 'filters_1': 128, 'kernel_size_1': 5, 'strides_1': 2, 'n_units_0': 125, 'optimizer': 'Adam', 'lr': 0.0002077954904336505}. Best is trial 137 with value: 0.0944.\u001b[0m\n"
          ]
        },
        {
          "output_type": "stream",
          "name": "stdout",
          "text": [
            "Files already downloaded and verified\n"
          ]
        },
        {
          "output_type": "stream",
          "name": "stderr",
          "text": [
            "\u001b[32m[I 2022-06-21 06:50:47,821]\u001b[0m Trial 151 finished with value: 0.0861 and parameters: {'n_layers_conv': 2, 'n_layers_dense': 1, 'filters_0': 64, 'kernel_size_0': 3, 'strides_0': 2, 'filters_1': 16, 'kernel_size_1': 3, 'strides_1': 2, 'n_units_0': 122, 'optimizer': 'Adam', 'lr': 0.00016229993475110123}. Best is trial 137 with value: 0.0944.\u001b[0m\n"
          ]
        },
        {
          "output_type": "stream",
          "name": "stdout",
          "text": [
            "Files already downloaded and verified\n"
          ]
        },
        {
          "output_type": "stream",
          "name": "stderr",
          "text": [
            "\u001b[32m[I 2022-06-21 06:51:47,479]\u001b[0m Trial 152 finished with value: 0.0721 and parameters: {'n_layers_conv': 2, 'n_layers_dense': 1, 'filters_0': 64, 'kernel_size_0': 3, 'strides_0': 2, 'filters_1': 16, 'kernel_size_1': 3, 'strides_1': 2, 'n_units_0': 119, 'optimizer': 'Adam', 'lr': 7.069876008722683e-05}. Best is trial 137 with value: 0.0944.\u001b[0m\n"
          ]
        },
        {
          "output_type": "stream",
          "name": "stdout",
          "text": [
            "Files already downloaded and verified\n"
          ]
        },
        {
          "output_type": "stream",
          "name": "stderr",
          "text": [
            "\u001b[32m[I 2022-06-21 06:52:48,210]\u001b[0m Trial 153 finished with value: 0.01 and parameters: {'n_layers_conv': 2, 'n_layers_dense': 1, 'filters_0': 64, 'kernel_size_0': 3, 'strides_0': 2, 'filters_1': 16, 'kernel_size_1': 3, 'strides_1': 1, 'n_units_0': 123, 'optimizer': 'Adam', 'lr': 0.0008478191292371626}. Best is trial 137 with value: 0.0944.\u001b[0m\n"
          ]
        },
        {
          "output_type": "stream",
          "name": "stdout",
          "text": [
            "Files already downloaded and verified\n"
          ]
        },
        {
          "output_type": "stream",
          "name": "stderr",
          "text": [
            "\u001b[32m[I 2022-06-21 06:53:47,959]\u001b[0m Trial 154 finished with value: 0.0802 and parameters: {'n_layers_conv': 2, 'n_layers_dense': 1, 'filters_0': 64, 'kernel_size_0': 3, 'strides_0': 2, 'filters_1': 16, 'kernel_size_1': 3, 'strides_1': 2, 'n_units_0': 121, 'optimizer': 'Adam', 'lr': 0.00012020249026420191}. Best is trial 137 with value: 0.0944.\u001b[0m\n"
          ]
        },
        {
          "output_type": "stream",
          "name": "stdout",
          "text": [
            "Files already downloaded and verified\n"
          ]
        },
        {
          "output_type": "stream",
          "name": "stderr",
          "text": [
            "\u001b[32m[I 2022-06-21 06:54:47,762]\u001b[0m Trial 155 finished with value: 0.0704 and parameters: {'n_layers_conv': 2, 'n_layers_dense': 1, 'filters_0': 64, 'kernel_size_0': 3, 'strides_0': 2, 'filters_1': 16, 'kernel_size_1': 3, 'strides_1': 2, 'n_units_0': 114, 'optimizer': 'Adam', 'lr': 0.000177973655614709}. Best is trial 137 with value: 0.0944.\u001b[0m\n"
          ]
        },
        {
          "output_type": "stream",
          "name": "stdout",
          "text": [
            "Files already downloaded and verified\n"
          ]
        },
        {
          "output_type": "stream",
          "name": "stderr",
          "text": [
            "\u001b[32m[I 2022-06-21 06:55:47,494]\u001b[0m Trial 156 finished with value: 0.0701 and parameters: {'n_layers_conv': 2, 'n_layers_dense': 1, 'filters_0': 64, 'kernel_size_0': 3, 'strides_0': 2, 'filters_1': 16, 'kernel_size_1': 5, 'strides_1': 2, 'n_units_0': 124, 'optimizer': 'Adam', 'lr': 0.000690672344006284}. Best is trial 137 with value: 0.0944.\u001b[0m\n"
          ]
        },
        {
          "output_type": "stream",
          "name": "stdout",
          "text": [
            "Files already downloaded and verified\n"
          ]
        },
        {
          "output_type": "stream",
          "name": "stderr",
          "text": [
            "\u001b[32m[I 2022-06-21 06:56:46,894]\u001b[0m Trial 157 finished with value: 0.0928 and parameters: {'n_layers_conv': 2, 'n_layers_dense': 1, 'filters_0': 64, 'kernel_size_0': 3, 'strides_0': 2, 'filters_1': 16, 'kernel_size_1': 3, 'strides_1': 2, 'n_units_0': 117, 'optimizer': 'Adam', 'lr': 0.00014390035145309815}. Best is trial 137 with value: 0.0944.\u001b[0m\n"
          ]
        },
        {
          "output_type": "stream",
          "name": "stdout",
          "text": [
            "Files already downloaded and verified\n"
          ]
        },
        {
          "output_type": "stream",
          "name": "stderr",
          "text": [
            "\u001b[32m[I 2022-06-21 06:57:46,997]\u001b[0m Trial 158 finished with value: 0.0722 and parameters: {'n_layers_conv': 2, 'n_layers_dense': 1, 'filters_0': 64, 'kernel_size_0': 3, 'strides_0': 2, 'filters_1': 16, 'kernel_size_1': 3, 'strides_1': 2, 'n_units_0': 115, 'optimizer': 'Adam', 'lr': 0.00015148346675708963}. Best is trial 137 with value: 0.0944.\u001b[0m\n"
          ]
        },
        {
          "output_type": "stream",
          "name": "stdout",
          "text": [
            "Files already downloaded and verified\n"
          ]
        },
        {
          "output_type": "stream",
          "name": "stderr",
          "text": [
            "\u001b[32m[I 2022-06-21 06:58:46,713]\u001b[0m Trial 159 finished with value: 0.0786 and parameters: {'n_layers_conv': 2, 'n_layers_dense': 1, 'filters_0': 64, 'kernel_size_0': 3, 'strides_0': 2, 'filters_1': 16, 'kernel_size_1': 3, 'strides_1': 2, 'n_units_0': 117, 'optimizer': 'Adam', 'lr': 0.0002535242006714024}. Best is trial 137 with value: 0.0944.\u001b[0m\n"
          ]
        },
        {
          "output_type": "stream",
          "name": "stdout",
          "text": [
            "Files already downloaded and verified\n"
          ]
        },
        {
          "output_type": "stream",
          "name": "stderr",
          "text": [
            "\u001b[32m[I 2022-06-21 06:59:44,861]\u001b[0m Trial 160 finished with value: 0.0128 and parameters: {'n_layers_conv': 2, 'n_layers_dense': 1, 'filters_0': 64, 'kernel_size_0': 3, 'strides_0': 2, 'filters_1': 16, 'kernel_size_1': 3, 'strides_1': 2, 'n_units_0': 118, 'optimizer': 'SGD', 'lr': 0.00010567707533489574}. Best is trial 137 with value: 0.0944.\u001b[0m\n"
          ]
        },
        {
          "output_type": "stream",
          "name": "stdout",
          "text": [
            "Files already downloaded and verified\n"
          ]
        },
        {
          "output_type": "stream",
          "name": "stderr",
          "text": [
            "\u001b[32m[I 2022-06-21 07:00:44,286]\u001b[0m Trial 161 finished with value: 0.0849 and parameters: {'n_layers_conv': 2, 'n_layers_dense': 1, 'filters_0': 64, 'kernel_size_0': 3, 'strides_0': 2, 'filters_1': 16, 'kernel_size_1': 3, 'strides_1': 2, 'n_units_0': 126, 'optimizer': 'Adam', 'lr': 0.00020705032080332321}. Best is trial 137 with value: 0.0944.\u001b[0m\n"
          ]
        },
        {
          "output_type": "stream",
          "name": "stdout",
          "text": [
            "Files already downloaded and verified\n"
          ]
        },
        {
          "output_type": "stream",
          "name": "stderr",
          "text": [
            "\u001b[32m[I 2022-06-21 07:01:43,688]\u001b[0m Trial 162 finished with value: 0.0902 and parameters: {'n_layers_conv': 2, 'n_layers_dense': 1, 'filters_0': 64, 'kernel_size_0': 3, 'strides_0': 2, 'filters_1': 16, 'kernel_size_1': 3, 'strides_1': 2, 'n_units_0': 122, 'optimizer': 'Adam', 'lr': 0.00020130515062194527}. Best is trial 137 with value: 0.0944.\u001b[0m\n"
          ]
        },
        {
          "output_type": "stream",
          "name": "stdout",
          "text": [
            "Files already downloaded and verified\n"
          ]
        },
        {
          "output_type": "stream",
          "name": "stderr",
          "text": [
            "\u001b[32m[I 2022-06-21 07:02:43,923]\u001b[0m Trial 163 finished with value: 0.0803 and parameters: {'n_layers_conv': 2, 'n_layers_dense': 1, 'filters_0': 64, 'kernel_size_0': 3, 'strides_0': 2, 'filters_1': 16, 'kernel_size_1': 3, 'strides_1': 2, 'n_units_0': 122, 'optimizer': 'Adam', 'lr': 0.0002212549192439591}. Best is trial 137 with value: 0.0944.\u001b[0m\n"
          ]
        },
        {
          "output_type": "stream",
          "name": "stdout",
          "text": [
            "Files already downloaded and verified\n"
          ]
        },
        {
          "output_type": "stream",
          "name": "stderr",
          "text": [
            "\u001b[32m[I 2022-06-21 07:03:43,660]\u001b[0m Trial 164 finished with value: 0.0982 and parameters: {'n_layers_conv': 2, 'n_layers_dense': 1, 'filters_0': 64, 'kernel_size_0': 3, 'strides_0': 2, 'filters_1': 16, 'kernel_size_1': 3, 'strides_1': 2, 'n_units_0': 124, 'optimizer': 'Adam', 'lr': 0.00019631942326059202}. Best is trial 164 with value: 0.0982.\u001b[0m\n"
          ]
        },
        {
          "output_type": "stream",
          "name": "stdout",
          "text": [
            "Files already downloaded and verified\n"
          ]
        },
        {
          "output_type": "stream",
          "name": "stderr",
          "text": [
            "\u001b[32m[I 2022-06-21 07:04:43,243]\u001b[0m Trial 165 finished with value: 0.0786 and parameters: {'n_layers_conv': 2, 'n_layers_dense': 1, 'filters_0': 64, 'kernel_size_0': 3, 'strides_0': 2, 'filters_1': 16, 'kernel_size_1': 3, 'strides_1': 2, 'n_units_0': 124, 'optimizer': 'Adam', 'lr': 0.00017688692865619932}. Best is trial 164 with value: 0.0982.\u001b[0m\n"
          ]
        },
        {
          "output_type": "stream",
          "name": "stdout",
          "text": [
            "Files already downloaded and verified\n"
          ]
        },
        {
          "output_type": "stream",
          "name": "stderr",
          "text": [
            "\u001b[32m[I 2022-06-21 07:05:42,281]\u001b[0m Trial 166 finished with value: 0.0865 and parameters: {'n_layers_conv': 2, 'n_layers_dense': 1, 'filters_0': 64, 'kernel_size_0': 3, 'strides_0': 2, 'filters_1': 16, 'kernel_size_1': 3, 'strides_1': 2, 'n_units_0': 126, 'optimizer': 'Adam', 'lr': 0.00019776582282519906}. Best is trial 164 with value: 0.0982.\u001b[0m\n"
          ]
        },
        {
          "output_type": "stream",
          "name": "stdout",
          "text": [
            "Files already downloaded and verified\n"
          ]
        },
        {
          "output_type": "stream",
          "name": "stderr",
          "text": [
            "\u001b[32m[I 2022-06-21 07:06:43,323]\u001b[0m Trial 167 finished with value: 0.077 and parameters: {'n_layers_conv': 2, 'n_layers_dense': 3, 'filters_0': 64, 'kernel_size_0': 3, 'strides_0': 2, 'filters_1': 16, 'kernel_size_1': 3, 'strides_1': 2, 'n_units_0': 126, 'n_units_1': 75, 'n_units_2': 111, 'optimizer': 'Adam', 'lr': 0.00013785555692253748}. Best is trial 164 with value: 0.0982.\u001b[0m\n"
          ]
        },
        {
          "output_type": "stream",
          "name": "stdout",
          "text": [
            "Files already downloaded and verified\n"
          ]
        },
        {
          "output_type": "stream",
          "name": "stderr",
          "text": [
            "\u001b[32m[I 2022-06-21 07:07:43,623]\u001b[0m Trial 168 finished with value: 0.0809 and parameters: {'n_layers_conv': 2, 'n_layers_dense': 1, 'filters_0': 64, 'kernel_size_0': 3, 'strides_0': 2, 'filters_1': 16, 'kernel_size_1': 3, 'strides_1': 2, 'n_units_0': 126, 'optimizer': 'Adam', 'lr': 0.00020697542204240976}. Best is trial 164 with value: 0.0982.\u001b[0m\n"
          ]
        },
        {
          "output_type": "stream",
          "name": "stdout",
          "text": [
            "Files already downloaded and verified\n"
          ]
        },
        {
          "output_type": "stream",
          "name": "stderr",
          "text": [
            "\u001b[32m[I 2022-06-21 07:08:43,116]\u001b[0m Trial 169 finished with value: 0.0704 and parameters: {'n_layers_conv': 2, 'n_layers_dense': 1, 'filters_0': 64, 'kernel_size_0': 3, 'strides_0': 2, 'filters_1': 16, 'kernel_size_1': 3, 'strides_1': 2, 'n_units_0': 128, 'optimizer': 'Adam', 'lr': 0.00016001345540024405}. Best is trial 164 with value: 0.0982.\u001b[0m\n"
          ]
        },
        {
          "output_type": "stream",
          "name": "stdout",
          "text": [
            "Files already downloaded and verified\n"
          ]
        },
        {
          "output_type": "stream",
          "name": "stderr",
          "text": [
            "\u001b[32m[I 2022-06-21 07:09:41,972]\u001b[0m Trial 170 finished with value: 0.0856 and parameters: {'n_layers_conv': 2, 'n_layers_dense': 1, 'filters_0': 64, 'kernel_size_0': 3, 'strides_0': 2, 'filters_1': 16, 'kernel_size_1': 3, 'strides_1': 2, 'n_units_0': 124, 'optimizer': 'RMSprop', 'lr': 0.00011945134641573677}. Best is trial 164 with value: 0.0982.\u001b[0m\n"
          ]
        },
        {
          "output_type": "stream",
          "name": "stdout",
          "text": [
            "Files already downloaded and verified\n"
          ]
        },
        {
          "output_type": "stream",
          "name": "stderr",
          "text": [
            "\u001b[32m[I 2022-06-21 07:10:40,839]\u001b[0m Trial 171 finished with value: 0.0786 and parameters: {'n_layers_conv': 2, 'n_layers_dense': 1, 'filters_0': 64, 'kernel_size_0': 3, 'strides_0': 2, 'filters_1': 16, 'kernel_size_1': 3, 'strides_1': 2, 'n_units_0': 124, 'optimizer': 'RMSprop', 'lr': 0.00013055376090650569}. Best is trial 164 with value: 0.0982.\u001b[0m\n"
          ]
        },
        {
          "output_type": "stream",
          "name": "stdout",
          "text": [
            "Files already downloaded and verified\n"
          ]
        },
        {
          "output_type": "stream",
          "name": "stderr",
          "text": [
            "\u001b[32m[I 2022-06-21 07:11:40,366]\u001b[0m Trial 172 finished with value: 0.0636 and parameters: {'n_layers_conv': 2, 'n_layers_dense': 1, 'filters_0': 64, 'kernel_size_0': 3, 'strides_0': 2, 'filters_1': 16, 'kernel_size_1': 3, 'strides_1': 2, 'n_units_0': 125, 'optimizer': 'RMSprop', 'lr': 0.00010753451176316423}. Best is trial 164 with value: 0.0982.\u001b[0m\n"
          ]
        },
        {
          "output_type": "stream",
          "name": "stdout",
          "text": [
            "Files already downloaded and verified\n"
          ]
        },
        {
          "output_type": "stream",
          "name": "stderr",
          "text": [
            "\u001b[32m[I 2022-06-21 07:12:39,215]\u001b[0m Trial 173 finished with value: 0.0819 and parameters: {'n_layers_conv': 2, 'n_layers_dense': 1, 'filters_0': 64, 'kernel_size_0': 3, 'strides_0': 2, 'filters_1': 16, 'kernel_size_1': 3, 'strides_1': 2, 'n_units_0': 122, 'optimizer': 'RMSprop', 'lr': 0.00019705918958116373}. Best is trial 164 with value: 0.0982.\u001b[0m\n"
          ]
        },
        {
          "output_type": "stream",
          "name": "stdout",
          "text": [
            "Files already downloaded and verified\n"
          ]
        },
        {
          "output_type": "stream",
          "name": "stderr",
          "text": [
            "\u001b[32m[I 2022-06-21 07:13:38,140]\u001b[0m Trial 174 finished with value: 0.0859 and parameters: {'n_layers_conv': 2, 'n_layers_dense': 1, 'filters_0': 64, 'kernel_size_0': 3, 'strides_0': 2, 'filters_1': 16, 'kernel_size_1': 3, 'strides_1': 2, 'n_units_0': 123, 'optimizer': 'RMSprop', 'lr': 0.0001542585576253097}. Best is trial 164 with value: 0.0982.\u001b[0m\n"
          ]
        },
        {
          "output_type": "stream",
          "name": "stdout",
          "text": [
            "Files already downloaded and verified\n"
          ]
        },
        {
          "output_type": "stream",
          "name": "stderr",
          "text": [
            "\u001b[32m[I 2022-06-21 07:14:37,115]\u001b[0m Trial 175 finished with value: 0.0503 and parameters: {'n_layers_conv': 2, 'n_layers_dense': 1, 'filters_0': 64, 'kernel_size_0': 3, 'strides_0': 2, 'filters_1': 16, 'kernel_size_1': 3, 'strides_1': 2, 'n_units_0': 125, 'optimizer': 'RMSprop', 'lr': 0.00016650977816907533}. Best is trial 164 with value: 0.0982.\u001b[0m\n"
          ]
        },
        {
          "output_type": "stream",
          "name": "stdout",
          "text": [
            "Files already downloaded and verified\n"
          ]
        },
        {
          "output_type": "stream",
          "name": "stderr",
          "text": [
            "\u001b[32m[I 2022-06-21 07:15:36,423]\u001b[0m Trial 176 finished with value: 0.0689 and parameters: {'n_layers_conv': 2, 'n_layers_dense': 1, 'filters_0': 64, 'kernel_size_0': 3, 'strides_0': 2, 'filters_1': 32, 'kernel_size_1': 3, 'strides_1': 1, 'n_units_0': 123, 'optimizer': 'RMSprop', 'lr': 8.797934584809804e-05}. Best is trial 164 with value: 0.0982.\u001b[0m\n"
          ]
        },
        {
          "output_type": "stream",
          "name": "stdout",
          "text": [
            "Files already downloaded and verified\n"
          ]
        },
        {
          "output_type": "stream",
          "name": "stderr",
          "text": [
            "\u001b[32m[I 2022-06-21 07:16:35,554]\u001b[0m Trial 177 finished with value: 0.0826 and parameters: {'n_layers_conv': 2, 'n_layers_dense': 1, 'filters_0': 64, 'kernel_size_0': 3, 'strides_0': 2, 'filters_1': 16, 'kernel_size_1': 3, 'strides_1': 2, 'n_units_0': 127, 'optimizer': 'RMSprop', 'lr': 0.000312661141031823}. Best is trial 164 with value: 0.0982.\u001b[0m\n"
          ]
        },
        {
          "output_type": "stream",
          "name": "stdout",
          "text": [
            "Files already downloaded and verified\n"
          ]
        },
        {
          "output_type": "stream",
          "name": "stderr",
          "text": [
            "\u001b[32m[I 2022-06-21 07:17:35,006]\u001b[0m Trial 178 finished with value: 0.0758 and parameters: {'n_layers_conv': 2, 'n_layers_dense': 1, 'filters_0': 32, 'kernel_size_0': 3, 'strides_0': 2, 'filters_1': 16, 'kernel_size_1': 3, 'strides_1': 2, 'n_units_0': 121, 'optimizer': 'RMSprop', 'lr': 0.0001249576607204216}. Best is trial 164 with value: 0.0982.\u001b[0m\n"
          ]
        },
        {
          "output_type": "stream",
          "name": "stdout",
          "text": [
            "Files already downloaded and verified\n"
          ]
        },
        {
          "output_type": "stream",
          "name": "stderr",
          "text": [
            "\u001b[32m[I 2022-06-21 07:18:34,277]\u001b[0m Trial 179 finished with value: 0.0754 and parameters: {'n_layers_conv': 2, 'n_layers_dense': 1, 'filters_0': 64, 'kernel_size_0': 3, 'strides_0': 2, 'filters_1': 16, 'kernel_size_1': 3, 'strides_1': 2, 'n_units_0': 126, 'optimizer': 'RMSprop', 'lr': 0.00019516665743323769}. Best is trial 164 with value: 0.0982.\u001b[0m\n"
          ]
        },
        {
          "output_type": "stream",
          "name": "stdout",
          "text": [
            "Files already downloaded and verified\n"
          ]
        },
        {
          "output_type": "stream",
          "name": "stderr",
          "text": [
            "\u001b[32m[I 2022-06-21 07:19:33,193]\u001b[0m Trial 180 finished with value: 0.0648 and parameters: {'n_layers_conv': 2, 'n_layers_dense': 1, 'filters_0': 64, 'kernel_size_0': 3, 'strides_0': 2, 'filters_1': 16, 'kernel_size_1': 3, 'strides_1': 2, 'n_units_0': 123, 'optimizer': 'RMSprop', 'lr': 0.0001454530626157761}. Best is trial 164 with value: 0.0982.\u001b[0m\n"
          ]
        },
        {
          "output_type": "stream",
          "name": "stdout",
          "text": [
            "Files already downloaded and verified\n"
          ]
        },
        {
          "output_type": "stream",
          "name": "stderr",
          "text": [
            "\u001b[32m[I 2022-06-21 07:20:32,902]\u001b[0m Trial 181 finished with value: 0.0794 and parameters: {'n_layers_conv': 2, 'n_layers_dense': 1, 'filters_0': 64, 'kernel_size_0': 3, 'strides_0': 2, 'filters_1': 16, 'kernel_size_1': 3, 'strides_1': 2, 'n_units_0': 121, 'optimizer': 'Adam', 'lr': 0.0001126815978865079}. Best is trial 164 with value: 0.0982.\u001b[0m\n"
          ]
        },
        {
          "output_type": "stream",
          "name": "stdout",
          "text": [
            "Files already downloaded and verified\n"
          ]
        },
        {
          "output_type": "stream",
          "name": "stderr",
          "text": [
            "\u001b[32m[I 2022-06-21 07:21:32,584]\u001b[0m Trial 182 finished with value: 0.0858 and parameters: {'n_layers_conv': 2, 'n_layers_dense': 1, 'filters_0': 64, 'kernel_size_0': 3, 'strides_0': 2, 'filters_1': 16, 'kernel_size_1': 3, 'strides_1': 2, 'n_units_0': 124, 'optimizer': 'Adam', 'lr': 0.00015074991241637001}. Best is trial 164 with value: 0.0982.\u001b[0m\n"
          ]
        },
        {
          "output_type": "stream",
          "name": "stdout",
          "text": [
            "Files already downloaded and verified\n"
          ]
        },
        {
          "output_type": "stream",
          "name": "stderr",
          "text": [
            "\u001b[32m[I 2022-06-21 07:22:33,034]\u001b[0m Trial 183 finished with value: 0.01 and parameters: {'n_layers_conv': 2, 'n_layers_dense': 1, 'filters_0': 64, 'kernel_size_0': 3, 'strides_0': 2, 'filters_1': 16, 'kernel_size_1': 3, 'strides_1': 2, 'n_units_0': 124, 'optimizer': 'Adam', 'lr': 0.03985563972324322}. Best is trial 164 with value: 0.0982.\u001b[0m\n"
          ]
        },
        {
          "output_type": "stream",
          "name": "stdout",
          "text": [
            "Files already downloaded and verified\n"
          ]
        },
        {
          "output_type": "stream",
          "name": "stderr",
          "text": [
            "\u001b[32m[I 2022-06-21 07:23:32,848]\u001b[0m Trial 184 finished with value: 0.0657 and parameters: {'n_layers_conv': 2, 'n_layers_dense': 1, 'filters_0': 64, 'kernel_size_0': 3, 'strides_0': 2, 'filters_1': 16, 'kernel_size_1': 3, 'strides_1': 2, 'n_units_0': 123, 'optimizer': 'Adam', 'lr': 9.523730188039756e-05}. Best is trial 164 with value: 0.0982.\u001b[0m\n"
          ]
        },
        {
          "output_type": "stream",
          "name": "stdout",
          "text": [
            "Files already downloaded and verified\n"
          ]
        },
        {
          "output_type": "stream",
          "name": "stderr",
          "text": [
            "\u001b[32m[I 2022-06-21 07:24:32,417]\u001b[0m Trial 185 finished with value: 0.0745 and parameters: {'n_layers_conv': 2, 'n_layers_dense': 1, 'filters_0': 64, 'kernel_size_0': 3, 'strides_0': 2, 'filters_1': 16, 'kernel_size_1': 3, 'strides_1': 2, 'n_units_0': 120, 'optimizer': 'Adam', 'lr': 0.00014560151338073794}. Best is trial 164 with value: 0.0982.\u001b[0m\n"
          ]
        },
        {
          "output_type": "stream",
          "name": "stdout",
          "text": [
            "Files already downloaded and verified\n"
          ]
        },
        {
          "output_type": "stream",
          "name": "stderr",
          "text": [
            "\u001b[32m[I 2022-06-21 07:25:31,777]\u001b[0m Trial 186 finished with value: 0.0589 and parameters: {'n_layers_conv': 2, 'n_layers_dense': 1, 'filters_0': 64, 'kernel_size_0': 3, 'strides_0': 2, 'filters_1': 128, 'kernel_size_1': 5, 'strides_1': 2, 'n_units_0': 122, 'optimizer': 'RMSprop', 'lr': 0.0001201022309515846}. Best is trial 164 with value: 0.0982.\u001b[0m\n"
          ]
        },
        {
          "output_type": "stream",
          "name": "stdout",
          "text": [
            "Files already downloaded and verified\n"
          ]
        },
        {
          "output_type": "stream",
          "name": "stderr",
          "text": [
            "\u001b[32m[I 2022-06-21 07:26:31,296]\u001b[0m Trial 187 finished with value: 0.0664 and parameters: {'n_layers_conv': 2, 'n_layers_dense': 1, 'filters_0': 16, 'kernel_size_0': 3, 'strides_0': 2, 'filters_1': 16, 'kernel_size_1': 3, 'strides_1': 2, 'n_units_0': 124, 'optimizer': 'Adam', 'lr': 0.00016667951874493357}. Best is trial 164 with value: 0.0982.\u001b[0m\n"
          ]
        },
        {
          "output_type": "stream",
          "name": "stdout",
          "text": [
            "Files already downloaded and verified\n"
          ]
        },
        {
          "output_type": "stream",
          "name": "stderr",
          "text": [
            "\u001b[32m[I 2022-06-21 07:27:31,611]\u001b[0m Trial 188 finished with value: 0.0789 and parameters: {'n_layers_conv': 2, 'n_layers_dense': 1, 'filters_0': 64, 'kernel_size_0': 3, 'strides_0': 2, 'filters_1': 16, 'kernel_size_1': 3, 'strides_1': 2, 'n_units_0': 126, 'optimizer': 'Adam', 'lr': 0.00022296744646567785}. Best is trial 164 with value: 0.0982.\u001b[0m\n"
          ]
        },
        {
          "output_type": "stream",
          "name": "stdout",
          "text": [
            "Files already downloaded and verified\n"
          ]
        },
        {
          "output_type": "stream",
          "name": "stderr",
          "text": [
            "\u001b[32m[I 2022-06-21 07:28:31,392]\u001b[0m Trial 189 finished with value: 0.0778 and parameters: {'n_layers_conv': 2, 'n_layers_dense': 1, 'filters_0': 64, 'kernel_size_0': 3, 'strides_0': 2, 'filters_1': 64, 'kernel_size_1': 5, 'strides_1': 2, 'n_units_0': 128, 'optimizer': 'Adam', 'lr': 8.171126002598535e-05}. Best is trial 164 with value: 0.0982.\u001b[0m\n"
          ]
        },
        {
          "output_type": "stream",
          "name": "stdout",
          "text": [
            "Files already downloaded and verified\n"
          ]
        },
        {
          "output_type": "stream",
          "name": "stderr",
          "text": [
            "\u001b[32m[I 2022-06-21 07:29:30,966]\u001b[0m Trial 190 finished with value: 0.0771 and parameters: {'n_layers_conv': 2, 'n_layers_dense': 1, 'filters_0': 64, 'kernel_size_0': 3, 'strides_0': 2, 'filters_1': 16, 'kernel_size_1': 3, 'strides_1': 2, 'n_units_0': 120, 'optimizer': 'Adam', 'lr': 0.00013720057833005052}. Best is trial 164 with value: 0.0982.\u001b[0m\n"
          ]
        },
        {
          "output_type": "stream",
          "name": "stdout",
          "text": [
            "Files already downloaded and verified\n"
          ]
        },
        {
          "output_type": "stream",
          "name": "stderr",
          "text": [
            "\u001b[32m[I 2022-06-21 07:30:30,646]\u001b[0m Trial 191 finished with value: 0.0797 and parameters: {'n_layers_conv': 2, 'n_layers_dense': 1, 'filters_0': 64, 'kernel_size_0': 3, 'strides_0': 2, 'filters_1': 16, 'kernel_size_1': 3, 'strides_1': 2, 'n_units_0': 125, 'optimizer': 'Adam', 'lr': 0.0010355790214824552}. Best is trial 164 with value: 0.0982.\u001b[0m\n"
          ]
        },
        {
          "output_type": "stream",
          "name": "stdout",
          "text": [
            "Files already downloaded and verified\n"
          ]
        },
        {
          "output_type": "stream",
          "name": "stderr",
          "text": [
            "\u001b[32m[I 2022-06-21 07:31:30,204]\u001b[0m Trial 192 finished with value: 0.0817 and parameters: {'n_layers_conv': 2, 'n_layers_dense': 1, 'filters_0': 64, 'kernel_size_0': 3, 'strides_0': 2, 'filters_1': 16, 'kernel_size_1': 3, 'strides_1': 2, 'n_units_0': 122, 'optimizer': 'Adam', 'lr': 0.00016790950504774616}. Best is trial 164 with value: 0.0982.\u001b[0m\n"
          ]
        },
        {
          "output_type": "stream",
          "name": "stdout",
          "text": [
            "Files already downloaded and verified\n"
          ]
        },
        {
          "output_type": "stream",
          "name": "stderr",
          "text": [
            "\u001b[32m[I 2022-06-21 07:32:30,636]\u001b[0m Trial 193 finished with value: 0.01 and parameters: {'n_layers_conv': 2, 'n_layers_dense': 1, 'filters_0': 64, 'kernel_size_0': 3, 'strides_0': 2, 'filters_1': 16, 'kernel_size_1': 3, 'strides_1': 2, 'n_units_0': 126, 'optimizer': 'Adam', 'lr': 0.011975883406446956}. Best is trial 164 with value: 0.0982.\u001b[0m\n"
          ]
        },
        {
          "output_type": "stream",
          "name": "stdout",
          "text": [
            "Files already downloaded and verified\n"
          ]
        },
        {
          "output_type": "stream",
          "name": "stderr",
          "text": [
            "\u001b[32m[I 2022-06-21 07:33:31,644]\u001b[0m Trial 194 finished with value: 0.0812 and parameters: {'n_layers_conv': 2, 'n_layers_dense': 1, 'filters_0': 64, 'kernel_size_0': 3, 'strides_0': 2, 'filters_1': 16, 'kernel_size_1': 3, 'strides_1': 2, 'n_units_0': 124, 'optimizer': 'Adam', 'lr': 0.00019848644671567684}. Best is trial 164 with value: 0.0982.\u001b[0m\n"
          ]
        },
        {
          "output_type": "stream",
          "name": "stdout",
          "text": [
            "Files already downloaded and verified\n"
          ]
        },
        {
          "output_type": "stream",
          "name": "stderr",
          "text": [
            "\u001b[32m[I 2022-06-21 07:34:31,435]\u001b[0m Trial 195 finished with value: 0.0845 and parameters: {'n_layers_conv': 2, 'n_layers_dense': 1, 'filters_0': 64, 'kernel_size_0': 3, 'strides_0': 2, 'filters_1': 16, 'kernel_size_1': 3, 'strides_1': 2, 'n_units_0': 127, 'optimizer': 'Adam', 'lr': 0.00010106415866483651}. Best is trial 164 with value: 0.0982.\u001b[0m\n"
          ]
        },
        {
          "output_type": "stream",
          "name": "stdout",
          "text": [
            "Files already downloaded and verified\n"
          ]
        },
        {
          "output_type": "stream",
          "name": "stderr",
          "text": [
            "\u001b[32m[I 2022-06-21 07:35:32,134]\u001b[0m Trial 196 finished with value: 0.0773 and parameters: {'n_layers_conv': 2, 'n_layers_dense': 1, 'filters_0': 64, 'kernel_size_0': 3, 'strides_0': 2, 'filters_1': 16, 'kernel_size_1': 5, 'strides_1': 2, 'n_units_0': 123, 'optimizer': 'Adam', 'lr': 0.00012432992302618368}. Best is trial 164 with value: 0.0982.\u001b[0m\n"
          ]
        },
        {
          "output_type": "stream",
          "name": "stdout",
          "text": [
            "Files already downloaded and verified\n"
          ]
        },
        {
          "output_type": "stream",
          "name": "stderr",
          "text": [
            "\u001b[32m[I 2022-06-21 07:36:32,567]\u001b[0m Trial 197 finished with value: 0.0814 and parameters: {'n_layers_conv': 2, 'n_layers_dense': 1, 'filters_0': 64, 'kernel_size_0': 3, 'strides_0': 2, 'filters_1': 16, 'kernel_size_1': 3, 'strides_1': 2, 'n_units_0': 125, 'optimizer': 'Adam', 'lr': 0.00025648170904800653}. Best is trial 164 with value: 0.0982.\u001b[0m\n"
          ]
        },
        {
          "output_type": "stream",
          "name": "stdout",
          "text": [
            "Files already downloaded and verified\n"
          ]
        },
        {
          "output_type": "stream",
          "name": "stderr",
          "text": [
            "\u001b[32m[I 2022-06-21 07:37:31,891]\u001b[0m Trial 198 finished with value: 0.01 and parameters: {'n_layers_conv': 2, 'n_layers_dense': 1, 'filters_0': 64, 'kernel_size_0': 3, 'strides_0': 2, 'filters_1': 16, 'kernel_size_1': 3, 'strides_1': 2, 'n_units_0': 122, 'optimizer': 'SGD', 'lr': 0.00015120001330247454}. Best is trial 164 with value: 0.0982.\u001b[0m\n"
          ]
        },
        {
          "output_type": "stream",
          "name": "stdout",
          "text": [
            "Files already downloaded and verified\n"
          ]
        },
        {
          "output_type": "stream",
          "name": "stderr",
          "text": [
            "\u001b[32m[I 2022-06-21 07:38:32,016]\u001b[0m Trial 199 finished with value: 0.0668 and parameters: {'n_layers_conv': 2, 'n_layers_dense': 1, 'filters_0': 64, 'kernel_size_0': 3, 'strides_0': 2, 'filters_1': 16, 'kernel_size_1': 3, 'strides_1': 2, 'n_units_0': 124, 'optimizer': 'Adam', 'lr': 0.00017788856190859131}. Best is trial 164 with value: 0.0982.\u001b[0m\n"
          ]
        },
        {
          "output_type": "stream",
          "name": "stdout",
          "text": [
            "Files already downloaded and verified\n"
          ]
        },
        {
          "output_type": "stream",
          "name": "stderr",
          "text": [
            "\u001b[32m[I 2022-06-21 07:39:32,379]\u001b[0m Trial 200 finished with value: 0.0767 and parameters: {'n_layers_conv': 2, 'n_layers_dense': 1, 'filters_0': 64, 'kernel_size_0': 3, 'strides_0': 2, 'filters_1': 16, 'kernel_size_1': 5, 'strides_1': 2, 'n_units_0': 128, 'optimizer': 'Adam', 'lr': 0.0001106169779128332}. Best is trial 164 with value: 0.0982.\u001b[0m\n"
          ]
        },
        {
          "output_type": "stream",
          "name": "stdout",
          "text": [
            "Files already downloaded and verified\n"
          ]
        },
        {
          "output_type": "stream",
          "name": "stderr",
          "text": [
            "\u001b[32m[I 2022-06-21 07:40:32,871]\u001b[0m Trial 201 finished with value: 0.0875 and parameters: {'n_layers_conv': 2, 'n_layers_dense': 1, 'filters_0': 64, 'kernel_size_0': 3, 'strides_0': 2, 'filters_1': 16, 'kernel_size_1': 3, 'strides_1': 2, 'n_units_0': 120, 'optimizer': 'Adam', 'lr': 0.00022076939235116713}. Best is trial 164 with value: 0.0982.\u001b[0m\n"
          ]
        },
        {
          "output_type": "stream",
          "name": "stdout",
          "text": [
            "Files already downloaded and verified\n"
          ]
        },
        {
          "output_type": "stream",
          "name": "stderr",
          "text": [
            "\u001b[32m[I 2022-06-21 07:41:33,565]\u001b[0m Trial 202 finished with value: 0.081 and parameters: {'n_layers_conv': 2, 'n_layers_dense': 1, 'filters_0': 64, 'kernel_size_0': 3, 'strides_0': 2, 'filters_1': 16, 'kernel_size_1': 3, 'strides_1': 2, 'n_units_0': 121, 'optimizer': 'Adam', 'lr': 0.00022144026061405797}. Best is trial 164 with value: 0.0982.\u001b[0m\n"
          ]
        },
        {
          "output_type": "stream",
          "name": "stdout",
          "text": [
            "Files already downloaded and verified\n"
          ]
        },
        {
          "output_type": "stream",
          "name": "stderr",
          "text": [
            "\u001b[32m[I 2022-06-21 07:42:34,707]\u001b[0m Trial 203 finished with value: 0.0796 and parameters: {'n_layers_conv': 2, 'n_layers_dense': 1, 'filters_0': 64, 'kernel_size_0': 3, 'strides_0': 2, 'filters_1': 16, 'kernel_size_1': 3, 'strides_1': 2, 'n_units_0': 119, 'optimizer': 'Adam', 'lr': 0.00030905745792301245}. Best is trial 164 with value: 0.0982.\u001b[0m\n"
          ]
        },
        {
          "output_type": "stream",
          "name": "stdout",
          "text": [
            "Files already downloaded and verified\n"
          ]
        },
        {
          "output_type": "stream",
          "name": "stderr",
          "text": [
            "\u001b[32m[I 2022-06-21 07:43:35,180]\u001b[0m Trial 204 finished with value: 0.0766 and parameters: {'n_layers_conv': 2, 'n_layers_dense': 1, 'filters_0': 64, 'kernel_size_0': 3, 'strides_0': 2, 'filters_1': 16, 'kernel_size_1': 3, 'strides_1': 2, 'n_units_0': 121, 'optimizer': 'Adam', 'lr': 0.0016141290094913233}. Best is trial 164 with value: 0.0982.\u001b[0m\n"
          ]
        },
        {
          "output_type": "stream",
          "name": "stdout",
          "text": [
            "Files already downloaded and verified\n"
          ]
        },
        {
          "output_type": "stream",
          "name": "stderr",
          "text": [
            "\u001b[32m[I 2022-06-21 07:44:36,067]\u001b[0m Trial 205 finished with value: 0.0732 and parameters: {'n_layers_conv': 2, 'n_layers_dense': 1, 'filters_0': 64, 'kernel_size_0': 3, 'strides_0': 2, 'filters_1': 16, 'kernel_size_1': 3, 'strides_1': 2, 'n_units_0': 123, 'optimizer': 'Adam', 'lr': 0.00018426360960711554}. Best is trial 164 with value: 0.0982.\u001b[0m\n"
          ]
        },
        {
          "output_type": "stream",
          "name": "stdout",
          "text": [
            "Files already downloaded and verified\n"
          ]
        },
        {
          "output_type": "stream",
          "name": "stderr",
          "text": [
            "\u001b[32m[I 2022-06-21 07:45:36,622]\u001b[0m Trial 206 finished with value: 0.0641 and parameters: {'n_layers_conv': 2, 'n_layers_dense': 1, 'filters_0': 64, 'kernel_size_0': 3, 'strides_0': 2, 'filters_1': 16, 'kernel_size_1': 3, 'strides_1': 1, 'n_units_0': 126, 'optimizer': 'Adam', 'lr': 0.00013703087711161834}. Best is trial 164 with value: 0.0982.\u001b[0m\n"
          ]
        },
        {
          "output_type": "stream",
          "name": "stdout",
          "text": [
            "Files already downloaded and verified\n"
          ]
        },
        {
          "output_type": "stream",
          "name": "stderr",
          "text": [
            "\u001b[32m[I 2022-06-21 07:46:37,020]\u001b[0m Trial 207 finished with value: 0.0647 and parameters: {'n_layers_conv': 2, 'n_layers_dense': 1, 'filters_0': 64, 'kernel_size_0': 3, 'strides_0': 2, 'filters_1': 16, 'kernel_size_1': 3, 'strides_1': 2, 'n_units_0': 125, 'optimizer': 'Adam', 'lr': 0.00038420626232306496}. Best is trial 164 with value: 0.0982.\u001b[0m\n"
          ]
        },
        {
          "output_type": "stream",
          "name": "stdout",
          "text": [
            "Files already downloaded and verified\n"
          ]
        },
        {
          "output_type": "stream",
          "name": "stderr",
          "text": [
            "\u001b[32m[I 2022-06-21 07:47:37,946]\u001b[0m Trial 208 finished with value: 0.0729 and parameters: {'n_layers_conv': 2, 'n_layers_dense': 1, 'filters_0': 64, 'kernel_size_0': 3, 'strides_0': 2, 'filters_1': 16, 'kernel_size_1': 5, 'strides_1': 2, 'n_units_0': 120, 'optimizer': 'Adam', 'lr': 0.00026530604895521145}. Best is trial 164 with value: 0.0982.\u001b[0m\n"
          ]
        },
        {
          "output_type": "stream",
          "name": "stdout",
          "text": [
            "Files already downloaded and verified\n"
          ]
        },
        {
          "output_type": "stream",
          "name": "stderr",
          "text": [
            "\u001b[32m[I 2022-06-21 07:48:37,184]\u001b[0m Trial 209 finished with value: 0.0736 and parameters: {'n_layers_conv': 2, 'n_layers_dense': 1, 'filters_0': 64, 'kernel_size_0': 3, 'strides_0': 2, 'filters_1': 16, 'kernel_size_1': 3, 'strides_1': 2, 'n_units_0': 122, 'optimizer': 'RMSprop', 'lr': 0.00015196560534296157}. Best is trial 164 with value: 0.0982.\u001b[0m\n"
          ]
        },
        {
          "output_type": "stream",
          "name": "stdout",
          "text": [
            "Files already downloaded and verified\n"
          ]
        },
        {
          "output_type": "stream",
          "name": "stderr",
          "text": [
            "\u001b[32m[I 2022-06-21 07:49:37,249]\u001b[0m Trial 210 finished with value: 0.0891 and parameters: {'n_layers_conv': 2, 'n_layers_dense': 1, 'filters_0': 64, 'kernel_size_0': 3, 'strides_0': 2, 'filters_1': 32, 'kernel_size_1': 3, 'strides_1': 2, 'n_units_0': 118, 'optimizer': 'Adam', 'lr': 0.00022215719719399286}. Best is trial 164 with value: 0.0982.\u001b[0m\n"
          ]
        },
        {
          "output_type": "stream",
          "name": "stdout",
          "text": [
            "Files already downloaded and verified\n"
          ]
        },
        {
          "output_type": "stream",
          "name": "stderr",
          "text": [
            "\u001b[32m[I 2022-06-21 07:50:37,114]\u001b[0m Trial 211 finished with value: 0.0786 and parameters: {'n_layers_conv': 2, 'n_layers_dense': 1, 'filters_0': 64, 'kernel_size_0': 3, 'strides_0': 2, 'filters_1': 32, 'kernel_size_1': 3, 'strides_1': 2, 'n_units_0': 118, 'optimizer': 'Adam', 'lr': 0.00021633687140981724}. Best is trial 164 with value: 0.0982.\u001b[0m\n"
          ]
        },
        {
          "output_type": "stream",
          "name": "stdout",
          "text": [
            "Files already downloaded and verified\n"
          ]
        },
        {
          "output_type": "stream",
          "name": "stderr",
          "text": [
            "\u001b[32m[I 2022-06-21 07:51:37,061]\u001b[0m Trial 212 finished with value: 0.0747 and parameters: {'n_layers_conv': 2, 'n_layers_dense': 1, 'filters_0': 64, 'kernel_size_0': 3, 'strides_0': 2, 'filters_1': 32, 'kernel_size_1': 3, 'strides_1': 2, 'n_units_0': 116, 'optimizer': 'Adam', 'lr': 0.0001905855884429468}. Best is trial 164 with value: 0.0982.\u001b[0m\n"
          ]
        },
        {
          "output_type": "stream",
          "name": "stdout",
          "text": [
            "Files already downloaded and verified\n"
          ]
        },
        {
          "output_type": "stream",
          "name": "stderr",
          "text": [
            "\u001b[32m[I 2022-06-21 07:52:37,472]\u001b[0m Trial 213 finished with value: 0.0816 and parameters: {'n_layers_conv': 2, 'n_layers_dense': 1, 'filters_0': 64, 'kernel_size_0': 3, 'strides_0': 2, 'filters_1': 32, 'kernel_size_1': 3, 'strides_1': 2, 'n_units_0': 119, 'optimizer': 'Adam', 'lr': 0.0001236631211030021}. Best is trial 164 with value: 0.0982.\u001b[0m\n"
          ]
        },
        {
          "output_type": "stream",
          "name": "stdout",
          "text": [
            "Files already downloaded and verified\n"
          ]
        },
        {
          "output_type": "stream",
          "name": "stderr",
          "text": [
            "\u001b[32m[I 2022-06-21 07:53:37,206]\u001b[0m Trial 214 finished with value: 0.0665 and parameters: {'n_layers_conv': 2, 'n_layers_dense': 1, 'filters_0': 64, 'kernel_size_0': 3, 'strides_0': 2, 'filters_1': 32, 'kernel_size_1': 3, 'strides_1': 2, 'n_units_0': 124, 'optimizer': 'Adam', 'lr': 0.0005130897958894281}. Best is trial 164 with value: 0.0982.\u001b[0m\n"
          ]
        },
        {
          "output_type": "stream",
          "name": "stdout",
          "text": [
            "Files already downloaded and verified\n"
          ]
        },
        {
          "output_type": "stream",
          "name": "stderr",
          "text": [
            "\u001b[32m[I 2022-06-21 07:54:37,155]\u001b[0m Trial 215 finished with value: 0.085 and parameters: {'n_layers_conv': 2, 'n_layers_dense': 1, 'filters_0': 64, 'kernel_size_0': 3, 'strides_0': 2, 'filters_1': 16, 'kernel_size_1': 3, 'strides_1': 2, 'n_units_0': 123, 'optimizer': 'Adam', 'lr': 0.00024780386432521806}. Best is trial 164 with value: 0.0982.\u001b[0m\n"
          ]
        },
        {
          "output_type": "stream",
          "name": "stdout",
          "text": [
            "Files already downloaded and verified\n"
          ]
        },
        {
          "output_type": "stream",
          "name": "stderr",
          "text": [
            "\u001b[32m[I 2022-06-21 07:55:40,148]\u001b[0m Trial 216 finished with value: 0.0764 and parameters: {'n_layers_conv': 4, 'n_layers_dense': 1, 'filters_0': 32, 'kernel_size_0': 3, 'strides_0': 2, 'filters_1': 32, 'kernel_size_1': 3, 'strides_1': 2, 'filters_2': 64, 'kernel_size_2': 3, 'strides_2': 1, 'filters_3': 128, 'kernel_size_3': 5, 'strides_3': 1, 'n_units_0': 121, 'optimizer': 'Adam', 'lr': 0.00024184732386894938}. Best is trial 164 with value: 0.0982.\u001b[0m\n"
          ]
        },
        {
          "output_type": "stream",
          "name": "stdout",
          "text": [
            "Files already downloaded and verified\n"
          ]
        },
        {
          "output_type": "stream",
          "name": "stderr",
          "text": [
            "\u001b[32m[I 2022-06-21 07:56:40,185]\u001b[0m Trial 217 finished with value: 0.0824 and parameters: {'n_layers_conv': 2, 'n_layers_dense': 1, 'filters_0': 64, 'kernel_size_0': 3, 'strides_0': 2, 'filters_1': 16, 'kernel_size_1': 5, 'strides_1': 2, 'n_units_0': 123, 'optimizer': 'Adam', 'lr': 0.00015710292632195081}. Best is trial 164 with value: 0.0982.\u001b[0m\n"
          ]
        },
        {
          "output_type": "stream",
          "name": "stdout",
          "text": [
            "Files already downloaded and verified\n"
          ]
        },
        {
          "output_type": "stream",
          "name": "stderr",
          "text": [
            "\u001b[32m[I 2022-06-21 07:57:39,886]\u001b[0m Trial 218 finished with value: 0.0631 and parameters: {'n_layers_conv': 2, 'n_layers_dense': 1, 'filters_0': 64, 'kernel_size_0': 3, 'strides_0': 2, 'filters_1': 16, 'kernel_size_1': 3, 'strides_1': 2, 'n_units_0': 125, 'optimizer': 'Adam', 'lr': 0.0006431420078454196}. Best is trial 164 with value: 0.0982.\u001b[0m\n"
          ]
        },
        {
          "output_type": "stream",
          "name": "stdout",
          "text": [
            "Files already downloaded and verified\n"
          ]
        },
        {
          "output_type": "stream",
          "name": "stderr",
          "text": [
            "\u001b[32m[I 2022-06-21 07:58:39,474]\u001b[0m Trial 219 finished with value: 0.0864 and parameters: {'n_layers_conv': 2, 'n_layers_dense': 1, 'filters_0': 64, 'kernel_size_0': 3, 'strides_0': 2, 'filters_1': 16, 'kernel_size_1': 3, 'strides_1': 2, 'n_units_0': 120, 'optimizer': 'Adam', 'lr': 9.700184600351964e-05}. Best is trial 164 with value: 0.0982.\u001b[0m\n"
          ]
        },
        {
          "output_type": "stream",
          "name": "stdout",
          "text": [
            "Files already downloaded and verified\n"
          ]
        },
        {
          "output_type": "stream",
          "name": "stderr",
          "text": [
            "\u001b[32m[I 2022-06-21 07:59:38,778]\u001b[0m Trial 220 finished with value: 0.0782 and parameters: {'n_layers_conv': 2, 'n_layers_dense': 1, 'filters_0': 64, 'kernel_size_0': 3, 'strides_0': 2, 'filters_1': 16, 'kernel_size_1': 3, 'strides_1': 2, 'n_units_0': 120, 'optimizer': 'Adam', 'lr': 8.681973490634177e-05}. Best is trial 164 with value: 0.0982.\u001b[0m\n"
          ]
        },
        {
          "output_type": "stream",
          "name": "stdout",
          "text": [
            "Files already downloaded and verified\n"
          ]
        },
        {
          "output_type": "stream",
          "name": "stderr",
          "text": [
            "\u001b[32m[I 2022-06-21 08:00:38,305]\u001b[0m Trial 221 finished with value: 0.0788 and parameters: {'n_layers_conv': 2, 'n_layers_dense': 1, 'filters_0': 64, 'kernel_size_0': 3, 'strides_0': 2, 'filters_1': 16, 'kernel_size_1': 3, 'strides_1': 2, 'n_units_0': 117, 'optimizer': 'Adam', 'lr': 0.0002884187293974786}. Best is trial 164 with value: 0.0982.\u001b[0m\n"
          ]
        },
        {
          "output_type": "stream",
          "name": "stdout",
          "text": [
            "Files already downloaded and verified\n"
          ]
        },
        {
          "output_type": "stream",
          "name": "stderr",
          "text": [
            "\u001b[32m[I 2022-06-21 08:01:37,837]\u001b[0m Trial 222 finished with value: 0.0863 and parameters: {'n_layers_conv': 2, 'n_layers_dense': 1, 'filters_0': 64, 'kernel_size_0': 3, 'strides_0': 2, 'filters_1': 16, 'kernel_size_1': 3, 'strides_1': 2, 'n_units_0': 119, 'optimizer': 'Adam', 'lr': 0.0001862822663499993}. Best is trial 164 with value: 0.0982.\u001b[0m\n"
          ]
        },
        {
          "output_type": "stream",
          "name": "stdout",
          "text": [
            "Files already downloaded and verified\n"
          ]
        },
        {
          "output_type": "stream",
          "name": "stderr",
          "text": [
            "\u001b[32m[I 2022-06-21 08:02:37,608]\u001b[0m Trial 223 finished with value: 0.0684 and parameters: {'n_layers_conv': 2, 'n_layers_dense': 1, 'filters_0': 64, 'kernel_size_0': 3, 'strides_0': 2, 'filters_1': 16, 'kernel_size_1': 3, 'strides_1': 2, 'n_units_0': 118, 'optimizer': 'Adam', 'lr': 0.00010356430340661635}. Best is trial 164 with value: 0.0982.\u001b[0m\n"
          ]
        },
        {
          "output_type": "stream",
          "name": "stdout",
          "text": [
            "Files already downloaded and verified\n"
          ]
        },
        {
          "output_type": "stream",
          "name": "stderr",
          "text": [
            "\u001b[32m[I 2022-06-21 08:03:36,925]\u001b[0m Trial 224 finished with value: 0.0812 and parameters: {'n_layers_conv': 2, 'n_layers_dense': 1, 'filters_0': 64, 'kernel_size_0': 3, 'strides_0': 2, 'filters_1': 16, 'kernel_size_1': 3, 'strides_1': 2, 'n_units_0': 119, 'optimizer': 'Adam', 'lr': 0.00017701692218619728}. Best is trial 164 with value: 0.0982.\u001b[0m\n"
          ]
        },
        {
          "output_type": "stream",
          "name": "stdout",
          "text": [
            "Files already downloaded and verified\n"
          ]
        },
        {
          "output_type": "stream",
          "name": "stderr",
          "text": [
            "\u001b[32m[I 2022-06-21 08:04:36,578]\u001b[0m Trial 225 finished with value: 0.064 and parameters: {'n_layers_conv': 2, 'n_layers_dense': 1, 'filters_0': 64, 'kernel_size_0': 3, 'strides_0': 2, 'filters_1': 128, 'kernel_size_1': 3, 'strides_1': 2, 'n_units_0': 121, 'optimizer': 'Adam', 'lr': 0.00012208848986959824}. Best is trial 164 with value: 0.0982.\u001b[0m\n"
          ]
        },
        {
          "output_type": "stream",
          "name": "stdout",
          "text": [
            "Files already downloaded and verified\n"
          ]
        },
        {
          "output_type": "stream",
          "name": "stderr",
          "text": [
            "\u001b[32m[I 2022-06-21 08:05:35,382]\u001b[0m Trial 226 finished with value: 0.01 and parameters: {'n_layers_conv': 2, 'n_layers_dense': 1, 'filters_0': 64, 'kernel_size_0': 3, 'strides_0': 2, 'filters_1': 16, 'kernel_size_1': 5, 'strides_1': 2, 'n_units_0': 122, 'optimizer': 'RMSprop', 'lr': 0.004813752961595032}. Best is trial 164 with value: 0.0982.\u001b[0m\n"
          ]
        },
        {
          "output_type": "stream",
          "name": "stdout",
          "text": [
            "Files already downloaded and verified\n"
          ]
        },
        {
          "output_type": "stream",
          "name": "stderr",
          "text": [
            "\u001b[32m[I 2022-06-21 08:06:35,204]\u001b[0m Trial 227 finished with value: 0.0707 and parameters: {'n_layers_conv': 2, 'n_layers_dense': 1, 'filters_0': 16, 'kernel_size_0': 3, 'strides_0': 2, 'filters_1': 16, 'kernel_size_1': 3, 'strides_1': 2, 'n_units_0': 119, 'optimizer': 'Adam', 'lr': 0.00015627703772078854}. Best is trial 164 with value: 0.0982.\u001b[0m\n"
          ]
        },
        {
          "output_type": "stream",
          "name": "stdout",
          "text": [
            "Files already downloaded and verified\n"
          ]
        },
        {
          "output_type": "stream",
          "name": "stderr",
          "text": [
            "\u001b[32m[I 2022-06-21 08:07:34,838]\u001b[0m Trial 228 finished with value: 0.0672 and parameters: {'n_layers_conv': 2, 'n_layers_dense': 1, 'filters_0': 64, 'kernel_size_0': 3, 'strides_0': 2, 'filters_1': 16, 'kernel_size_1': 3, 'strides_1': 2, 'n_units_0': 116, 'optimizer': 'Adam', 'lr': 0.0003357275415035514}. Best is trial 164 with value: 0.0982.\u001b[0m\n"
          ]
        },
        {
          "output_type": "stream",
          "name": "stdout",
          "text": [
            "Files already downloaded and verified\n"
          ]
        },
        {
          "output_type": "stream",
          "name": "stderr",
          "text": [
            "\u001b[32m[I 2022-06-21 08:08:35,011]\u001b[0m Trial 229 finished with value: 0.0746 and parameters: {'n_layers_conv': 2, 'n_layers_dense': 1, 'filters_0': 64, 'kernel_size_0': 3, 'strides_0': 1, 'filters_1': 16, 'kernel_size_1': 3, 'strides_1': 2, 'n_units_0': 120, 'optimizer': 'Adam', 'lr': 0.00022458256735147423}. Best is trial 164 with value: 0.0982.\u001b[0m\n"
          ]
        },
        {
          "output_type": "stream",
          "name": "stdout",
          "text": [
            "Files already downloaded and verified\n"
          ]
        },
        {
          "output_type": "stream",
          "name": "stderr",
          "text": [
            "\u001b[32m[I 2022-06-21 08:09:34,503]\u001b[0m Trial 230 finished with value: 0.071 and parameters: {'n_layers_conv': 2, 'n_layers_dense': 1, 'filters_0': 64, 'kernel_size_0': 3, 'strides_0': 2, 'filters_1': 64, 'kernel_size_1': 5, 'strides_1': 2, 'n_units_0': 122, 'optimizer': 'Adam', 'lr': 0.00013141602272941078}. Best is trial 164 with value: 0.0982.\u001b[0m\n"
          ]
        },
        {
          "output_type": "stream",
          "name": "stdout",
          "text": [
            "Files already downloaded and verified\n"
          ]
        },
        {
          "output_type": "stream",
          "name": "stderr",
          "text": [
            "\u001b[32m[I 2022-06-21 08:10:33,662]\u001b[0m Trial 231 finished with value: 0.0867 and parameters: {'n_layers_conv': 2, 'n_layers_dense': 1, 'filters_0': 64, 'kernel_size_0': 3, 'strides_0': 2, 'filters_1': 16, 'kernel_size_1': 3, 'strides_1': 2, 'n_units_0': 123, 'optimizer': 'Adam', 'lr': 0.00010129977130356105}. Best is trial 164 with value: 0.0982.\u001b[0m\n"
          ]
        },
        {
          "output_type": "stream",
          "name": "stdout",
          "text": [
            "Files already downloaded and verified\n"
          ]
        },
        {
          "output_type": "stream",
          "name": "stderr",
          "text": [
            "\u001b[32m[I 2022-06-21 08:11:33,275]\u001b[0m Trial 232 finished with value: 0.0737 and parameters: {'n_layers_conv': 2, 'n_layers_dense': 1, 'filters_0': 64, 'kernel_size_0': 3, 'strides_0': 2, 'filters_1': 16, 'kernel_size_1': 3, 'strides_1': 2, 'n_units_0': 124, 'optimizer': 'Adam', 'lr': 9.261502925150071e-05}. Best is trial 164 with value: 0.0982.\u001b[0m\n"
          ]
        },
        {
          "output_type": "stream",
          "name": "stdout",
          "text": [
            "Files already downloaded and verified\n"
          ]
        },
        {
          "output_type": "stream",
          "name": "stderr",
          "text": [
            "\u001b[32m[I 2022-06-21 08:12:32,678]\u001b[0m Trial 233 finished with value: 0.0861 and parameters: {'n_layers_conv': 2, 'n_layers_dense': 1, 'filters_0': 64, 'kernel_size_0': 3, 'strides_0': 2, 'filters_1': 16, 'kernel_size_1': 3, 'strides_1': 2, 'n_units_0': 123, 'optimizer': 'Adam', 'lr': 0.000171355702144787}. Best is trial 164 with value: 0.0982.\u001b[0m\n"
          ]
        },
        {
          "output_type": "stream",
          "name": "stdout",
          "text": [
            "Files already downloaded and verified\n"
          ]
        },
        {
          "output_type": "stream",
          "name": "stderr",
          "text": [
            "\u001b[32m[I 2022-06-21 08:13:32,207]\u001b[0m Trial 234 finished with value: 0.0671 and parameters: {'n_layers_conv': 2, 'n_layers_dense': 1, 'filters_0': 64, 'kernel_size_0': 3, 'strides_0': 2, 'filters_1': 16, 'kernel_size_1': 3, 'strides_1': 2, 'n_units_0': 118, 'optimizer': 'Adam', 'lr': 7.964210992454559e-05}. Best is trial 164 with value: 0.0982.\u001b[0m\n"
          ]
        },
        {
          "output_type": "stream",
          "name": "stdout",
          "text": [
            "Files already downloaded and verified\n"
          ]
        },
        {
          "output_type": "stream",
          "name": "stderr",
          "text": [
            "\u001b[32m[I 2022-06-21 08:14:31,504]\u001b[0m Trial 235 finished with value: 0.0722 and parameters: {'n_layers_conv': 2, 'n_layers_dense': 1, 'filters_0': 64, 'kernel_size_0': 3, 'strides_0': 2, 'filters_1': 16, 'kernel_size_1': 3, 'strides_1': 2, 'n_units_0': 121, 'optimizer': 'Adam', 'lr': 0.00011130817053600764}. Best is trial 164 with value: 0.0982.\u001b[0m\n"
          ]
        },
        {
          "output_type": "stream",
          "name": "stdout",
          "text": [
            "Files already downloaded and verified\n"
          ]
        },
        {
          "output_type": "stream",
          "name": "stderr",
          "text": [
            "\u001b[32m[I 2022-06-21 08:15:31,156]\u001b[0m Trial 236 finished with value: 0.0801 and parameters: {'n_layers_conv': 2, 'n_layers_dense': 1, 'filters_0': 64, 'kernel_size_0': 3, 'strides_0': 2, 'filters_1': 16, 'kernel_size_1': 3, 'strides_1': 2, 'n_units_0': 122, 'optimizer': 'Adam', 'lr': 0.0001466399851708362}. Best is trial 164 with value: 0.0982.\u001b[0m\n"
          ]
        },
        {
          "output_type": "stream",
          "name": "stdout",
          "text": [
            "Files already downloaded and verified\n"
          ]
        },
        {
          "output_type": "stream",
          "name": "stderr",
          "text": [
            "\u001b[32m[I 2022-06-21 08:16:30,713]\u001b[0m Trial 237 finished with value: 0.0772 and parameters: {'n_layers_conv': 2, 'n_layers_dense': 1, 'filters_0': 64, 'kernel_size_0': 3, 'strides_0': 2, 'filters_1': 16, 'kernel_size_1': 3, 'strides_1': 2, 'n_units_0': 117, 'optimizer': 'Adam', 'lr': 0.00010263283948436638}. Best is trial 164 with value: 0.0982.\u001b[0m\n"
          ]
        },
        {
          "output_type": "stream",
          "name": "stdout",
          "text": [
            "Files already downloaded and verified\n"
          ]
        },
        {
          "output_type": "stream",
          "name": "stderr",
          "text": [
            "\u001b[32m[I 2022-06-21 08:17:28,765]\u001b[0m Trial 238 finished with value: 0.0103 and parameters: {'n_layers_conv': 2, 'n_layers_dense': 1, 'filters_0': 64, 'kernel_size_0': 3, 'strides_0': 2, 'filters_1': 16, 'kernel_size_1': 3, 'strides_1': 2, 'n_units_0': 124, 'optimizer': 'SGD', 'lr': 0.0001708136154192692}. Best is trial 164 with value: 0.0982.\u001b[0m\n"
          ]
        },
        {
          "output_type": "stream",
          "name": "stdout",
          "text": [
            "Files already downloaded and verified\n"
          ]
        },
        {
          "output_type": "stream",
          "name": "stderr",
          "text": [
            "\u001b[32m[I 2022-06-21 08:18:28,401]\u001b[0m Trial 239 finished with value: 0.072 and parameters: {'n_layers_conv': 2, 'n_layers_dense': 1, 'filters_0': 64, 'kernel_size_0': 3, 'strides_0': 2, 'filters_1': 16, 'kernel_size_1': 5, 'strides_1': 1, 'n_units_0': 120, 'optimizer': 'Adam', 'lr': 6.92173195401085e-05}. Best is trial 164 with value: 0.0982.\u001b[0m\n"
          ]
        },
        {
          "output_type": "stream",
          "name": "stdout",
          "text": [
            "Files already downloaded and verified\n"
          ]
        },
        {
          "output_type": "stream",
          "name": "stderr",
          "text": [
            "\u001b[32m[I 2022-06-21 08:19:27,536]\u001b[0m Trial 240 finished with value: 0.0631 and parameters: {'n_layers_conv': 2, 'n_layers_dense': 1, 'filters_0': 64, 'kernel_size_0': 3, 'strides_0': 2, 'filters_1': 16, 'kernel_size_1': 3, 'strides_1': 2, 'n_units_0': 123, 'optimizer': 'RMSprop', 'lr': 0.00013012444548341488}. Best is trial 164 with value: 0.0982.\u001b[0m\n"
          ]
        },
        {
          "output_type": "stream",
          "name": "stdout",
          "text": [
            "Files already downloaded and verified\n"
          ]
        },
        {
          "output_type": "stream",
          "name": "stderr",
          "text": [
            "\u001b[32m[I 2022-06-21 08:20:27,135]\u001b[0m Trial 241 finished with value: 0.0101 and parameters: {'n_layers_conv': 2, 'n_layers_dense': 1, 'filters_0': 64, 'kernel_size_0': 3, 'strides_0': 2, 'filters_1': 16, 'kernel_size_1': 3, 'strides_1': 2, 'n_units_0': 123, 'optimizer': 'Adam', 'lr': 0.0023489529682836855}. Best is trial 164 with value: 0.0982.\u001b[0m\n"
          ]
        },
        {
          "output_type": "stream",
          "name": "stdout",
          "text": [
            "Files already downloaded and verified\n"
          ]
        },
        {
          "output_type": "stream",
          "name": "stderr",
          "text": [
            "\u001b[32m[I 2022-06-21 08:21:26,543]\u001b[0m Trial 242 finished with value: 0.0826 and parameters: {'n_layers_conv': 2, 'n_layers_dense': 1, 'filters_0': 64, 'kernel_size_0': 3, 'strides_0': 2, 'filters_1': 16, 'kernel_size_1': 3, 'strides_1': 2, 'n_units_0': 125, 'optimizer': 'Adam', 'lr': 0.0001971058628354593}. Best is trial 164 with value: 0.0982.\u001b[0m\n"
          ]
        },
        {
          "output_type": "stream",
          "name": "stdout",
          "text": [
            "Files already downloaded and verified\n"
          ]
        },
        {
          "output_type": "stream",
          "name": "stderr",
          "text": [
            "\u001b[32m[I 2022-06-21 08:22:26,643]\u001b[0m Trial 243 finished with value: 0.0734 and parameters: {'n_layers_conv': 2, 'n_layers_dense': 1, 'filters_0': 64, 'kernel_size_0': 3, 'strides_0': 2, 'filters_1': 16, 'kernel_size_1': 3, 'strides_1': 2, 'n_units_0': 122, 'optimizer': 'Adam', 'lr': 0.00017463570333345652}. Best is trial 164 with value: 0.0982.\u001b[0m\n"
          ]
        },
        {
          "output_type": "stream",
          "name": "stdout",
          "text": [
            "Files already downloaded and verified\n"
          ]
        },
        {
          "output_type": "stream",
          "name": "stderr",
          "text": [
            "\u001b[32m[I 2022-06-21 08:23:26,304]\u001b[0m Trial 244 finished with value: 0.0814 and parameters: {'n_layers_conv': 2, 'n_layers_dense': 1, 'filters_0': 64, 'kernel_size_0': 3, 'strides_0': 2, 'filters_1': 16, 'kernel_size_1': 3, 'strides_1': 2, 'n_units_0': 124, 'optimizer': 'Adam', 'lr': 0.00013840287427903768}. Best is trial 164 with value: 0.0982.\u001b[0m\n"
          ]
        },
        {
          "output_type": "stream",
          "name": "stdout",
          "text": [
            "Files already downloaded and verified\n"
          ]
        },
        {
          "output_type": "stream",
          "name": "stderr",
          "text": [
            "\u001b[32m[I 2022-06-21 08:24:25,692]\u001b[0m Trial 245 finished with value: 0.0903 and parameters: {'n_layers_conv': 2, 'n_layers_dense': 1, 'filters_0': 64, 'kernel_size_0': 3, 'strides_0': 2, 'filters_1': 16, 'kernel_size_1': 3, 'strides_1': 2, 'n_units_0': 127, 'optimizer': 'Adam', 'lr': 0.00023922399742695776}. Best is trial 164 with value: 0.0982.\u001b[0m\n"
          ]
        },
        {
          "output_type": "stream",
          "name": "stdout",
          "text": [
            "Files already downloaded and verified\n"
          ]
        },
        {
          "output_type": "stream",
          "name": "stderr",
          "text": [
            "\u001b[32m[I 2022-06-21 08:25:25,163]\u001b[0m Trial 246 finished with value: 0.071 and parameters: {'n_layers_conv': 2, 'n_layers_dense': 1, 'filters_0': 64, 'kernel_size_0': 3, 'strides_0': 2, 'filters_1': 16, 'kernel_size_1': 3, 'strides_1': 2, 'n_units_0': 127, 'optimizer': 'Adam', 'lr': 0.0008823861802110787}. Best is trial 164 with value: 0.0982.\u001b[0m\n"
          ]
        },
        {
          "output_type": "stream",
          "name": "stdout",
          "text": [
            "Files already downloaded and verified\n"
          ]
        },
        {
          "output_type": "stream",
          "name": "stderr",
          "text": [
            "\u001b[32m[I 2022-06-21 08:26:24,594]\u001b[0m Trial 247 finished with value: 0.0735 and parameters: {'n_layers_conv': 2, 'n_layers_dense': 1, 'filters_0': 64, 'kernel_size_0': 3, 'strides_0': 2, 'filters_1': 16, 'kernel_size_1': 3, 'strides_1': 2, 'n_units_0': 127, 'optimizer': 'Adam', 'lr': 0.00010965774963465058}. Best is trial 164 with value: 0.0982.\u001b[0m\n"
          ]
        },
        {
          "output_type": "stream",
          "name": "stdout",
          "text": [
            "Files already downloaded and verified\n"
          ]
        },
        {
          "output_type": "stream",
          "name": "stderr",
          "text": [
            "\u001b[32m[I 2022-06-21 08:27:24,871]\u001b[0m Trial 248 finished with value: 0.0791 and parameters: {'n_layers_conv': 2, 'n_layers_dense': 1, 'filters_0': 64, 'kernel_size_0': 3, 'strides_0': 2, 'filters_1': 16, 'kernel_size_1': 5, 'strides_1': 2, 'n_units_0': 126, 'optimizer': 'Adam', 'lr': 0.00020136544768828887}. Best is trial 164 with value: 0.0982.\u001b[0m\n"
          ]
        },
        {
          "output_type": "stream",
          "name": "stdout",
          "text": [
            "Files already downloaded and verified\n"
          ]
        },
        {
          "output_type": "stream",
          "name": "stderr",
          "text": [
            "\u001b[32m[I 2022-06-21 08:28:24,008]\u001b[0m Trial 249 finished with value: 0.0698 and parameters: {'n_layers_conv': 2, 'n_layers_dense': 1, 'filters_0': 64, 'kernel_size_0': 3, 'strides_0': 2, 'filters_1': 16, 'kernel_size_1': 3, 'strides_1': 2, 'n_units_0': 125, 'optimizer': 'Adam', 'lr': 0.0001666628164617786}. Best is trial 164 with value: 0.0982.\u001b[0m\n"
          ]
        },
        {
          "output_type": "stream",
          "name": "stdout",
          "text": [
            "Files already downloaded and verified\n"
          ]
        },
        {
          "output_type": "error",
          "ename": "KeyboardInterrupt",
          "evalue": "ignored",
          "traceback": [
            "\u001b[0;31m---------------------------------------------------------------------------\u001b[0m",
            "\u001b[0;31mKeyboardInterrupt\u001b[0m                         Traceback (most recent call last)",
            "\u001b[0;32m<ipython-input-8-990a64f3670f>\u001b[0m in \u001b[0;36m<module>\u001b[0;34m()\u001b[0m\n\u001b[1;32m      1\u001b[0m \u001b[0;32mif\u001b[0m \u001b[0m__name__\u001b[0m \u001b[0;34m==\u001b[0m \u001b[0;34m\"__main__\"\u001b[0m\u001b[0;34m:\u001b[0m\u001b[0;34m\u001b[0m\u001b[0;34m\u001b[0m\u001b[0m\n\u001b[1;32m      2\u001b[0m     \u001b[0mstudy\u001b[0m \u001b[0;34m=\u001b[0m \u001b[0moptuna\u001b[0m\u001b[0;34m.\u001b[0m\u001b[0mcreate_study\u001b[0m\u001b[0;34m(\u001b[0m\u001b[0mdirection\u001b[0m\u001b[0;34m=\u001b[0m\u001b[0;34m\"maximize\"\u001b[0m\u001b[0;34m)\u001b[0m\u001b[0;34m\u001b[0m\u001b[0;34m\u001b[0m\u001b[0m\n\u001b[0;32m----> 3\u001b[0;31m     \u001b[0mstudy\u001b[0m\u001b[0;34m.\u001b[0m\u001b[0moptimize\u001b[0m\u001b[0;34m(\u001b[0m\u001b[0mobjective\u001b[0m\u001b[0;34m)\u001b[0m\u001b[0;34m\u001b[0m\u001b[0;34m\u001b[0m\u001b[0m\n\u001b[0m\u001b[1;32m      4\u001b[0m \u001b[0;34m\u001b[0m\u001b[0m\n\u001b[1;32m      5\u001b[0m     \u001b[0;31m#pruned_trials = study.get_trials(deepcopy=False, states=[TrialState.PRUNED])\u001b[0m\u001b[0;34m\u001b[0m\u001b[0;34m\u001b[0m\u001b[0;34m\u001b[0m\u001b[0m\n",
            "\u001b[0;32m/usr/local/lib/python3.7/dist-packages/optuna/study/study.py\u001b[0m in \u001b[0;36moptimize\u001b[0;34m(self, func, n_trials, timeout, n_jobs, catch, callbacks, gc_after_trial, show_progress_bar)\u001b[0m\n\u001b[1;32m    407\u001b[0m             \u001b[0mcallbacks\u001b[0m\u001b[0;34m=\u001b[0m\u001b[0mcallbacks\u001b[0m\u001b[0;34m,\u001b[0m\u001b[0;34m\u001b[0m\u001b[0;34m\u001b[0m\u001b[0m\n\u001b[1;32m    408\u001b[0m             \u001b[0mgc_after_trial\u001b[0m\u001b[0;34m=\u001b[0m\u001b[0mgc_after_trial\u001b[0m\u001b[0;34m,\u001b[0m\u001b[0;34m\u001b[0m\u001b[0;34m\u001b[0m\u001b[0m\n\u001b[0;32m--> 409\u001b[0;31m             \u001b[0mshow_progress_bar\u001b[0m\u001b[0;34m=\u001b[0m\u001b[0mshow_progress_bar\u001b[0m\u001b[0;34m,\u001b[0m\u001b[0;34m\u001b[0m\u001b[0;34m\u001b[0m\u001b[0m\n\u001b[0m\u001b[1;32m    410\u001b[0m         )\n\u001b[1;32m    411\u001b[0m \u001b[0;34m\u001b[0m\u001b[0m\n",
            "\u001b[0;32m/usr/local/lib/python3.7/dist-packages/optuna/study/_optimize.py\u001b[0m in \u001b[0;36m_optimize\u001b[0;34m(study, func, n_trials, timeout, n_jobs, catch, callbacks, gc_after_trial, show_progress_bar)\u001b[0m\n\u001b[1;32m     74\u001b[0m                 \u001b[0mreseed_sampler_rng\u001b[0m\u001b[0;34m=\u001b[0m\u001b[0;32mFalse\u001b[0m\u001b[0;34m,\u001b[0m\u001b[0;34m\u001b[0m\u001b[0;34m\u001b[0m\u001b[0m\n\u001b[1;32m     75\u001b[0m                 \u001b[0mtime_start\u001b[0m\u001b[0;34m=\u001b[0m\u001b[0;32mNone\u001b[0m\u001b[0;34m,\u001b[0m\u001b[0;34m\u001b[0m\u001b[0;34m\u001b[0m\u001b[0m\n\u001b[0;32m---> 76\u001b[0;31m                 \u001b[0mprogress_bar\u001b[0m\u001b[0;34m=\u001b[0m\u001b[0mprogress_bar\u001b[0m\u001b[0;34m,\u001b[0m\u001b[0;34m\u001b[0m\u001b[0;34m\u001b[0m\u001b[0m\n\u001b[0m\u001b[1;32m     77\u001b[0m             )\n\u001b[1;32m     78\u001b[0m         \u001b[0;32melse\u001b[0m\u001b[0;34m:\u001b[0m\u001b[0;34m\u001b[0m\u001b[0;34m\u001b[0m\u001b[0m\n",
            "\u001b[0;32m/usr/local/lib/python3.7/dist-packages/optuna/study/_optimize.py\u001b[0m in \u001b[0;36m_optimize_sequential\u001b[0;34m(study, func, n_trials, timeout, catch, callbacks, gc_after_trial, reseed_sampler_rng, time_start, progress_bar)\u001b[0m\n\u001b[1;32m    161\u001b[0m \u001b[0;34m\u001b[0m\u001b[0m\n\u001b[1;32m    162\u001b[0m         \u001b[0;32mtry\u001b[0m\u001b[0;34m:\u001b[0m\u001b[0;34m\u001b[0m\u001b[0;34m\u001b[0m\u001b[0m\n\u001b[0;32m--> 163\u001b[0;31m             \u001b[0mtrial\u001b[0m \u001b[0;34m=\u001b[0m \u001b[0m_run_trial\u001b[0m\u001b[0;34m(\u001b[0m\u001b[0mstudy\u001b[0m\u001b[0;34m,\u001b[0m \u001b[0mfunc\u001b[0m\u001b[0;34m,\u001b[0m \u001b[0mcatch\u001b[0m\u001b[0;34m)\u001b[0m\u001b[0;34m\u001b[0m\u001b[0;34m\u001b[0m\u001b[0m\n\u001b[0m\u001b[1;32m    164\u001b[0m         \u001b[0;32mexcept\u001b[0m \u001b[0mException\u001b[0m\u001b[0;34m:\u001b[0m\u001b[0;34m\u001b[0m\u001b[0;34m\u001b[0m\u001b[0m\n\u001b[1;32m    165\u001b[0m             \u001b[0;32mraise\u001b[0m\u001b[0;34m\u001b[0m\u001b[0;34m\u001b[0m\u001b[0m\n",
            "\u001b[0;32m/usr/local/lib/python3.7/dist-packages/optuna/study/_optimize.py\u001b[0m in \u001b[0;36m_run_trial\u001b[0;34m(study, func, catch)\u001b[0m\n\u001b[1;32m    211\u001b[0m \u001b[0;34m\u001b[0m\u001b[0m\n\u001b[1;32m    212\u001b[0m     \u001b[0;32mtry\u001b[0m\u001b[0;34m:\u001b[0m\u001b[0;34m\u001b[0m\u001b[0;34m\u001b[0m\u001b[0m\n\u001b[0;32m--> 213\u001b[0;31m         \u001b[0mvalue_or_values\u001b[0m \u001b[0;34m=\u001b[0m \u001b[0mfunc\u001b[0m\u001b[0;34m(\u001b[0m\u001b[0mtrial\u001b[0m\u001b[0;34m)\u001b[0m\u001b[0;34m\u001b[0m\u001b[0;34m\u001b[0m\u001b[0m\n\u001b[0m\u001b[1;32m    214\u001b[0m     \u001b[0;32mexcept\u001b[0m \u001b[0mexceptions\u001b[0m\u001b[0;34m.\u001b[0m\u001b[0mTrialPruned\u001b[0m \u001b[0;32mas\u001b[0m \u001b[0me\u001b[0m\u001b[0;34m:\u001b[0m\u001b[0;34m\u001b[0m\u001b[0;34m\u001b[0m\u001b[0m\n\u001b[1;32m    215\u001b[0m         \u001b[0;31m# TODO(mamu): Handle multi-objective cases.\u001b[0m\u001b[0;34m\u001b[0m\u001b[0;34m\u001b[0m\u001b[0;34m\u001b[0m\u001b[0m\n",
            "\u001b[0;32m<ipython-input-6-a5f7744082b8>\u001b[0m in \u001b[0;36mobjective\u001b[0;34m(trial)\u001b[0m\n\u001b[1;32m     15\u001b[0m     \u001b[0;32mfor\u001b[0m \u001b[0mepoch\u001b[0m \u001b[0;32min\u001b[0m \u001b[0mrange\u001b[0m\u001b[0;34m(\u001b[0m\u001b[0mEPOCHS\u001b[0m\u001b[0;34m)\u001b[0m\u001b[0;34m:\u001b[0m\u001b[0;34m\u001b[0m\u001b[0;34m\u001b[0m\u001b[0m\n\u001b[1;32m     16\u001b[0m         \u001b[0mmodel\u001b[0m\u001b[0;34m.\u001b[0m\u001b[0mtrain\u001b[0m\u001b[0;34m(\u001b[0m\u001b[0;34m)\u001b[0m\u001b[0;34m\u001b[0m\u001b[0;34m\u001b[0m\u001b[0m\n\u001b[0;32m---> 17\u001b[0;31m         \u001b[0;32mfor\u001b[0m \u001b[0mbatch_idx\u001b[0m\u001b[0;34m,\u001b[0m \u001b[0;34m(\u001b[0m\u001b[0mdata\u001b[0m\u001b[0;34m,\u001b[0m \u001b[0mtarget\u001b[0m\u001b[0;34m)\u001b[0m \u001b[0;32min\u001b[0m \u001b[0menumerate\u001b[0m\u001b[0;34m(\u001b[0m\u001b[0mtrain_loader\u001b[0m\u001b[0;34m)\u001b[0m\u001b[0;34m:\u001b[0m\u001b[0;34m\u001b[0m\u001b[0;34m\u001b[0m\u001b[0m\n\u001b[0m\u001b[1;32m     18\u001b[0m \u001b[0;34m\u001b[0m\u001b[0m\n\u001b[1;32m     19\u001b[0m             \u001b[0;31m# Limiting training data for faster epochs.\u001b[0m\u001b[0;34m\u001b[0m\u001b[0;34m\u001b[0m\u001b[0;34m\u001b[0m\u001b[0m\n",
            "\u001b[0;32m/usr/local/lib/python3.7/dist-packages/torch/utils/data/dataloader.py\u001b[0m in \u001b[0;36m__next__\u001b[0;34m(self)\u001b[0m\n\u001b[1;32m    528\u001b[0m             \u001b[0;32mif\u001b[0m \u001b[0mself\u001b[0m\u001b[0;34m.\u001b[0m\u001b[0m_sampler_iter\u001b[0m \u001b[0;32mis\u001b[0m \u001b[0;32mNone\u001b[0m\u001b[0;34m:\u001b[0m\u001b[0;34m\u001b[0m\u001b[0;34m\u001b[0m\u001b[0m\n\u001b[1;32m    529\u001b[0m                 \u001b[0mself\u001b[0m\u001b[0;34m.\u001b[0m\u001b[0m_reset\u001b[0m\u001b[0;34m(\u001b[0m\u001b[0;34m)\u001b[0m\u001b[0;34m\u001b[0m\u001b[0;34m\u001b[0m\u001b[0m\n\u001b[0;32m--> 530\u001b[0;31m             \u001b[0mdata\u001b[0m \u001b[0;34m=\u001b[0m \u001b[0mself\u001b[0m\u001b[0;34m.\u001b[0m\u001b[0m_next_data\u001b[0m\u001b[0;34m(\u001b[0m\u001b[0;34m)\u001b[0m\u001b[0;34m\u001b[0m\u001b[0;34m\u001b[0m\u001b[0m\n\u001b[0m\u001b[1;32m    531\u001b[0m             \u001b[0mself\u001b[0m\u001b[0;34m.\u001b[0m\u001b[0m_num_yielded\u001b[0m \u001b[0;34m+=\u001b[0m \u001b[0;36m1\u001b[0m\u001b[0;34m\u001b[0m\u001b[0;34m\u001b[0m\u001b[0m\n\u001b[1;32m    532\u001b[0m             \u001b[0;32mif\u001b[0m \u001b[0mself\u001b[0m\u001b[0;34m.\u001b[0m\u001b[0m_dataset_kind\u001b[0m \u001b[0;34m==\u001b[0m \u001b[0m_DatasetKind\u001b[0m\u001b[0;34m.\u001b[0m\u001b[0mIterable\u001b[0m \u001b[0;32mand\u001b[0m\u001b[0;31m \u001b[0m\u001b[0;31m\\\u001b[0m\u001b[0;34m\u001b[0m\u001b[0;34m\u001b[0m\u001b[0m\n",
            "\u001b[0;32m/usr/local/lib/python3.7/dist-packages/torch/utils/data/dataloader.py\u001b[0m in \u001b[0;36m_next_data\u001b[0;34m(self)\u001b[0m\n\u001b[1;32m    568\u001b[0m     \u001b[0;32mdef\u001b[0m \u001b[0m_next_data\u001b[0m\u001b[0;34m(\u001b[0m\u001b[0mself\u001b[0m\u001b[0;34m)\u001b[0m\u001b[0;34m:\u001b[0m\u001b[0;34m\u001b[0m\u001b[0;34m\u001b[0m\u001b[0m\n\u001b[1;32m    569\u001b[0m         \u001b[0mindex\u001b[0m \u001b[0;34m=\u001b[0m \u001b[0mself\u001b[0m\u001b[0;34m.\u001b[0m\u001b[0m_next_index\u001b[0m\u001b[0;34m(\u001b[0m\u001b[0;34m)\u001b[0m  \u001b[0;31m# may raise StopIteration\u001b[0m\u001b[0;34m\u001b[0m\u001b[0;34m\u001b[0m\u001b[0m\n\u001b[0;32m--> 570\u001b[0;31m         \u001b[0mdata\u001b[0m \u001b[0;34m=\u001b[0m \u001b[0mself\u001b[0m\u001b[0;34m.\u001b[0m\u001b[0m_dataset_fetcher\u001b[0m\u001b[0;34m.\u001b[0m\u001b[0mfetch\u001b[0m\u001b[0;34m(\u001b[0m\u001b[0mindex\u001b[0m\u001b[0;34m)\u001b[0m  \u001b[0;31m# may raise StopIteration\u001b[0m\u001b[0;34m\u001b[0m\u001b[0;34m\u001b[0m\u001b[0m\n\u001b[0m\u001b[1;32m    571\u001b[0m         \u001b[0;32mif\u001b[0m \u001b[0mself\u001b[0m\u001b[0;34m.\u001b[0m\u001b[0m_pin_memory\u001b[0m\u001b[0;34m:\u001b[0m\u001b[0;34m\u001b[0m\u001b[0;34m\u001b[0m\u001b[0m\n\u001b[1;32m    572\u001b[0m             \u001b[0mdata\u001b[0m \u001b[0;34m=\u001b[0m \u001b[0m_utils\u001b[0m\u001b[0;34m.\u001b[0m\u001b[0mpin_memory\u001b[0m\u001b[0;34m.\u001b[0m\u001b[0mpin_memory\u001b[0m\u001b[0;34m(\u001b[0m\u001b[0mdata\u001b[0m\u001b[0;34m)\u001b[0m\u001b[0;34m\u001b[0m\u001b[0;34m\u001b[0m\u001b[0m\n",
            "\u001b[0;32m/usr/local/lib/python3.7/dist-packages/torch/utils/data/_utils/fetch.py\u001b[0m in \u001b[0;36mfetch\u001b[0;34m(self, possibly_batched_index)\u001b[0m\n\u001b[1;32m     47\u001b[0m     \u001b[0;32mdef\u001b[0m \u001b[0mfetch\u001b[0m\u001b[0;34m(\u001b[0m\u001b[0mself\u001b[0m\u001b[0;34m,\u001b[0m \u001b[0mpossibly_batched_index\u001b[0m\u001b[0;34m)\u001b[0m\u001b[0;34m:\u001b[0m\u001b[0;34m\u001b[0m\u001b[0;34m\u001b[0m\u001b[0m\n\u001b[1;32m     48\u001b[0m         \u001b[0;32mif\u001b[0m \u001b[0mself\u001b[0m\u001b[0;34m.\u001b[0m\u001b[0mauto_collation\u001b[0m\u001b[0;34m:\u001b[0m\u001b[0;34m\u001b[0m\u001b[0;34m\u001b[0m\u001b[0m\n\u001b[0;32m---> 49\u001b[0;31m             \u001b[0mdata\u001b[0m \u001b[0;34m=\u001b[0m \u001b[0;34m[\u001b[0m\u001b[0mself\u001b[0m\u001b[0;34m.\u001b[0m\u001b[0mdataset\u001b[0m\u001b[0;34m[\u001b[0m\u001b[0midx\u001b[0m\u001b[0;34m]\u001b[0m \u001b[0;32mfor\u001b[0m \u001b[0midx\u001b[0m \u001b[0;32min\u001b[0m \u001b[0mpossibly_batched_index\u001b[0m\u001b[0;34m]\u001b[0m\u001b[0;34m\u001b[0m\u001b[0;34m\u001b[0m\u001b[0m\n\u001b[0m\u001b[1;32m     50\u001b[0m         \u001b[0;32melse\u001b[0m\u001b[0;34m:\u001b[0m\u001b[0;34m\u001b[0m\u001b[0;34m\u001b[0m\u001b[0m\n\u001b[1;32m     51\u001b[0m             \u001b[0mdata\u001b[0m \u001b[0;34m=\u001b[0m \u001b[0mself\u001b[0m\u001b[0;34m.\u001b[0m\u001b[0mdataset\u001b[0m\u001b[0;34m[\u001b[0m\u001b[0mpossibly_batched_index\u001b[0m\u001b[0;34m]\u001b[0m\u001b[0;34m\u001b[0m\u001b[0;34m\u001b[0m\u001b[0m\n",
            "\u001b[0;32m/usr/local/lib/python3.7/dist-packages/torch/utils/data/_utils/fetch.py\u001b[0m in \u001b[0;36m<listcomp>\u001b[0;34m(.0)\u001b[0m\n\u001b[1;32m     47\u001b[0m     \u001b[0;32mdef\u001b[0m \u001b[0mfetch\u001b[0m\u001b[0;34m(\u001b[0m\u001b[0mself\u001b[0m\u001b[0;34m,\u001b[0m \u001b[0mpossibly_batched_index\u001b[0m\u001b[0;34m)\u001b[0m\u001b[0;34m:\u001b[0m\u001b[0;34m\u001b[0m\u001b[0;34m\u001b[0m\u001b[0m\n\u001b[1;32m     48\u001b[0m         \u001b[0;32mif\u001b[0m \u001b[0mself\u001b[0m\u001b[0;34m.\u001b[0m\u001b[0mauto_collation\u001b[0m\u001b[0;34m:\u001b[0m\u001b[0;34m\u001b[0m\u001b[0;34m\u001b[0m\u001b[0m\n\u001b[0;32m---> 49\u001b[0;31m             \u001b[0mdata\u001b[0m \u001b[0;34m=\u001b[0m \u001b[0;34m[\u001b[0m\u001b[0mself\u001b[0m\u001b[0;34m.\u001b[0m\u001b[0mdataset\u001b[0m\u001b[0;34m[\u001b[0m\u001b[0midx\u001b[0m\u001b[0;34m]\u001b[0m \u001b[0;32mfor\u001b[0m \u001b[0midx\u001b[0m \u001b[0;32min\u001b[0m \u001b[0mpossibly_batched_index\u001b[0m\u001b[0;34m]\u001b[0m\u001b[0;34m\u001b[0m\u001b[0;34m\u001b[0m\u001b[0m\n\u001b[0m\u001b[1;32m     50\u001b[0m         \u001b[0;32melse\u001b[0m\u001b[0;34m:\u001b[0m\u001b[0;34m\u001b[0m\u001b[0;34m\u001b[0m\u001b[0m\n\u001b[1;32m     51\u001b[0m             \u001b[0mdata\u001b[0m \u001b[0;34m=\u001b[0m \u001b[0mself\u001b[0m\u001b[0;34m.\u001b[0m\u001b[0mdataset\u001b[0m\u001b[0;34m[\u001b[0m\u001b[0mpossibly_batched_index\u001b[0m\u001b[0;34m]\u001b[0m\u001b[0;34m\u001b[0m\u001b[0;34m\u001b[0m\u001b[0m\n",
            "\u001b[0;32m/usr/local/lib/python3.7/dist-packages/torchvision/datasets/cifar.py\u001b[0m in \u001b[0;36m__getitem__\u001b[0;34m(self, index)\u001b[0m\n\u001b[1;32m    116\u001b[0m \u001b[0;34m\u001b[0m\u001b[0m\n\u001b[1;32m    117\u001b[0m         \u001b[0;32mif\u001b[0m \u001b[0mself\u001b[0m\u001b[0;34m.\u001b[0m\u001b[0mtransform\u001b[0m \u001b[0;32mis\u001b[0m \u001b[0;32mnot\u001b[0m \u001b[0;32mNone\u001b[0m\u001b[0;34m:\u001b[0m\u001b[0;34m\u001b[0m\u001b[0;34m\u001b[0m\u001b[0m\n\u001b[0;32m--> 118\u001b[0;31m             \u001b[0mimg\u001b[0m \u001b[0;34m=\u001b[0m \u001b[0mself\u001b[0m\u001b[0;34m.\u001b[0m\u001b[0mtransform\u001b[0m\u001b[0;34m(\u001b[0m\u001b[0mimg\u001b[0m\u001b[0;34m)\u001b[0m\u001b[0;34m\u001b[0m\u001b[0;34m\u001b[0m\u001b[0m\n\u001b[0m\u001b[1;32m    119\u001b[0m \u001b[0;34m\u001b[0m\u001b[0m\n\u001b[1;32m    120\u001b[0m         \u001b[0;32mif\u001b[0m \u001b[0mself\u001b[0m\u001b[0;34m.\u001b[0m\u001b[0mtarget_transform\u001b[0m \u001b[0;32mis\u001b[0m \u001b[0;32mnot\u001b[0m \u001b[0;32mNone\u001b[0m\u001b[0;34m:\u001b[0m\u001b[0;34m\u001b[0m\u001b[0;34m\u001b[0m\u001b[0m\n",
            "\u001b[0;32m/usr/local/lib/python3.7/dist-packages/torchvision/transforms/transforms.py\u001b[0m in \u001b[0;36m__call__\u001b[0;34m(self, pic)\u001b[0m\n\u001b[1;32m    133\u001b[0m             \u001b[0mTensor\u001b[0m\u001b[0;34m:\u001b[0m \u001b[0mConverted\u001b[0m \u001b[0mimage\u001b[0m\u001b[0;34m.\u001b[0m\u001b[0;34m\u001b[0m\u001b[0;34m\u001b[0m\u001b[0m\n\u001b[1;32m    134\u001b[0m         \"\"\"\n\u001b[0;32m--> 135\u001b[0;31m         \u001b[0;32mreturn\u001b[0m \u001b[0mF\u001b[0m\u001b[0;34m.\u001b[0m\u001b[0mto_tensor\u001b[0m\u001b[0;34m(\u001b[0m\u001b[0mpic\u001b[0m\u001b[0;34m)\u001b[0m\u001b[0;34m\u001b[0m\u001b[0;34m\u001b[0m\u001b[0m\n\u001b[0m\u001b[1;32m    136\u001b[0m \u001b[0;34m\u001b[0m\u001b[0m\n\u001b[1;32m    137\u001b[0m     \u001b[0;32mdef\u001b[0m \u001b[0m__repr__\u001b[0m\u001b[0;34m(\u001b[0m\u001b[0mself\u001b[0m\u001b[0;34m)\u001b[0m \u001b[0;34m->\u001b[0m \u001b[0mstr\u001b[0m\u001b[0;34m:\u001b[0m\u001b[0;34m\u001b[0m\u001b[0;34m\u001b[0m\u001b[0m\n",
            "\u001b[0;32m/usr/local/lib/python3.7/dist-packages/torchvision/transforms/functional.py\u001b[0m in \u001b[0;36mto_tensor\u001b[0;34m(pic)\u001b[0m\n\u001b[1;32m    153\u001b[0m     \u001b[0mimg\u001b[0m \u001b[0;34m=\u001b[0m \u001b[0mimg\u001b[0m\u001b[0;34m.\u001b[0m\u001b[0mpermute\u001b[0m\u001b[0;34m(\u001b[0m\u001b[0;34m(\u001b[0m\u001b[0;36m2\u001b[0m\u001b[0;34m,\u001b[0m \u001b[0;36m0\u001b[0m\u001b[0;34m,\u001b[0m \u001b[0;36m1\u001b[0m\u001b[0;34m)\u001b[0m\u001b[0;34m)\u001b[0m\u001b[0;34m.\u001b[0m\u001b[0mcontiguous\u001b[0m\u001b[0;34m(\u001b[0m\u001b[0;34m)\u001b[0m\u001b[0;34m\u001b[0m\u001b[0;34m\u001b[0m\u001b[0m\n\u001b[1;32m    154\u001b[0m     \u001b[0;32mif\u001b[0m \u001b[0misinstance\u001b[0m\u001b[0;34m(\u001b[0m\u001b[0mimg\u001b[0m\u001b[0;34m,\u001b[0m \u001b[0mtorch\u001b[0m\u001b[0;34m.\u001b[0m\u001b[0mByteTensor\u001b[0m\u001b[0;34m)\u001b[0m\u001b[0;34m:\u001b[0m\u001b[0;34m\u001b[0m\u001b[0;34m\u001b[0m\u001b[0m\n\u001b[0;32m--> 155\u001b[0;31m         \u001b[0;32mreturn\u001b[0m \u001b[0mimg\u001b[0m\u001b[0;34m.\u001b[0m\u001b[0mto\u001b[0m\u001b[0;34m(\u001b[0m\u001b[0mdtype\u001b[0m\u001b[0;34m=\u001b[0m\u001b[0mdefault_float_dtype\u001b[0m\u001b[0;34m)\u001b[0m\u001b[0;34m.\u001b[0m\u001b[0mdiv\u001b[0m\u001b[0;34m(\u001b[0m\u001b[0;36m255\u001b[0m\u001b[0;34m)\u001b[0m\u001b[0;34m\u001b[0m\u001b[0;34m\u001b[0m\u001b[0m\n\u001b[0m\u001b[1;32m    156\u001b[0m     \u001b[0;32melse\u001b[0m\u001b[0;34m:\u001b[0m\u001b[0;34m\u001b[0m\u001b[0;34m\u001b[0m\u001b[0m\n\u001b[1;32m    157\u001b[0m         \u001b[0;32mreturn\u001b[0m \u001b[0mimg\u001b[0m\u001b[0;34m\u001b[0m\u001b[0;34m\u001b[0m\u001b[0m\n",
            "\u001b[0;31mKeyboardInterrupt\u001b[0m: "
          ]
        }
      ]
    }
  ]
}